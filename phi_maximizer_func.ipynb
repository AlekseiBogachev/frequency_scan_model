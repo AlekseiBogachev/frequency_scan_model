{
 "cells": [
  {
   "cell_type": "markdown",
   "id": "36bec18c",
   "metadata": {},
   "source": [
    "# Поиск максимума функции $\\phi\\left(\\tau,F_0,t_1\\right)$\n",
    "\n",
    "$$\\phi\\left(\\tau,F_0,t_1\\right)=\\tau F_0\\exp\\left(-\\frac{0.05}{\\tau F_0}\\right)\\left[1-\\exp\\left(\\frac{t_1 F_0-0.45}{\\tau F_0}\\right)-\\exp\\left(-\\frac{0.5}{\\tau F_0}\\right)+\\exp\\left(\\frac{t_1 F_0-0.95}{\\tau F_0}\\right)\\right]$$\n",
    "\n",
    "То есть, при фиксированных $t_1$ и $\\tau$ алгоритм находит значение $F_0$, при котором достигается максимум $\\phi\\left(\\tau,F_0,t_1\\right)$.\n",
    "Затем, вычисляется значение $\\phi\\left(\\tau,F_0,t_1\\right)$ при найденном $F_0$."
   ]
  },
  {
   "cell_type": "code",
   "execution_count": 1,
   "id": "0138263c",
   "metadata": {},
   "outputs": [],
   "source": [
    "import tensorflow as tf\n",
    "import matplotlib.pyplot as plt\n",
    "import numpy as np\n",
    "import pandas as pd"
   ]
  },
  {
   "cell_type": "code",
   "execution_count": 2,
   "id": "87a54adb",
   "metadata": {},
   "outputs": [],
   "source": [
    "def get_phi_max(t_const, init_freq_pwr, f_pul, n_iters=200, learning_rate=0.1):\n",
    "    \n",
    "    def get_phi(time_constant, filling_pulse, frequency_pwr):\n",
    "        frequency = tf.pow(10.0, frequency_pwr)\n",
    "        \n",
    "        a = time_constant * frequency\n",
    "        b = filling_pulse * frequency\n",
    "        \n",
    "        exp0 = tf.exp(-0.05 / (a))\n",
    "        exp1 = tf.exp((b - 0.45) / (a))\n",
    "        exp2 = tf.exp(-0.5 / (a))\n",
    "        exp3 = tf.exp((b - 0.95) / (a))\n",
    "\n",
    "        phi = a * exp0 * (1.0 - exp1 - exp2 + exp3)\n",
    "        \n",
    "        return phi\n",
    "    \n",
    "        \n",
    "    time_constant = tf.Variable(t_const, trainable=False)\n",
    "    filling_pulse = tf.Variable(f_pul, trainable=False)\n",
    "    frequency_pwr = tf.Variable(init_freq_pwr, trainable=True)\n",
    "\n",
    "    for _ in range(n_iters):\n",
    "        with tf.GradientTape() as t:\n",
    "            current_loss = 0.0 - get_phi(time_constant, filling_pulse, frequency_pwr)\n",
    "\n",
    "        d_freq_pwr = t.gradient(current_loss, frequency_pwr)\n",
    "        frequency_pwr.assign_sub(learning_rate * d_freq_pwr)\n",
    "\n",
    "    return frequency_pwr.numpy(), get_phi(time_constant, filling_pulse, frequency_pwr).numpy()"
   ]
  },
  {
   "cell_type": "code",
   "execution_count": 3,
   "id": "0271849d",
   "metadata": {},
   "outputs": [],
   "source": [
    "def report_n_iter(freq_pwrs, phis, start=0, number=30):\n",
    "    end = start + number\n",
    "    for i, (pwr, phi) in enumerate(zip(freq_pwrs[start: end], phis[start: end])):\n",
    "        print(f'#{i+start:3d}: tau = {taus[i]:1.5f}, freq_pwr = {pwr:1.5f}, freq = {10**pwr:3.5f}, phi = {phi}, 1/phi = {1/phi}')"
   ]
  },
  {
   "cell_type": "code",
   "execution_count": 4,
   "id": "9702e472",
   "metadata": {
    "scrolled": false
   },
   "outputs": [
    {
     "name": "stdout",
     "output_type": "stream",
     "text": [
      "#  0: tau = 0.00020, freq_pwr = 3.29817, freq = 1986.86201, phi = 0.16149884462356567, 1/phi = 6.191994762135168\n",
      "#  1: tau = 0.00044, freq_pwr = 2.97832, freq = 951.31463, phi = 0.16648845374584198, 1/phi = 6.006422532619472\n",
      "#  2: tau = 0.00098, freq_pwr = 2.64566, freq = 442.24388, phi = 0.16881603002548218, 1/phi = 5.923608083006416\n",
      "#  3: tau = 0.00215, freq_pwr = 2.30684, freq = 202.69333, phi = 0.16988438367843628, 1/phi = 5.886356228556232\n",
      "#  4: tau = 0.00476, freq_pwr = 1.96515, freq = 92.28873, phi = 0.17037105560302734, 1/phi = 5.869541609990652\n",
      "#  5: tau = 0.01051, freq_pwr = 1.62214, freq = 41.89322, phi = 0.1705920398235321, 1/phi = 5.86193823014511\n",
      "#  6: tau = 0.02321, freq_pwr = 1.27854, freq = 18.99065, phi = 0.17069225013256073, 1/phi = 5.858496793049441\n",
      "#  7: tau = 0.05126, freq_pwr = 0.93466, freq = 8.60328, phi = 0.1707376390695572, 1/phi = 5.856939368785624\n",
      "#  8: tau = 0.11320, freq_pwr = 0.59066, freq = 3.89641, phi = 0.1707581877708435, 1/phi = 5.856234556330582\n",
      "#  9: tau = 0.25000, freq_pwr = 0.24661, freq = 1.76445, phi = 0.17076750099658966, 1/phi = 5.855915172173016\n"
     ]
    }
   ],
   "source": [
    "start = np.log10(0.0002)\n",
    "end = np.log10(0.25)\n",
    "tau_pwrs = np.linspace(start, end, num=10)\n",
    "taus = np.power(10, tau_pwrs)\n",
    "\n",
    "freq_pwrs, phis = list(), list()\n",
    "\n",
    "for tau in taus:\n",
    "    freq_pwr, phi = get_phi_max(t_const=float(tau), \n",
    "                                init_freq_pwr=float(np.log10(1/tau)), \n",
    "                                f_pul=20 * 10 ** (-6))\n",
    "    \n",
    "    freq_pwrs.append(freq_pwr)\n",
    "    phis.append(phi)\n",
    "    \n",
    "report_n_iter(freq_pwrs, phis, number=10)"
   ]
  }
 ],
 "metadata": {
  "kernelspec": {
   "display_name": "Python 3 (ipykernel)",
   "language": "python",
   "name": "python3"
  },
  "language_info": {
   "codemirror_mode": {
    "name": "ipython",
    "version": 3
   },
   "file_extension": ".py",
   "mimetype": "text/x-python",
   "name": "python",
   "nbconvert_exporter": "python",
   "pygments_lexer": "ipython3",
   "version": "3.9.7"
  }
 },
 "nbformat": 4,
 "nbformat_minor": 5
}
