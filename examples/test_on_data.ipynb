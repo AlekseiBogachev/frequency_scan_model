{
 "cells": [
  {
   "cell_type": "markdown",
   "id": "c9f272ab",
   "metadata": {},
   "source": [
    "# Апробация моделей частотных сканов на данных из набора \"1564ЛЕ1 при разных U1 Ur август 2022\""
   ]
  },
  {
   "cell_type": "code",
   "execution_count": null,
   "id": "0b391223",
   "metadata": {},
   "outputs": [],
   "source": [
    "import os\n",
    "os.environ['CUDA_VISIBLE_DEVICES'] = ''"
   ]
  },
  {
   "cell_type": "markdown",
   "id": "83aae74d",
   "metadata": {},
   "source": [
    "## 0. Импорт модулей"
   ]
  },
  {
   "cell_type": "code",
   "execution_count": null,
   "id": "9e9b6d93",
   "metadata": {},
   "outputs": [],
   "source": [
    "from os import listdir\n",
    "import matplotlib.pyplot as plt\n",
    "import numpy as np\n",
    "import pandas as pd\n",
    "import seaborn as sns\n",
    "from sklearn.metrics import mean_squared_error\n",
    "from sklearn.model_selection import cross_val_score\n",
    "from sklearn.model_selection import GridSearchCV\n",
    "\n",
    "from pydlts.fsmodels import SklMultiExpFrequencyScan, SklSingleExpFrequencyScan\n",
    "\n",
    "from pydlts.fsplots import plot_experimental_points\n",
    "from pydlts.fsplots import plot_spectr\n",
    "from pydlts.fsplots import plot_model\n",
    "from pydlts.fsplots import plot_loss_path\n",
    "from pydlts.fsplots import plot_deviations\n",
    "\n",
    "%matplotlib inline"
   ]
  },
  {
   "cell_type": "markdown",
   "id": "c1c0e7dd",
   "metadata": {},
   "source": [
    "## 1. Чтение данных"
   ]
  },
  {
   "cell_type": "code",
   "execution_count": null,
   "id": "b23a1ac5",
   "metadata": {},
   "outputs": [],
   "source": [
    "DATASETS_PATH = '../datasets/'\n",
    "PLOTS_PATH = '../plots/'\n",
    "MODELS_PATH = '../models/'"
   ]
  },
  {
   "cell_type": "code",
   "execution_count": null,
   "id": "d12baff2",
   "metadata": {
    "scrolled": true
   },
   "outputs": [],
   "source": [
    "file_names = listdir(DATASETS_PATH)"
   ]
  },
  {
   "cell_type": "markdown",
   "id": "5b82f692",
   "metadata": {},
   "source": [
    "### 1.1. Выберем данные полученные при $U_1 = -4$ В и $U_R = -5$ В\n",
    "Данному критерию соответствуют 3 частотных скана"
   ]
  },
  {
   "cell_type": "code",
   "execution_count": null,
   "id": "e9ce8d2a",
   "metadata": {},
   "outputs": [],
   "source": [
    "u1 = -4\n",
    "ur = -5\n",
    "\n",
    "data_frames = [[file_name, pd.read_csv(DATASETS_PATH + file_name, parse_dates=[0])] for file_name in file_names]\n",
    "\n",
    "condition = lambda frame: frame.loc[0, 'u1']==u1 and frame.loc[0, 'ur']==ur\n",
    "data_frames = [[name, frame] for [name, frame] in data_frames if condition(frame)]"
   ]
  },
  {
   "cell_type": "code",
   "execution_count": null,
   "id": "6eea0880",
   "metadata": {},
   "outputs": [],
   "source": [
    "len(data_frames)"
   ]
  },
  {
   "cell_type": "markdown",
   "id": "2120f57b",
   "metadata": {},
   "source": [
    "Отсортируем частотные сканы по температуре в начале сканирования"
   ]
  },
  {
   "cell_type": "code",
   "execution_count": null,
   "id": "c564be83",
   "metadata": {},
   "outputs": [],
   "source": [
    "key_func = lambda x: x[1].temperature_k.iloc[0]\n",
    "data_frames.sort(key=key_func)\n",
    "\n",
    "for i, item in enumerate(data_frames):\n",
    "    print(f'{i}.', item[0])"
   ]
  },
  {
   "cell_type": "markdown",
   "id": "72d1ccb3",
   "metadata": {},
   "source": [
    "Ниже приведён фрагмент таблицы с данными для частотного скана при температуре $T = -10^\\circ C$"
   ]
  },
  {
   "cell_type": "code",
   "execution_count": null,
   "id": "b2d77a55",
   "metadata": {},
   "outputs": [],
   "source": [
    "print(data_frames[0][0])\n",
    "data_frames[0][1].head()"
   ]
  },
  {
   "cell_type": "markdown",
   "id": "041d4a72",
   "metadata": {},
   "source": [
    "Частотный скан содержит 340 точек. Данные не содержат пропусков."
   ]
  },
  {
   "cell_type": "code",
   "execution_count": null,
   "id": "0817213e",
   "metadata": {},
   "outputs": [],
   "source": [
    "data_frames[0][1].info()"
   ]
  },
  {
   "cell_type": "markdown",
   "id": "3a18a202",
   "metadata": {},
   "source": [
    "Ниже приведён фрагмент таблицы с данными для частотного скана при температуре $T = +10^\\circ C$"
   ]
  },
  {
   "cell_type": "code",
   "execution_count": null,
   "id": "f377626c",
   "metadata": {
    "scrolled": true
   },
   "outputs": [],
   "source": [
    "print(data_frames[1][0])\n",
    "data_frames[1][1].head()"
   ]
  },
  {
   "cell_type": "markdown",
   "id": "c9376b34",
   "metadata": {},
   "source": [
    "Частотный скан содержит 340 точек. Данные не содержат пропусков."
   ]
  },
  {
   "cell_type": "code",
   "execution_count": null,
   "id": "6a78c56a",
   "metadata": {},
   "outputs": [],
   "source": [
    "data_frames[1][1].info()"
   ]
  },
  {
   "cell_type": "markdown",
   "id": "71482a49",
   "metadata": {},
   "source": [
    "Ниже приведён фрагмент таблицы с данными для частотного скана при температуре $T = +30^\\circ C$"
   ]
  },
  {
   "cell_type": "code",
   "execution_count": null,
   "id": "cb0fcffa",
   "metadata": {
    "scrolled": true
   },
   "outputs": [],
   "source": [
    "print(data_frames[2][0])\n",
    "data_frames[2][1].head()"
   ]
  },
  {
   "cell_type": "markdown",
   "id": "71a817af",
   "metadata": {},
   "source": [
    "Частотный скан содержит 34 точки. Данные не содержат пропусков."
   ]
  },
  {
   "cell_type": "code",
   "execution_count": null,
   "id": "6fc258f4",
   "metadata": {},
   "outputs": [],
   "source": [
    "data_frames[2][1].info()"
   ]
  },
  {
   "cell_type": "markdown",
   "id": "e9cc82f9",
   "metadata": {},
   "source": [
    "## 2. 1564ЛЕ1№1\\_п1\\_2500Гц-1Гц\\_10пФ\\_-10С\\_-4В-5В\\_50мВ\\_10мкс\\_шаг\\_0,1.csv\n",
    "### 2.1. Подготовка экспериментальных данных"
   ]
  },
  {
   "cell_type": "markdown",
   "id": "848f787b",
   "metadata": {},
   "source": [
    "Чтение данных"
   ]
  },
  {
   "cell_type": "code",
   "execution_count": null,
   "id": "c3cff142",
   "metadata": {},
   "outputs": [],
   "source": [
    "print(data_frames[0][0])"
   ]
  },
  {
   "cell_type": "code",
   "execution_count": null,
   "id": "afbc1c0d",
   "metadata": {},
   "outputs": [],
   "source": [
    "def get_X_y(dataset):\n",
    "    filling_pulse = dataset.f_pulse[0] * 10 ** -6\n",
    "    \n",
    "    df = dataset.sample(frac = 1, ignore_index=True)\n",
    "    X_train = np.log10(df.frequency_hz.to_numpy())\n",
    "    y_train = df.dlts_pf.to_numpy()\n",
    "    \n",
    "    return filling_pulse, X_train, y_train"
   ]
  },
  {
   "cell_type": "code",
   "execution_count": null,
   "id": "1e6b1eae",
   "metadata": {},
   "outputs": [],
   "source": [
    "filling_pulse, X_train, y_train = get_X_y(data_frames[0][1])"
   ]
  },
  {
   "cell_type": "markdown",
   "id": "ee9d8022",
   "metadata": {},
   "source": [
    "Нормализация данных"
   ]
  },
  {
   "cell_type": "code",
   "execution_count": null,
   "id": "ed0edffc",
   "metadata": {},
   "outputs": [],
   "source": [
    "normalize = lambda X, y: (X.max() / y.max(), y * X.max() / y.max())\n",
    "denormalize = lambda y_normalized, k: y_normalized / k"
   ]
  },
  {
   "cell_type": "code",
   "execution_count": null,
   "id": "35aa85fd",
   "metadata": {},
   "outputs": [],
   "source": [
    "k, y_train = normalize(X_train, y_train)\n",
    "print(f'Нормализующий коэффицет: {k}')"
   ]
  },
  {
   "cell_type": "code",
   "execution_count": null,
   "id": "22533bf2",
   "metadata": {
    "scrolled": false
   },
   "outputs": [],
   "source": [
    "fig, ax = plot_experimental_points(X_train, denormalize(y_train, k))\n",
    "ax.set_xlim([0, 3.5])\n",
    "ax.set_ylabel('Сигнал DLTS, пФ')\n",
    "plt.show()"
   ]
  },
  {
   "cell_type": "markdown",
   "id": "367d001c",
   "metadata": {},
   "source": [
    "### 2.2. Идентификация моноэкспоненциальной модели с показателем $p$\n",
    "Идентификация модели:"
   ]
  },
  {
   "cell_type": "code",
   "execution_count": null,
   "id": "fc330692",
   "metadata": {},
   "outputs": [],
   "source": [
    "monoexp_fs = SklSingleExpFrequencyScan(filling_pulse = filling_pulse,\n",
    "                                       learning_rate = 0.05,\n",
    "                                       stop_val = 10**-5,\n",
    "                                       verbose = False\n",
    "                                      )\n",
    "\n",
    "monoexp_fs.fit(X = X_train, y = y_train, initial_exps_params_=[[-3.0, 0.5]])"
   ]
  },
  {
   "cell_type": "markdown",
   "id": "86bed0b4",
   "metadata": {},
   "source": [
    "Приведение результатов к изначальному масштабу"
   ]
  },
  {
   "cell_type": "code",
   "execution_count": null,
   "id": "202c95b1",
   "metadata": {
    "scrolled": false
   },
   "outputs": [],
   "source": [
    "exps_params_ = monoexp_fs.exps_params_\n",
    "exps_params_[0, 1] = denormalize(exps_params_[0, 1], k)\n",
    "monoexp_fs.exps_params_ = exps_params_\n",
    "\n",
    "fit_results_ = monoexp_fs.fit_results_.copy()\n",
    "fit_results_.amplitude_0 = denormalize(fit_results_.amplitude_0, k) \n",
    "\n",
    "y_train = denormalize(y_train, k)"
   ]
  },
  {
   "cell_type": "markdown",
   "id": "1f01aa6c",
   "metadata": {},
   "source": [
    "Вывод табличных результатов идентификации"
   ]
  },
  {
   "cell_type": "code",
   "execution_count": null,
   "id": "82fe16a3",
   "metadata": {},
   "outputs": [],
   "source": [
    "fit_results_.to_csv(MODELS_PATH + '1564ЛЕ1№1_п1_2500Гц-1Гц_10пФ_+30С_-4В-5В_50мВ_10мкс_шаг_0,1_single_exp_fit_results_1.csv')\n",
    "monoexp_fs.fit_results_.tail(10)"
   ]
  },
  {
   "cell_type": "markdown",
   "id": "8c082391",
   "metadata": {},
   "source": [
    "Вывод графика с экспериментальными данными и данными полученными на идентифицированной модели"
   ]
  },
  {
   "cell_type": "code",
   "execution_count": null,
   "id": "4eae252a",
   "metadata": {},
   "outputs": [],
   "source": [
    "fig, ax = plot_model(X_train, y_train, SklSingleExpFrequencyScan, fit_results_, plot_exps=False)\n",
    "ax.set_ylabel('Сигнал DLTS, пФ')\n",
    "plt.savefig(PLOTS_PATH + '1564ЛЕ1№1_п1_2500Гц-1Гц_10пФ_+30С_-4В-5В_50мВ_10мкс_шаг_0,1_single_exp_model_1.pdf',\n",
    "            bbox_inches='tight')\n",
    "plt.show()"
   ]
  },
  {
   "cell_type": "markdown",
   "id": "4de8f816",
   "metadata": {},
   "source": [
    "Вывод графика значений среднеквадратической ошибки в процессе идентификации."
   ]
  },
  {
   "cell_type": "code",
   "execution_count": null,
   "id": "5adaf1e1",
   "metadata": {},
   "outputs": [],
   "source": [
    "plot_loss_path(fit_results_)\n",
    "plt.savefig(PLOTS_PATH + '1564ЛЕ1№1_п1_2500Гц-1Гц_10пФ_+30С_-4В-5В_50мВ_10мкс_шаг_0,1_single_exp_model_loss_1.pdf',\n",
    "            bbox_inches='tight')\n",
    "plt.show()"
   ]
  },
  {
   "cell_type": "markdown",
   "id": "375a979a",
   "metadata": {},
   "source": [
    "График выходит на \"плато\", что свидетельствует о том, что решение сошлось, однако довольно высокое значение среднеквадратической ошибки может указывать на то, что алгоритм нашёл локальный минимум функции потерь. О последнем также свидетельсвует предыдущий график (графика с экспериментальными данными и данными полученными на идентифицированной модели)."
   ]
  },
  {
   "cell_type": "markdown",
   "id": "c9ee2d73",
   "metadata": {},
   "source": [
    "Выведем график отклонений результатов, полученных на модели, от экспериментальных данных."
   ]
  },
  {
   "cell_type": "code",
   "execution_count": null,
   "id": "9f782d88",
   "metadata": {
    "scrolled": false
   },
   "outputs": [],
   "source": [
    "fig, ax = plt.subplots(figsize=(12, 5))\n",
    "\n",
    "ax = plot_deviations(X_train, y_train, monoexp_fs.predict(X_train), ax=ax)\n",
    "\n",
    "ax.set_ylabel('Сигнал DLTS, пФ')\n",
    "\n",
    "plt.savefig(PLOTS_PATH + '1564ЛЕ1№1_п1_2500Гц-1Гц_10пФ_+30С_-4В-5В_50мВ_10мкс_шаг_0,1_single_exp_deviations_1.pdf',\n",
    "            bbox_inches='tight')\n",
    "plt.show()"
   ]
  },
  {
   "cell_type": "markdown",
   "id": "d4c2ddcd",
   "metadata": {},
   "source": [
    "Построим гистограмму отклонений данных, полученных на идентифицированной модели, от экспериментальных данных"
   ]
  },
  {
   "cell_type": "code",
   "execution_count": null,
   "id": "6ec23b64",
   "metadata": {},
   "outputs": [],
   "source": [
    "sns.displot(x=y_train - monoexp_fs.predict(X_train), bins=11, kde=True, stat='probability', aspect=1.5)\n",
    "plt.grid()\n",
    "plt.savefig(PLOTS_PATH + '1564ЛЕ1№1_п1_2500Гц-1Гц_10пФ_+30С_-4В-5В_50мВ_10мкс_шаг_0,1_single_exp_hist_1.pdf',\n",
    "            bbox_inches='tight')\n",
    "plt.show()"
   ]
  },
  {
   "cell_type": "markdown",
   "id": "2f1ad3c4",
   "metadata": {},
   "source": [
    "Оценим модель при помощи кросс-валидации"
   ]
  },
  {
   "cell_type": "code",
   "execution_count": null,
   "id": "6da4de63",
   "metadata": {},
   "outputs": [],
   "source": [
    "def display_scores(scores):\n",
    "    print('Scores - корни из среднеквадратических ошибок')\n",
    "    scores = np.sqrt(scores)\n",
    "    print(f'Scores: {scores}')\n",
    "    print(f'Mean: {scores.mean()}')\n",
    "    print(f'Standard deviation: {scores.std()}')"
   ]
  },
  {
   "cell_type": "code",
   "execution_count": null,
   "id": "60e0c72c",
   "metadata": {
    "scrolled": true
   },
   "outputs": [],
   "source": [
    "scores = cross_val_score(monoexp_fs, \n",
    "                         X_train, \n",
    "                         y_train, \n",
    "                         fit_params=dict(initial_exps_params_=[[-3.0, 0.5]]), \n",
    "                         scoring='neg_mean_squared_error', \n",
    "                         cv=5, \n",
    "                         n_jobs=-1)\n",
    "\n",
    "display_scores(np.sqrt(-scores))"
   ]
  },
  {
   "cell_type": "markdown",
   "id": "4de9f585",
   "metadata": {},
   "source": [
    "Оценим корень из среднеквадратической ошики между экспериментальными данными и данными, полученными на идентифицированной модели"
   ]
  },
  {
   "cell_type": "code",
   "execution_count": null,
   "id": "b7dc7980",
   "metadata": {},
   "outputs": [],
   "source": [
    "mean_squared_error(y_train, monoexp_fs.predict(X_train), squared=False)"
   ]
  },
  {
   "cell_type": "markdown",
   "id": "89496fce",
   "metadata": {},
   "source": [
    "Выведем на экран полученный спектр"
   ]
  },
  {
   "cell_type": "code",
   "execution_count": null,
   "id": "027fc3ba",
   "metadata": {},
   "outputs": [],
   "source": [
    "plot_spectr(monoexp_fs.exps_params_, xlim=[1/5000, 1])\n",
    "plt.savefig(PLOTS_PATH + '1564ЛЕ1№1_п1_2500Гц-1Гц_10пФ_+30С_-4В-5В_50мВ_10мкс_шаг_0,1_single_exp_spectr_1.pdf',\n",
    "            bbox_inches='tight')\n",
    "plt.show()"
   ]
  },
  {
   "cell_type": "markdown",
   "id": "73cf0943",
   "metadata": {},
   "source": [
    "Попробуем идентифицировать модель задав другую начальную точку для идентификации."
   ]
  },
  {
   "cell_type": "markdown",
   "id": "239cee6a",
   "metadata": {},
   "source": [
    "Чтение данных"
   ]
  },
  {
   "cell_type": "code",
   "execution_count": null,
   "id": "fdc69590",
   "metadata": {},
   "outputs": [],
   "source": [
    "filling_pulse, X_train, y_train = get_X_y(data_frames[0][1])"
   ]
  },
  {
   "cell_type": "markdown",
   "id": "e49ee0a2",
   "metadata": {},
   "source": [
    "Нормализация данных"
   ]
  },
  {
   "cell_type": "code",
   "execution_count": null,
   "id": "de3d28af",
   "metadata": {},
   "outputs": [],
   "source": [
    "k, y_train = normalize(X_train, y_train)\n",
    "print(f'Нормализующий коэффицет: {k}')"
   ]
  },
  {
   "cell_type": "markdown",
   "id": "8b51f1fd",
   "metadata": {},
   "source": [
    "Идентификация модели с начальной точкой близкой к отрицательному пику"
   ]
  },
  {
   "cell_type": "code",
   "execution_count": null,
   "id": "b0dac374",
   "metadata": {
    "scrolled": true
   },
   "outputs": [],
   "source": [
    "monoexp_fs = SklSingleExpFrequencyScan(filling_pulse = filling_pulse,\n",
    "                                       learning_rate = 0.05,\n",
    "                                       stop_val = 10**-5,\n",
    "                                       verbose = False\n",
    "                                      )\n",
    "\n",
    "monoexp_fs.fit(X = X_train, y = y_train, initial_exps_params_=[[-1.5, -0.5]])"
   ]
  },
  {
   "cell_type": "markdown",
   "id": "cb541094",
   "metadata": {},
   "source": [
    "Приведение результатов к изначальному масштабу"
   ]
  },
  {
   "cell_type": "code",
   "execution_count": null,
   "id": "1098d96d",
   "metadata": {},
   "outputs": [],
   "source": [
    "exps_params_ = monoexp_fs.exps_params_\n",
    "exps_params_[0, 1] = denormalize(exps_params_[0, 1], k)\n",
    "monoexp_fs.exps_params_ = exps_params_\n",
    "\n",
    "fit_results_ = monoexp_fs.fit_results_.copy()\n",
    "fit_results_.amplitude_0 = denormalize(fit_results_.amplitude_0, k) \n",
    "\n",
    "y_train = denormalize(y_train, k)"
   ]
  },
  {
   "cell_type": "markdown",
   "id": "aa1fa89d",
   "metadata": {},
   "source": [
    "Вывод табличных результатов идентификации"
   ]
  },
  {
   "cell_type": "code",
   "execution_count": null,
   "id": "7655c611",
   "metadata": {},
   "outputs": [],
   "source": [
    "fit_results_.to_csv(MODELS_PATH + '1564ЛЕ1№1_п1_2500Гц-1Гц_10пФ_+30С_-4В-5В_50мВ_10мкс_шаг_0,1_single_exp_fit_results_2.csv')\n",
    "monoexp_fs.fit_results_.tail(10)"
   ]
  },
  {
   "cell_type": "markdown",
   "id": "f03b8cf4",
   "metadata": {},
   "source": [
    "Вывод графика с экспериментальными данными и данными полученными на идентифицированной модели"
   ]
  },
  {
   "cell_type": "code",
   "execution_count": null,
   "id": "b915adce",
   "metadata": {},
   "outputs": [],
   "source": [
    "fig, ax = plot_model(X_train, y_train, SklSingleExpFrequencyScan, fit_results_, plot_exps=False)\n",
    "ax.set_ylabel('Сигнал DLTS, пФ')\n",
    "plt.savefig(PLOTS_PATH + '1564ЛЕ1№1_п1_2500Гц-1Гц_10пФ_+30С_-4В-5В_50мВ_10мкс_шаг_0,1_single_exp_model_2.pdf',\n",
    "            bbox_inches='tight')\n",
    "plt.show()"
   ]
  },
  {
   "cell_type": "markdown",
   "id": "c5004a83",
   "metadata": {},
   "source": [
    "Вывод графика значений среднеквадратической ошибки в процессе идентификации."
   ]
  },
  {
   "cell_type": "code",
   "execution_count": null,
   "id": "f2356608",
   "metadata": {},
   "outputs": [],
   "source": [
    "plot_loss_path(fit_results_)\n",
    "plt.savefig(PLOTS_PATH + '1564ЛЕ1№1_п1_2500Гц-1Гц_10пФ_+30С_-4В-5В_50мВ_10мкс_шаг_0,1_single_exp_model_loss_2.pdf',\n",
    "            bbox_inches='tight')\n",
    "plt.show()"
   ]
  },
  {
   "cell_type": "markdown",
   "id": "4a85dea1",
   "metadata": {},
   "source": [
    "Выведем график отклонений результатов, полученных на модели, от экспериментальных данных."
   ]
  },
  {
   "cell_type": "code",
   "execution_count": null,
   "id": "a2a03fc5",
   "metadata": {},
   "outputs": [],
   "source": [
    "fig, ax = plt.subplots(figsize=(12, 5))\n",
    "\n",
    "ax = plot_deviations(X_train, y_train, monoexp_fs.predict(X_train), ax=ax)\n",
    "\n",
    "ax.set_ylabel('Сигнал DLTS, пФ')\n",
    "\n",
    "plt.savefig(PLOTS_PATH + '1564ЛЕ1№1_п1_2500Гц-1Гц_10пФ_+30С_-4В-5В_50мВ_10мкс_шаг_0,1_single_exp_deviations_2.pdf',\n",
    "            bbox_inches='tight')\n",
    "plt.show()"
   ]
  },
  {
   "cell_type": "markdown",
   "id": "b3c6ec54",
   "metadata": {},
   "source": [
    "Построим гистограмму отклонений данных, полученных на идентифицированной модели, от экспериментальных данных"
   ]
  },
  {
   "cell_type": "code",
   "execution_count": null,
   "id": "d8685cdb",
   "metadata": {},
   "outputs": [],
   "source": [
    "sns.displot(x=y_train - monoexp_fs.predict(X_train), bins=11, kde=True, stat='probability', aspect=1.5)\n",
    "plt.grid()\n",
    "plt.savefig(PLOTS_PATH + '1564ЛЕ1№1_п1_2500Гц-1Гц_10пФ_+30С_-4В-5В_50мВ_10мкс_шаг_0,1_single_exp_hist_2.pdf',\n",
    "            bbox_inches='tight')\n",
    "plt.show()"
   ]
  },
  {
   "cell_type": "markdown",
   "id": "a90fdf9f",
   "metadata": {},
   "source": [
    "Оценим модель при помощи кросс-валидации"
   ]
  },
  {
   "cell_type": "code",
   "execution_count": null,
   "id": "8d0e0719",
   "metadata": {},
   "outputs": [],
   "source": [
    "scores = cross_val_score(monoexp_fs, \n",
    "                         X_train, \n",
    "                         y_train, \n",
    "                         fit_params=dict(initial_exps_params_=[[-1.5, -0.5]]), \n",
    "                         scoring='neg_mean_squared_error', \n",
    "                         cv=5, \n",
    "                         n_jobs=-1)\n",
    "\n",
    "display_scores(np.sqrt(-scores))"
   ]
  },
  {
   "cell_type": "markdown",
   "id": "ac9dcf72",
   "metadata": {},
   "source": [
    "Оценим корень из среднеквадратической ошики между экспериментальными данными и данными, полученными на идентифицированной модели"
   ]
  },
  {
   "cell_type": "code",
   "execution_count": null,
   "id": "b01393e2",
   "metadata": {
    "scrolled": true
   },
   "outputs": [],
   "source": [
    "mean_squared_error(y_train, monoexp_fs.predict(X_train), squared=False)"
   ]
  },
  {
   "cell_type": "markdown",
   "id": "23deb1a1",
   "metadata": {},
   "source": [
    "Выведем на экран полученный спектр"
   ]
  },
  {
   "cell_type": "code",
   "execution_count": null,
   "id": "8303dac0",
   "metadata": {},
   "outputs": [],
   "source": [
    "plot_spectr(monoexp_fs.exps_params_)\n",
    "plt.savefig(PLOTS_PATH + '1564ЛЕ1№1_п1_2500Гц-1Гц_10пФ_+30С_-4В-5В_50мВ_10мкс_шаг_0,1_single_exp_spectr_2.pdf',\n",
    "            bbox_inches='tight')\n",
    "plt.show()"
   ]
  },
  {
   "cell_type": "markdown",
   "id": "aaf5664a",
   "metadata": {},
   "source": [
    "### 2.3. Идентификация моноэкспоненциальной моделью с показателем $p=1$"
   ]
  },
  {
   "cell_type": "markdown",
   "id": "931860d9",
   "metadata": {},
   "source": [
    "Чтение данных"
   ]
  },
  {
   "cell_type": "code",
   "execution_count": null,
   "id": "c849f042",
   "metadata": {},
   "outputs": [],
   "source": [
    "filling_pulse, X_train, y_train = get_X_y(data_frames[0][1])"
   ]
  },
  {
   "cell_type": "markdown",
   "id": "a8e6a253",
   "metadata": {},
   "source": [
    "Нормализация данных"
   ]
  },
  {
   "cell_type": "code",
   "execution_count": null,
   "id": "3c95a363",
   "metadata": {},
   "outputs": [],
   "source": [
    "k, y_train = normalize(X_train, y_train)\n",
    "print(f'Нормализующий коэффицет: {k}')"
   ]
  },
  {
   "cell_type": "markdown",
   "id": "53a04308",
   "metadata": {},
   "source": [
    "Идентификация модели"
   ]
  },
  {
   "cell_type": "code",
   "execution_count": null,
   "id": "7ec7ef06",
   "metadata": {},
   "outputs": [],
   "source": [
    "monoexp_fs = SklSingleExpFrequencyScan(filling_pulse = filling_pulse,\n",
    "                                       learning_rate = 0.05,\n",
    "                                       stop_val = 10**-5,\n",
    "                                       verbose = False,\n",
    "                                       fit_p_coef = False\n",
    "                                      )\n",
    "\n",
    "monoexp_fs.fit(X = X_train, y = y_train)"
   ]
  },
  {
   "cell_type": "markdown",
   "id": "3a4eaf64",
   "metadata": {},
   "source": [
    "Приведение результатов к изначальному масштабу"
   ]
  },
  {
   "cell_type": "code",
   "execution_count": null,
   "id": "1e7b2a21",
   "metadata": {},
   "outputs": [],
   "source": [
    "exps_params_ = monoexp_fs.exps_params_\n",
    "exps_params_[0, 1] = denormalize(exps_params_[0, 1], k)\n",
    "monoexp_fs.exps_params_ = exps_params_\n",
    "\n",
    "fit_results_ = monoexp_fs.fit_results_.copy()\n",
    "fit_results_.amplitude_0 = denormalize(fit_results_.amplitude_0, k) \n",
    "\n",
    "y_train = denormalize(y_train, k)"
   ]
  },
  {
   "cell_type": "markdown",
   "id": "973af5ff",
   "metadata": {},
   "source": [
    "Вывод табличных результатов идентификации"
   ]
  },
  {
   "cell_type": "code",
   "execution_count": null,
   "id": "9c470555",
   "metadata": {},
   "outputs": [],
   "source": [
    "fit_results_.to_csv(MODELS_PATH + '1564ЛЕ1№1_п1_2500Гц-1Гц_10пФ_+30С_-4В-5В_50мВ_10мкс_шаг_0,1_single_exp_ideal_fit_results.csv')\n",
    "monoexp_fs.fit_results_.tail(10)"
   ]
  },
  {
   "cell_type": "code",
   "execution_count": null,
   "id": "3fd702db",
   "metadata": {},
   "outputs": [],
   "source": [
    "fig, ax = plot_model(X_train, y_train, SklSingleExpFrequencyScan, fit_results_, plot_exps=False)\n",
    "ax.set_ylabel('Сигнал DLTS, пФ')\n",
    "plt.savefig(PLOTS_PATH + '1564ЛЕ1№1_п1_2500Гц-1Гц_10пФ_+30С_-4В-5В_50мВ_10мкс_шаг_0,1_single_exp_ideal_model.pdf',\n",
    "            bbox_inches='tight')\n",
    "plt.show()"
   ]
  },
  {
   "cell_type": "markdown",
   "id": "2a3267dc",
   "metadata": {},
   "source": [
    "Вывод графика значений среднеквадратической ошибки в процессе идентификации."
   ]
  },
  {
   "cell_type": "code",
   "execution_count": null,
   "id": "dd7fe592",
   "metadata": {},
   "outputs": [],
   "source": [
    "plot_loss_path(fit_results_)\n",
    "plt.savefig(PLOTS_PATH + '1564ЛЕ1№1_п1_2500Гц-1Гц_10пФ_+30С_-4В-5В_50мВ_10мкс_шаг_0,1_single_exp_ideal_model_loss.pdf',\n",
    "            bbox_inches='tight')\n",
    "plt.show()"
   ]
  },
  {
   "cell_type": "markdown",
   "id": "5e6dec48",
   "metadata": {},
   "source": [
    "Выведем график отклонений результатов, полученных на модели, от экспериментальных данных."
   ]
  },
  {
   "cell_type": "code",
   "execution_count": null,
   "id": "41987a5e",
   "metadata": {
    "scrolled": false
   },
   "outputs": [],
   "source": [
    "fig, ax = plt.subplots(figsize=(12, 5))\n",
    "\n",
    "ax = plot_deviations(X_train, y_train, monoexp_fs.predict(X_train), ax=ax)\n",
    "\n",
    "ax.set_ylabel('Сигнал DLTS, пФ')\n",
    "\n",
    "plt.savefig(PLOTS_PATH + '1564ЛЕ1№1_п1_2500Гц-1Гц_10пФ_+30С_-4В-5В_50мВ_10мкс_шаг_0,1_single_exp_ideal_deviations.pdf',\n",
    "            bbox_inches='tight')\n",
    "plt.show()"
   ]
  },
  {
   "cell_type": "markdown",
   "id": "fe259bd1",
   "metadata": {},
   "source": [
    "Построим гистограмму отклонений данных, полученных на идентифицированной модели, от экспериментальных данных"
   ]
  },
  {
   "cell_type": "code",
   "execution_count": null,
   "id": "6df3170f",
   "metadata": {
    "scrolled": false
   },
   "outputs": [],
   "source": [
    "sns.displot(x=y_train - monoexp_fs.predict(X_train), bins=11, kde=True, stat='probability', aspect=1.5)\n",
    "plt.grid()\n",
    "plt.savefig(PLOTS_PATH + '1564ЛЕ1№1_п1_2500Гц-1Гц_10пФ_+30С_-4В-5В_50мВ_10мкс_шаг_0,1_single_exp_ideal_hist.pdf',\n",
    "            bbox_inches='tight')\n",
    "plt.show()"
   ]
  },
  {
   "cell_type": "markdown",
   "id": "cfa78faa",
   "metadata": {},
   "source": [
    "Оценим модель при помощи кросс-валидации"
   ]
  },
  {
   "cell_type": "code",
   "execution_count": null,
   "id": "4750e1d0",
   "metadata": {},
   "outputs": [],
   "source": [
    "scores = cross_val_score(monoexp_fs, \n",
    "                         X_train, \n",
    "                         y_train, \n",
    "                         scoring='neg_mean_squared_error', \n",
    "                         cv=5, \n",
    "                         n_jobs=-1)\n",
    "\n",
    "display_scores(np.sqrt(-scores))"
   ]
  },
  {
   "cell_type": "markdown",
   "id": "677ab8e7",
   "metadata": {},
   "source": [
    "Оценим корень из среднеквадратической ошики между экспериментальными данными и данными, полученными на идентифицированной модели"
   ]
  },
  {
   "cell_type": "code",
   "execution_count": null,
   "id": "9eecc324",
   "metadata": {},
   "outputs": [],
   "source": [
    "mean_squared_error(y_train, monoexp_fs.predict(X_train), squared=False)"
   ]
  },
  {
   "cell_type": "markdown",
   "id": "9271bb7a",
   "metadata": {},
   "source": [
    "Выведем на экран полученный спектр"
   ]
  },
  {
   "cell_type": "code",
   "execution_count": null,
   "id": "07709de5",
   "metadata": {},
   "outputs": [],
   "source": [
    "plot_spectr(monoexp_fs.exps_params_, xlim=[1/5000, 1])\n",
    "plt.savefig(PLOTS_PATH + '1564ЛЕ1№1_п1_2500Гц-1Гц_10пФ_+30С_-4В-5В_50мВ_10мкс_шаг_0,1_single_exp_ideal_spectr.pdf',\n",
    "            bbox_inches='tight')\n",
    "plt.show()"
   ]
  },
  {
   "cell_type": "markdown",
   "id": "0875cc27",
   "metadata": {},
   "source": [
    "### 2.4. Идентификация мультиэкспоненциальной модели с n_exps>1"
   ]
  },
  {
   "cell_type": "markdown",
   "id": "34cc824c",
   "metadata": {},
   "source": [
    "Чтение данных"
   ]
  },
  {
   "cell_type": "code",
   "execution_count": null,
   "id": "03783e63",
   "metadata": {},
   "outputs": [],
   "source": [
    "print(data_frames[0][0])"
   ]
  },
  {
   "cell_type": "code",
   "execution_count": null,
   "id": "1dd079fc",
   "metadata": {},
   "outputs": [],
   "source": [
    "filling_pulse, X_train, y_train = get_X_y(data_frames[0][1])"
   ]
  },
  {
   "cell_type": "markdown",
   "id": "58a71b60",
   "metadata": {},
   "source": [
    "Нормализация данных"
   ]
  },
  {
   "cell_type": "code",
   "execution_count": null,
   "id": "e815373e",
   "metadata": {},
   "outputs": [],
   "source": [
    "k, y_train = normalize(X_train, y_train)\n",
    "print(f'Нормализующий коэффицет: {k}')"
   ]
  },
  {
   "cell_type": "markdown",
   "id": "58b7b699",
   "metadata": {},
   "source": [
    "Идентификация мультиэкспоненциальной модели"
   ]
  },
  {
   "cell_type": "code",
   "execution_count": null,
   "id": "e2eadeba",
   "metadata": {},
   "outputs": [],
   "source": [
    "multiexp_fs = SklMultiExpFrequencyScan(n_exps = 1,\n",
    "                                       filling_pulse = filling_pulse,\n",
    "                                       learning_rate = 0.05,\n",
    "                                       stop_val = 10**-5\n",
    "                                      )"
   ]
  },
  {
   "cell_type": "code",
   "execution_count": null,
   "id": "f22b7767",
   "metadata": {},
   "outputs": [],
   "source": [
    "param_grid = {'n_exps': [1, 2, 3, 4, 5, 6, 7, 8, 9, 10]}\n",
    "grid_search = GridSearchCV(multiexp_fs, param_grid, cv=5, \n",
    "                           scoring='neg_mean_squared_error',\n",
    "                           return_train_score=True, n_jobs=-1)"
   ]
  },
  {
   "cell_type": "code",
   "execution_count": null,
   "id": "a7785309",
   "metadata": {
    "scrolled": true
   },
   "outputs": [],
   "source": [
    "grid_search.fit(X_train, y_train)"
   ]
  },
  {
   "cell_type": "markdown",
   "id": "6212a185",
   "metadata": {},
   "source": [
    "Лучший результат показала модель со следующим количеством экспоненциальных составляющих (n_exps)"
   ]
  },
  {
   "cell_type": "code",
   "execution_count": null,
   "id": "3fb24abb",
   "metadata": {},
   "outputs": [],
   "source": [
    "grid_search.best_params_"
   ]
  },
  {
   "cell_type": "markdown",
   "id": "3c2de148",
   "metadata": {},
   "source": [
    "Ниже приведены результаты, которые показали модули с другими занчениями параметра (n_exps)"
   ]
  },
  {
   "cell_type": "code",
   "execution_count": null,
   "id": "c9ee7b5f",
   "metadata": {},
   "outputs": [],
   "source": [
    "cvres = grid_search.cv_results_\n",
    "for mean_score, params in zip(cvres['mean_test_score'], cvres['params']):\n",
    "    print(np.sqrt(-mean_score), params)"
   ]
  },
  {
   "cell_type": "markdown",
   "id": "cb850e4c",
   "metadata": {},
   "source": [
    "Для лучшей модели выведем табличные результаты и графики.\n",
    "\n",
    "Приведение результатов к изначальному масштабу"
   ]
  },
  {
   "cell_type": "code",
   "execution_count": null,
   "id": "6305ed1c",
   "metadata": {},
   "outputs": [],
   "source": [
    "multiexp_fs = grid_search.best_estimator_\n",
    "\n",
    "exps_params_ = multiexp_fs.exps_params_\n",
    "exps_params_[:, 1] = denormalize(exps_params_[:, 1], k)\n",
    "multiexp_fs.exps_params_ = exps_params_\n",
    "\n",
    "fit_results_ = multiexp_fs.fit_results_.copy()\n",
    "\n",
    "for i in range(multiexp_fs.n_exps):\n",
    "    fit_results_[f'amplitude_{i}'] = denormalize(fit_results_[f'amplitude_{i}'], k) \n",
    "\n",
    "y_train = denormalize(y_train, k)"
   ]
  },
  {
   "cell_type": "markdown",
   "id": "1f429770",
   "metadata": {},
   "source": [
    "Вывод табличных результатов идентификации"
   ]
  },
  {
   "cell_type": "code",
   "execution_count": null,
   "id": "cd3c892b",
   "metadata": {},
   "outputs": [],
   "source": [
    "fit_results_.to_csv(MODELS_PATH + '1564ЛЕ1№1_п1_2500Гц-1Гц_10пФ_+30С_-4В-5В_50мВ_10мкс_шаг_0,1_multi_exp_fit_results_1.csv')\n",
    "multiexp_fs.fit_results_.tail(10)"
   ]
  },
  {
   "cell_type": "markdown",
   "id": "50086f1c",
   "metadata": {},
   "source": [
    "Вывод графика с экспериментальными данными и данными полученными на идентифицированной модели"
   ]
  },
  {
   "cell_type": "code",
   "execution_count": null,
   "id": "fc2ccdf9",
   "metadata": {},
   "outputs": [],
   "source": [
    "y_pred = grid_search.best_estimator_.predict(X_train)"
   ]
  },
  {
   "cell_type": "code",
   "execution_count": null,
   "id": "d2230648",
   "metadata": {
    "scrolled": false
   },
   "outputs": [],
   "source": [
    "fig, ax = plot_model(X_train, y_train, SklMultiExpFrequencyScan, fit_results_)\n",
    "plt.savefig(PLOTS_PATH + '1564ЛЕ1№1_п1_2500Гц-1Гц_10пФ_+30С_-4В-5В_50мВ_10мкс_шаг_0,1_multi_exp_model_2.pdf',\n",
    "            bbox_inches='tight')\n",
    "plt.show()"
   ]
  },
  {
   "cell_type": "markdown",
   "id": "83470315",
   "metadata": {},
   "source": [
    "Вывод графика значений среднеквадратической ошибки в процессе идентификации"
   ]
  },
  {
   "cell_type": "code",
   "execution_count": null,
   "id": "5b9679eb",
   "metadata": {},
   "outputs": [],
   "source": [
    "plot_loss_path(fit_results_)\n",
    "plt.savefig(PLOTS_PATH + '1564ЛЕ1№1_п1_2500Гц-1Гц_10пФ_+30С_-4В-5В_50мВ_10мкс_шаг_0,1_multi_exp_loss.pdf',\n",
    "            bbox_inches='tight')\n",
    "plt.show()"
   ]
  },
  {
   "cell_type": "markdown",
   "id": "152e1dd7",
   "metadata": {},
   "source": [
    "Выведем график отклонений результатов, полученных на модели, от экспериментальных данных"
   ]
  },
  {
   "cell_type": "code",
   "execution_count": null,
   "id": "0558ac34",
   "metadata": {},
   "outputs": [],
   "source": [
    "fig, ax = plt.subplots(figsize=(12, 5))\n",
    "\n",
    "ax = plot_deviations(X_train, y_train, multiexp_fs.predict(X_train), ax=ax)\n",
    "\n",
    "ax.set_ylabel('Сигнал DLTS, пФ')\n",
    "\n",
    "plt.savefig(PLOTS_PATH + '1564ЛЕ1№1_п1_2500Гц-1Гц_10пФ_+30С_-4В-5В_50мВ_10мкс_шаг_0,1_multi_exp_deviations.pdf',\n",
    "            bbox_inches='tight')\n",
    "plt.show()"
   ]
  },
  {
   "cell_type": "markdown",
   "id": "6959d9fb",
   "metadata": {},
   "source": [
    "Построим гистограмму отклонений данных, полученных на идентифицированной модели, от экспериментальных данных"
   ]
  },
  {
   "cell_type": "code",
   "execution_count": null,
   "id": "db12c215",
   "metadata": {},
   "outputs": [],
   "source": [
    "sns.displot(x=y_train - multiexp_fs.predict(X_train), bins=11, kde=True, stat='probability', aspect=1.5)\n",
    "plt.grid()\n",
    "plt.savefig(PLOTS_PATH + '1564ЛЕ1№1_п1_2500Гц-1Гц_10пФ_+30С_-4В-5В_50мВ_10мкс_шаг_0,1_multi_exp_hist.pdf',\n",
    "            bbox_inches='tight')\n",
    "plt.show()"
   ]
  },
  {
   "cell_type": "markdown",
   "id": "6131deab",
   "metadata": {},
   "source": [
    "Оценим модель при помощи кросс-валидации"
   ]
  },
  {
   "cell_type": "code",
   "execution_count": null,
   "id": "5cf2f7d2",
   "metadata": {},
   "outputs": [],
   "source": [
    "scores = cross_val_score(monoexp_fs, \n",
    "                         X_train, \n",
    "                         y_train, \n",
    "                         scoring='neg_mean_squared_error', \n",
    "                         cv=5, \n",
    "                         n_jobs=-1)\n",
    "\n",
    "display_scores(np.sqrt(-scores))"
   ]
  },
  {
   "cell_type": "markdown",
   "id": "a00fde7d",
   "metadata": {},
   "source": [
    "Оценим корень из среднеквадратической ошики между экспериментальными данными и данными, полученными на идентифицированной модели"
   ]
  },
  {
   "cell_type": "code",
   "execution_count": null,
   "id": "cc3d8787",
   "metadata": {},
   "outputs": [],
   "source": [
    "mean_squared_error(y_train, multiexp_fs.predict(X_train), squared=False)"
   ]
  },
  {
   "cell_type": "code",
   "execution_count": null,
   "id": "41edbb6a",
   "metadata": {},
   "outputs": [],
   "source": [
    "# https://scikit-learn.org/stable/modules/generated/sklearn.model_selection.cross_validate.html#sklearn.model_selection.cross_validate\n",
    "# https://scikit-learn.org/stable/modules/cross_validation.html#cross-validation\n",
    "# https://scikit-learn.org/stable/modules/model_evaluation.html#scoring-parameter"
   ]
  },
  {
   "cell_type": "code",
   "execution_count": null,
   "id": "4b88f10f",
   "metadata": {},
   "outputs": [],
   "source": []
  },
  {
   "cell_type": "code",
   "execution_count": null,
   "id": "589a5180",
   "metadata": {},
   "outputs": [],
   "source": []
  },
  {
   "cell_type": "markdown",
   "id": "4897673b",
   "metadata": {},
   "source": [
    "## 3. 1564ЛЕ1№1\\_п1\\_2500Гц-1Гц\\_1пФ\\_+10С\\_-4В-5В\\_50мВ\\_10мкс\\_шаг\\_0,01.csv\n",
    "### 3.1. Подготовка экспериментальных данных"
   ]
  },
  {
   "cell_type": "code",
   "execution_count": null,
   "id": "48d18048",
   "metadata": {},
   "outputs": [],
   "source": [
    "filling_pulse, X_train, y_train = get_X_y(data_frames[1][1])"
   ]
  },
  {
   "cell_type": "code",
   "execution_count": null,
   "id": "faf118e3",
   "metadata": {},
   "outputs": [],
   "source": [
    "k, y_train = normalize(X_train, y_train)\n",
    "k"
   ]
  },
  {
   "cell_type": "code",
   "execution_count": null,
   "id": "cdbbd348",
   "metadata": {},
   "outputs": [],
   "source": [
    "fig, ax = plot_experimental_points(X_train, y_train)\n",
    "ax.set_ylim([0, 3.5])\n",
    "ax.set_xlim([0, 3.5])\n",
    "plt.show()"
   ]
  },
  {
   "cell_type": "markdown",
   "id": "d40c5b0e",
   "metadata": {},
   "source": [
    "### 3.2. Идентификация моноэкспоненциальной модели с показателем $p$"
   ]
  },
  {
   "cell_type": "code",
   "execution_count": null,
   "id": "31a468f9",
   "metadata": {
    "scrolled": true
   },
   "outputs": [],
   "source": [
    "monoexp_fs = SklSingleExpFrequencyScan(filling_pulse = filling_pulse,\n",
    "                                       learning_rate = 0.05,\n",
    "                                       stop_val = 10**-5,\n",
    "                                       verbose = False\n",
    "                                      )\n",
    "\n",
    "monoexp_fs.fit(X = X_train, y = y_train)\n",
    "monoexp_fs.fit_results_"
   ]
  },
  {
   "cell_type": "code",
   "execution_count": null,
   "id": "62ed5bc3",
   "metadata": {},
   "outputs": [],
   "source": [
    "fig, ax = plot_model(X_train, y_train, SklSingleExpFrequencyScan, monoexp_fs.fit_results_, plot_exps=False)\n",
    "plt.show()"
   ]
  },
  {
   "cell_type": "code",
   "execution_count": null,
   "id": "760581c8",
   "metadata": {
    "scrolled": false
   },
   "outputs": [],
   "source": [
    "plot_deviations(X_train, y_train, monoexp_fs.predict(X_train))\n",
    "plt.show()"
   ]
  },
  {
   "cell_type": "code",
   "execution_count": null,
   "id": "2e79088f",
   "metadata": {},
   "outputs": [],
   "source": [
    "sns.displot(x=y_train - monoexp_fs.predict(X_train), bins=7, kde=True)\n",
    "plt.show()"
   ]
  },
  {
   "cell_type": "code",
   "execution_count": null,
   "id": "b904efd6",
   "metadata": {},
   "outputs": [],
   "source": [
    "sns.displot(x=y_train - monoexp_fs.predict(X_train), bins=5, kde=True)\n",
    "plt.grid()\n",
    "plt.show()"
   ]
  },
  {
   "cell_type": "code",
   "execution_count": null,
   "id": "a644445b",
   "metadata": {},
   "outputs": [],
   "source": [
    "mean_squared_error(y_train, y_train - monoexp_fs.predict(X_train), squared=False)"
   ]
  },
  {
   "cell_type": "markdown",
   "id": "04ab952f",
   "metadata": {},
   "source": [
    "### 3.3. Идентификация мультиэкспоненциальной модели с n_exps=1"
   ]
  },
  {
   "cell_type": "code",
   "execution_count": null,
   "id": "55e28e50",
   "metadata": {},
   "outputs": [],
   "source": [
    "multiexp_fs = SklMultiExpFrequencyScan(n_exps = 1,\n",
    "                                       filling_pulse = filling_pulse,\n",
    "                                       stop_val = 10**-5,\n",
    "                                       learning_rate=0.05,\n",
    "                                      )\n",
    "\n",
    "multiexp_fs.fit(X=X_train, y=y_train)"
   ]
  },
  {
   "cell_type": "code",
   "execution_count": null,
   "id": "69b41a7f",
   "metadata": {},
   "outputs": [],
   "source": [
    "multiexp_fs.fit_results_"
   ]
  },
  {
   "cell_type": "code",
   "execution_count": null,
   "id": "1766013a",
   "metadata": {},
   "outputs": [],
   "source": [
    "fig, ax = plot_model(X_train, y_train, SklMultiExpFrequencyScan, multiexp_fs.fit_results_, plot_exps=False)\n",
    "plt.show()"
   ]
  },
  {
   "cell_type": "code",
   "execution_count": null,
   "id": "5062856f",
   "metadata": {
    "scrolled": false
   },
   "outputs": [],
   "source": [
    "plot_deviations(X_train, y_train, multiexp_fs.predict(X_train))\n",
    "plt.show()"
   ]
  },
  {
   "cell_type": "code",
   "execution_count": null,
   "id": "bdfbb1de",
   "metadata": {},
   "outputs": [],
   "source": [
    "sns.displot(x=y_train - multiexp_fs.predict(X_train), bins=7, kde=True)\n",
    "plt.grid()\n",
    "plt.show()"
   ]
  },
  {
   "cell_type": "code",
   "execution_count": null,
   "id": "6bbf0ad8",
   "metadata": {},
   "outputs": [],
   "source": [
    "sns.displot(x=y_train - multiexp_fs.predict(X_train), bins=5, kde=True)\n",
    "plt.show()"
   ]
  },
  {
   "cell_type": "code",
   "execution_count": null,
   "id": "8f4040cd",
   "metadata": {},
   "outputs": [],
   "source": [
    "scores = cross_val_score(multiexp_fs, X_train, y_train, scoring='neg_mean_squared_error', cv=5, n_jobs=-1)\n",
    "\n",
    "display_scores(np.sqrt(-scores))"
   ]
  },
  {
   "cell_type": "code",
   "execution_count": null,
   "id": "9d0acb76",
   "metadata": {},
   "outputs": [],
   "source": [
    "mean_squared_error(y_train, multiexp_fs.predict(X_train), squared=False)"
   ]
  },
  {
   "cell_type": "markdown",
   "id": "ea21bb92",
   "metadata": {},
   "source": [
    "### 3.4. Идентификация мультиэкспоненциальной модели с n_exps>1"
   ]
  },
  {
   "cell_type": "code",
   "execution_count": null,
   "id": "fe064aab",
   "metadata": {},
   "outputs": [],
   "source": [
    "multiexp_fs = SklMultiExpFrequencyScan(n_exps = 1,\n",
    "                                       filling_pulse = filling_pulse,\n",
    "                                       learning_rate = 0.05,\n",
    "                                       stop_val = 10**-5\n",
    "                                      )"
   ]
  },
  {
   "cell_type": "code",
   "execution_count": null,
   "id": "c6bca197",
   "metadata": {},
   "outputs": [],
   "source": [
    "param_grid = {'n_exps': [1, 2, 3, 4, 5, 6, 7, 8, 9, 10]}\n",
    "grid_search = GridSearchCV(multiexp_fs, param_grid, cv=5, \n",
    "                           scoring='neg_mean_squared_error',\n",
    "                           return_train_score=True, n_jobs=-1)"
   ]
  },
  {
   "cell_type": "code",
   "execution_count": null,
   "id": "22f10988",
   "metadata": {},
   "outputs": [],
   "source": [
    "grid_search.fit(X_train, y_train)"
   ]
  },
  {
   "cell_type": "code",
   "execution_count": null,
   "id": "bc2cc38e",
   "metadata": {},
   "outputs": [],
   "source": [
    "grid_search.best_params_"
   ]
  },
  {
   "cell_type": "code",
   "execution_count": null,
   "id": "d3bb0776",
   "metadata": {},
   "outputs": [],
   "source": [
    "cvres = grid_search.cv_results_\n",
    "for mean_score, params in zip(cvres['mean_test_score'], cvres['params']):\n",
    "    print(np.sqrt(-mean_score), params)"
   ]
  },
  {
   "cell_type": "code",
   "execution_count": null,
   "id": "31f82382",
   "metadata": {},
   "outputs": [],
   "source": [
    "y_pred = grid_search.best_estimator_.predict(X_train)"
   ]
  },
  {
   "cell_type": "code",
   "execution_count": null,
   "id": "814de137",
   "metadata": {
    "scrolled": false
   },
   "outputs": [],
   "source": [
    "fig, ax = plot_model(X_train, y_train, SklMultiExpFrequencyScan, grid_search.best_estimator_.fit_results_)\n",
    "\n",
    "plt.show()"
   ]
  },
  {
   "cell_type": "code",
   "execution_count": null,
   "id": "fa794721",
   "metadata": {
    "scrolled": false
   },
   "outputs": [],
   "source": [
    "grid_search.best_estimator_.fit_results_"
   ]
  },
  {
   "cell_type": "code",
   "execution_count": null,
   "id": "a7c448f4",
   "metadata": {},
   "outputs": [],
   "source": [
    "plot_deviations(X_train, y_train, y_pred)\n",
    "plt.show()"
   ]
  },
  {
   "cell_type": "code",
   "execution_count": null,
   "id": "4016fde8",
   "metadata": {
    "scrolled": false
   },
   "outputs": [],
   "source": [
    "sns.displot(x=y_train - y_pred, bins=7, kde=True)\n",
    "plt.show()"
   ]
  },
  {
   "cell_type": "code",
   "execution_count": null,
   "id": "5645d4c4",
   "metadata": {},
   "outputs": [],
   "source": [
    "sns.displot(x=y_train - y_pred, bins=5, kde=True)\n",
    "plt.show()"
   ]
  },
  {
   "cell_type": "code",
   "execution_count": null,
   "id": "3d3494a3",
   "metadata": {},
   "outputs": [],
   "source": [
    "exps_params_283 = grid_search.best_estimator_.exps_params_\n",
    "exps_params_283[:, 1] = exps_params_283[:, 1] / k"
   ]
  },
  {
   "cell_type": "code",
   "execution_count": null,
   "id": "60f2d663",
   "metadata": {},
   "outputs": [],
   "source": [
    "mean_squared_error(y_train, y_pred, squared=False)"
   ]
  },
  {
   "cell_type": "markdown",
   "id": "0d537cc7",
   "metadata": {},
   "source": [
    "## 4. 1564ЛЕ1№1\\_п1\\_2500Гц-1Гц\\_1пФ\\_-10С\\_-4В-5В\\_10мВ\\_10мкс\\_шаг\\_0,01.csv\n",
    "### 4.1. Подготовка экспериментальных данных"
   ]
  },
  {
   "cell_type": "code",
   "execution_count": null,
   "id": "8375a994",
   "metadata": {},
   "outputs": [],
   "source": [
    "filling_pulse, X_train, y_train = get_X_y(data_frames[2][1])"
   ]
  },
  {
   "cell_type": "code",
   "execution_count": null,
   "id": "613aa533",
   "metadata": {},
   "outputs": [],
   "source": [
    "k, y_train = normalize(X_train, y_train)\n",
    "k"
   ]
  },
  {
   "cell_type": "code",
   "execution_count": null,
   "id": "ad489f8c",
   "metadata": {},
   "outputs": [],
   "source": [
    "fig, ax = plot_experimental_points(X_train, y_train)\n",
    "plt.show()"
   ]
  },
  {
   "cell_type": "markdown",
   "id": "af26e5e6",
   "metadata": {},
   "source": [
    "### 4.2. Идентификация моноэкспоненциальной модели с показателем $p$"
   ]
  },
  {
   "cell_type": "code",
   "execution_count": null,
   "id": "1d1c4000",
   "metadata": {},
   "outputs": [],
   "source": [
    "monoexp_fs = SklSingleExpFrequencyScan(filling_pulse = filling_pulse,\n",
    "                                       learning_rate = 0.05,\n",
    "                                       stop_val = 10**-5,\n",
    "                                       verbose = False\n",
    "                                      )\n",
    "\n",
    "monoexp_fs.fit(X = X_train, y = y_train)\n",
    "monoexp_fs.fit_results_"
   ]
  },
  {
   "cell_type": "code",
   "execution_count": null,
   "id": "e7de2d3d",
   "metadata": {},
   "outputs": [],
   "source": [
    "fig, ax = plot_model(X_train, y_train, SklSingleExpFrequencyScan, monoexp_fs.fit_results_, plot_exps=False)\n",
    "plt.show()"
   ]
  },
  {
   "cell_type": "code",
   "execution_count": null,
   "id": "5a3de0e5",
   "metadata": {},
   "outputs": [],
   "source": [
    "plot_deviations(X_train, y_train, monoexp_fs.predict(X_train))\n",
    "plt.show()"
   ]
  },
  {
   "cell_type": "code",
   "execution_count": null,
   "id": "1bdf4232",
   "metadata": {},
   "outputs": [],
   "source": [
    "sns.displot(x=y_train - monoexp_fs.predict(X_train), bins=7, kde=True)\n",
    "plt.show()"
   ]
  },
  {
   "cell_type": "code",
   "execution_count": null,
   "id": "a3f502d7",
   "metadata": {},
   "outputs": [],
   "source": [
    "mean_squared_error(y_train, y_train - monoexp_fs.predict(X_train), squared=False)"
   ]
  },
  {
   "cell_type": "markdown",
   "id": "a022a739",
   "metadata": {},
   "source": [
    "### 4.3. Идентификация мультиэкспоненциальной модели с n_exps=1"
   ]
  },
  {
   "cell_type": "code",
   "execution_count": null,
   "id": "64fe1054",
   "metadata": {},
   "outputs": [],
   "source": [
    "multiexp_fs = SklMultiExpFrequencyScan(n_exps = 1,\n",
    "                                       filling_pulse = filling_pulse,\n",
    "                                       stop_val = 10**-5,\n",
    "                                       learning_rate=0.05,\n",
    "                                      )\n",
    "\n",
    "multiexp_fs.fit(X=X_train, y=y_train)"
   ]
  },
  {
   "cell_type": "code",
   "execution_count": null,
   "id": "8a070fc2",
   "metadata": {},
   "outputs": [],
   "source": [
    "multiexp_fs.fit_results_"
   ]
  },
  {
   "cell_type": "code",
   "execution_count": null,
   "id": "9bc6df5a",
   "metadata": {},
   "outputs": [],
   "source": [
    "fig, ax = plot_model(X_train, y_train, SklMultiExpFrequencyScan, multiexp_fs.fit_results_, plot_exps=False)\n",
    "plt.show()"
   ]
  },
  {
   "cell_type": "code",
   "execution_count": null,
   "id": "361085c0",
   "metadata": {},
   "outputs": [],
   "source": [
    "plot_deviations(X_train, y_train, multiexp_fs.predict(X_train))\n",
    "plt.show()"
   ]
  },
  {
   "cell_type": "code",
   "execution_count": null,
   "id": "c4483929",
   "metadata": {},
   "outputs": [],
   "source": [
    "sns.displot(x=y_train - multiexp_fs.predict(X_train), bins=7, kde=True)\n",
    "plt.show()"
   ]
  },
  {
   "cell_type": "code",
   "execution_count": null,
   "id": "1912d46d",
   "metadata": {},
   "outputs": [],
   "source": [
    "scores = cross_val_score(multiexp_fs, X_train, y_train, scoring='neg_mean_squared_error', cv=5, n_jobs=-1)\n",
    "display_scores(np.sqrt(-scores))"
   ]
  },
  {
   "cell_type": "code",
   "execution_count": null,
   "id": "ba170d0b",
   "metadata": {},
   "outputs": [],
   "source": [
    "mean_squared_error(y_train, multiexp_fs.predict(X_train), squared=False)"
   ]
  },
  {
   "cell_type": "markdown",
   "id": "f21710d1",
   "metadata": {},
   "source": [
    "### 4.4. Идентификация мультиэкспоненциальной модели с n_exps>1"
   ]
  },
  {
   "cell_type": "code",
   "execution_count": null,
   "id": "861e24c9",
   "metadata": {},
   "outputs": [],
   "source": [
    "multiexp_fs = SklMultiExpFrequencyScan(n_exps = 1,\n",
    "                                       filling_pulse = filling_pulse,\n",
    "                                       learning_rate = 0.05,\n",
    "                                       stop_val = 10**-5\n",
    "                                      )"
   ]
  },
  {
   "cell_type": "code",
   "execution_count": null,
   "id": "bd13665b",
   "metadata": {},
   "outputs": [],
   "source": [
    "param_grid = {'n_exps': [1, 2, 3, 4, 5, 6, 7, 8, 9, 10]}\n",
    "grid_search = GridSearchCV(multiexp_fs, param_grid, cv=5, \n",
    "                           scoring='neg_mean_squared_error',\n",
    "                           return_train_score=True, n_jobs=-1)"
   ]
  },
  {
   "cell_type": "code",
   "execution_count": null,
   "id": "5028f4e6",
   "metadata": {},
   "outputs": [],
   "source": [
    "grid_search.fit(X_train, y_train)"
   ]
  },
  {
   "cell_type": "code",
   "execution_count": null,
   "id": "ff889ad6",
   "metadata": {},
   "outputs": [],
   "source": [
    "grid_search.best_params_"
   ]
  },
  {
   "cell_type": "code",
   "execution_count": null,
   "id": "50616447",
   "metadata": {},
   "outputs": [],
   "source": [
    "cvres = grid_search.cv_results_\n",
    "for mean_score, params in zip(cvres['mean_test_score'], cvres['params']):\n",
    "    print(np.sqrt(-mean_score), params)"
   ]
  },
  {
   "cell_type": "code",
   "execution_count": null,
   "id": "5bef9138",
   "metadata": {},
   "outputs": [],
   "source": [
    "y_pred = grid_search.best_estimator_.predict(X_train)"
   ]
  },
  {
   "cell_type": "code",
   "execution_count": null,
   "id": "19eca557",
   "metadata": {},
   "outputs": [],
   "source": [
    "fig, ax = plot_model(X_train, y_train, SklMultiExpFrequencyScan, grid_search.best_estimator_.fit_results_)\n",
    "plt.show()"
   ]
  },
  {
   "cell_type": "code",
   "execution_count": null,
   "id": "69bcf10b",
   "metadata": {},
   "outputs": [],
   "source": [
    "grid_search.best_estimator_.fit_results_"
   ]
  },
  {
   "cell_type": "code",
   "execution_count": null,
   "id": "15e7c969",
   "metadata": {},
   "outputs": [],
   "source": [
    "plot_deviations(X_train, y_train, y_pred)\n",
    "plt.show()"
   ]
  },
  {
   "cell_type": "code",
   "execution_count": null,
   "id": "8ad73f2c",
   "metadata": {},
   "outputs": [],
   "source": [
    "sns.displot(x=y_train - y_pred, bins=7, kde=True)\n",
    "plt.show()"
   ]
  },
  {
   "cell_type": "code",
   "execution_count": null,
   "id": "038923fe",
   "metadata": {},
   "outputs": [],
   "source": [
    "sns.displot(x=y_train - y_pred, bins=21, kde=True)\n",
    "plt.show()"
   ]
  },
  {
   "cell_type": "code",
   "execution_count": null,
   "id": "317c7149",
   "metadata": {},
   "outputs": [],
   "source": [
    "exps_params_263 = grid_search.best_estimator_.exps_params_\n",
    "exps_params_263[:, 1] = exps_params_303[:, 1] / k"
   ]
  }
 ],
 "metadata": {
  "kernelspec": {
   "display_name": "Python 3 (ipykernel)",
   "language": "python",
   "name": "python3"
  },
  "language_info": {
   "codemirror_mode": {
    "name": "ipython",
    "version": 3
   },
   "file_extension": ".py",
   "mimetype": "text/x-python",
   "name": "python",
   "nbconvert_exporter": "python",
   "pygments_lexer": "ipython3",
   "version": "3.10.6"
  }
 },
 "nbformat": 4,
 "nbformat_minor": 5
}
