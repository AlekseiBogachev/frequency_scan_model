{
 "cells": [
  {
   "cell_type": "markdown",
   "id": "c9f272ab",
   "metadata": {},
   "source": [
    "# Апробация моделей частотных сканов на данных из набора \"1564ЛЕ1 при разных U1 Ur август 2022\""
   ]
  },
  {
   "cell_type": "code",
   "execution_count": 1,
   "id": "0b391223",
   "metadata": {},
   "outputs": [],
   "source": [
    "import os\n",
    "os.environ['CUDA_VISIBLE_DEVICES'] = ''"
   ]
  },
  {
   "cell_type": "markdown",
   "id": "83aae74d",
   "metadata": {},
   "source": [
    "## 0. Импорт модулей"
   ]
  },
  {
   "cell_type": "code",
   "execution_count": 2,
   "id": "9e9b6d93",
   "metadata": {},
   "outputs": [],
   "source": [
    "from os import listdir\n",
    "import matplotlib.pyplot as plt\n",
    "import numpy as np\n",
    "import pandas as pd\n",
    "import seaborn as sns\n",
    "from sklearn.metrics import mean_squared_error\n",
    "from sklearn.model_selection import cross_val_score\n",
    "from sklearn.model_selection import GridSearchCV\n",
    "from sklearn.model_selection import train_test_split\n",
    "\n",
    "from pydlts.fsmodels import SklMultiExpFrequencyScan, SklSingleExpFrequencyScan\n",
    "\n",
    "from pydlts.fsplots import plot_experimental_points\n",
    "from pydlts.fsplots import plot_spectr\n",
    "from pydlts.fsplots import plot_model\n",
    "from pydlts.fsplots import plot_loss_path\n",
    "from pydlts.fsplots import plot_deviations\n",
    "\n",
    "%matplotlib inline"
   ]
  },
  {
   "cell_type": "markdown",
   "id": "c1c0e7dd",
   "metadata": {},
   "source": [
    "## 1. Чтение данных"
   ]
  },
  {
   "cell_type": "code",
   "execution_count": 3,
   "id": "b23a1ac5",
   "metadata": {},
   "outputs": [],
   "source": [
    "DATASETS_PATH = '../datasets/'\n",
    "PLOTS_PATH = '../plots/'\n",
    "MODELS_PATH = '../models/'"
   ]
  },
  {
   "cell_type": "code",
   "execution_count": 4,
   "id": "d12baff2",
   "metadata": {
    "scrolled": true
   },
   "outputs": [],
   "source": [
    "file_names = listdir(DATASETS_PATH)"
   ]
  },
  {
   "cell_type": "markdown",
   "id": "5b82f692",
   "metadata": {},
   "source": [
    "### 1.1. Выберем данные полученные при $U_1 = -4$ В и $U_R = -5$ В\n",
    "Данному критерию соответствуют 3 частотных скана"
   ]
  },
  {
   "cell_type": "code",
   "execution_count": 5,
   "id": "e9ce8d2a",
   "metadata": {},
   "outputs": [],
   "source": [
    "u1 = -4\n",
    "ur = -5\n",
    "\n",
    "data_frames = [[file_name, pd.read_csv(DATASETS_PATH + file_name, parse_dates=[0])] for file_name in file_names]\n",
    "\n",
    "condition = lambda frame: frame.loc[0, 'u1']==u1 and frame.loc[0, 'ur']==ur\n",
    "data_frames = [[name, frame] for [name, frame] in data_frames if condition(frame)]"
   ]
  },
  {
   "cell_type": "code",
   "execution_count": 6,
   "id": "6eea0880",
   "metadata": {},
   "outputs": [
    {
     "data": {
      "text/plain": [
       "3"
      ]
     },
     "execution_count": 6,
     "metadata": {},
     "output_type": "execute_result"
    }
   ],
   "source": [
    "len(data_frames)"
   ]
  },
  {
   "cell_type": "markdown",
   "id": "2120f57b",
   "metadata": {},
   "source": [
    "Отсортируем частотные сканы по температуре в начале сканирования"
   ]
  },
  {
   "cell_type": "code",
   "execution_count": 7,
   "id": "c564be83",
   "metadata": {},
   "outputs": [
    {
     "name": "stdout",
     "output_type": "stream",
     "text": [
      "0. 1564ЛЕ1№1_п1_2500Гц-1Гц_1пФ_-10С_-4В-5В_10мВ_10мкс_шаг_0,01.csv\n",
      "1. 1564ЛЕ1№1_п1_2500Гц-1Гц_1пФ_+10С_-4В-5В_50мВ_10мкс_шаг_0,01.csv\n",
      "2. 1564ЛЕ1№1_п1_2500Гц-1Гц_10пФ_+30С_-4В-5В_50мВ_10мкс_шаг_0,1.csv\n"
     ]
    }
   ],
   "source": [
    "key_func = lambda x: x[1].temperature_k.iloc[0]\n",
    "data_frames.sort(key=key_func)\n",
    "\n",
    "for i, item in enumerate(data_frames):\n",
    "    print(f'{i}.', item[0])"
   ]
  },
  {
   "cell_type": "markdown",
   "id": "72d1ccb3",
   "metadata": {},
   "source": [
    "Ниже приведён фрагмент таблицы с данными для частотного скана при температуре $T = -10^\\circ C$"
   ]
  },
  {
   "cell_type": "code",
   "execution_count": 8,
   "id": "b2d77a55",
   "metadata": {},
   "outputs": [
    {
     "name": "stdout",
     "output_type": "stream",
     "text": [
      "1564ЛЕ1№1_п1_2500Гц-1Гц_1пФ_-10С_-4В-5В_10мВ_10мкс_шаг_0,01.csv\n"
     ]
    },
    {
     "data": {
      "text/html": [
       "<div>\n",
       "<style scoped>\n",
       "    .dataframe tbody tr th:only-of-type {\n",
       "        vertical-align: middle;\n",
       "    }\n",
       "\n",
       "    .dataframe tbody tr th {\n",
       "        vertical-align: top;\n",
       "    }\n",
       "\n",
       "    .dataframe thead th {\n",
       "        text-align: right;\n",
       "    }\n",
       "</style>\n",
       "<table border=\"1\" class=\"dataframe\">\n",
       "  <thead>\n",
       "    <tr style=\"text-align: right;\">\n",
       "      <th></th>\n",
       "      <th>time</th>\n",
       "      <th>frequency_hz</th>\n",
       "      <th>dlts_v</th>\n",
       "      <th>temperature_k</th>\n",
       "      <th>dlts_pf</th>\n",
       "      <th>bs</th>\n",
       "      <th>ls</th>\n",
       "      <th>f_pulse</th>\n",
       "      <th>u1</th>\n",
       "      <th>ur</th>\n",
       "      <th>time_between_meas</th>\n",
       "      <th>integral_time</th>\n",
       "      <th>specimen_name</th>\n",
       "    </tr>\n",
       "  </thead>\n",
       "  <tbody>\n",
       "    <tr>\n",
       "      <th>0</th>\n",
       "      <td>2022-08-02 17:55:01</td>\n",
       "      <td>2500.0000</td>\n",
       "      <td>5.276</td>\n",
       "      <td>262.940</td>\n",
       "      <td>0.000528</td>\n",
       "      <td>1</td>\n",
       "      <td>10</td>\n",
       "      <td>10.0</td>\n",
       "      <td>-4.0</td>\n",
       "      <td>-5.0</td>\n",
       "      <td>3.5</td>\n",
       "      <td>3.0</td>\n",
       "      <td>1564ЛЕ1№1 п1</td>\n",
       "    </tr>\n",
       "    <tr>\n",
       "      <th>1</th>\n",
       "      <td>2022-08-02 17:55:05</td>\n",
       "      <td>2443.0925</td>\n",
       "      <td>5.449</td>\n",
       "      <td>262.941</td>\n",
       "      <td>0.000545</td>\n",
       "      <td>1</td>\n",
       "      <td>10</td>\n",
       "      <td>10.0</td>\n",
       "      <td>-4.0</td>\n",
       "      <td>-5.0</td>\n",
       "      <td>3.5</td>\n",
       "      <td>3.0</td>\n",
       "      <td>1564ЛЕ1№1 п1</td>\n",
       "    </tr>\n",
       "    <tr>\n",
       "      <th>2</th>\n",
       "      <td>2022-08-02 17:55:09</td>\n",
       "      <td>2387.4812</td>\n",
       "      <td>5.855</td>\n",
       "      <td>262.941</td>\n",
       "      <td>0.000585</td>\n",
       "      <td>1</td>\n",
       "      <td>10</td>\n",
       "      <td>10.0</td>\n",
       "      <td>-4.0</td>\n",
       "      <td>-5.0</td>\n",
       "      <td>3.5</td>\n",
       "      <td>3.0</td>\n",
       "      <td>1564ЛЕ1№1 п1</td>\n",
       "    </tr>\n",
       "    <tr>\n",
       "      <th>3</th>\n",
       "      <td>2022-08-02 17:55:13</td>\n",
       "      <td>2333.1355</td>\n",
       "      <td>6.665</td>\n",
       "      <td>262.940</td>\n",
       "      <td>0.000666</td>\n",
       "      <td>1</td>\n",
       "      <td>10</td>\n",
       "      <td>10.0</td>\n",
       "      <td>-4.0</td>\n",
       "      <td>-5.0</td>\n",
       "      <td>3.5</td>\n",
       "      <td>3.0</td>\n",
       "      <td>1564ЛЕ1№1 п1</td>\n",
       "    </tr>\n",
       "    <tr>\n",
       "      <th>4</th>\n",
       "      <td>2022-08-02 17:55:17</td>\n",
       "      <td>2280.0269</td>\n",
       "      <td>6.626</td>\n",
       "      <td>262.936</td>\n",
       "      <td>0.000663</td>\n",
       "      <td>1</td>\n",
       "      <td>10</td>\n",
       "      <td>10.0</td>\n",
       "      <td>-4.0</td>\n",
       "      <td>-5.0</td>\n",
       "      <td>3.5</td>\n",
       "      <td>3.0</td>\n",
       "      <td>1564ЛЕ1№1 п1</td>\n",
       "    </tr>\n",
       "  </tbody>\n",
       "</table>\n",
       "</div>"
      ],
      "text/plain": [
       "                 time  frequency_hz  dlts_v  temperature_k   dlts_pf  bs  ls  \\\n",
       "0 2022-08-02 17:55:01     2500.0000   5.276        262.940  0.000528   1  10   \n",
       "1 2022-08-02 17:55:05     2443.0925   5.449        262.941  0.000545   1  10   \n",
       "2 2022-08-02 17:55:09     2387.4812   5.855        262.941  0.000585   1  10   \n",
       "3 2022-08-02 17:55:13     2333.1355   6.665        262.940  0.000666   1  10   \n",
       "4 2022-08-02 17:55:17     2280.0269   6.626        262.936  0.000663   1  10   \n",
       "\n",
       "   f_pulse   u1   ur  time_between_meas  integral_time specimen_name  \n",
       "0     10.0 -4.0 -5.0                3.5            3.0  1564ЛЕ1№1 п1  \n",
       "1     10.0 -4.0 -5.0                3.5            3.0  1564ЛЕ1№1 п1  \n",
       "2     10.0 -4.0 -5.0                3.5            3.0  1564ЛЕ1№1 п1  \n",
       "3     10.0 -4.0 -5.0                3.5            3.0  1564ЛЕ1№1 п1  \n",
       "4     10.0 -4.0 -5.0                3.5            3.0  1564ЛЕ1№1 п1  "
      ]
     },
     "execution_count": 8,
     "metadata": {},
     "output_type": "execute_result"
    }
   ],
   "source": [
    "print(data_frames[0][0])\n",
    "data_frames[0][1].head()"
   ]
  },
  {
   "cell_type": "markdown",
   "id": "041d4a72",
   "metadata": {},
   "source": [
    "Частотный скан содержит 340 точек. Данные не содержат пропусков."
   ]
  },
  {
   "cell_type": "code",
   "execution_count": 9,
   "id": "0817213e",
   "metadata": {},
   "outputs": [
    {
     "name": "stdout",
     "output_type": "stream",
     "text": [
      "<class 'pandas.core.frame.DataFrame'>\n",
      "RangeIndex: 340 entries, 0 to 339\n",
      "Data columns (total 13 columns):\n",
      " #   Column             Non-Null Count  Dtype         \n",
      "---  ------             --------------  -----         \n",
      " 0   time               340 non-null    datetime64[ns]\n",
      " 1   frequency_hz       340 non-null    float64       \n",
      " 2   dlts_v             340 non-null    float64       \n",
      " 3   temperature_k      340 non-null    float64       \n",
      " 4   dlts_pf            340 non-null    float64       \n",
      " 5   bs                 340 non-null    int64         \n",
      " 6   ls                 340 non-null    int64         \n",
      " 7   f_pulse            340 non-null    float64       \n",
      " 8   u1                 340 non-null    float64       \n",
      " 9   ur                 340 non-null    float64       \n",
      " 10  time_between_meas  340 non-null    float64       \n",
      " 11  integral_time      340 non-null    float64       \n",
      " 12  specimen_name      340 non-null    object        \n",
      "dtypes: datetime64[ns](1), float64(9), int64(2), object(1)\n",
      "memory usage: 34.7+ KB\n"
     ]
    }
   ],
   "source": [
    "data_frames[0][1].info()"
   ]
  },
  {
   "cell_type": "markdown",
   "id": "3a18a202",
   "metadata": {},
   "source": [
    "Ниже приведён фрагмент таблицы с данными для частотного скана при температуре $T = +10^\\circ C$"
   ]
  },
  {
   "cell_type": "code",
   "execution_count": 10,
   "id": "f377626c",
   "metadata": {
    "scrolled": true
   },
   "outputs": [
    {
     "name": "stdout",
     "output_type": "stream",
     "text": [
      "1564ЛЕ1№1_п1_2500Гц-1Гц_1пФ_+10С_-4В-5В_50мВ_10мкс_шаг_0,01.csv\n"
     ]
    },
    {
     "data": {
      "text/html": [
       "<div>\n",
       "<style scoped>\n",
       "    .dataframe tbody tr th:only-of-type {\n",
       "        vertical-align: middle;\n",
       "    }\n",
       "\n",
       "    .dataframe tbody tr th {\n",
       "        vertical-align: top;\n",
       "    }\n",
       "\n",
       "    .dataframe thead th {\n",
       "        text-align: right;\n",
       "    }\n",
       "</style>\n",
       "<table border=\"1\" class=\"dataframe\">\n",
       "  <thead>\n",
       "    <tr style=\"text-align: right;\">\n",
       "      <th></th>\n",
       "      <th>time</th>\n",
       "      <th>frequency_hz</th>\n",
       "      <th>dlts_v</th>\n",
       "      <th>temperature_k</th>\n",
       "      <th>dlts_pf</th>\n",
       "      <th>bs</th>\n",
       "      <th>ls</th>\n",
       "      <th>f_pulse</th>\n",
       "      <th>u1</th>\n",
       "      <th>ur</th>\n",
       "      <th>time_between_meas</th>\n",
       "      <th>integral_time</th>\n",
       "      <th>specimen_name</th>\n",
       "    </tr>\n",
       "  </thead>\n",
       "  <tbody>\n",
       "    <tr>\n",
       "      <th>0</th>\n",
       "      <td>2022-08-04 15:21:09</td>\n",
       "      <td>2500.0000</td>\n",
       "      <td>3.122</td>\n",
       "      <td>283.194</td>\n",
       "      <td>0.001561</td>\n",
       "      <td>1</td>\n",
       "      <td>50</td>\n",
       "      <td>10.0</td>\n",
       "      <td>-4.0</td>\n",
       "      <td>-5.0</td>\n",
       "      <td>3.5</td>\n",
       "      <td>3.0</td>\n",
       "      <td>1564ЛЕ1№1 п1</td>\n",
       "    </tr>\n",
       "    <tr>\n",
       "      <th>1</th>\n",
       "      <td>2022-08-04 15:21:13</td>\n",
       "      <td>2443.0925</td>\n",
       "      <td>3.187</td>\n",
       "      <td>283.187</td>\n",
       "      <td>0.001593</td>\n",
       "      <td>1</td>\n",
       "      <td>50</td>\n",
       "      <td>10.0</td>\n",
       "      <td>-4.0</td>\n",
       "      <td>-5.0</td>\n",
       "      <td>3.5</td>\n",
       "      <td>3.0</td>\n",
       "      <td>1564ЛЕ1№1 п1</td>\n",
       "    </tr>\n",
       "    <tr>\n",
       "      <th>2</th>\n",
       "      <td>2022-08-04 15:21:17</td>\n",
       "      <td>2387.4812</td>\n",
       "      <td>3.201</td>\n",
       "      <td>283.191</td>\n",
       "      <td>0.001600</td>\n",
       "      <td>1</td>\n",
       "      <td>50</td>\n",
       "      <td>10.0</td>\n",
       "      <td>-4.0</td>\n",
       "      <td>-5.0</td>\n",
       "      <td>3.5</td>\n",
       "      <td>3.0</td>\n",
       "      <td>1564ЛЕ1№1 п1</td>\n",
       "    </tr>\n",
       "    <tr>\n",
       "      <th>3</th>\n",
       "      <td>2022-08-04 15:21:21</td>\n",
       "      <td>2333.1355</td>\n",
       "      <td>3.259</td>\n",
       "      <td>283.206</td>\n",
       "      <td>0.001629</td>\n",
       "      <td>1</td>\n",
       "      <td>50</td>\n",
       "      <td>10.0</td>\n",
       "      <td>-4.0</td>\n",
       "      <td>-5.0</td>\n",
       "      <td>3.5</td>\n",
       "      <td>3.0</td>\n",
       "      <td>1564ЛЕ1№1 п1</td>\n",
       "    </tr>\n",
       "    <tr>\n",
       "      <th>4</th>\n",
       "      <td>2022-08-04 15:21:25</td>\n",
       "      <td>2280.0269</td>\n",
       "      <td>3.271</td>\n",
       "      <td>283.199</td>\n",
       "      <td>0.001636</td>\n",
       "      <td>1</td>\n",
       "      <td>50</td>\n",
       "      <td>10.0</td>\n",
       "      <td>-4.0</td>\n",
       "      <td>-5.0</td>\n",
       "      <td>3.5</td>\n",
       "      <td>3.0</td>\n",
       "      <td>1564ЛЕ1№1 п1</td>\n",
       "    </tr>\n",
       "  </tbody>\n",
       "</table>\n",
       "</div>"
      ],
      "text/plain": [
       "                 time  frequency_hz  dlts_v  temperature_k   dlts_pf  bs  ls  \\\n",
       "0 2022-08-04 15:21:09     2500.0000   3.122        283.194  0.001561   1  50   \n",
       "1 2022-08-04 15:21:13     2443.0925   3.187        283.187  0.001593   1  50   \n",
       "2 2022-08-04 15:21:17     2387.4812   3.201        283.191  0.001600   1  50   \n",
       "3 2022-08-04 15:21:21     2333.1355   3.259        283.206  0.001629   1  50   \n",
       "4 2022-08-04 15:21:25     2280.0269   3.271        283.199  0.001636   1  50   \n",
       "\n",
       "   f_pulse   u1   ur  time_between_meas  integral_time specimen_name  \n",
       "0     10.0 -4.0 -5.0                3.5            3.0  1564ЛЕ1№1 п1  \n",
       "1     10.0 -4.0 -5.0                3.5            3.0  1564ЛЕ1№1 п1  \n",
       "2     10.0 -4.0 -5.0                3.5            3.0  1564ЛЕ1№1 п1  \n",
       "3     10.0 -4.0 -5.0                3.5            3.0  1564ЛЕ1№1 п1  \n",
       "4     10.0 -4.0 -5.0                3.5            3.0  1564ЛЕ1№1 п1  "
      ]
     },
     "execution_count": 10,
     "metadata": {},
     "output_type": "execute_result"
    }
   ],
   "source": [
    "print(data_frames[1][0])\n",
    "data_frames[1][1].head()"
   ]
  },
  {
   "cell_type": "markdown",
   "id": "c9376b34",
   "metadata": {},
   "source": [
    "Частотный скан содержит 340 точек. Данные не содержат пропусков."
   ]
  },
  {
   "cell_type": "code",
   "execution_count": 11,
   "id": "6a78c56a",
   "metadata": {},
   "outputs": [
    {
     "name": "stdout",
     "output_type": "stream",
     "text": [
      "<class 'pandas.core.frame.DataFrame'>\n",
      "RangeIndex: 340 entries, 0 to 339\n",
      "Data columns (total 13 columns):\n",
      " #   Column             Non-Null Count  Dtype         \n",
      "---  ------             --------------  -----         \n",
      " 0   time               340 non-null    datetime64[ns]\n",
      " 1   frequency_hz       340 non-null    float64       \n",
      " 2   dlts_v             340 non-null    float64       \n",
      " 3   temperature_k      340 non-null    float64       \n",
      " 4   dlts_pf            340 non-null    float64       \n",
      " 5   bs                 340 non-null    int64         \n",
      " 6   ls                 340 non-null    int64         \n",
      " 7   f_pulse            340 non-null    float64       \n",
      " 8   u1                 340 non-null    float64       \n",
      " 9   ur                 340 non-null    float64       \n",
      " 10  time_between_meas  340 non-null    float64       \n",
      " 11  integral_time      340 non-null    float64       \n",
      " 12  specimen_name      340 non-null    object        \n",
      "dtypes: datetime64[ns](1), float64(9), int64(2), object(1)\n",
      "memory usage: 34.7+ KB\n"
     ]
    }
   ],
   "source": [
    "data_frames[1][1].info()"
   ]
  },
  {
   "cell_type": "markdown",
   "id": "71482a49",
   "metadata": {},
   "source": [
    "Ниже приведён фрагмент таблицы с данными для частотного скана при температуре $T = +30^\\circ C$"
   ]
  },
  {
   "cell_type": "code",
   "execution_count": 12,
   "id": "cb0fcffa",
   "metadata": {
    "scrolled": true
   },
   "outputs": [
    {
     "name": "stdout",
     "output_type": "stream",
     "text": [
      "1564ЛЕ1№1_п1_2500Гц-1Гц_10пФ_+30С_-4В-5В_50мВ_10мкс_шаг_0,1.csv\n"
     ]
    },
    {
     "data": {
      "text/html": [
       "<div>\n",
       "<style scoped>\n",
       "    .dataframe tbody tr th:only-of-type {\n",
       "        vertical-align: middle;\n",
       "    }\n",
       "\n",
       "    .dataframe tbody tr th {\n",
       "        vertical-align: top;\n",
       "    }\n",
       "\n",
       "    .dataframe thead th {\n",
       "        text-align: right;\n",
       "    }\n",
       "</style>\n",
       "<table border=\"1\" class=\"dataframe\">\n",
       "  <thead>\n",
       "    <tr style=\"text-align: right;\">\n",
       "      <th></th>\n",
       "      <th>time</th>\n",
       "      <th>frequency_hz</th>\n",
       "      <th>dlts_v</th>\n",
       "      <th>temperature_k</th>\n",
       "      <th>dlts_pf</th>\n",
       "      <th>bs</th>\n",
       "      <th>ls</th>\n",
       "      <th>f_pulse</th>\n",
       "      <th>u1</th>\n",
       "      <th>ur</th>\n",
       "      <th>time_between_meas</th>\n",
       "      <th>integral_time</th>\n",
       "      <th>specimen_name</th>\n",
       "    </tr>\n",
       "  </thead>\n",
       "  <tbody>\n",
       "    <tr>\n",
       "      <th>0</th>\n",
       "      <td>2022-08-03 14:34:48</td>\n",
       "      <td>2500.0000</td>\n",
       "      <td>1.456</td>\n",
       "      <td>303.264</td>\n",
       "      <td>0.007280</td>\n",
       "      <td>10</td>\n",
       "      <td>50</td>\n",
       "      <td>10.0</td>\n",
       "      <td>-4.0</td>\n",
       "      <td>-5.0</td>\n",
       "      <td>3.5</td>\n",
       "      <td>3.0</td>\n",
       "      <td>1564ЛЕ1№1 п1</td>\n",
       "    </tr>\n",
       "    <tr>\n",
       "      <th>1</th>\n",
       "      <td>2022-08-03 14:34:52</td>\n",
       "      <td>1985.8207</td>\n",
       "      <td>1.526</td>\n",
       "      <td>303.276</td>\n",
       "      <td>0.007630</td>\n",
       "      <td>10</td>\n",
       "      <td>50</td>\n",
       "      <td>10.0</td>\n",
       "      <td>-4.0</td>\n",
       "      <td>-5.0</td>\n",
       "      <td>3.5</td>\n",
       "      <td>3.0</td>\n",
       "      <td>1564ЛЕ1№1 п1</td>\n",
       "    </tr>\n",
       "    <tr>\n",
       "      <th>2</th>\n",
       "      <td>2022-08-03 14:34:56</td>\n",
       "      <td>1577.3937</td>\n",
       "      <td>1.649</td>\n",
       "      <td>303.279</td>\n",
       "      <td>0.008245</td>\n",
       "      <td>10</td>\n",
       "      <td>50</td>\n",
       "      <td>10.0</td>\n",
       "      <td>-4.0</td>\n",
       "      <td>-5.0</td>\n",
       "      <td>3.5</td>\n",
       "      <td>3.0</td>\n",
       "      <td>1564ЛЕ1№1 п1</td>\n",
       "    </tr>\n",
       "    <tr>\n",
       "      <th>3</th>\n",
       "      <td>2022-08-03 14:35:00</td>\n",
       "      <td>1252.9686</td>\n",
       "      <td>1.755</td>\n",
       "      <td>303.281</td>\n",
       "      <td>0.008775</td>\n",
       "      <td>10</td>\n",
       "      <td>50</td>\n",
       "      <td>10.0</td>\n",
       "      <td>-4.0</td>\n",
       "      <td>-5.0</td>\n",
       "      <td>3.5</td>\n",
       "      <td>3.0</td>\n",
       "      <td>1564ЛЕ1№1 п1</td>\n",
       "    </tr>\n",
       "    <tr>\n",
       "      <th>4</th>\n",
       "      <td>2022-08-03 14:35:03</td>\n",
       "      <td>995.2686</td>\n",
       "      <td>1.907</td>\n",
       "      <td>303.281</td>\n",
       "      <td>0.009535</td>\n",
       "      <td>10</td>\n",
       "      <td>50</td>\n",
       "      <td>10.0</td>\n",
       "      <td>-4.0</td>\n",
       "      <td>-5.0</td>\n",
       "      <td>3.5</td>\n",
       "      <td>3.0</td>\n",
       "      <td>1564ЛЕ1№1 п1</td>\n",
       "    </tr>\n",
       "  </tbody>\n",
       "</table>\n",
       "</div>"
      ],
      "text/plain": [
       "                 time  frequency_hz  dlts_v  temperature_k   dlts_pf  bs  ls  \\\n",
       "0 2022-08-03 14:34:48     2500.0000   1.456        303.264  0.007280  10  50   \n",
       "1 2022-08-03 14:34:52     1985.8207   1.526        303.276  0.007630  10  50   \n",
       "2 2022-08-03 14:34:56     1577.3937   1.649        303.279  0.008245  10  50   \n",
       "3 2022-08-03 14:35:00     1252.9686   1.755        303.281  0.008775  10  50   \n",
       "4 2022-08-03 14:35:03      995.2686   1.907        303.281  0.009535  10  50   \n",
       "\n",
       "   f_pulse   u1   ur  time_between_meas  integral_time specimen_name  \n",
       "0     10.0 -4.0 -5.0                3.5            3.0  1564ЛЕ1№1 п1  \n",
       "1     10.0 -4.0 -5.0                3.5            3.0  1564ЛЕ1№1 п1  \n",
       "2     10.0 -4.0 -5.0                3.5            3.0  1564ЛЕ1№1 п1  \n",
       "3     10.0 -4.0 -5.0                3.5            3.0  1564ЛЕ1№1 п1  \n",
       "4     10.0 -4.0 -5.0                3.5            3.0  1564ЛЕ1№1 п1  "
      ]
     },
     "execution_count": 12,
     "metadata": {},
     "output_type": "execute_result"
    }
   ],
   "source": [
    "print(data_frames[2][0])\n",
    "data_frames[2][1].head()"
   ]
  },
  {
   "cell_type": "markdown",
   "id": "71a817af",
   "metadata": {},
   "source": [
    "Частотный скан содержит 34 точки. Данные не содержат пропусков."
   ]
  },
  {
   "cell_type": "code",
   "execution_count": 13,
   "id": "6fc258f4",
   "metadata": {},
   "outputs": [
    {
     "name": "stdout",
     "output_type": "stream",
     "text": [
      "<class 'pandas.core.frame.DataFrame'>\n",
      "RangeIndex: 34 entries, 0 to 33\n",
      "Data columns (total 13 columns):\n",
      " #   Column             Non-Null Count  Dtype         \n",
      "---  ------             --------------  -----         \n",
      " 0   time               34 non-null     datetime64[ns]\n",
      " 1   frequency_hz       34 non-null     float64       \n",
      " 2   dlts_v             34 non-null     float64       \n",
      " 3   temperature_k      34 non-null     float64       \n",
      " 4   dlts_pf            34 non-null     float64       \n",
      " 5   bs                 34 non-null     int64         \n",
      " 6   ls                 34 non-null     int64         \n",
      " 7   f_pulse            34 non-null     float64       \n",
      " 8   u1                 34 non-null     float64       \n",
      " 9   ur                 34 non-null     float64       \n",
      " 10  time_between_meas  34 non-null     float64       \n",
      " 11  integral_time      34 non-null     float64       \n",
      " 12  specimen_name      34 non-null     object        \n",
      "dtypes: datetime64[ns](1), float64(9), int64(2), object(1)\n",
      "memory usage: 3.6+ KB\n"
     ]
    }
   ],
   "source": [
    "data_frames[2][1].info()"
   ]
  },
  {
   "cell_type": "markdown",
   "id": "e9cc82f9",
   "metadata": {},
   "source": [
    "## 2. 1564ЛЕ1№1\\_п1\\_2500Гц-1Гц\\_10пФ\\_-10С\\_-4В-5В\\_50мВ\\_10мкс\\_шаг\\_0,1.csv\n",
    "### 2.1. Подготовка экспериментальных данных"
   ]
  },
  {
   "cell_type": "markdown",
   "id": "848f787b",
   "metadata": {},
   "source": [
    "Чтение данных"
   ]
  },
  {
   "cell_type": "code",
   "execution_count": 14,
   "id": "c3cff142",
   "metadata": {},
   "outputs": [
    {
     "name": "stdout",
     "output_type": "stream",
     "text": [
      "1564ЛЕ1№1_п1_2500Гц-1Гц_1пФ_-10С_-4В-5В_10мВ_10мкс_шаг_0,01.csv\n"
     ]
    }
   ],
   "source": [
    "print(data_frames[0][0])"
   ]
  },
  {
   "cell_type": "code",
   "execution_count": 15,
   "id": "afbc1c0d",
   "metadata": {},
   "outputs": [],
   "source": [
    "def get_X_y(dataset):\n",
    "    filling_pulse = dataset.f_pulse[0] * 10 ** -6\n",
    "    \n",
    "    X = np.log10(dataset.frequency_hz.to_numpy())\n",
    "    y = dataset.dlts_pf.to_numpy()\n",
    "    \n",
    "    X_train, X_test, y_train, y_test = train_test_split(X, y, test_size=0.2, shuffle=True)\n",
    "    \n",
    "    return filling_pulse, X_train, y_train, X_test, y_test"
   ]
  },
  {
   "cell_type": "code",
   "execution_count": 16,
   "id": "1e6b1eae",
   "metadata": {},
   "outputs": [],
   "source": [
    "filling_pulse, X_train, y_train, X_test, y_test = get_X_y(data_frames[0][1])"
   ]
  },
  {
   "cell_type": "markdown",
   "id": "ee9d8022",
   "metadata": {},
   "source": [
    "Нормализация данных"
   ]
  },
  {
   "cell_type": "code",
   "execution_count": 17,
   "id": "22533bf2",
   "metadata": {
    "scrolled": false
   },
   "outputs": [
    {
     "data": {
      "image/png": "[encoded data removed]",
      "text/plain": [
       "<Figure size 640x480 with 1 Axes>"
      ]
     },
     "metadata": {},
     "output_type": "display_data"
    }
   ],
   "source": [
    "fig, ax = plot_experimental_points(X_train, y_train)\n",
    "ax.set_xlim([0, 3.5])\n",
    "ax.set_ylabel('Сигнал DLTS, пФ')\n",
    "plt.show()"
   ]
  },
  {
   "cell_type": "code",
   "execution_count": 18,
   "id": "5f80a412",
   "metadata": {},
   "outputs": [
    {
     "data": {
      "image/png": "[encoded data removed]",
      "text/plain": [
       "<Figure size 640x480 with 1 Axes>"
      ]
     },
     "metadata": {},
     "output_type": "display_data"
    }
   ],
   "source": [
    "fig, ax = plot_experimental_points(X_test, y_test)\n",
    "ax.set_xlim([0, 3.5])\n",
    "ax.set_ylabel('Сигнал DLTS, пФ')\n",
    "plt.show()"
   ]
  },
  {
   "cell_type": "code",
   "execution_count": 19,
   "id": "ed0edffc",
   "metadata": {},
   "outputs": [],
   "source": [
    "def normalize(X, y):  \n",
    "    k = X.max() / np.abs(y).max()\n",
    "    return k, y * k\n",
    "\n",
    "\n",
    "denormalize = lambda y_normalized, k: y_normalized / k"
   ]
  },
  {
   "cell_type": "code",
   "execution_count": 20,
   "id": "35aa85fd",
   "metadata": {},
   "outputs": [
    {
     "name": "stdout",
     "output_type": "stream",
     "text": [
      "Нормализующий коэффицет: 3548.762411146102\n"
     ]
    }
   ],
   "source": [
    "k, y_train = normalize(X_train, y_train)\n",
    "y_test = y_test * k\n",
    "print(f'Нормализующий коэффицет: {k}')"
   ]
  },
  {
   "cell_type": "markdown",
   "id": "367d001c",
   "metadata": {},
   "source": [
    "### 2.2. Идентификация моноэкспоненциальной модели с показателем $p$\n",
    "Идентификация модели:"
   ]
  },
  {
   "cell_type": "code",
   "execution_count": 21,
   "id": "fc330692",
   "metadata": {},
   "outputs": [
    {
     "name": "stderr",
     "output_type": "stream",
     "text": [
      "2022-10-07 09:42:11.690233: E tensorflow/stream_executor/cuda/cuda_driver.cc:271] failed call to cuInit: CUDA_ERROR_NO_DEVICE: no CUDA-capable device is detected\n",
      "2022-10-07 09:42:11.690257: I tensorflow/stream_executor/cuda/cuda_diagnostics.cc:169] retrieving CUDA diagnostic information for host: aleksei-MS-7C80\n",
      "2022-10-07 09:42:11.690261: I tensorflow/stream_executor/cuda/cuda_diagnostics.cc:176] hostname: aleksei-MS-7C80\n",
      "2022-10-07 09:42:11.690337: I tensorflow/stream_executor/cuda/cuda_diagnostics.cc:200] libcuda reported version is: 515.65.1\n",
      "2022-10-07 09:42:11.690351: I tensorflow/stream_executor/cuda/cuda_diagnostics.cc:204] kernel reported version is: 515.65.1\n",
      "2022-10-07 09:42:11.690355: I tensorflow/stream_executor/cuda/cuda_diagnostics.cc:310] kernel version seems to match DSO: 515.65.1\n",
      "2022-10-07 09:42:11.690896: I tensorflow/core/platform/cpu_feature_guard.cc:193] This TensorFlow binary is optimized with oneAPI Deep Neural Network Library (oneDNN) to use the following CPU instructions in performance-critical operations:  SSE4.1 SSE4.2 AVX AVX2 FMA\n",
      "To enable them in other operations, rebuild TensorFlow with the appropriate compiler flags.\n"
     ]
    },
    {
     "data": {
      "text/html": [
       "<style>#sk-container-id-1 {color: black;background-color: white;}#sk-container-id-1 pre{padding: 0;}#sk-container-id-1 div.sk-toggleable {background-color: white;}#sk-container-id-1 label.sk-toggleable__label {cursor: pointer;display: block;width: 100%;margin-bottom: 0;padding: 0.3em;box-sizing: border-box;text-align: center;}#sk-container-id-1 label.sk-toggleable__label-arrow:before {content: \"▸\";float: left;margin-right: 0.25em;color: #696969;}#sk-container-id-1 label.sk-toggleable__label-arrow:hover:before {color: black;}#sk-container-id-1 div.sk-estimator:hover label.sk-toggleable__label-arrow:before {color: black;}#sk-container-id-1 div.sk-toggleable__content {max-height: 0;max-width: 0;overflow: hidden;text-align: left;background-color: #f0f8ff;}#sk-container-id-1 div.sk-toggleable__content pre {margin: 0.2em;color: black;border-radius: 0.25em;background-color: #f0f8ff;}#sk-container-id-1 input.sk-toggleable__control:checked~div.sk-toggleable__content {max-height: 200px;max-width: 100%;overflow: auto;}#sk-container-id-1 input.sk-toggleable__control:checked~label.sk-toggleable__label-arrow:before {content: \"▾\";}#sk-container-id-1 div.sk-estimator input.sk-toggleable__control:checked~label.sk-toggleable__label {background-color: #d4ebff;}#sk-container-id-1 div.sk-label input.sk-toggleable__control:checked~label.sk-toggleable__label {background-color: #d4ebff;}#sk-container-id-1 input.sk-hidden--visually {border: 0;clip: rect(1px 1px 1px 1px);clip: rect(1px, 1px, 1px, 1px);height: 1px;margin: -1px;overflow: hidden;padding: 0;position: absolute;width: 1px;}#sk-container-id-1 div.sk-estimator {font-family: monospace;background-color: #f0f8ff;border: 1px dotted black;border-radius: 0.25em;box-sizing: border-box;margin-bottom: 0.5em;}#sk-container-id-1 div.sk-estimator:hover {background-color: #d4ebff;}#sk-container-id-1 div.sk-parallel-item::after {content: \"\";width: 100%;border-bottom: 1px solid gray;flex-grow: 1;}#sk-container-id-1 div.sk-label:hover label.sk-toggleable__label {background-color: #d4ebff;}#sk-container-id-1 div.sk-serial::before {content: \"\";position: absolute;border-left: 1px solid gray;box-sizing: border-box;top: 0;bottom: 0;left: 50%;z-index: 0;}#sk-container-id-1 div.sk-serial {display: flex;flex-direction: column;align-items: center;background-color: white;padding-right: 0.2em;padding-left: 0.2em;position: relative;}#sk-container-id-1 div.sk-item {position: relative;z-index: 1;}#sk-container-id-1 div.sk-parallel {display: flex;align-items: stretch;justify-content: center;background-color: white;position: relative;}#sk-container-id-1 div.sk-item::before, #sk-container-id-1 div.sk-parallel-item::before {content: \"\";position: absolute;border-left: 1px solid gray;box-sizing: border-box;top: 0;bottom: 0;left: 50%;z-index: -1;}#sk-container-id-1 div.sk-parallel-item {display: flex;flex-direction: column;z-index: 1;position: relative;background-color: white;}#sk-container-id-1 div.sk-parallel-item:first-child::after {align-self: flex-end;width: 50%;}#sk-container-id-1 div.sk-parallel-item:last-child::after {align-self: flex-start;width: 50%;}#sk-container-id-1 div.sk-parallel-item:only-child::after {width: 0;}#sk-container-id-1 div.sk-dashed-wrapped {border: 1px dashed gray;margin: 0 0.4em 0.5em 0.4em;box-sizing: border-box;padding-bottom: 0.4em;background-color: white;}#sk-container-id-1 div.sk-label label {font-family: monospace;font-weight: bold;display: inline-block;line-height: 1.2em;}#sk-container-id-1 div.sk-label-container {text-align: center;}#sk-container-id-1 div.sk-container {/* jupyter's `normalize.less` sets `[hidden] { display: none; }` but bootstrap.min.css set `[hidden] { display: none !important; }` so we also need the `!important` here to be able to override the default hidden behavior on the sphinx rendered scikit-learn.org. See: https://github.com/scikit-learn/scikit-learn/issues/21755 */display: inline-block !important;position: relative;}#sk-container-id-1 div.sk-text-repr-fallback {display: none;}</style><div id=\"sk-container-id-1\" class=\"sk-top-container\"><div class=\"sk-text-repr-fallback\"><pre>SklSingleExpFrequencyScan(filling_pulse=9.999999999999999e-06,\n",
       "                          learning_rate=0.05, stop_val=1e-05)</pre><b>In a Jupyter environment, please rerun this cell to show the HTML representation or trust the notebook. <br />On GitHub, the HTML representation is unable to render, please try loading this page with nbviewer.org.</b></div><div class=\"sk-container\" hidden><div class=\"sk-item\"><div class=\"sk-estimator sk-toggleable\"><input class=\"sk-toggleable__control sk-hidden--visually\" id=\"sk-estimator-id-1\" type=\"checkbox\" checked><label for=\"sk-estimator-id-1\" class=\"sk-toggleable__label sk-toggleable__label-arrow\">SklSingleExpFrequencyScan</label><div class=\"sk-toggleable__content\"><pre>SklSingleExpFrequencyScan(filling_pulse=9.999999999999999e-06,\n",
       "                          learning_rate=0.05, stop_val=1e-05)</pre></div></div></div></div></div>"
      ],
      "text/plain": [
       "SklSingleExpFrequencyScan(filling_pulse=9.999999999999999e-06,\n",
       "                          learning_rate=0.05, stop_val=1e-05)"
      ]
     },
     "execution_count": 21,
     "metadata": {},
     "output_type": "execute_result"
    }
   ],
   "source": [
    "monoexp_fs = SklSingleExpFrequencyScan(filling_pulse = filling_pulse,\n",
    "                                       learning_rate = 0.05,\n",
    "                                       stop_val = 10**-5,\n",
    "                                       verbose = False\n",
    "                                      )\n",
    "\n",
    "monoexp_fs.fit(X = X_train, y = y_train, initial_exps_params_=[[-3.0, 0.5]])"
   ]
  },
  {
   "cell_type": "markdown",
   "id": "86bed0b4",
   "metadata": {},
   "source": [
    "Приведение результатов к изначальному масштабу"
   ]
  },
  {
   "cell_type": "code",
   "execution_count": 22,
   "id": "202c95b1",
   "metadata": {
    "scrolled": false
   },
   "outputs": [],
   "source": [
    "# exps_params_ = monoexp_fs.exps_params_\n",
    "# exps_params_[0, 1] = denormalize(exps_params_[0, 1], k)\n",
    "# monoexp_fs.exps_params_ = exps_params_\n",
    "\n",
    "fit_results_ = monoexp_fs.fit_results_.copy()\n",
    "# fit_results_.amplitude_0 = denormalize(fit_results_.amplitude_0, k) \n",
    "\n",
    "# y_train = denormalize(y_train, k)"
   ]
  },
  {
   "cell_type": "markdown",
   "id": "1f01aa6c",
   "metadata": {},
   "source": [
    "Вывод табличных результатов идентификации"
   ]
  },
  {
   "cell_type": "code",
   "execution_count": 23,
   "id": "82fe16a3",
   "metadata": {},
   "outputs": [
    {
     "data": {
      "text/html": [
       "<div>\n",
       "<style scoped>\n",
       "    .dataframe tbody tr th:only-of-type {\n",
       "        vertical-align: middle;\n",
       "    }\n",
       "\n",
       "    .dataframe tbody tr th {\n",
       "        vertical-align: top;\n",
       "    }\n",
       "\n",
       "    .dataframe thead th {\n",
       "        text-align: right;\n",
       "    }\n",
       "</style>\n",
       "<table border=\"1\" class=\"dataframe\">\n",
       "  <thead>\n",
       "    <tr style=\"text-align: right;\">\n",
       "      <th></th>\n",
       "      <th>amplitude_0</th>\n",
       "      <th>filling_pulse</th>\n",
       "      <th>fit_p_coef</th>\n",
       "      <th>learning_rate</th>\n",
       "      <th>loss</th>\n",
       "      <th>n_exps</th>\n",
       "      <th>n_iters</th>\n",
       "      <th>p_coef</th>\n",
       "      <th>stop_val</th>\n",
       "      <th>time_constant_pow_0</th>\n",
       "      <th>verbose</th>\n",
       "    </tr>\n",
       "  </thead>\n",
       "  <tbody>\n",
       "    <tr>\n",
       "      <th>243</th>\n",
       "      <td>1.877678</td>\n",
       "      <td>0.00001</td>\n",
       "      <td>True</td>\n",
       "      <td>0.05</td>\n",
       "      <td>1.017186</td>\n",
       "      <td>1</td>\n",
       "      <td>1000</td>\n",
       "      <td>0.829827</td>\n",
       "      <td>0.00001</td>\n",
       "      <td>-3.529540</td>\n",
       "      <td>False</td>\n",
       "    </tr>\n",
       "    <tr>\n",
       "      <th>244</th>\n",
       "      <td>1.878243</td>\n",
       "      <td>0.00001</td>\n",
       "      <td>True</td>\n",
       "      <td>0.05</td>\n",
       "      <td>1.017175</td>\n",
       "      <td>1</td>\n",
       "      <td>1000</td>\n",
       "      <td>0.829439</td>\n",
       "      <td>0.00001</td>\n",
       "      <td>-3.529828</td>\n",
       "      <td>False</td>\n",
       "    </tr>\n",
       "    <tr>\n",
       "      <th>245</th>\n",
       "      <td>1.878800</td>\n",
       "      <td>0.00001</td>\n",
       "      <td>True</td>\n",
       "      <td>0.05</td>\n",
       "      <td>1.017164</td>\n",
       "      <td>1</td>\n",
       "      <td>1000</td>\n",
       "      <td>0.829051</td>\n",
       "      <td>0.00001</td>\n",
       "      <td>-3.530114</td>\n",
       "      <td>False</td>\n",
       "    </tr>\n",
       "    <tr>\n",
       "      <th>246</th>\n",
       "      <td>1.879351</td>\n",
       "      <td>0.00001</td>\n",
       "      <td>True</td>\n",
       "      <td>0.05</td>\n",
       "      <td>1.017153</td>\n",
       "      <td>1</td>\n",
       "      <td>1000</td>\n",
       "      <td>0.828664</td>\n",
       "      <td>0.00001</td>\n",
       "      <td>-3.530398</td>\n",
       "      <td>False</td>\n",
       "    </tr>\n",
       "    <tr>\n",
       "      <th>247</th>\n",
       "      <td>1.879896</td>\n",
       "      <td>0.00001</td>\n",
       "      <td>True</td>\n",
       "      <td>0.05</td>\n",
       "      <td>1.017142</td>\n",
       "      <td>1</td>\n",
       "      <td>1000</td>\n",
       "      <td>0.828277</td>\n",
       "      <td>0.00001</td>\n",
       "      <td>-3.530680</td>\n",
       "      <td>False</td>\n",
       "    </tr>\n",
       "    <tr>\n",
       "      <th>248</th>\n",
       "      <td>1.880434</td>\n",
       "      <td>0.00001</td>\n",
       "      <td>True</td>\n",
       "      <td>0.05</td>\n",
       "      <td>1.017132</td>\n",
       "      <td>1</td>\n",
       "      <td>1000</td>\n",
       "      <td>0.827891</td>\n",
       "      <td>0.00001</td>\n",
       "      <td>-3.530960</td>\n",
       "      <td>False</td>\n",
       "    </tr>\n",
       "    <tr>\n",
       "      <th>249</th>\n",
       "      <td>1.880966</td>\n",
       "      <td>0.00001</td>\n",
       "      <td>True</td>\n",
       "      <td>0.05</td>\n",
       "      <td>1.017122</td>\n",
       "      <td>1</td>\n",
       "      <td>1000</td>\n",
       "      <td>0.827505</td>\n",
       "      <td>0.00001</td>\n",
       "      <td>-3.531239</td>\n",
       "      <td>False</td>\n",
       "    </tr>\n",
       "    <tr>\n",
       "      <th>250</th>\n",
       "      <td>1.881492</td>\n",
       "      <td>0.00001</td>\n",
       "      <td>True</td>\n",
       "      <td>0.05</td>\n",
       "      <td>1.017111</td>\n",
       "      <td>1</td>\n",
       "      <td>1000</td>\n",
       "      <td>0.827120</td>\n",
       "      <td>0.00001</td>\n",
       "      <td>-3.531516</td>\n",
       "      <td>False</td>\n",
       "    </tr>\n",
       "    <tr>\n",
       "      <th>251</th>\n",
       "      <td>1.882012</td>\n",
       "      <td>0.00001</td>\n",
       "      <td>True</td>\n",
       "      <td>0.05</td>\n",
       "      <td>1.017101</td>\n",
       "      <td>1</td>\n",
       "      <td>1000</td>\n",
       "      <td>0.826736</td>\n",
       "      <td>0.00001</td>\n",
       "      <td>-3.531792</td>\n",
       "      <td>False</td>\n",
       "    </tr>\n",
       "    <tr>\n",
       "      <th>252</th>\n",
       "      <td>1.882526</td>\n",
       "      <td>0.00001</td>\n",
       "      <td>True</td>\n",
       "      <td>0.05</td>\n",
       "      <td>1.017091</td>\n",
       "      <td>1</td>\n",
       "      <td>1000</td>\n",
       "      <td>0.826352</td>\n",
       "      <td>0.00001</td>\n",
       "      <td>-3.532066</td>\n",
       "      <td>False</td>\n",
       "    </tr>\n",
       "  </tbody>\n",
       "</table>\n",
       "</div>"
      ],
      "text/plain": [
       "     amplitude_0  filling_pulse  fit_p_coef  learning_rate      loss  n_exps  \\\n",
       "243     1.877678        0.00001        True           0.05  1.017186       1   \n",
       "244     1.878243        0.00001        True           0.05  1.017175       1   \n",
       "245     1.878800        0.00001        True           0.05  1.017164       1   \n",
       "246     1.879351        0.00001        True           0.05  1.017153       1   \n",
       "247     1.879896        0.00001        True           0.05  1.017142       1   \n",
       "248     1.880434        0.00001        True           0.05  1.017132       1   \n",
       "249     1.880966        0.00001        True           0.05  1.017122       1   \n",
       "250     1.881492        0.00001        True           0.05  1.017111       1   \n",
       "251     1.882012        0.00001        True           0.05  1.017101       1   \n",
       "252     1.882526        0.00001        True           0.05  1.017091       1   \n",
       "\n",
       "     n_iters    p_coef  stop_val  time_constant_pow_0  verbose  \n",
       "243     1000  0.829827   0.00001            -3.529540    False  \n",
       "244     1000  0.829439   0.00001            -3.529828    False  \n",
       "245     1000  0.829051   0.00001            -3.530114    False  \n",
       "246     1000  0.828664   0.00001            -3.530398    False  \n",
       "247     1000  0.828277   0.00001            -3.530680    False  \n",
       "248     1000  0.827891   0.00001            -3.530960    False  \n",
       "249     1000  0.827505   0.00001            -3.531239    False  \n",
       "250     1000  0.827120   0.00001            -3.531516    False  \n",
       "251     1000  0.826736   0.00001            -3.531792    False  \n",
       "252     1000  0.826352   0.00001            -3.532066    False  "
      ]
     },
     "execution_count": 23,
     "metadata": {},
     "output_type": "execute_result"
    }
   ],
   "source": [
    "fit_results_.to_csv(MODELS_PATH + '1564ЛЕ1№1_п1_2500Гц-1Гц_10пФ_+30С_-4В-5В_50мВ_10мкс_шаг_0,1_single_exp_fit_results_1.csv')\n",
    "monoexp_fs.fit_results_.tail(10)"
   ]
  },
  {
   "cell_type": "markdown",
   "id": "8c082391",
   "metadata": {},
   "source": [
    "Вывод графика с экспериментальными данными и данными полученными на идентифицированной модели"
   ]
  },
  {
   "cell_type": "code",
   "execution_count": 24,
   "id": "4eae252a",
   "metadata": {},
   "outputs": [
    {
     "data": {
      "image/png": "[encoded data removed]",
      "text/plain": [
       "<Figure size 1000x700 with 1 Axes>"
      ]
     },
     "metadata": {},
     "output_type": "display_data"
    }
   ],
   "source": [
    "fig, ax = plot_model(X_train, y_train, SklSingleExpFrequencyScan, fit_results_, plot_exps=False)\n",
    "ax.set_ylabel('Сигнал DLTS, пФ')\n",
    "plt.savefig(PLOTS_PATH + '1564ЛЕ1№1_п1_2500Гц-1Гц_10пФ_+30С_-4В-5В_50мВ_10мкс_шаг_0,1_single_exp_model_1.pdf',\n",
    "            bbox_inches='tight')\n",
    "plt.show()"
   ]
  },
  {
   "cell_type": "markdown",
   "id": "4de8f816",
   "metadata": {},
   "source": [
    "Вывод графика значений среднеквадратической ошибки в процессе идентификации."
   ]
  },
  {
   "cell_type": "code",
   "execution_count": 25,
   "id": "5adaf1e1",
   "metadata": {},
   "outputs": [
    {
     "data": {
      "image/png": "[encoded data removed]",
      "text/plain": [
       "<Figure size 500x500 with 1 Axes>"
      ]
     },
     "metadata": {},
     "output_type": "display_data"
    }
   ],
   "source": [
    "plot_loss_path(fit_results_)\n",
    "plt.savefig(PLOTS_PATH + '1564ЛЕ1№1_п1_2500Гц-1Гц_10пФ_+30С_-4В-5В_50мВ_10мкс_шаг_0,1_single_exp_model_loss_1.pdf',\n",
    "            bbox_inches='tight')\n",
    "plt.show()"
   ]
  },
  {
   "cell_type": "markdown",
   "id": "375a979a",
   "metadata": {},
   "source": [
    "График выходит на \"плато\", что свидетельствует о том, что решение сошлось, однако довольно высокое значение среднеквадратической ошибки может указывать на то, что алгоритм нашёл локальный минимум функции потерь. О последнем также свидетельсвует предыдущий график (графика с экспериментальными данными и данными полученными на идентифицированной модели)."
   ]
  },
  {
   "cell_type": "markdown",
   "id": "c9ee2d73",
   "metadata": {},
   "source": [
    "Выведем график отклонений результатов, полученных на модели, от экспериментальных данных."
   ]
  },
  {
   "cell_type": "code",
   "execution_count": 26,
   "id": "9f782d88",
   "metadata": {
    "scrolled": false
   },
   "outputs": [
    {
     "data": {
      "image/png": "[encoded data removed]",
      "text/plain": [
       "<Figure size 1200x500 with 1 Axes>"
      ]
     },
     "metadata": {},
     "output_type": "display_data"
    }
   ],
   "source": [
    "fig, ax = plt.subplots(figsize=(12, 5))\n",
    "\n",
    "ax = plot_deviations(X_train, y_train, monoexp_fs.predict(X_train), ax=ax)\n",
    "\n",
    "ax.set_ylabel('Сигнал DLTS, пФ')\n",
    "\n",
    "plt.savefig(PLOTS_PATH + '1564ЛЕ1№1_п1_2500Гц-1Гц_10пФ_+30С_-4В-5В_50мВ_10мкс_шаг_0,1_single_exp_deviations_1.pdf',\n",
    "            bbox_inches='tight')\n",
    "plt.show()"
   ]
  },
  {
   "cell_type": "markdown",
   "id": "d4c2ddcd",
   "metadata": {},
   "source": [
    "Построим гистограмму отклонений данных, полученных на идентифицированной модели, от экспериментальных данных"
   ]
  },
  {
   "cell_type": "code",
   "execution_count": 27,
   "id": "6ec23b64",
   "metadata": {},
   "outputs": [
    {
     "data": {
      "image/png": "[encoded data removed]",
      "text/plain": [
       "<Figure size 750x500 with 1 Axes>"
      ]
     },
     "metadata": {},
     "output_type": "display_data"
    }
   ],
   "source": [
    "sns.displot(x=y_train - monoexp_fs.predict(X_train), bins=11, kde=True, stat='probability', aspect=1.5)\n",
    "plt.grid()\n",
    "plt.savefig(PLOTS_PATH + '1564ЛЕ1№1_п1_2500Гц-1Гц_10пФ_+30С_-4В-5В_50мВ_10мкс_шаг_0,1_single_exp_hist_1.pdf',\n",
    "            bbox_inches='tight')\n",
    "plt.show()"
   ]
  },
  {
   "cell_type": "markdown",
   "id": "2f1ad3c4",
   "metadata": {},
   "source": [
    "Оценим модель при помощи кросс-валидации"
   ]
  },
  {
   "cell_type": "code",
   "execution_count": 28,
   "id": "6da4de63",
   "metadata": {},
   "outputs": [],
   "source": [
    "def display_scores(scores):\n",
    "    print('Scores - корни из среднеквадратических ошибок')\n",
    "    scores = np.sqrt(-scores)\n",
    "    print(f'Scores: {scores}')\n",
    "    print(f'Mean: {scores.mean()}')\n",
    "    print(f'Standard deviation: {scores.std()}')"
   ]
  },
  {
   "cell_type": "code",
   "execution_count": 29,
   "id": "60e0c72c",
   "metadata": {
    "scrolled": true
   },
   "outputs": [
    {
     "name": "stderr",
     "output_type": "stream",
     "text": [
      "2022-10-07 09:42:51.987928: E tensorflow/stream_executor/cuda/cuda_driver.cc:271] failed call to cuInit: CUDA_ERROR_NO_DEVICE: no CUDA-capable device is detected\n",
      "2022-10-07 09:42:51.987968: I tensorflow/stream_executor/cuda/cuda_diagnostics.cc:169] retrieving CUDA diagnostic information for host: aleksei-MS-7C80\n",
      "2022-10-07 09:42:51.987973: I tensorflow/stream_executor/cuda/cuda_diagnostics.cc:176] hostname: aleksei-MS-7C80\n",
      "2022-10-07 09:42:51.988052: I tensorflow/stream_executor/cuda/cuda_diagnostics.cc:200] libcuda reported version is: 515.65.1\n",
      "2022-10-07 09:42:51.988067: I tensorflow/stream_executor/cuda/cuda_diagnostics.cc:204] kernel reported version is: 515.65.1\n",
      "2022-10-07 09:42:51.988070: I tensorflow/stream_executor/cuda/cuda_diagnostics.cc:310] kernel version seems to match DSO: 515.65.1\n",
      "2022-10-07 09:42:51.988214: I tensorflow/core/platform/cpu_feature_guard.cc:193] This TensorFlow binary is optimized with oneAPI Deep Neural Network Library (oneDNN) to use the following CPU instructions in performance-critical operations:  SSE4.1 SSE4.2 AVX AVX2 FMA\n",
      "To enable them in other operations, rebuild TensorFlow with the appropriate compiler flags.\n",
      "2022-10-07 09:42:51.997233: E tensorflow/stream_executor/cuda/cuda_driver.cc:271] failed call to cuInit: CUDA_ERROR_NO_DEVICE: no CUDA-capable device is detected\n",
      "2022-10-07 09:42:51.997257: I tensorflow/stream_executor/cuda/cuda_diagnostics.cc:169] retrieving CUDA diagnostic information for host: aleksei-MS-7C80\n",
      "2022-10-07 09:42:51.997261: I tensorflow/stream_executor/cuda/cuda_diagnostics.cc:176] hostname: aleksei-MS-7C80\n",
      "2022-10-07 09:42:51.997343: I tensorflow/stream_executor/cuda/cuda_diagnostics.cc:200] libcuda reported version is: 515.65.1\n",
      "2022-10-07 09:42:51.997358: I tensorflow/stream_executor/cuda/cuda_diagnostics.cc:204] kernel reported version is: 515.65.1\n",
      "2022-10-07 09:42:51.997362: I tensorflow/stream_executor/cuda/cuda_diagnostics.cc:310] kernel version seems to match DSO: 515.65.1\n",
      "2022-10-07 09:42:51.997512: I tensorflow/core/platform/cpu_feature_guard.cc:193] This TensorFlow binary is optimized with oneAPI Deep Neural Network Library (oneDNN) to use the following CPU instructions in performance-critical operations:  SSE4.1 SSE4.2 AVX AVX2 FMA\n",
      "To enable them in other operations, rebuild TensorFlow with the appropriate compiler flags.\n",
      "2022-10-07 09:42:52.005451: E tensorflow/stream_executor/cuda/cuda_driver.cc:271] failed call to cuInit: CUDA_ERROR_NO_DEVICE: no CUDA-capable device is detected\n",
      "2022-10-07 09:42:52.005476: I tensorflow/stream_executor/cuda/cuda_diagnostics.cc:169] retrieving CUDA diagnostic information for host: aleksei-MS-7C80\n",
      "2022-10-07 09:42:52.005482: I tensorflow/stream_executor/cuda/cuda_diagnostics.cc:176] hostname: aleksei-MS-7C80\n",
      "2022-10-07 09:42:52.005575: I tensorflow/stream_executor/cuda/cuda_diagnostics.cc:200] libcuda reported version is: 515.65.1\n",
      "2022-10-07 09:42:52.005597: I tensorflow/stream_executor/cuda/cuda_diagnostics.cc:204] kernel reported version is: 515.65.1\n",
      "2022-10-07 09:42:52.005604: I tensorflow/stream_executor/cuda/cuda_diagnostics.cc:310] kernel version seems to match DSO: 515.65.1\n",
      "2022-10-07 09:42:52.005762: I tensorflow/core/platform/cpu_feature_guard.cc:193] This TensorFlow binary is optimized with oneAPI Deep Neural Network Library (oneDNN) to use the following CPU instructions in performance-critical operations:  SSE4.1 SSE4.2 AVX AVX2 FMA\n",
      "To enable them in other operations, rebuild TensorFlow with the appropriate compiler flags.\n",
      "2022-10-07 09:42:52.037824: E tensorflow/stream_executor/cuda/cuda_driver.cc:271] failed call to cuInit: CUDA_ERROR_NO_DEVICE: no CUDA-capable device is detected\n",
      "2022-10-07 09:42:52.037848: I tensorflow/stream_executor/cuda/cuda_diagnostics.cc:169] retrieving CUDA diagnostic information for host: aleksei-MS-7C80\n",
      "2022-10-07 09:42:52.037852: I tensorflow/stream_executor/cuda/cuda_diagnostics.cc:176] hostname: aleksei-MS-7C80\n",
      "2022-10-07 09:42:52.037937: I tensorflow/stream_executor/cuda/cuda_diagnostics.cc:200] libcuda reported version is: 515.65.1\n",
      "2022-10-07 09:42:52.037953: I tensorflow/stream_executor/cuda/cuda_diagnostics.cc:204] kernel reported version is: 515.65.1\n",
      "2022-10-07 09:42:52.037958: I tensorflow/stream_executor/cuda/cuda_diagnostics.cc:310] kernel version seems to match DSO: 515.65.1\n",
      "2022-10-07 09:42:52.038096: I tensorflow/core/platform/cpu_feature_guard.cc:193] This TensorFlow binary is optimized with oneAPI Deep Neural Network Library (oneDNN) to use the following CPU instructions in performance-critical operations:  SSE4.1 SSE4.2 AVX AVX2 FMA\n",
      "To enable them in other operations, rebuild TensorFlow with the appropriate compiler flags.\n",
      "2022-10-07 09:42:52.038277: E tensorflow/stream_executor/cuda/cuda_driver.cc:271] failed call to cuInit: CUDA_ERROR_NO_DEVICE: no CUDA-capable device is detected\n",
      "2022-10-07 09:42:52.038294: I tensorflow/stream_executor/cuda/cuda_diagnostics.cc:169] retrieving CUDA diagnostic information for host: aleksei-MS-7C80\n",
      "2022-10-07 09:42:52.038298: I tensorflow/stream_executor/cuda/cuda_diagnostics.cc:176] hostname: aleksei-MS-7C80\n",
      "2022-10-07 09:42:52.038404: I tensorflow/stream_executor/cuda/cuda_diagnostics.cc:200] libcuda reported version is: 515.65.1\n",
      "2022-10-07 09:42:52.038421: I tensorflow/stream_executor/cuda/cuda_diagnostics.cc:204] kernel reported version is: 515.65.1\n",
      "2022-10-07 09:42:52.038428: I tensorflow/stream_executor/cuda/cuda_diagnostics.cc:310] kernel version seems to match DSO: 515.65.1\n",
      "2022-10-07 09:42:52.038567: I tensorflow/core/platform/cpu_feature_guard.cc:193] This TensorFlow binary is optimized with oneAPI Deep Neural Network Library (oneDNN) to use the following CPU instructions in performance-critical operations:  SSE4.1 SSE4.2 AVX AVX2 FMA\n",
      "To enable them in other operations, rebuild TensorFlow with the appropriate compiler flags.\n"
     ]
    },
    {
     "name": "stdout",
     "output_type": "stream",
     "text": [
      "Scores - корни из среднеквадратических ошибок\n",
      "Scores: [1.18339489 0.9528972  0.93122905 0.94170673 1.00977772]\n",
      "Mean: 1.0038011202415213\n",
      "Standard deviation: 0.09381180189148236\n"
     ]
    }
   ],
   "source": [
    "scores = cross_val_score(monoexp_fs, \n",
    "                         X_train, \n",
    "                         y_train, \n",
    "                         fit_params=dict(initial_exps_params_=[[-3.0, 0.5]]), \n",
    "                         scoring='neg_mean_squared_error', \n",
    "                         cv=5, \n",
    "                         n_jobs=-1)\n",
    "\n",
    "display_scores(scores)"
   ]
  },
  {
   "cell_type": "markdown",
   "id": "4de9f585",
   "metadata": {},
   "source": [
    "Оценим корень из среднеквадратической ошибки между экспериментальными данными и данными, полученными на идентифицированной модели на тренировачных данных"
   ]
  },
  {
   "cell_type": "code",
   "execution_count": 30,
   "id": "b7dc7980",
   "metadata": {},
   "outputs": [
    {
     "data": {
      "text/plain": [
       "1.0085095421776649"
      ]
     },
     "execution_count": 30,
     "metadata": {},
     "output_type": "execute_result"
    }
   ],
   "source": [
    "mean_squared_error(y_train, monoexp_fs.predict(X_train), squared=False)"
   ]
  },
  {
   "cell_type": "markdown",
   "id": "410f6c4a",
   "metadata": {},
   "source": [
    "Оценим ту же метрику на тестовых данных"
   ]
  },
  {
   "cell_type": "code",
   "execution_count": 31,
   "id": "a75d2316",
   "metadata": {},
   "outputs": [
    {
     "data": {
      "text/plain": [
       "1.118491104475944"
      ]
     },
     "execution_count": 31,
     "metadata": {},
     "output_type": "execute_result"
    }
   ],
   "source": [
    "mean_squared_error(y_test, monoexp_fs.predict(X_test), squared=False)"
   ]
  },
  {
   "cell_type": "markdown",
   "id": "89496fce",
   "metadata": {},
   "source": [
    "Выведем на экран полученный спектр"
   ]
  },
  {
   "cell_type": "code",
   "execution_count": 32,
   "id": "027fc3ba",
   "metadata": {},
   "outputs": [
    {
     "data": {
      "image/png": "[encoded data removed]",
      "text/plain": [
       "<Figure size 640x480 with 1 Axes>"
      ]
     },
     "metadata": {},
     "output_type": "display_data"
    }
   ],
   "source": [
    "plot_spectr(monoexp_fs.exps_params_, xlim=[1/5000, 1])\n",
    "plt.savefig(PLOTS_PATH + '1564ЛЕ1№1_п1_2500Гц-1Гц_10пФ_+30С_-4В-5В_50мВ_10мкс_шаг_0,1_single_exp_spectr_1.pdf',\n",
    "            bbox_inches='tight')\n",
    "plt.show()"
   ]
  },
  {
   "cell_type": "markdown",
   "id": "73cf0943",
   "metadata": {},
   "source": [
    "Попробуем идентифицировать модель задав другую начальную точку для идентификации."
   ]
  },
  {
   "cell_type": "markdown",
   "id": "239cee6a",
   "metadata": {},
   "source": [
    "Чтение данных"
   ]
  },
  {
   "cell_type": "code",
   "execution_count": null,
   "id": "fdc69590",
   "metadata": {},
   "outputs": [],
   "source": [
    "filling_pulse, X_train, y_train = get_X_y(data_frames[0][1])"
   ]
  },
  {
   "cell_type": "markdown",
   "id": "e49ee0a2",
   "metadata": {},
   "source": [
    "Нормализация данных"
   ]
  },
  {
   "cell_type": "code",
   "execution_count": null,
   "id": "de3d28af",
   "metadata": {},
   "outputs": [],
   "source": [
    "k, y_train = normalize(X_train, y_train)\n",
    "print(f'Нормализующий коэффицет: {k}')"
   ]
  },
  {
   "cell_type": "markdown",
   "id": "8b51f1fd",
   "metadata": {},
   "source": [
    "Идентификация модели с начальной точкой близкой к отрицательному пику"
   ]
  },
  {
   "cell_type": "code",
   "execution_count": null,
   "id": "b0dac374",
   "metadata": {
    "scrolled": true
   },
   "outputs": [],
   "source": [
    "monoexp_fs = SklSingleExpFrequencyScan(filling_pulse = filling_pulse,\n",
    "                                       learning_rate = 0.05,\n",
    "                                       stop_val = 10**-5,\n",
    "                                       verbose = False\n",
    "                                      )\n",
    "\n",
    "monoexp_fs.fit(X = X_train, y = y_train, initial_exps_params_=[[-1.5, -0.5]])"
   ]
  },
  {
   "cell_type": "markdown",
   "id": "cb541094",
   "metadata": {},
   "source": [
    "Приведение результатов к изначальному масштабу"
   ]
  },
  {
   "cell_type": "code",
   "execution_count": null,
   "id": "1098d96d",
   "metadata": {},
   "outputs": [],
   "source": [
    "exps_params_ = monoexp_fs.exps_params_\n",
    "exps_params_[0, 1] = denormalize(exps_params_[0, 1], k)\n",
    "monoexp_fs.exps_params_ = exps_params_\n",
    "\n",
    "fit_results_ = monoexp_fs.fit_results_.copy()\n",
    "fit_results_.amplitude_0 = denormalize(fit_results_.amplitude_0, k) \n",
    "\n",
    "y_train = denormalize(y_train, k)"
   ]
  },
  {
   "cell_type": "markdown",
   "id": "aa1fa89d",
   "metadata": {},
   "source": [
    "Вывод табличных результатов идентификации"
   ]
  },
  {
   "cell_type": "code",
   "execution_count": null,
   "id": "7655c611",
   "metadata": {},
   "outputs": [],
   "source": [
    "fit_results_.to_csv(MODELS_PATH + '1564ЛЕ1№1_п1_2500Гц-1Гц_10пФ_+30С_-4В-5В_50мВ_10мкс_шаг_0,1_single_exp_fit_results_2.csv')\n",
    "monoexp_fs.fit_results_.tail(10)"
   ]
  },
  {
   "cell_type": "markdown",
   "id": "f03b8cf4",
   "metadata": {},
   "source": [
    "Вывод графика с экспериментальными данными и данными полученными на идентифицированной модели"
   ]
  },
  {
   "cell_type": "code",
   "execution_count": null,
   "id": "b915adce",
   "metadata": {},
   "outputs": [],
   "source": [
    "fig, ax = plot_model(X_train, y_train, SklSingleExpFrequencyScan, fit_results_, plot_exps=False)\n",
    "ax.set_ylabel('Сигнал DLTS, пФ')\n",
    "plt.savefig(PLOTS_PATH + '1564ЛЕ1№1_п1_2500Гц-1Гц_10пФ_+30С_-4В-5В_50мВ_10мкс_шаг_0,1_single_exp_model_2.pdf',\n",
    "            bbox_inches='tight')\n",
    "plt.show()"
   ]
  },
  {
   "cell_type": "markdown",
   "id": "c5004a83",
   "metadata": {},
   "source": [
    "Вывод графика значений среднеквадратической ошибки в процессе идентификации."
   ]
  },
  {
   "cell_type": "code",
   "execution_count": null,
   "id": "f2356608",
   "metadata": {},
   "outputs": [],
   "source": [
    "plot_loss_path(fit_results_)\n",
    "plt.savefig(PLOTS_PATH + '1564ЛЕ1№1_п1_2500Гц-1Гц_10пФ_+30С_-4В-5В_50мВ_10мкс_шаг_0,1_single_exp_model_loss_2.pdf',\n",
    "            bbox_inches='tight')\n",
    "plt.show()"
   ]
  },
  {
   "cell_type": "markdown",
   "id": "4a85dea1",
   "metadata": {},
   "source": [
    "Выведем график отклонений результатов, полученных на модели, от экспериментальных данных."
   ]
  },
  {
   "cell_type": "code",
   "execution_count": null,
   "id": "a2a03fc5",
   "metadata": {},
   "outputs": [],
   "source": [
    "fig, ax = plt.subplots(figsize=(12, 5))\n",
    "\n",
    "ax = plot_deviations(X_train, y_train, monoexp_fs.predict(X_train), ax=ax)\n",
    "\n",
    "ax.set_ylabel('Сигнал DLTS, пФ')\n",
    "\n",
    "plt.savefig(PLOTS_PATH + '1564ЛЕ1№1_п1_2500Гц-1Гц_10пФ_+30С_-4В-5В_50мВ_10мкс_шаг_0,1_single_exp_deviations_2.pdf',\n",
    "            bbox_inches='tight')\n",
    "plt.show()"
   ]
  },
  {
   "cell_type": "markdown",
   "id": "b3c6ec54",
   "metadata": {},
   "source": [
    "Построим гистограмму отклонений данных, полученных на идентифицированной модели, от экспериментальных данных"
   ]
  },
  {
   "cell_type": "code",
   "execution_count": null,
   "id": "d8685cdb",
   "metadata": {},
   "outputs": [],
   "source": [
    "sns.displot(x=y_train - monoexp_fs.predict(X_train), bins=11, kde=True, stat='probability', aspect=1.5)\n",
    "plt.grid()\n",
    "plt.savefig(PLOTS_PATH + '1564ЛЕ1№1_п1_2500Гц-1Гц_10пФ_+30С_-4В-5В_50мВ_10мкс_шаг_0,1_single_exp_hist_2.pdf',\n",
    "            bbox_inches='tight')\n",
    "plt.show()"
   ]
  },
  {
   "cell_type": "markdown",
   "id": "a90fdf9f",
   "metadata": {},
   "source": [
    "Оценим модель при помощи кросс-валидации"
   ]
  },
  {
   "cell_type": "code",
   "execution_count": null,
   "id": "8d0e0719",
   "metadata": {},
   "outputs": [],
   "source": [
    "scores = cross_val_score(monoexp_fs, \n",
    "                         X_train, \n",
    "                         y_train, \n",
    "                         fit_params=dict(initial_exps_params_=[[-1.5, -0.5]]), \n",
    "                         scoring='neg_mean_squared_error', \n",
    "                         cv=5, \n",
    "                         n_jobs=-1)\n",
    "\n",
    "display_scores(np.sqrt(-scores))"
   ]
  },
  {
   "cell_type": "markdown",
   "id": "ac9dcf72",
   "metadata": {},
   "source": [
    "Оценим корень из среднеквадратической ошики между экспериментальными данными и данными, полученными на идентифицированной модели"
   ]
  },
  {
   "cell_type": "code",
   "execution_count": null,
   "id": "b01393e2",
   "metadata": {
    "scrolled": true
   },
   "outputs": [],
   "source": [
    "mean_squared_error(y_train, monoexp_fs.predict(X_train), squared=False)"
   ]
  },
  {
   "cell_type": "markdown",
   "id": "23deb1a1",
   "metadata": {},
   "source": [
    "Выведем на экран полученный спектр"
   ]
  },
  {
   "cell_type": "code",
   "execution_count": null,
   "id": "8303dac0",
   "metadata": {},
   "outputs": [],
   "source": [
    "plot_spectr(monoexp_fs.exps_params_)\n",
    "plt.savefig(PLOTS_PATH + '1564ЛЕ1№1_п1_2500Гц-1Гц_10пФ_+30С_-4В-5В_50мВ_10мкс_шаг_0,1_single_exp_spectr_2.pdf',\n",
    "            bbox_inches='tight')\n",
    "plt.show()"
   ]
  },
  {
   "cell_type": "markdown",
   "id": "aaf5664a",
   "metadata": {},
   "source": [
    "### 2.3. Идентификация моноэкспоненциальной моделью с показателем $p=1$"
   ]
  },
  {
   "cell_type": "markdown",
   "id": "931860d9",
   "metadata": {},
   "source": [
    "Чтение данных"
   ]
  },
  {
   "cell_type": "code",
   "execution_count": null,
   "id": "c849f042",
   "metadata": {},
   "outputs": [],
   "source": [
    "filling_pulse, X_train, y_train = get_X_y(data_frames[0][1])"
   ]
  },
  {
   "cell_type": "markdown",
   "id": "a8e6a253",
   "metadata": {},
   "source": [
    "Нормализация данных"
   ]
  },
  {
   "cell_type": "code",
   "execution_count": null,
   "id": "3c95a363",
   "metadata": {},
   "outputs": [],
   "source": [
    "k, y_train = normalize(X_train, y_train)\n",
    "print(f'Нормализующий коэффицет: {k}')"
   ]
  },
  {
   "cell_type": "markdown",
   "id": "53a04308",
   "metadata": {},
   "source": [
    "Идентификация модели"
   ]
  },
  {
   "cell_type": "code",
   "execution_count": null,
   "id": "7ec7ef06",
   "metadata": {},
   "outputs": [],
   "source": [
    "monoexp_fs = SklSingleExpFrequencyScan(filling_pulse = filling_pulse,\n",
    "                                       learning_rate = 0.05,\n",
    "                                       stop_val = 10**-5,\n",
    "                                       verbose = False,\n",
    "                                       fit_p_coef = False\n",
    "                                      )\n",
    "\n",
    "monoexp_fs.fit(X = X_train, y = y_train)"
   ]
  },
  {
   "cell_type": "markdown",
   "id": "3a4eaf64",
   "metadata": {},
   "source": [
    "Приведение результатов к изначальному масштабу"
   ]
  },
  {
   "cell_type": "code",
   "execution_count": null,
   "id": "1e7b2a21",
   "metadata": {},
   "outputs": [],
   "source": [
    "exps_params_ = monoexp_fs.exps_params_\n",
    "exps_params_[0, 1] = denormalize(exps_params_[0, 1], k)\n",
    "monoexp_fs.exps_params_ = exps_params_\n",
    "\n",
    "fit_results_ = monoexp_fs.fit_results_.copy()\n",
    "fit_results_.amplitude_0 = denormalize(fit_results_.amplitude_0, k) \n",
    "\n",
    "y_train = denormalize(y_train, k)"
   ]
  },
  {
   "cell_type": "markdown",
   "id": "973af5ff",
   "metadata": {},
   "source": [
    "Вывод табличных результатов идентификации"
   ]
  },
  {
   "cell_type": "code",
   "execution_count": null,
   "id": "9c470555",
   "metadata": {},
   "outputs": [],
   "source": [
    "fit_results_.to_csv(MODELS_PATH + '1564ЛЕ1№1_п1_2500Гц-1Гц_10пФ_+30С_-4В-5В_50мВ_10мкс_шаг_0,1_single_exp_ideal_fit_results.csv')\n",
    "monoexp_fs.fit_results_.tail(10)"
   ]
  },
  {
   "cell_type": "code",
   "execution_count": null,
   "id": "3fd702db",
   "metadata": {},
   "outputs": [],
   "source": [
    "fig, ax = plot_model(X_train, y_train, SklSingleExpFrequencyScan, fit_results_, plot_exps=False)\n",
    "ax.set_ylabel('Сигнал DLTS, пФ')\n",
    "plt.savefig(PLOTS_PATH + '1564ЛЕ1№1_п1_2500Гц-1Гц_10пФ_+30С_-4В-5В_50мВ_10мкс_шаг_0,1_single_exp_ideal_model.pdf',\n",
    "            bbox_inches='tight')\n",
    "plt.show()"
   ]
  },
  {
   "cell_type": "markdown",
   "id": "2a3267dc",
   "metadata": {},
   "source": [
    "Вывод графика значений среднеквадратической ошибки в процессе идентификации."
   ]
  },
  {
   "cell_type": "code",
   "execution_count": null,
   "id": "dd7fe592",
   "metadata": {},
   "outputs": [],
   "source": [
    "plot_loss_path(fit_results_)\n",
    "plt.savefig(PLOTS_PATH + '1564ЛЕ1№1_п1_2500Гц-1Гц_10пФ_+30С_-4В-5В_50мВ_10мкс_шаг_0,1_single_exp_ideal_model_loss.pdf',\n",
    "            bbox_inches='tight')\n",
    "plt.show()"
   ]
  },
  {
   "cell_type": "markdown",
   "id": "5e6dec48",
   "metadata": {},
   "source": [
    "Выведем график отклонений результатов, полученных на модели, от экспериментальных данных."
   ]
  },
  {
   "cell_type": "code",
   "execution_count": null,
   "id": "41987a5e",
   "metadata": {
    "scrolled": false
   },
   "outputs": [],
   "source": [
    "fig, ax = plt.subplots(figsize=(12, 5))\n",
    "\n",
    "ax = plot_deviations(X_train, y_train, monoexp_fs.predict(X_train), ax=ax)\n",
    "\n",
    "ax.set_ylabel('Сигнал DLTS, пФ')\n",
    "\n",
    "plt.savefig(PLOTS_PATH + '1564ЛЕ1№1_п1_2500Гц-1Гц_10пФ_+30С_-4В-5В_50мВ_10мкс_шаг_0,1_single_exp_ideal_deviations.pdf',\n",
    "            bbox_inches='tight')\n",
    "plt.show()"
   ]
  },
  {
   "cell_type": "markdown",
   "id": "fe259bd1",
   "metadata": {},
   "source": [
    "Построим гистограмму отклонений данных, полученных на идентифицированной модели, от экспериментальных данных"
   ]
  },
  {
   "cell_type": "code",
   "execution_count": null,
   "id": "6df3170f",
   "metadata": {
    "scrolled": false
   },
   "outputs": [],
   "source": [
    "sns.displot(x=y_train - monoexp_fs.predict(X_train), bins=11, kde=True, stat='probability', aspect=1.5)\n",
    "plt.grid()\n",
    "plt.savefig(PLOTS_PATH + '1564ЛЕ1№1_п1_2500Гц-1Гц_10пФ_+30С_-4В-5В_50мВ_10мкс_шаг_0,1_single_exp_ideal_hist.pdf',\n",
    "            bbox_inches='tight')\n",
    "plt.show()"
   ]
  },
  {
   "cell_type": "markdown",
   "id": "cfa78faa",
   "metadata": {},
   "source": [
    "Оценим модель при помощи кросс-валидации"
   ]
  },
  {
   "cell_type": "code",
   "execution_count": null,
   "id": "4750e1d0",
   "metadata": {},
   "outputs": [],
   "source": [
    "scores = cross_val_score(monoexp_fs, \n",
    "                         X_train, \n",
    "                         y_train, \n",
    "                         scoring='neg_mean_squared_error', \n",
    "                         cv=5, \n",
    "                         n_jobs=-1)\n",
    "\n",
    "display_scores(np.sqrt(-scores))"
   ]
  },
  {
   "cell_type": "markdown",
   "id": "677ab8e7",
   "metadata": {},
   "source": [
    "Оценим корень из среднеквадратической ошики между экспериментальными данными и данными, полученными на идентифицированной модели"
   ]
  },
  {
   "cell_type": "code",
   "execution_count": null,
   "id": "9eecc324",
   "metadata": {},
   "outputs": [],
   "source": [
    "mean_squared_error(y_train, monoexp_fs.predict(X_train), squared=False)"
   ]
  },
  {
   "cell_type": "markdown",
   "id": "9271bb7a",
   "metadata": {},
   "source": [
    "Выведем на экран полученный спектр"
   ]
  },
  {
   "cell_type": "code",
   "execution_count": null,
   "id": "07709de5",
   "metadata": {},
   "outputs": [],
   "source": [
    "plot_spectr(monoexp_fs.exps_params_, xlim=[1/5000, 1])\n",
    "plt.savefig(PLOTS_PATH + '1564ЛЕ1№1_п1_2500Гц-1Гц_10пФ_+30С_-4В-5В_50мВ_10мкс_шаг_0,1_single_exp_ideal_spectr.pdf',\n",
    "            bbox_inches='tight')\n",
    "plt.show()"
   ]
  },
  {
   "cell_type": "markdown",
   "id": "0875cc27",
   "metadata": {},
   "source": [
    "### 2.4. Идентификация мультиэкспоненциальной модели с n_exps>1"
   ]
  },
  {
   "cell_type": "markdown",
   "id": "34cc824c",
   "metadata": {},
   "source": [
    "Чтение данных"
   ]
  },
  {
   "cell_type": "code",
   "execution_count": null,
   "id": "03783e63",
   "metadata": {},
   "outputs": [],
   "source": [
    "print(data_frames[0][0])"
   ]
  },
  {
   "cell_type": "code",
   "execution_count": null,
   "id": "1dd079fc",
   "metadata": {},
   "outputs": [],
   "source": [
    "filling_pulse, X_train, y_train = get_X_y(data_frames[0][1])"
   ]
  },
  {
   "cell_type": "markdown",
   "id": "58a71b60",
   "metadata": {},
   "source": [
    "Нормализация данных"
   ]
  },
  {
   "cell_type": "code",
   "execution_count": null,
   "id": "e815373e",
   "metadata": {},
   "outputs": [],
   "source": [
    "k, y_train = normalize(X_train, y_train)\n",
    "print(f'Нормализующий коэффицет: {k}')"
   ]
  },
  {
   "cell_type": "markdown",
   "id": "58b7b699",
   "metadata": {},
   "source": [
    "Идентификация мультиэкспоненциальной модели"
   ]
  },
  {
   "cell_type": "code",
   "execution_count": null,
   "id": "e2eadeba",
   "metadata": {},
   "outputs": [],
   "source": [
    "multiexp_fs = SklMultiExpFrequencyScan(n_exps = 1,\n",
    "                                       filling_pulse = filling_pulse,\n",
    "                                       learning_rate = 0.05,\n",
    "                                       stop_val = 10**-5\n",
    "                                      )"
   ]
  },
  {
   "cell_type": "code",
   "execution_count": null,
   "id": "f22b7767",
   "metadata": {},
   "outputs": [],
   "source": [
    "param_grid = {'n_exps': [1, 2, 3, 4, 5, 6, 7, 8, 9, 10]}\n",
    "grid_search = GridSearchCV(multiexp_fs, param_grid, cv=5, \n",
    "                           scoring='neg_mean_squared_error',\n",
    "                           return_train_score=True, n_jobs=-1)"
   ]
  },
  {
   "cell_type": "code",
   "execution_count": null,
   "id": "a7785309",
   "metadata": {
    "scrolled": true
   },
   "outputs": [],
   "source": [
    "grid_search.fit(X_train, y_train)"
   ]
  },
  {
   "cell_type": "markdown",
   "id": "6212a185",
   "metadata": {},
   "source": [
    "Лучший результат показала модель со следующим количеством экспоненциальных составляющих (n_exps)"
   ]
  },
  {
   "cell_type": "code",
   "execution_count": null,
   "id": "3fb24abb",
   "metadata": {},
   "outputs": [],
   "source": [
    "grid_search.best_params_"
   ]
  },
  {
   "cell_type": "markdown",
   "id": "3c2de148",
   "metadata": {},
   "source": [
    "Ниже приведены результаты, которые показали модули с другими занчениями параметра (n_exps)"
   ]
  },
  {
   "cell_type": "code",
   "execution_count": null,
   "id": "c9ee7b5f",
   "metadata": {},
   "outputs": [],
   "source": [
    "cvres = grid_search.cv_results_\n",
    "for mean_score, params in zip(cvres['mean_test_score'], cvres['params']):\n",
    "    print(np.sqrt(-mean_score), params)"
   ]
  },
  {
   "cell_type": "markdown",
   "id": "cb850e4c",
   "metadata": {},
   "source": [
    "Для лучшей модели выведем табличные результаты и графики.\n",
    "\n",
    "Приведение результатов к изначальному масштабу"
   ]
  },
  {
   "cell_type": "code",
   "execution_count": null,
   "id": "6305ed1c",
   "metadata": {},
   "outputs": [],
   "source": [
    "multiexp_fs = grid_search.best_estimator_\n",
    "\n",
    "exps_params_ = multiexp_fs.exps_params_\n",
    "exps_params_[:, 1] = denormalize(exps_params_[:, 1], k)\n",
    "multiexp_fs.exps_params_ = exps_params_\n",
    "\n",
    "fit_results_ = multiexp_fs.fit_results_.copy()\n",
    "\n",
    "for i in range(multiexp_fs.n_exps):\n",
    "    fit_results_[f'amplitude_{i}'] = denormalize(fit_results_[f'amplitude_{i}'], k) \n",
    "\n",
    "y_train = denormalize(y_train, k)"
   ]
  },
  {
   "cell_type": "markdown",
   "id": "1f429770",
   "metadata": {},
   "source": [
    "Вывод табличных результатов идентификации"
   ]
  },
  {
   "cell_type": "code",
   "execution_count": null,
   "id": "cd3c892b",
   "metadata": {},
   "outputs": [],
   "source": [
    "fit_results_.to_csv(MODELS_PATH + '1564ЛЕ1№1_п1_2500Гц-1Гц_10пФ_+30С_-4В-5В_50мВ_10мкс_шаг_0,1_multi_exp_fit_results_1.csv')\n",
    "multiexp_fs.fit_results_.tail(10)"
   ]
  },
  {
   "cell_type": "markdown",
   "id": "50086f1c",
   "metadata": {},
   "source": [
    "Вывод графика с экспериментальными данными и данными полученными на идентифицированной модели"
   ]
  },
  {
   "cell_type": "code",
   "execution_count": null,
   "id": "fc2ccdf9",
   "metadata": {},
   "outputs": [],
   "source": [
    "y_pred = grid_search.best_estimator_.predict(X_train)"
   ]
  },
  {
   "cell_type": "code",
   "execution_count": null,
   "id": "d2230648",
   "metadata": {
    "scrolled": false
   },
   "outputs": [],
   "source": [
    "fig, ax = plot_model(X_train, y_train, SklMultiExpFrequencyScan, fit_results_)\n",
    "plt.savefig(PLOTS_PATH + '1564ЛЕ1№1_п1_2500Гц-1Гц_10пФ_+30С_-4В-5В_50мВ_10мкс_шаг_0,1_multi_exp_model_2.pdf',\n",
    "            bbox_inches='tight')\n",
    "plt.show()"
   ]
  },
  {
   "cell_type": "markdown",
   "id": "83470315",
   "metadata": {},
   "source": [
    "Вывод графика значений среднеквадратической ошибки в процессе идентификации"
   ]
  },
  {
   "cell_type": "code",
   "execution_count": null,
   "id": "5b9679eb",
   "metadata": {},
   "outputs": [],
   "source": [
    "plot_loss_path(fit_results_)\n",
    "plt.savefig(PLOTS_PATH + '1564ЛЕ1№1_п1_2500Гц-1Гц_10пФ_+30С_-4В-5В_50мВ_10мкс_шаг_0,1_multi_exp_loss.pdf',\n",
    "            bbox_inches='tight')\n",
    "plt.show()"
   ]
  },
  {
   "cell_type": "markdown",
   "id": "152e1dd7",
   "metadata": {},
   "source": [
    "Выведем график отклонений результатов, полученных на модели, от экспериментальных данных"
   ]
  },
  {
   "cell_type": "code",
   "execution_count": null,
   "id": "0558ac34",
   "metadata": {},
   "outputs": [],
   "source": [
    "fig, ax = plt.subplots(figsize=(12, 5))\n",
    "\n",
    "ax = plot_deviations(X_train, y_train, multiexp_fs.predict(X_train), ax=ax)\n",
    "\n",
    "ax.set_ylabel('Сигнал DLTS, пФ')\n",
    "\n",
    "plt.savefig(PLOTS_PATH + '1564ЛЕ1№1_п1_2500Гц-1Гц_10пФ_+30С_-4В-5В_50мВ_10мкс_шаг_0,1_multi_exp_deviations.pdf',\n",
    "            bbox_inches='tight')\n",
    "plt.show()"
   ]
  },
  {
   "cell_type": "markdown",
   "id": "6959d9fb",
   "metadata": {},
   "source": [
    "Построим гистограмму отклонений данных, полученных на идентифицированной модели, от экспериментальных данных"
   ]
  },
  {
   "cell_type": "code",
   "execution_count": null,
   "id": "db12c215",
   "metadata": {},
   "outputs": [],
   "source": [
    "sns.displot(x=y_train - multiexp_fs.predict(X_train), bins=11, kde=True, stat='probability', aspect=1.5)\n",
    "plt.grid()\n",
    "plt.savefig(PLOTS_PATH + '1564ЛЕ1№1_п1_2500Гц-1Гц_10пФ_+30С_-4В-5В_50мВ_10мкс_шаг_0,1_multi_exp_hist.pdf',\n",
    "            bbox_inches='tight')\n",
    "plt.show()"
   ]
  },
  {
   "cell_type": "markdown",
   "id": "6131deab",
   "metadata": {},
   "source": [
    "Оценим модель при помощи кросс-валидации"
   ]
  },
  {
   "cell_type": "code",
   "execution_count": null,
   "id": "5cf2f7d2",
   "metadata": {},
   "outputs": [],
   "source": [
    "scores = cross_val_score(monoexp_fs, \n",
    "                         X_train, \n",
    "                         y_train, \n",
    "                         scoring='neg_mean_squared_error', \n",
    "                         cv=5, \n",
    "                         n_jobs=-1)\n",
    "\n",
    "display_scores(np.sqrt(-scores))"
   ]
  },
  {
   "cell_type": "markdown",
   "id": "a00fde7d",
   "metadata": {},
   "source": [
    "Оценим корень из среднеквадратической ошики между экспериментальными данными и данными, полученными на идентифицированной модели"
   ]
  },
  {
   "cell_type": "code",
   "execution_count": null,
   "id": "cc3d8787",
   "metadata": {},
   "outputs": [],
   "source": [
    "mean_squared_error(y_train, multiexp_fs.predict(X_train), squared=False)"
   ]
  },
  {
   "cell_type": "code",
   "execution_count": null,
   "id": "41edbb6a",
   "metadata": {},
   "outputs": [],
   "source": [
    "# https://scikit-learn.org/stable/modules/generated/sklearn.model_selection.cross_validate.html#sklearn.model_selection.cross_validate\n",
    "# https://scikit-learn.org/stable/modules/cross_validation.html#cross-validation\n",
    "# https://scikit-learn.org/stable/modules/model_evaluation.html#scoring-parameter"
   ]
  },
  {
   "cell_type": "code",
   "execution_count": null,
   "id": "4b88f10f",
   "metadata": {},
   "outputs": [],
   "source": []
  },
  {
   "cell_type": "code",
   "execution_count": null,
   "id": "589a5180",
   "metadata": {},
   "outputs": [],
   "source": []
  },
  {
   "cell_type": "markdown",
   "id": "4897673b",
   "metadata": {},
   "source": [
    "## 3. 1564ЛЕ1№1\\_п1\\_2500Гц-1Гц\\_1пФ\\_+10С\\_-4В-5В\\_50мВ\\_10мкс\\_шаг\\_0,01.csv\n",
    "### 3.1. Подготовка экспериментальных данных"
   ]
  },
  {
   "cell_type": "code",
   "execution_count": null,
   "id": "48d18048",
   "metadata": {},
   "outputs": [],
   "source": [
    "filling_pulse, X_train, y_train = get_X_y(data_frames[1][1])"
   ]
  },
  {
   "cell_type": "code",
   "execution_count": null,
   "id": "faf118e3",
   "metadata": {},
   "outputs": [],
   "source": [
    "k, y_train = normalize(X_train, y_train)\n",
    "k"
   ]
  },
  {
   "cell_type": "code",
   "execution_count": null,
   "id": "cdbbd348",
   "metadata": {},
   "outputs": [],
   "source": [
    "fig, ax = plot_experimental_points(X_train, y_train)\n",
    "ax.set_ylim([0, 3.5])\n",
    "ax.set_xlim([0, 3.5])\n",
    "plt.show()"
   ]
  },
  {
   "cell_type": "markdown",
   "id": "d40c5b0e",
   "metadata": {},
   "source": [
    "### 3.2. Идентификация моноэкспоненциальной модели с показателем $p$"
   ]
  },
  {
   "cell_type": "code",
   "execution_count": null,
   "id": "31a468f9",
   "metadata": {
    "scrolled": true
   },
   "outputs": [],
   "source": [
    "monoexp_fs = SklSingleExpFrequencyScan(filling_pulse = filling_pulse,\n",
    "                                       learning_rate = 0.05,\n",
    "                                       stop_val = 10**-5,\n",
    "                                       verbose = False\n",
    "                                      )\n",
    "\n",
    "monoexp_fs.fit(X = X_train, y = y_train)\n",
    "monoexp_fs.fit_results_"
   ]
  },
  {
   "cell_type": "code",
   "execution_count": null,
   "id": "62ed5bc3",
   "metadata": {},
   "outputs": [],
   "source": [
    "fig, ax = plot_model(X_train, y_train, SklSingleExpFrequencyScan, monoexp_fs.fit_results_, plot_exps=False)\n",
    "plt.show()"
   ]
  },
  {
   "cell_type": "code",
   "execution_count": null,
   "id": "760581c8",
   "metadata": {
    "scrolled": false
   },
   "outputs": [],
   "source": [
    "plot_deviations(X_train, y_train, monoexp_fs.predict(X_train))\n",
    "plt.show()"
   ]
  },
  {
   "cell_type": "code",
   "execution_count": null,
   "id": "2e79088f",
   "metadata": {},
   "outputs": [],
   "source": [
    "sns.displot(x=y_train - monoexp_fs.predict(X_train), bins=7, kde=True)\n",
    "plt.show()"
   ]
  },
  {
   "cell_type": "code",
   "execution_count": null,
   "id": "b904efd6",
   "metadata": {},
   "outputs": [],
   "source": [
    "sns.displot(x=y_train - monoexp_fs.predict(X_train), bins=5, kde=True)\n",
    "plt.grid()\n",
    "plt.show()"
   ]
  },
  {
   "cell_type": "code",
   "execution_count": null,
   "id": "a644445b",
   "metadata": {},
   "outputs": [],
   "source": [
    "mean_squared_error(y_train, y_train - monoexp_fs.predict(X_train), squared=False)"
   ]
  },
  {
   "cell_type": "markdown",
   "id": "04ab952f",
   "metadata": {},
   "source": [
    "### 3.3. Идентификация мультиэкспоненциальной модели с n_exps=1"
   ]
  },
  {
   "cell_type": "code",
   "execution_count": null,
   "id": "55e28e50",
   "metadata": {},
   "outputs": [],
   "source": [
    "multiexp_fs = SklMultiExpFrequencyScan(n_exps = 1,\n",
    "                                       filling_pulse = filling_pulse,\n",
    "                                       stop_val = 10**-5,\n",
    "                                       learning_rate=0.05,\n",
    "                                      )\n",
    "\n",
    "multiexp_fs.fit(X=X_train, y=y_train)"
   ]
  },
  {
   "cell_type": "code",
   "execution_count": null,
   "id": "69b41a7f",
   "metadata": {},
   "outputs": [],
   "source": [
    "multiexp_fs.fit_results_"
   ]
  },
  {
   "cell_type": "code",
   "execution_count": null,
   "id": "1766013a",
   "metadata": {},
   "outputs": [],
   "source": [
    "fig, ax = plot_model(X_train, y_train, SklMultiExpFrequencyScan, multiexp_fs.fit_results_, plot_exps=False)\n",
    "plt.show()"
   ]
  },
  {
   "cell_type": "code",
   "execution_count": null,
   "id": "5062856f",
   "metadata": {
    "scrolled": false
   },
   "outputs": [],
   "source": [
    "plot_deviations(X_train, y_train, multiexp_fs.predict(X_train))\n",
    "plt.show()"
   ]
  },
  {
   "cell_type": "code",
   "execution_count": null,
   "id": "bdfbb1de",
   "metadata": {},
   "outputs": [],
   "source": [
    "sns.displot(x=y_train - multiexp_fs.predict(X_train), bins=7, kde=True)\n",
    "plt.grid()\n",
    "plt.show()"
   ]
  },
  {
   "cell_type": "code",
   "execution_count": null,
   "id": "6bbf0ad8",
   "metadata": {},
   "outputs": [],
   "source": [
    "sns.displot(x=y_train - multiexp_fs.predict(X_train), bins=5, kde=True)\n",
    "plt.show()"
   ]
  },
  {
   "cell_type": "code",
   "execution_count": null,
   "id": "8f4040cd",
   "metadata": {},
   "outputs": [],
   "source": [
    "scores = cross_val_score(multiexp_fs, X_train, y_train, scoring='neg_mean_squared_error', cv=5, n_jobs=-1)\n",
    "\n",
    "display_scores(np.sqrt(-scores))"
   ]
  },
  {
   "cell_type": "code",
   "execution_count": null,
   "id": "9d0acb76",
   "metadata": {},
   "outputs": [],
   "source": [
    "mean_squared_error(y_train, multiexp_fs.predict(X_train), squared=False)"
   ]
  },
  {
   "cell_type": "markdown",
   "id": "ea21bb92",
   "metadata": {},
   "source": [
    "### 3.4. Идентификация мультиэкспоненциальной модели с n_exps>1"
   ]
  },
  {
   "cell_type": "code",
   "execution_count": null,
   "id": "fe064aab",
   "metadata": {},
   "outputs": [],
   "source": [
    "multiexp_fs = SklMultiExpFrequencyScan(n_exps = 1,\n",
    "                                       filling_pulse = filling_pulse,\n",
    "                                       learning_rate = 0.05,\n",
    "                                       stop_val = 10**-5\n",
    "                                      )"
   ]
  },
  {
   "cell_type": "code",
   "execution_count": null,
   "id": "c6bca197",
   "metadata": {},
   "outputs": [],
   "source": [
    "param_grid = {'n_exps': [1, 2, 3, 4, 5, 6, 7, 8, 9, 10]}\n",
    "grid_search = GridSearchCV(multiexp_fs, param_grid, cv=5, \n",
    "                           scoring='neg_mean_squared_error',\n",
    "                           return_train_score=True, n_jobs=-1)"
   ]
  },
  {
   "cell_type": "code",
   "execution_count": null,
   "id": "22f10988",
   "metadata": {},
   "outputs": [],
   "source": [
    "grid_search.fit(X_train, y_train)"
   ]
  },
  {
   "cell_type": "code",
   "execution_count": null,
   "id": "bc2cc38e",
   "metadata": {},
   "outputs": [],
   "source": [
    "grid_search.best_params_"
   ]
  },
  {
   "cell_type": "code",
   "execution_count": null,
   "id": "d3bb0776",
   "metadata": {},
   "outputs": [],
   "source": [
    "cvres = grid_search.cv_results_\n",
    "for mean_score, params in zip(cvres['mean_test_score'], cvres['params']):\n",
    "    print(np.sqrt(-mean_score), params)"
   ]
  },
  {
   "cell_type": "code",
   "execution_count": null,
   "id": "31f82382",
   "metadata": {},
   "outputs": [],
   "source": [
    "y_pred = grid_search.best_estimator_.predict(X_train)"
   ]
  },
  {
   "cell_type": "code",
   "execution_count": null,
   "id": "814de137",
   "metadata": {
    "scrolled": false
   },
   "outputs": [],
   "source": [
    "fig, ax = plot_model(X_train, y_train, SklMultiExpFrequencyScan, grid_search.best_estimator_.fit_results_)\n",
    "\n",
    "plt.show()"
   ]
  },
  {
   "cell_type": "code",
   "execution_count": null,
   "id": "fa794721",
   "metadata": {
    "scrolled": false
   },
   "outputs": [],
   "source": [
    "grid_search.best_estimator_.fit_results_"
   ]
  },
  {
   "cell_type": "code",
   "execution_count": null,
   "id": "a7c448f4",
   "metadata": {},
   "outputs": [],
   "source": [
    "plot_deviations(X_train, y_train, y_pred)\n",
    "plt.show()"
   ]
  },
  {
   "cell_type": "code",
   "execution_count": null,
   "id": "4016fde8",
   "metadata": {
    "scrolled": false
   },
   "outputs": [],
   "source": [
    "sns.displot(x=y_train - y_pred, bins=7, kde=True)\n",
    "plt.show()"
   ]
  },
  {
   "cell_type": "code",
   "execution_count": null,
   "id": "5645d4c4",
   "metadata": {},
   "outputs": [],
   "source": [
    "sns.displot(x=y_train - y_pred, bins=5, kde=True)\n",
    "plt.show()"
   ]
  },
  {
   "cell_type": "code",
   "execution_count": null,
   "id": "3d3494a3",
   "metadata": {},
   "outputs": [],
   "source": [
    "exps_params_283 = grid_search.best_estimator_.exps_params_\n",
    "exps_params_283[:, 1] = exps_params_283[:, 1] / k"
   ]
  },
  {
   "cell_type": "code",
   "execution_count": null,
   "id": "60f2d663",
   "metadata": {},
   "outputs": [],
   "source": [
    "mean_squared_error(y_train, y_pred, squared=False)"
   ]
  },
  {
   "cell_type": "markdown",
   "id": "0d537cc7",
   "metadata": {},
   "source": [
    "## 4. 1564ЛЕ1№1\\_п1\\_2500Гц-1Гц\\_1пФ\\_-10С\\_-4В-5В\\_10мВ\\_10мкс\\_шаг\\_0,01.csv\n",
    "### 4.1. Подготовка экспериментальных данных"
   ]
  },
  {
   "cell_type": "code",
   "execution_count": null,
   "id": "8375a994",
   "metadata": {},
   "outputs": [],
   "source": [
    "filling_pulse, X_train, y_train = get_X_y(data_frames[2][1])"
   ]
  },
  {
   "cell_type": "code",
   "execution_count": null,
   "id": "613aa533",
   "metadata": {},
   "outputs": [],
   "source": [
    "k, y_train = normalize(X_train, y_train)\n",
    "k"
   ]
  },
  {
   "cell_type": "code",
   "execution_count": null,
   "id": "ad489f8c",
   "metadata": {},
   "outputs": [],
   "source": [
    "fig, ax = plot_experimental_points(X_train, y_train)\n",
    "plt.show()"
   ]
  },
  {
   "cell_type": "markdown",
   "id": "af26e5e6",
   "metadata": {},
   "source": [
    "### 4.2. Идентификация моноэкспоненциальной модели с показателем $p$"
   ]
  },
  {
   "cell_type": "code",
   "execution_count": null,
   "id": "1d1c4000",
   "metadata": {},
   "outputs": [],
   "source": [
    "monoexp_fs = SklSingleExpFrequencyScan(filling_pulse = filling_pulse,\n",
    "                                       learning_rate = 0.05,\n",
    "                                       stop_val = 10**-5,\n",
    "                                       verbose = False\n",
    "                                      )\n",
    "\n",
    "monoexp_fs.fit(X = X_train, y = y_train)\n",
    "monoexp_fs.fit_results_"
   ]
  },
  {
   "cell_type": "code",
   "execution_count": null,
   "id": "e7de2d3d",
   "metadata": {},
   "outputs": [],
   "source": [
    "fig, ax = plot_model(X_train, y_train, SklSingleExpFrequencyScan, monoexp_fs.fit_results_, plot_exps=False)\n",
    "plt.show()"
   ]
  },
  {
   "cell_type": "code",
   "execution_count": null,
   "id": "5a3de0e5",
   "metadata": {},
   "outputs": [],
   "source": [
    "plot_deviations(X_train, y_train, monoexp_fs.predict(X_train))\n",
    "plt.show()"
   ]
  },
  {
   "cell_type": "code",
   "execution_count": null,
   "id": "1bdf4232",
   "metadata": {},
   "outputs": [],
   "source": [
    "sns.displot(x=y_train - monoexp_fs.predict(X_train), bins=7, kde=True)\n",
    "plt.show()"
   ]
  },
  {
   "cell_type": "code",
   "execution_count": null,
   "id": "a3f502d7",
   "metadata": {},
   "outputs": [],
   "source": [
    "mean_squared_error(y_train, y_train - monoexp_fs.predict(X_train), squared=False)"
   ]
  },
  {
   "cell_type": "markdown",
   "id": "a022a739",
   "metadata": {},
   "source": [
    "### 4.3. Идентификация мультиэкспоненциальной модели с n_exps=1"
   ]
  },
  {
   "cell_type": "code",
   "execution_count": null,
   "id": "64fe1054",
   "metadata": {},
   "outputs": [],
   "source": [
    "multiexp_fs = SklMultiExpFrequencyScan(n_exps = 1,\n",
    "                                       filling_pulse = filling_pulse,\n",
    "                                       stop_val = 10**-5,\n",
    "                                       learning_rate=0.05,\n",
    "                                      )\n",
    "\n",
    "multiexp_fs.fit(X=X_train, y=y_train)"
   ]
  },
  {
   "cell_type": "code",
   "execution_count": null,
   "id": "8a070fc2",
   "metadata": {},
   "outputs": [],
   "source": [
    "multiexp_fs.fit_results_"
   ]
  },
  {
   "cell_type": "code",
   "execution_count": null,
   "id": "9bc6df5a",
   "metadata": {},
   "outputs": [],
   "source": [
    "fig, ax = plot_model(X_train, y_train, SklMultiExpFrequencyScan, multiexp_fs.fit_results_, plot_exps=False)\n",
    "plt.show()"
   ]
  },
  {
   "cell_type": "code",
   "execution_count": null,
   "id": "361085c0",
   "metadata": {},
   "outputs": [],
   "source": [
    "plot_deviations(X_train, y_train, multiexp_fs.predict(X_train))\n",
    "plt.show()"
   ]
  },
  {
   "cell_type": "code",
   "execution_count": null,
   "id": "c4483929",
   "metadata": {},
   "outputs": [],
   "source": [
    "sns.displot(x=y_train - multiexp_fs.predict(X_train), bins=7, kde=True)\n",
    "plt.show()"
   ]
  },
  {
   "cell_type": "code",
   "execution_count": null,
   "id": "1912d46d",
   "metadata": {},
   "outputs": [],
   "source": [
    "scores = cross_val_score(multiexp_fs, X_train, y_train, scoring='neg_mean_squared_error', cv=5, n_jobs=-1)\n",
    "display_scores(np.sqrt(-scores))"
   ]
  },
  {
   "cell_type": "code",
   "execution_count": null,
   "id": "ba170d0b",
   "metadata": {},
   "outputs": [],
   "source": [
    "mean_squared_error(y_train, multiexp_fs.predict(X_train), squared=False)"
   ]
  },
  {
   "cell_type": "markdown",
   "id": "f21710d1",
   "metadata": {},
   "source": [
    "### 4.4. Идентификация мультиэкспоненциальной модели с n_exps>1"
   ]
  },
  {
   "cell_type": "code",
   "execution_count": null,
   "id": "861e24c9",
   "metadata": {},
   "outputs": [],
   "source": [
    "multiexp_fs = SklMultiExpFrequencyScan(n_exps = 1,\n",
    "                                       filling_pulse = filling_pulse,\n",
    "                                       learning_rate = 0.05,\n",
    "                                       stop_val = 10**-5\n",
    "                                      )"
   ]
  },
  {
   "cell_type": "code",
   "execution_count": null,
   "id": "bd13665b",
   "metadata": {},
   "outputs": [],
   "source": [
    "param_grid = {'n_exps': [1, 2, 3, 4, 5, 6, 7, 8, 9, 10]}\n",
    "grid_search = GridSearchCV(multiexp_fs, param_grid, cv=5, \n",
    "                           scoring='neg_mean_squared_error',\n",
    "                           return_train_score=True, n_jobs=-1)"
   ]
  },
  {
   "cell_type": "code",
   "execution_count": null,
   "id": "5028f4e6",
   "metadata": {},
   "outputs": [],
   "source": [
    "grid_search.fit(X_train, y_train)"
   ]
  },
  {
   "cell_type": "code",
   "execution_count": null,
   "id": "ff889ad6",
   "metadata": {},
   "outputs": [],
   "source": [
    "grid_search.best_params_"
   ]
  },
  {
   "cell_type": "code",
   "execution_count": null,
   "id": "50616447",
   "metadata": {},
   "outputs": [],
   "source": [
    "cvres = grid_search.cv_results_\n",
    "for mean_score, params in zip(cvres['mean_test_score'], cvres['params']):\n",
    "    print(np.sqrt(-mean_score), params)"
   ]
  },
  {
   "cell_type": "code",
   "execution_count": null,
   "id": "5bef9138",
   "metadata": {},
   "outputs": [],
   "source": [
    "y_pred = grid_search.best_estimator_.predict(X_train)"
   ]
  },
  {
   "cell_type": "code",
   "execution_count": null,
   "id": "19eca557",
   "metadata": {},
   "outputs": [],
   "source": [
    "fig, ax = plot_model(X_train, y_train, SklMultiExpFrequencyScan, grid_search.best_estimator_.fit_results_)\n",
    "plt.show()"
   ]
  },
  {
   "cell_type": "code",
   "execution_count": null,
   "id": "69bcf10b",
   "metadata": {},
   "outputs": [],
   "source": [
    "grid_search.best_estimator_.fit_results_"
   ]
  },
  {
   "cell_type": "code",
   "execution_count": null,
   "id": "15e7c969",
   "metadata": {},
   "outputs": [],
   "source": [
    "plot_deviations(X_train, y_train, y_pred)\n",
    "plt.show()"
   ]
  },
  {
   "cell_type": "code",
   "execution_count": null,
   "id": "8ad73f2c",
   "metadata": {},
   "outputs": [],
   "source": [
    "sns.displot(x=y_train - y_pred, bins=7, kde=True)\n",
    "plt.show()"
   ]
  },
  {
   "cell_type": "code",
   "execution_count": null,
   "id": "038923fe",
   "metadata": {},
   "outputs": [],
   "source": [
    "sns.displot(x=y_train - y_pred, bins=21, kde=True)\n",
    "plt.show()"
   ]
  },
  {
   "cell_type": "code",
   "execution_count": null,
   "id": "317c7149",
   "metadata": {},
   "outputs": [],
   "source": [
    "exps_params_263 = grid_search.best_estimator_.exps_params_\n",
    "exps_params_263[:, 1] = exps_params_303[:, 1] / k"
   ]
  }
 ],
 "metadata": {
  "kernelspec": {
   "display_name": "Python 3 (ipykernel)",
   "language": "python",
   "name": "python3"
  },
  "language_info": {
   "codemirror_mode": {
    "name": "ipython",
    "version": 3
   },
   "file_extension": ".py",
   "mimetype": "text/x-python",
   "name": "python",
   "nbconvert_exporter": "python",
   "pygments_lexer": "ipython3",
   "version": "3.10.6"
  }
 },
 "nbformat": 4,
 "nbformat_minor": 5
}
