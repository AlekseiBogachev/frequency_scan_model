{
 "cells": [
  {
   "cell_type": "code",
   "execution_count": null,
   "id": "90935efe",
   "metadata": {},
   "outputs": [],
   "source": [
    "from pydlts.misc import AutoReport"
   ]
  },
  {
   "cell_type": "code",
   "execution_count": null,
   "id": "4e95224a",
   "metadata": {},
   "outputs": [],
   "source": [
    "report_printer = AutoReport()"
   ]
  },
  {
   "cell_type": "code",
   "execution_count": null,
   "id": "7484c5f3",
   "metadata": {
    "scrolled": true
   },
   "outputs": [],
   "source": [
    "report_printer.create_auto_report()"
   ]
  }
 ],
 "metadata": {
  "kernelspec": {
   "display_name": "Python 3 (ipykernel)",
   "language": "python",
   "name": "python3"
  },
  "language_info": {
   "codemirror_mode": {
    "name": "ipython",
    "version": 3
   },
   "file_extension": ".py",
   "mimetype": "text/x-python",
   "name": "python",
   "nbconvert_exporter": "python",
   "pygments_lexer": "ipython3",
   "version": "3.10.6"
  }
 },
 "nbformat": 4,
 "nbformat_minor": 5
}
