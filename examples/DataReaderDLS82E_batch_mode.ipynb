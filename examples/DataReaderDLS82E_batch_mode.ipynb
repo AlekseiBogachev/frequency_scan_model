{
 "cells": [
  {
   "cell_type": "code",
   "execution_count": 1,
   "id": "8583c60d",
   "metadata": {},
   "outputs": [
    {
     "name": "stdout",
     "output_type": "stream",
     "text": [
      "№0  \t1564ЛЕ1№1_п1_2500Гц-1Гц_1пФ_+10С_-4В-5В_100мВ_10мкс_шаг_0,01          \t- Ok\n",
      "№1  \t1564ЛЕ1№1_п1_2500Гц-1Гц_1пФ_+10С_-4В-5В_100мВ_10мкс_шаг_0,01_(№2)     \t- Ok\n",
      "№2  \t1564ЛЕ1№1_п1_2500Гц-1Гц_1пФ_+10С_-4В-5В_500мВ_10мкс_шаг_0,01          \t- Ok\n",
      "№3  \t1564ЛЕ1№2_п1_2500Гц-1Гц_1пФ_+30С_-4В-5В_200мВ_10мкс_шаг_0,01          \t- FileNotFoundError\n"
     ]
    }
   ],
   "source": [
    "from pydlts.misc import BatchDataReaderDLS82E\n",
    "\n",
    "reader = BatchDataReaderDLS82E(integral_time = 3.0,\n",
    "                               time_between_meas = 3.5,\n",
    "                               raw_data_path='example_data/raw_data', \n",
    "                               datasets_path='../datasets', \n",
    "                               plots_path='../plots')\n",
    "\n",
    "reader.read_data()"
   ]
  }
 ],
 "metadata": {
  "kernelspec": {
   "display_name": "Python 3 (ipykernel)",
   "language": "python",
   "name": "python3"
  },
  "language_info": {
   "codemirror_mode": {
    "name": "ipython",
    "version": 3
   },
   "file_extension": ".py",
   "mimetype": "text/x-python",
   "name": "python",
   "nbconvert_exporter": "python",
   "pygments_lexer": "ipython3",
   "version": "3.10.4"
  }
 },
 "nbformat": 4,
 "nbformat_minor": 5
}
