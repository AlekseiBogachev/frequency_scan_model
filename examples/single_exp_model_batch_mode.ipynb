{
 "cells": [
  {
   "cell_type": "code",
   "execution_count": null,
   "id": "cd8e7db3",
   "metadata": {},
   "outputs": [],
   "source": [
    "import os\n",
    "os.environ['CUDA_VISIBLE_DEVICES'] = ''"
   ]
  },
  {
   "cell_type": "code",
   "execution_count": null,
   "id": "218286d9",
   "metadata": {},
   "outputs": [],
   "source": [
    "from pydlts.misc import BatchSingleExp"
   ]
  },
  {
   "cell_type": "code",
   "execution_count": null,
   "id": "60dc91ef",
   "metadata": {},
   "outputs": [],
   "source": [
    "model_creator = BatchSingleExp(n_jobs=-1)"
   ]
  },
  {
   "cell_type": "code",
   "execution_count": null,
   "id": "3e08974d",
   "metadata": {
    "scrolled": false
   },
   "outputs": [],
   "source": [
    "model_creator.create_models()"
   ]
  }
 ],
 "metadata": {
  "kernelspec": {
   "display_name": "Python 3 (ipykernel)",
   "language": "python",
   "name": "python3"
  },
  "language_info": {
   "codemirror_mode": {
    "name": "ipython",
    "version": 3
   },
   "file_extension": ".py",
   "mimetype": "text/x-python",
   "name": "python",
   "nbconvert_exporter": "python",
   "pygments_lexer": "ipython3",
   "version": "3.10.6"
  }
 },
 "nbformat": 4,
 "nbformat_minor": 5
}
