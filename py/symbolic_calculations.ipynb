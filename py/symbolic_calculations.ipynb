{
 "cells": [
  {
   "cell_type": "code",
   "execution_count": 1,
   "id": "9aeba99e",
   "metadata": {},
   "outputs": [],
   "source": [
    "import numpy as np\n",
    "import pandas as pd\n",
    "import sympy as sm\n",
    "\n",
    "from matplotlib import pyplot as plt"
   ]
  },
  {
   "cell_type": "code",
   "execution_count": 2,
   "id": "34cca58a",
   "metadata": {},
   "outputs": [
    {
     "data": {
      "text/plain": [
       "'1.10.1'"
      ]
     },
     "execution_count": 2,
     "metadata": {},
     "output_type": "execute_result"
    }
   ],
   "source": [
    "sm.__version__"
   ]
  },
  {
   "cell_type": "markdown",
   "id": "63cd8d52",
   "metadata": {},
   "source": [
    "Выходной сигнал коррелятора спектрометра DLS-82E определяется выражением:\n",
    "\\begin{equation}\n",
    "    \\label{eq:eq1}\n",
    "    S\\left(\\tau,C_A,F_0, t_1\\right) = C_A K_{BS} K_{LS} \\phi\\left(\\tau,F_0,t_1\\right),\n",
    "\\end{equation}\n",
    "где  \n",
    "$C_A$ - амплитуда емкостного релаксационного сигнала,  \n",
    "$K_{BS}$ - масштабный коэффициент, зависящий от чувствительности емкостного моста,  \n",
    "$K_{LS}$ - масштабный коэффициент селектора,  \n",
    "$\\tau$ - постоянная времени релаксации гулбокого уровня,  \n",
    "$F_0$ - частота сканирования импульсов заполнения,  \n",
    "$t_1$ - длительность импульса заполнения,  \n",
    "$\\phi\\left(\\tau,F_0,t_1\\right)$ - функция определяемая выражением:  \n",
    "\\begin{equation}\n",
    "    \\label{eq:eq2}\n",
    "    \\phi\\left(\\tau,F_0,t_1\\right) = \n",
    "    M \\tau F_0 e^{-\\frac{0.05}{\\tau F_0}}\n",
    "    \\left(1-e^{\\frac{t_1 F_0-0.45}{\\tau F_0}}\n",
    "    -e^{-\\frac{0.5}{\\tau F_0}}+\n",
    "    e^{\\frac{t_1 F_0-0.95}{\\tau F_0}}\\right),\n",
    "\\end{equation}\n",
    "где $M$ -- масштабный множитель."
   ]
  },
  {
   "cell_type": "markdown",
   "id": "230bdbf7",
   "metadata": {},
   "source": [
    "Таким образом,\n",
    "\\begin{equation}\n",
    "    \\label{eq:eq2}\n",
    "    M = \\frac{1}{\\max{\\left[\n",
    "    \\tau F_0 e^{-\\frac{0.05}{\\tau F_0}}\n",
    "    \\left(1-e^{\\frac{t_1 F_0-0.45}{\\tau F_0}}\n",
    "    -e^{-\\frac{0.5}{\\tau F_0}}+\n",
    "    e^{\\frac{t_1 F_0-0.95}{\\tau F_0}}\\right)\n",
    "    \\right]}}\n",
    "\\end{equation}"
   ]
  },
  {
   "cell_type": "code",
   "execution_count": 3,
   "id": "3c4a447c",
   "metadata": {},
   "outputs": [
    {
     "data": {
      "text/latex": [
       "$\\displaystyle \\tau$"
      ],
      "text/plain": [
       "tau"
      ]
     },
     "execution_count": 3,
     "metadata": {},
     "output_type": "execute_result"
    }
   ],
   "source": [
    "tau = sm.symbols('tau', positive=True, constant=True)\n",
    "tau"
   ]
  },
  {
   "cell_type": "code",
   "execution_count": 4,
   "id": "a208d6d2",
   "metadata": {},
   "outputs": [
    {
     "data": {
      "text/latex": [
       "$\\displaystyle F_{0}$"
      ],
      "text/plain": [
       "F0"
      ]
     },
     "execution_count": 4,
     "metadata": {},
     "output_type": "execute_result"
    }
   ],
   "source": [
    "F0 = sm.symbols('F0', positive=True, constant=False)\n",
    "F0"
   ]
  },
  {
   "cell_type": "code",
   "execution_count": 5,
   "id": "acd7332e",
   "metadata": {},
   "outputs": [
    {
     "data": {
      "text/latex": [
       "$\\displaystyle t_{1}$"
      ],
      "text/plain": [
       "t1"
      ]
     },
     "execution_count": 5,
     "metadata": {},
     "output_type": "execute_result"
    }
   ],
   "source": [
    "t1 = sm.symbols('t1', positive=True, constant=True)\n",
    "t1"
   ]
  },
  {
   "cell_type": "code",
   "execution_count": 6,
   "id": "dd5258da",
   "metadata": {},
   "outputs": [],
   "source": [
    "# M = sm.symbols('M', positive=True)\n",
    "# M"
   ]
  },
  {
   "cell_type": "code",
   "execution_count": 7,
   "id": "4bd98b51",
   "metadata": {},
   "outputs": [
    {
     "data": {
      "text/latex": [
       "$\\displaystyle e^{- \\frac{0.05}{F_{0} \\tau}}$"
      ],
      "text/plain": [
       "exp(-0.05/(F0*tau))"
      ]
     },
     "execution_count": 7,
     "metadata": {},
     "output_type": "execute_result"
    }
   ],
   "source": [
    "exp0 = sm.exp( -0.05 / (tau * F0) )\n",
    "exp0"
   ]
  },
  {
   "cell_type": "code",
   "execution_count": 8,
   "id": "6a287953",
   "metadata": {},
   "outputs": [
    {
     "data": {
      "text/latex": [
       "$\\displaystyle - e^{\\frac{F_{0} t_{1} - 0.45}{F_{0} \\tau}}$"
      ],
      "text/plain": [
       "-exp((F0*t1 - 0.45)/(F0*tau))"
      ]
     },
     "execution_count": 8,
     "metadata": {},
     "output_type": "execute_result"
    }
   ],
   "source": [
    "exp1 = - sm.exp( (t1 * F0 - 0.45) / (tau * F0) )\n",
    "exp1"
   ]
  },
  {
   "cell_type": "code",
   "execution_count": 9,
   "id": "81ac569c",
   "metadata": {},
   "outputs": [
    {
     "data": {
      "text/latex": [
       "$\\displaystyle - e^{- \\frac{0.5}{F_{0} \\tau}}$"
      ],
      "text/plain": [
       "-exp(-0.5/(F0*tau))"
      ]
     },
     "execution_count": 9,
     "metadata": {},
     "output_type": "execute_result"
    }
   ],
   "source": [
    "exp2 = - sm.exp( (-0.5) / (tau * F0) )\n",
    "exp2"
   ]
  },
  {
   "cell_type": "code",
   "execution_count": 10,
   "id": "dbdee9cd",
   "metadata": {},
   "outputs": [
    {
     "data": {
      "text/latex": [
       "$\\displaystyle e^{\\frac{F_{0} t_{1} - 0.95}{F_{0} \\tau}}$"
      ],
      "text/plain": [
       "exp((F0*t1 - 0.95)/(F0*tau))"
      ]
     },
     "execution_count": 10,
     "metadata": {},
     "output_type": "execute_result"
    }
   ],
   "source": [
    "exp3 = sm.exp( (t1 * F0 - 0.95) / (tau * F0) )\n",
    "exp3"
   ]
  },
  {
   "cell_type": "code",
   "execution_count": 11,
   "id": "c682a1e2",
   "metadata": {},
   "outputs": [
    {
     "data": {
      "text/latex": [
       "$\\displaystyle F_{0} \\tau \\left(e^{\\frac{F_{0} t_{1} - 0.95}{F_{0} \\tau}} - e^{\\frac{F_{0} t_{1} - 0.45}{F_{0} \\tau}} + 1 - e^{- \\frac{0.5}{F_{0} \\tau}}\\right) e^{- \\frac{0.05}{F_{0} \\tau}}$"
      ],
      "text/plain": [
       "F0*tau*(exp((F0*t1 - 0.95)/(F0*tau)) - exp((F0*t1 - 0.45)/(F0*tau)) + 1 - exp(-0.5/(F0*tau)))*exp(-0.05/(F0*tau))"
      ]
     },
     "execution_count": 11,
     "metadata": {},
     "output_type": "execute_result"
    }
   ],
   "source": [
    "phi = tau * F0 * exp0 * (1 + exp1 + exp2 + exp3) # * M\n",
    "\n",
    "phi"
   ]
  },
  {
   "cell_type": "code",
   "execution_count": 12,
   "id": "ef8d34a4",
   "metadata": {
    "scrolled": true
   },
   "outputs": [
    {
     "data": {
      "text/latex": [
       "$\\displaystyle F_{0} \\tau \\left(\\left(\\frac{t_{1}}{F_{0} \\tau} - \\frac{F_{0} t_{1} - 0.95}{F_{0}^{2} \\tau}\\right) e^{\\frac{F_{0} t_{1} - 0.95}{F_{0} \\tau}} - \\left(\\frac{t_{1}}{F_{0} \\tau} - \\frac{F_{0} t_{1} - 0.45}{F_{0}^{2} \\tau}\\right) e^{\\frac{F_{0} t_{1} - 0.45}{F_{0} \\tau}} - \\frac{0.5 e^{- \\frac{0.5}{F_{0} \\tau}}}{F_{0}^{2} \\tau}\\right) e^{- \\frac{0.05}{F_{0} \\tau}} + \\tau \\left(e^{\\frac{F_{0} t_{1} - 0.95}{F_{0} \\tau}} - e^{\\frac{F_{0} t_{1} - 0.45}{F_{0} \\tau}} + 1 - e^{- \\frac{0.5}{F_{0} \\tau}}\\right) e^{- \\frac{0.05}{F_{0} \\tau}} + \\frac{0.05 \\left(e^{\\frac{F_{0} t_{1} - 0.95}{F_{0} \\tau}} - e^{\\frac{F_{0} t_{1} - 0.45}{F_{0} \\tau}} + 1 - e^{- \\frac{0.5}{F_{0} \\tau}}\\right) e^{- \\frac{0.05}{F_{0} \\tau}}}{F_{0}}$"
      ],
      "text/plain": [
       "F0*tau*((t1/(F0*tau) - (F0*t1 - 0.95)/(F0**2*tau))*exp((F0*t1 - 0.95)/(F0*tau)) - (t1/(F0*tau) - (F0*t1 - 0.45)/(F0**2*tau))*exp((F0*t1 - 0.45)/(F0*tau)) - 0.5*exp(-0.5/(F0*tau))/(F0**2*tau))*exp(-0.05/(F0*tau)) + tau*(exp((F0*t1 - 0.95)/(F0*tau)) - exp((F0*t1 - 0.45)/(F0*tau)) + 1 - exp(-0.5/(F0*tau)))*exp(-0.05/(F0*tau)) + 0.05*(exp((F0*t1 - 0.95)/(F0*tau)) - exp((F0*t1 - 0.45)/(F0*tau)) + 1 - exp(-0.5/(F0*tau)))*exp(-0.05/(F0*tau))/F0"
      ]
     },
     "execution_count": 12,
     "metadata": {},
     "output_type": "execute_result"
    }
   ],
   "source": [
    "dphi_dF0 = sm.diff(phi, F0)\n",
    "dphi_dF0"
   ]
  },
  {
   "cell_type": "code",
   "execution_count": 13,
   "id": "4520e5de",
   "metadata": {},
   "outputs": [],
   "source": [
    "# dphi_dF0 = dphi_dF0.subs(t1, 20*10**-6)\n",
    "# dphi_dF0"
   ]
  },
  {
   "cell_type": "code",
   "execution_count": 14,
   "id": "232ce409",
   "metadata": {},
   "outputs": [],
   "source": [
    "# dphi_dF0 = dphi_dF0.subs(tau, 10**-3)\n",
    "# dphi_dF0"
   ]
  },
  {
   "cell_type": "code",
   "execution_count": 15,
   "id": "a2b8810e",
   "metadata": {},
   "outputs": [
    {
     "data": {
      "text/latex": [
       "$\\displaystyle \\frac{\\left(- 1.0 F_{0} \\tau e^{\\frac{0.45}{F_{0} \\tau}} + 1.0 F_{0} \\tau e^{\\frac{0.95}{F_{0} \\tau}} + 1.0 F_{0} \\tau e^{\\frac{t_{1}}{\\tau}} - 1.0 F_{0} \\tau e^{\\frac{t_{1} + \\frac{0.5}{F_{0}}}{\\tau}} - 0.55 e^{\\frac{0.45}{F_{0} \\tau}} + 0.05 e^{\\frac{0.95}{F_{0} \\tau}} + 1.0 e^{\\frac{t_{1}}{\\tau}} - 0.5 e^{\\frac{t_{1} + \\frac{0.5}{F_{0}}}{\\tau}}\\right) e^{- \\frac{1.0}{F_{0} \\tau}}}{F_{0}}$"
      ],
      "text/plain": [
       "(-1.0*F0*tau*exp(0.45/(F0*tau)) + 1.0*F0*tau*exp(0.95/(F0*tau)) + 1.0*F0*tau*exp(t1/tau) - 1.0*F0*tau*exp((t1 + 0.5/F0)/tau) - 0.55*exp(0.45/(F0*tau)) + 0.05*exp(0.95/(F0*tau)) + 1.0*exp(t1/tau) - 0.5*exp((t1 + 0.5/F0)/tau))*exp(-1.0/(F0*tau))/F0"
      ]
     },
     "execution_count": 15,
     "metadata": {},
     "output_type": "execute_result"
    }
   ],
   "source": [
    "dphi_dF0.simplify()"
   ]
  },
  {
   "cell_type": "code",
   "execution_count": 16,
   "id": "66ce5684",
   "metadata": {},
   "outputs": [
    {
     "data": {
      "text/latex": [
       "$\\displaystyle \\left\\{R\\; \\middle|\\; R \\in \\left[1, 2500\\right] \\wedge - R \\tau e^{\\frac{0.05}{R \\tau}} + R \\tau e^{\\frac{0.55}{R \\tau}} e^{\\frac{R t_{1} - 0.95}{R \\tau}} - R \\tau e^{\\frac{0.55}{R \\tau}} e^{\\frac{R t_{1} - 0.45}{R \\tau}} + R \\tau e^{\\frac{0.55}{R \\tau}} - 0.55 e^{\\frac{0.05}{R \\tau}} + 1.0 e^{\\frac{0.55}{R \\tau}} e^{\\frac{R t_{1} - 0.95}{R \\tau}} - 0.5 e^{\\frac{0.55}{R \\tau}} e^{\\frac{R t_{1} - 0.45}{R \\tau}} + 0.05 e^{\\frac{0.55}{R \\tau}} = 0 \\right\\} \\setminus \\left\\{R\\; \\middle|\\; R \\in \\left[1, 2500\\right] \\wedge R e^{\\frac{0.6}{R \\tau}} = 0 \\right\\}$"
      ],
      "text/plain": [
       "Complement(ConditionSet(_R, Eq(-_R*tau*exp(0.05/(_R*tau)) + _R*tau*exp(0.55/(_R*tau))*exp((_R*t1 - 0.95)/(_R*tau)) - _R*tau*exp(0.55/(_R*tau))*exp((_R*t1 - 0.45)/(_R*tau)) + _R*tau*exp(0.55/(_R*tau)) - 0.55*exp(0.05/(_R*tau)) + 1.0*exp(0.55/(_R*tau))*exp((_R*t1 - 0.95)/(_R*tau)) - 0.5*exp(0.55/(_R*tau))*exp((_R*t1 - 0.45)/(_R*tau)) + 0.05*exp(0.55/(_R*tau)), 0), Interval(1, 2500)), ConditionSet(_R, Eq(_R*exp(0.6/(_R*tau)), 0), Interval(1, 2500)))"
      ]
     },
     "execution_count": 16,
     "metadata": {},
     "output_type": "execute_result"
    }
   ],
   "source": [
    "sm.solveset(dphi_dF0, F0, domain=sm.Interval(1,2500))"
   ]
  },
  {
   "cell_type": "code",
   "execution_count": 17,
   "id": "5b7cf6f8",
   "metadata": {
    "scrolled": true
   },
   "outputs": [
    {
     "data": {
      "text/latex": [
       "$\\displaystyle \\frac{1.0 \\left(- 0.001 F_{0} e^{\\frac{450.0}{F_{0}}} - 0.00102020134002676 F_{0} e^{\\frac{500.0}{F_{0}}} + 0.001 F_{0} e^{\\frac{950.0}{F_{0}}} + 0.00102020134002676 F_{0} - 0.55 e^{\\frac{450.0}{F_{0}}} - 0.510100670013378 e^{\\frac{500.0}{F_{0}}} + 0.05 e^{\\frac{950.0}{F_{0}}} + 1.02020134002676\\right) e^{- \\frac{1000.0}{F_{0}}}}{F_{0}}$"
      ],
      "text/plain": [
       "1.0*(-0.001*F0*exp(450.0/F0) - 0.00102020134002676*F0*exp(500.0/F0) + 0.001*F0*exp(950.0/F0) + 0.00102020134002676*F0 - 0.55*exp(450.0/F0) - 0.510100670013378*exp(500.0/F0) + 0.05*exp(950.0/F0) + 1.02020134002676)*exp(-1000.0/F0)/F0"
      ]
     },
     "execution_count": 17,
     "metadata": {},
     "output_type": "execute_result"
    }
   ],
   "source": [
    "dphi_dF0 = dphi_dF0.subs(tau, 0.001)\n",
    "dphi_dF0 = dphi_dF0.subs(t1, 20*10**-6)\n",
    "\n",
    "dphi_dF0 = dphi_dF0.simplify()\n",
    "\n",
    "dphi_dF0"
   ]
  },
  {
   "cell_type": "code",
   "execution_count": 18,
   "id": "7e146df4",
   "metadata": {},
   "outputs": [],
   "source": [
    "from sympy.plotting import plot"
   ]
  },
  {
   "cell_type": "code",
   "execution_count": 19,
   "id": "79ecf495",
   "metadata": {},
   "outputs": [
    {
     "data": {
      "image/png": "[encoded data removed]",
      "text/plain": [
       "<Figure size 432x288 with 1 Axes>"
      ]
     },
     "metadata": {
      "needs_background": "light"
     },
     "output_type": "display_data"
    }
   ],
   "source": [
    "p = plot(dphi_dF0, (F0, 1, 2500))"
   ]
  },
  {
   "cell_type": "code",
   "execution_count": 20,
   "id": "e8bf8a5c",
   "metadata": {},
   "outputs": [
    {
     "data": {
      "image/png": "[encoded data removed]",
      "text/plain": [
       "<Figure size 432x288 with 1 Axes>"
      ]
     },
     "metadata": {
      "needs_background": "light"
     },
     "output_type": "display_data"
    }
   ],
   "source": [
    "phi = phi.subs(tau, 0.001)\n",
    "phi = phi.subs(t1, 20*10**-6)\n",
    "\n",
    "p1 = plot(phi, (F0, 1, 2500))"
   ]
  },
  {
   "cell_type": "code",
   "execution_count": 21,
   "id": "71a1e9df",
   "metadata": {},
   "outputs": [
    {
     "data": {
      "text/latex": [
       "$\\displaystyle \\left\\{R\\; \\middle|\\; R \\in \\left[1, 2500\\right] \\wedge 0.00102020134002676 R e^{\\frac{1100.0}{R}} - 0.001 R e^{\\frac{1550.0}{R}} - 0.00102020134002676 R e^{\\frac{1600.0}{R}} + 0.001 R e^{\\frac{2050.0}{R}} + 1.02020134002676 e^{\\frac{1100.0}{R}} - 0.55 e^{\\frac{1550.0}{R}} - 0.510100670013378 e^{\\frac{1600.0}{R}} + 0.05 e^{\\frac{2050.0}{R}} = 0 \\right\\} \\setminus \\left\\{R\\; \\middle|\\; R \\in \\left[1, 2500\\right] \\wedge R e^{\\frac{2100.0}{R}} = 0 \\right\\}$"
      ],
      "text/plain": [
       "Complement(ConditionSet(_R, Eq(0.00102020134002676*_R*exp(1100.0/_R) - 0.001*_R*exp(1550.0/_R) - 0.00102020134002676*_R*exp(1600.0/_R) + 0.001*_R*exp(2050.0/_R) + 1.02020134002676*exp(1100.0/_R) - 0.55*exp(1550.0/_R) - 0.510100670013378*exp(1600.0/_R) + 0.05*exp(2050.0/_R), 0), Interval(1, 2500)), ConditionSet(_R, Eq(_R*exp(2100.0/_R), 0), Interval(1, 2500)))"
      ]
     },
     "execution_count": 21,
     "metadata": {},
     "output_type": "execute_result"
    }
   ],
   "source": [
    "sm.solveset(dphi_dF0, domain=sm.Interval(1,2500))"
   ]
  }
 ],
 "metadata": {
  "kernelspec": {
   "display_name": "Python 3 (ipykernel)",
   "language": "python",
   "name": "python3"
  },
  "language_info": {
   "codemirror_mode": {
    "name": "ipython",
    "version": 3
   },
   "file_extension": ".py",
   "mimetype": "text/x-python",
   "name": "python",
   "nbconvert_exporter": "python",
   "pygments_lexer": "ipython3",
   "version": "3.9.12"
  }
 },
 "nbformat": 4,
 "nbformat_minor": 5
}
