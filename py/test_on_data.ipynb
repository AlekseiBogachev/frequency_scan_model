{
 "cells": [
  {
   "cell_type": "markdown",
   "id": "c9f272ab",
   "metadata": {},
   "source": [
    "# Апробация модели мультиэкспоненциального частотного скана на данных из набора \"1564ЛЕ1 при разных U1 Ur август 2022\""
   ]
  },
  {
   "cell_type": "markdown",
   "id": "83aae74d",
   "metadata": {},
   "source": [
    "## 0. Импорт модулей"
   ]
  },
  {
   "cell_type": "code",
   "execution_count": 1,
   "id": "9e9b6d93",
   "metadata": {},
   "outputs": [],
   "source": [
    "from os import listdir\n",
    "import matplotlib.pyplot as plt\n",
    "import numpy as np\n",
    "import pandas as pd\n",
    "import regex as re\n",
    "from sklearn.model_selection import cross_val_score\n",
    "from sklearn.model_selection import GridSearchCV\n",
    "\n",
    "from fsmodels import SklMultiExpFrequencyScan\n",
    "\n",
    "%matplotlib inline"
   ]
  },
  {
   "cell_type": "markdown",
   "id": "c1c0e7dd",
   "metadata": {},
   "source": [
    "## 1. Чтение данных"
   ]
  },
  {
   "cell_type": "code",
   "execution_count": 2,
   "id": "b23a1ac5",
   "metadata": {},
   "outputs": [],
   "source": [
    "DATASET_PATH = '../dataset/'\n",
    "PLOTS_PATH = '../plots/'\n",
    "MODELS_PATH = '../models/'"
   ]
  },
  {
   "cell_type": "code",
   "execution_count": 3,
   "id": "d12baff2",
   "metadata": {
    "scrolled": true
   },
   "outputs": [],
   "source": [
    "file_names = listdir(DATASET_PATH)"
   ]
  },
  {
   "cell_type": "code",
   "execution_count": 4,
   "id": "e9ce8d2a",
   "metadata": {},
   "outputs": [],
   "source": [
    "u1 = -4\n",
    "ur = -5\n",
    "\n",
    "data_frames = [[file_name, pd.read_csv(DATASET_PATH + file_name, parse_dates=[0])] for file_name in file_names]\n",
    "\n",
    "condition = lambda frame: frame.loc[0, 'u1']==u1 and frame.loc[0, 'ur']==ur\n",
    "data_frames = [[name, frame] for [name, frame] in data_frames if condition(frame)]"
   ]
  },
  {
   "cell_type": "code",
   "execution_count": 5,
   "id": "6eea0880",
   "metadata": {},
   "outputs": [
    {
     "data": {
      "text/plain": [
       "3"
      ]
     },
     "execution_count": 5,
     "metadata": {},
     "output_type": "execute_result"
    }
   ],
   "source": [
    "len(data_frames)"
   ]
  },
  {
   "cell_type": "code",
   "execution_count": 6,
   "id": "b2d77a55",
   "metadata": {},
   "outputs": [
    {
     "name": "stdout",
     "output_type": "stream",
     "text": [
      "1564ЛЕ1№1_п1_2500Гц-1Гц_10пФ_+30С_-4В-5В_50мВ_10мкс_шаг_0,1.csv\n"
     ]
    },
    {
     "data": {
      "text/html": [
       "<div>\n",
       "<style scoped>\n",
       "    .dataframe tbody tr th:only-of-type {\n",
       "        vertical-align: middle;\n",
       "    }\n",
       "\n",
       "    .dataframe tbody tr th {\n",
       "        vertical-align: top;\n",
       "    }\n",
       "\n",
       "    .dataframe thead th {\n",
       "        text-align: right;\n",
       "    }\n",
       "</style>\n",
       "<table border=\"1\" class=\"dataframe\">\n",
       "  <thead>\n",
       "    <tr style=\"text-align: right;\">\n",
       "      <th></th>\n",
       "      <th>time</th>\n",
       "      <th>frequency_hz</th>\n",
       "      <th>dlts_v</th>\n",
       "      <th>temperature_k</th>\n",
       "      <th>dlts_pf</th>\n",
       "      <th>bs</th>\n",
       "      <th>ls</th>\n",
       "      <th>f_pulse</th>\n",
       "      <th>u1</th>\n",
       "      <th>ur</th>\n",
       "      <th>time_between_meas</th>\n",
       "      <th>integral_time</th>\n",
       "      <th>specimen_name</th>\n",
       "    </tr>\n",
       "  </thead>\n",
       "  <tbody>\n",
       "    <tr>\n",
       "      <th>0</th>\n",
       "      <td>2022-08-03 14:34:48</td>\n",
       "      <td>2500.0000</td>\n",
       "      <td>1.456</td>\n",
       "      <td>303.264</td>\n",
       "      <td>0.007280</td>\n",
       "      <td>10</td>\n",
       "      <td>50</td>\n",
       "      <td>10.0</td>\n",
       "      <td>-4.0</td>\n",
       "      <td>-5.0</td>\n",
       "      <td>3.5</td>\n",
       "      <td>3.0</td>\n",
       "      <td>1564ЛЕ1№1 п1</td>\n",
       "    </tr>\n",
       "    <tr>\n",
       "      <th>1</th>\n",
       "      <td>2022-08-03 14:34:52</td>\n",
       "      <td>1985.8207</td>\n",
       "      <td>1.526</td>\n",
       "      <td>303.276</td>\n",
       "      <td>0.007630</td>\n",
       "      <td>10</td>\n",
       "      <td>50</td>\n",
       "      <td>10.0</td>\n",
       "      <td>-4.0</td>\n",
       "      <td>-5.0</td>\n",
       "      <td>3.5</td>\n",
       "      <td>3.0</td>\n",
       "      <td>1564ЛЕ1№1 п1</td>\n",
       "    </tr>\n",
       "    <tr>\n",
       "      <th>2</th>\n",
       "      <td>2022-08-03 14:34:56</td>\n",
       "      <td>1577.3937</td>\n",
       "      <td>1.649</td>\n",
       "      <td>303.279</td>\n",
       "      <td>0.008245</td>\n",
       "      <td>10</td>\n",
       "      <td>50</td>\n",
       "      <td>10.0</td>\n",
       "      <td>-4.0</td>\n",
       "      <td>-5.0</td>\n",
       "      <td>3.5</td>\n",
       "      <td>3.0</td>\n",
       "      <td>1564ЛЕ1№1 п1</td>\n",
       "    </tr>\n",
       "    <tr>\n",
       "      <th>3</th>\n",
       "      <td>2022-08-03 14:35:00</td>\n",
       "      <td>1252.9686</td>\n",
       "      <td>1.755</td>\n",
       "      <td>303.281</td>\n",
       "      <td>0.008775</td>\n",
       "      <td>10</td>\n",
       "      <td>50</td>\n",
       "      <td>10.0</td>\n",
       "      <td>-4.0</td>\n",
       "      <td>-5.0</td>\n",
       "      <td>3.5</td>\n",
       "      <td>3.0</td>\n",
       "      <td>1564ЛЕ1№1 п1</td>\n",
       "    </tr>\n",
       "    <tr>\n",
       "      <th>4</th>\n",
       "      <td>2022-08-03 14:35:03</td>\n",
       "      <td>995.2686</td>\n",
       "      <td>1.907</td>\n",
       "      <td>303.281</td>\n",
       "      <td>0.009535</td>\n",
       "      <td>10</td>\n",
       "      <td>50</td>\n",
       "      <td>10.0</td>\n",
       "      <td>-4.0</td>\n",
       "      <td>-5.0</td>\n",
       "      <td>3.5</td>\n",
       "      <td>3.0</td>\n",
       "      <td>1564ЛЕ1№1 п1</td>\n",
       "    </tr>\n",
       "  </tbody>\n",
       "</table>\n",
       "</div>"
      ],
      "text/plain": [
       "                 time  frequency_hz  dlts_v  temperature_k   dlts_pf  bs  ls  \\\n",
       "0 2022-08-03 14:34:48     2500.0000   1.456        303.264  0.007280  10  50   \n",
       "1 2022-08-03 14:34:52     1985.8207   1.526        303.276  0.007630  10  50   \n",
       "2 2022-08-03 14:34:56     1577.3937   1.649        303.279  0.008245  10  50   \n",
       "3 2022-08-03 14:35:00     1252.9686   1.755        303.281  0.008775  10  50   \n",
       "4 2022-08-03 14:35:03      995.2686   1.907        303.281  0.009535  10  50   \n",
       "\n",
       "   f_pulse   u1   ur  time_between_meas  integral_time specimen_name  \n",
       "0     10.0 -4.0 -5.0                3.5            3.0  1564ЛЕ1№1 п1  \n",
       "1     10.0 -4.0 -5.0                3.5            3.0  1564ЛЕ1№1 п1  \n",
       "2     10.0 -4.0 -5.0                3.5            3.0  1564ЛЕ1№1 п1  \n",
       "3     10.0 -4.0 -5.0                3.5            3.0  1564ЛЕ1№1 п1  \n",
       "4     10.0 -4.0 -5.0                3.5            3.0  1564ЛЕ1№1 п1  "
      ]
     },
     "execution_count": 6,
     "metadata": {},
     "output_type": "execute_result"
    }
   ],
   "source": [
    "print(data_frames[0][0])\n",
    "data_frames[0][1].head()"
   ]
  },
  {
   "cell_type": "code",
   "execution_count": 7,
   "id": "0817213e",
   "metadata": {},
   "outputs": [
    {
     "name": "stdout",
     "output_type": "stream",
     "text": [
      "<class 'pandas.core.frame.DataFrame'>\n",
      "RangeIndex: 34 entries, 0 to 33\n",
      "Data columns (total 13 columns):\n",
      " #   Column             Non-Null Count  Dtype         \n",
      "---  ------             --------------  -----         \n",
      " 0   time               34 non-null     datetime64[ns]\n",
      " 1   frequency_hz       34 non-null     float64       \n",
      " 2   dlts_v             34 non-null     float64       \n",
      " 3   temperature_k      34 non-null     float64       \n",
      " 4   dlts_pf            34 non-null     float64       \n",
      " 5   bs                 34 non-null     int64         \n",
      " 6   ls                 34 non-null     int64         \n",
      " 7   f_pulse            34 non-null     float64       \n",
      " 8   u1                 34 non-null     float64       \n",
      " 9   ur                 34 non-null     float64       \n",
      " 10  time_between_meas  34 non-null     float64       \n",
      " 11  integral_time      34 non-null     float64       \n",
      " 12  specimen_name      34 non-null     object        \n",
      "dtypes: datetime64[ns](1), float64(9), int64(2), object(1)\n",
      "memory usage: 3.6+ KB\n"
     ]
    }
   ],
   "source": [
    "data_frames[0][1].info()"
   ]
  },
  {
   "cell_type": "code",
   "execution_count": 8,
   "id": "f377626c",
   "metadata": {},
   "outputs": [
    {
     "name": "stdout",
     "output_type": "stream",
     "text": [
      "1564ЛЕ1№1_п1_2500Гц-1Гц_1пФ_+10С_-4В-5В_50мВ_10мкс_шаг_0,01.csv\n"
     ]
    },
    {
     "data": {
      "text/html": [
       "<div>\n",
       "<style scoped>\n",
       "    .dataframe tbody tr th:only-of-type {\n",
       "        vertical-align: middle;\n",
       "    }\n",
       "\n",
       "    .dataframe tbody tr th {\n",
       "        vertical-align: top;\n",
       "    }\n",
       "\n",
       "    .dataframe thead th {\n",
       "        text-align: right;\n",
       "    }\n",
       "</style>\n",
       "<table border=\"1\" class=\"dataframe\">\n",
       "  <thead>\n",
       "    <tr style=\"text-align: right;\">\n",
       "      <th></th>\n",
       "      <th>time</th>\n",
       "      <th>frequency_hz</th>\n",
       "      <th>dlts_v</th>\n",
       "      <th>temperature_k</th>\n",
       "      <th>dlts_pf</th>\n",
       "      <th>bs</th>\n",
       "      <th>ls</th>\n",
       "      <th>f_pulse</th>\n",
       "      <th>u1</th>\n",
       "      <th>ur</th>\n",
       "      <th>time_between_meas</th>\n",
       "      <th>integral_time</th>\n",
       "      <th>specimen_name</th>\n",
       "    </tr>\n",
       "  </thead>\n",
       "  <tbody>\n",
       "    <tr>\n",
       "      <th>0</th>\n",
       "      <td>2022-08-04 15:21:09</td>\n",
       "      <td>2500.0000</td>\n",
       "      <td>3.122</td>\n",
       "      <td>283.194</td>\n",
       "      <td>0.001561</td>\n",
       "      <td>1</td>\n",
       "      <td>50</td>\n",
       "      <td>10.0</td>\n",
       "      <td>-4.0</td>\n",
       "      <td>-5.0</td>\n",
       "      <td>3.5</td>\n",
       "      <td>3.0</td>\n",
       "      <td>1564ЛЕ1№1 п1</td>\n",
       "    </tr>\n",
       "    <tr>\n",
       "      <th>1</th>\n",
       "      <td>2022-08-04 15:21:13</td>\n",
       "      <td>2443.0925</td>\n",
       "      <td>3.187</td>\n",
       "      <td>283.187</td>\n",
       "      <td>0.001593</td>\n",
       "      <td>1</td>\n",
       "      <td>50</td>\n",
       "      <td>10.0</td>\n",
       "      <td>-4.0</td>\n",
       "      <td>-5.0</td>\n",
       "      <td>3.5</td>\n",
       "      <td>3.0</td>\n",
       "      <td>1564ЛЕ1№1 п1</td>\n",
       "    </tr>\n",
       "    <tr>\n",
       "      <th>2</th>\n",
       "      <td>2022-08-04 15:21:17</td>\n",
       "      <td>2387.4812</td>\n",
       "      <td>3.201</td>\n",
       "      <td>283.191</td>\n",
       "      <td>0.001600</td>\n",
       "      <td>1</td>\n",
       "      <td>50</td>\n",
       "      <td>10.0</td>\n",
       "      <td>-4.0</td>\n",
       "      <td>-5.0</td>\n",
       "      <td>3.5</td>\n",
       "      <td>3.0</td>\n",
       "      <td>1564ЛЕ1№1 п1</td>\n",
       "    </tr>\n",
       "    <tr>\n",
       "      <th>3</th>\n",
       "      <td>2022-08-04 15:21:21</td>\n",
       "      <td>2333.1355</td>\n",
       "      <td>3.259</td>\n",
       "      <td>283.206</td>\n",
       "      <td>0.001629</td>\n",
       "      <td>1</td>\n",
       "      <td>50</td>\n",
       "      <td>10.0</td>\n",
       "      <td>-4.0</td>\n",
       "      <td>-5.0</td>\n",
       "      <td>3.5</td>\n",
       "      <td>3.0</td>\n",
       "      <td>1564ЛЕ1№1 п1</td>\n",
       "    </tr>\n",
       "    <tr>\n",
       "      <th>4</th>\n",
       "      <td>2022-08-04 15:21:25</td>\n",
       "      <td>2280.0269</td>\n",
       "      <td>3.271</td>\n",
       "      <td>283.199</td>\n",
       "      <td>0.001636</td>\n",
       "      <td>1</td>\n",
       "      <td>50</td>\n",
       "      <td>10.0</td>\n",
       "      <td>-4.0</td>\n",
       "      <td>-5.0</td>\n",
       "      <td>3.5</td>\n",
       "      <td>3.0</td>\n",
       "      <td>1564ЛЕ1№1 п1</td>\n",
       "    </tr>\n",
       "  </tbody>\n",
       "</table>\n",
       "</div>"
      ],
      "text/plain": [
       "                 time  frequency_hz  dlts_v  temperature_k   dlts_pf  bs  ls  \\\n",
       "0 2022-08-04 15:21:09     2500.0000   3.122        283.194  0.001561   1  50   \n",
       "1 2022-08-04 15:21:13     2443.0925   3.187        283.187  0.001593   1  50   \n",
       "2 2022-08-04 15:21:17     2387.4812   3.201        283.191  0.001600   1  50   \n",
       "3 2022-08-04 15:21:21     2333.1355   3.259        283.206  0.001629   1  50   \n",
       "4 2022-08-04 15:21:25     2280.0269   3.271        283.199  0.001636   1  50   \n",
       "\n",
       "   f_pulse   u1   ur  time_between_meas  integral_time specimen_name  \n",
       "0     10.0 -4.0 -5.0                3.5            3.0  1564ЛЕ1№1 п1  \n",
       "1     10.0 -4.0 -5.0                3.5            3.0  1564ЛЕ1№1 п1  \n",
       "2     10.0 -4.0 -5.0                3.5            3.0  1564ЛЕ1№1 п1  \n",
       "3     10.0 -4.0 -5.0                3.5            3.0  1564ЛЕ1№1 п1  \n",
       "4     10.0 -4.0 -5.0                3.5            3.0  1564ЛЕ1№1 п1  "
      ]
     },
     "execution_count": 8,
     "metadata": {},
     "output_type": "execute_result"
    }
   ],
   "source": [
    "print(data_frames[1][0])\n",
    "data_frames[1][1].head()"
   ]
  },
  {
   "cell_type": "code",
   "execution_count": 9,
   "id": "6a78c56a",
   "metadata": {},
   "outputs": [
    {
     "name": "stdout",
     "output_type": "stream",
     "text": [
      "<class 'pandas.core.frame.DataFrame'>\n",
      "RangeIndex: 340 entries, 0 to 339\n",
      "Data columns (total 13 columns):\n",
      " #   Column             Non-Null Count  Dtype         \n",
      "---  ------             --------------  -----         \n",
      " 0   time               340 non-null    datetime64[ns]\n",
      " 1   frequency_hz       340 non-null    float64       \n",
      " 2   dlts_v             340 non-null    float64       \n",
      " 3   temperature_k      340 non-null    float64       \n",
      " 4   dlts_pf            340 non-null    float64       \n",
      " 5   bs                 340 non-null    int64         \n",
      " 6   ls                 340 non-null    int64         \n",
      " 7   f_pulse            340 non-null    float64       \n",
      " 8   u1                 340 non-null    float64       \n",
      " 9   ur                 340 non-null    float64       \n",
      " 10  time_between_meas  340 non-null    float64       \n",
      " 11  integral_time      340 non-null    float64       \n",
      " 12  specimen_name      340 non-null    object        \n",
      "dtypes: datetime64[ns](1), float64(9), int64(2), object(1)\n",
      "memory usage: 34.7+ KB\n"
     ]
    }
   ],
   "source": [
    "data_frames[1][1].info()"
   ]
  },
  {
   "cell_type": "code",
   "execution_count": 10,
   "id": "cb0fcffa",
   "metadata": {},
   "outputs": [
    {
     "name": "stdout",
     "output_type": "stream",
     "text": [
      "1564ЛЕ1№1_п1_2500Гц-1Гц_1пФ_-10С_-4В-5В_10мВ_10мкс_шаг_0,01.csv\n"
     ]
    },
    {
     "data": {
      "text/html": [
       "<div>\n",
       "<style scoped>\n",
       "    .dataframe tbody tr th:only-of-type {\n",
       "        vertical-align: middle;\n",
       "    }\n",
       "\n",
       "    .dataframe tbody tr th {\n",
       "        vertical-align: top;\n",
       "    }\n",
       "\n",
       "    .dataframe thead th {\n",
       "        text-align: right;\n",
       "    }\n",
       "</style>\n",
       "<table border=\"1\" class=\"dataframe\">\n",
       "  <thead>\n",
       "    <tr style=\"text-align: right;\">\n",
       "      <th></th>\n",
       "      <th>time</th>\n",
       "      <th>frequency_hz</th>\n",
       "      <th>dlts_v</th>\n",
       "      <th>temperature_k</th>\n",
       "      <th>dlts_pf</th>\n",
       "      <th>bs</th>\n",
       "      <th>ls</th>\n",
       "      <th>f_pulse</th>\n",
       "      <th>u1</th>\n",
       "      <th>ur</th>\n",
       "      <th>time_between_meas</th>\n",
       "      <th>integral_time</th>\n",
       "      <th>specimen_name</th>\n",
       "    </tr>\n",
       "  </thead>\n",
       "  <tbody>\n",
       "    <tr>\n",
       "      <th>0</th>\n",
       "      <td>2022-08-02 17:55:01</td>\n",
       "      <td>2500.0000</td>\n",
       "      <td>5.276</td>\n",
       "      <td>262.940</td>\n",
       "      <td>0.000528</td>\n",
       "      <td>1</td>\n",
       "      <td>10</td>\n",
       "      <td>10.0</td>\n",
       "      <td>-4.0</td>\n",
       "      <td>-5.0</td>\n",
       "      <td>3.5</td>\n",
       "      <td>3.0</td>\n",
       "      <td>1564ЛЕ1№1 п1</td>\n",
       "    </tr>\n",
       "    <tr>\n",
       "      <th>1</th>\n",
       "      <td>2022-08-02 17:55:05</td>\n",
       "      <td>2443.0925</td>\n",
       "      <td>5.449</td>\n",
       "      <td>262.941</td>\n",
       "      <td>0.000545</td>\n",
       "      <td>1</td>\n",
       "      <td>10</td>\n",
       "      <td>10.0</td>\n",
       "      <td>-4.0</td>\n",
       "      <td>-5.0</td>\n",
       "      <td>3.5</td>\n",
       "      <td>3.0</td>\n",
       "      <td>1564ЛЕ1№1 п1</td>\n",
       "    </tr>\n",
       "    <tr>\n",
       "      <th>2</th>\n",
       "      <td>2022-08-02 17:55:09</td>\n",
       "      <td>2387.4812</td>\n",
       "      <td>5.855</td>\n",
       "      <td>262.941</td>\n",
       "      <td>0.000585</td>\n",
       "      <td>1</td>\n",
       "      <td>10</td>\n",
       "      <td>10.0</td>\n",
       "      <td>-4.0</td>\n",
       "      <td>-5.0</td>\n",
       "      <td>3.5</td>\n",
       "      <td>3.0</td>\n",
       "      <td>1564ЛЕ1№1 п1</td>\n",
       "    </tr>\n",
       "    <tr>\n",
       "      <th>3</th>\n",
       "      <td>2022-08-02 17:55:13</td>\n",
       "      <td>2333.1355</td>\n",
       "      <td>6.665</td>\n",
       "      <td>262.940</td>\n",
       "      <td>0.000666</td>\n",
       "      <td>1</td>\n",
       "      <td>10</td>\n",
       "      <td>10.0</td>\n",
       "      <td>-4.0</td>\n",
       "      <td>-5.0</td>\n",
       "      <td>3.5</td>\n",
       "      <td>3.0</td>\n",
       "      <td>1564ЛЕ1№1 п1</td>\n",
       "    </tr>\n",
       "    <tr>\n",
       "      <th>4</th>\n",
       "      <td>2022-08-02 17:55:17</td>\n",
       "      <td>2280.0269</td>\n",
       "      <td>6.626</td>\n",
       "      <td>262.936</td>\n",
       "      <td>0.000663</td>\n",
       "      <td>1</td>\n",
       "      <td>10</td>\n",
       "      <td>10.0</td>\n",
       "      <td>-4.0</td>\n",
       "      <td>-5.0</td>\n",
       "      <td>3.5</td>\n",
       "      <td>3.0</td>\n",
       "      <td>1564ЛЕ1№1 п1</td>\n",
       "    </tr>\n",
       "  </tbody>\n",
       "</table>\n",
       "</div>"
      ],
      "text/plain": [
       "                 time  frequency_hz  dlts_v  temperature_k   dlts_pf  bs  ls  \\\n",
       "0 2022-08-02 17:55:01     2500.0000   5.276        262.940  0.000528   1  10   \n",
       "1 2022-08-02 17:55:05     2443.0925   5.449        262.941  0.000545   1  10   \n",
       "2 2022-08-02 17:55:09     2387.4812   5.855        262.941  0.000585   1  10   \n",
       "3 2022-08-02 17:55:13     2333.1355   6.665        262.940  0.000666   1  10   \n",
       "4 2022-08-02 17:55:17     2280.0269   6.626        262.936  0.000663   1  10   \n",
       "\n",
       "   f_pulse   u1   ur  time_between_meas  integral_time specimen_name  \n",
       "0     10.0 -4.0 -5.0                3.5            3.0  1564ЛЕ1№1 п1  \n",
       "1     10.0 -4.0 -5.0                3.5            3.0  1564ЛЕ1№1 п1  \n",
       "2     10.0 -4.0 -5.0                3.5            3.0  1564ЛЕ1№1 п1  \n",
       "3     10.0 -4.0 -5.0                3.5            3.0  1564ЛЕ1№1 п1  \n",
       "4     10.0 -4.0 -5.0                3.5            3.0  1564ЛЕ1№1 п1  "
      ]
     },
     "execution_count": 10,
     "metadata": {},
     "output_type": "execute_result"
    }
   ],
   "source": [
    "print(data_frames[2][0])\n",
    "data_frames[2][1].head()"
   ]
  },
  {
   "cell_type": "code",
   "execution_count": 11,
   "id": "6fc258f4",
   "metadata": {},
   "outputs": [
    {
     "name": "stdout",
     "output_type": "stream",
     "text": [
      "<class 'pandas.core.frame.DataFrame'>\n",
      "RangeIndex: 340 entries, 0 to 339\n",
      "Data columns (total 13 columns):\n",
      " #   Column             Non-Null Count  Dtype         \n",
      "---  ------             --------------  -----         \n",
      " 0   time               340 non-null    datetime64[ns]\n",
      " 1   frequency_hz       340 non-null    float64       \n",
      " 2   dlts_v             340 non-null    float64       \n",
      " 3   temperature_k      340 non-null    float64       \n",
      " 4   dlts_pf            340 non-null    float64       \n",
      " 5   bs                 340 non-null    int64         \n",
      " 6   ls                 340 non-null    int64         \n",
      " 7   f_pulse            340 non-null    float64       \n",
      " 8   u1                 340 non-null    float64       \n",
      " 9   ur                 340 non-null    float64       \n",
      " 10  time_between_meas  340 non-null    float64       \n",
      " 11  integral_time      340 non-null    float64       \n",
      " 12  specimen_name      340 non-null    object        \n",
      "dtypes: datetime64[ns](1), float64(9), int64(2), object(1)\n",
      "memory usage: 34.7+ KB\n"
     ]
    }
   ],
   "source": [
    "data_frames[2][1].info()"
   ]
  },
  {
   "cell_type": "markdown",
   "id": "e9cc82f9",
   "metadata": {},
   "source": [
    "## 2. 1564ЛЕ1№1\\_п1\\_2500Гц-1Гц\\_10пФ\\_+30С\\_-4В-5В\\_50мВ\\_10мкс\\_шаг\\_0,1.csv"
   ]
  },
  {
   "cell_type": "code",
   "execution_count": 12,
   "id": "afbc1c0d",
   "metadata": {},
   "outputs": [],
   "source": [
    "def get_X_y(dataset):\n",
    "    filling_pulse = dataset.f_pulse[0] * 10 ** -6\n",
    "    X_train = np.log10(dataset.frequency_hz.to_numpy())\n",
    "    y_train = dataset.dlts_pf.to_numpy()\n",
    "    \n",
    "    return filling_pulse, X_train, y_train"
   ]
  },
  {
   "cell_type": "code",
   "execution_count": 13,
   "id": "1e6b1eae",
   "metadata": {},
   "outputs": [],
   "source": [
    "filling_pulse, X_train, y_train = get_X_y(data_frames[0][1])"
   ]
  },
  {
   "cell_type": "code",
   "execution_count": null,
   "id": "ed0edffc",
   "metadata": {},
   "outputs": [],
   "source": [
    "def normalize(X, y):\n",
    "    \n",
    "    new_max_dlts = y.max()"
   ]
  },
  {
   "cell_type": "code",
   "execution_count": 14,
   "id": "22533bf2",
   "metadata": {},
   "outputs": [],
   "source": [
    "def plot_X_y(X, y):\n",
    "    plt.plot(X, y, 'og', alpha=0.3)\n",
    "    plt.grid()\n",
    "    plt.show()"
   ]
  },
  {
   "cell_type": "code",
   "execution_count": null,
   "id": "50c91821",
   "metadata": {},
   "outputs": [],
   "source": [
    "plot_X_y(X_train, y_train)"
   ]
  },
  {
   "cell_type": "code",
   "execution_count": null,
   "id": "202c95b1",
   "metadata": {
    "scrolled": true
   },
   "outputs": [],
   "source": [
    "# monoexp_fs = SklMultiExpFrequencyScan(n_exps=1, filling_pulse=filling_pulse, stop_val=10**-10, verbose=False)\n",
    "\n"
   ]
  },
  {
   "cell_type": "code",
   "execution_count": null,
   "id": "f3e8e0ab",
   "metadata": {},
   "outputs": [],
   "source": [
    "def plot_ident_res(frequency_powers,\n",
    "                   experimental_dlts, \n",
    "                   fit_results\n",
    "                  ):\n",
    "    \n",
    "    indices = frequency_powers.argsort()\n",
    "    frequency_powers = frequency_powers[indices]\n",
    "    experimental_dlts = experimental_dlts[indices]\n",
    "    \n",
    "    n_exps=fit_results.loc[0, 'n_exps']\n",
    "    \n",
    "    init_params = fit_results.iloc[0, :]\n",
    "    init_params = [[init_params[f'time_constatn_power_{i}'], init_params[f'amplitude_{i}']] for i in range(n_exps)]\n",
    "    \n",
    "    fs = SklMultiExpFrequencyScan(n_exps=n_exps, filling_pulse = fit_results.filling_pulse[0])\n",
    "    fs.exps_params_ = init_params\n",
    "    \n",
    "    initial_model = fs.predict(frequency_powers)\n",
    "    \n",
    "    \n",
    "    final_params = fit_results.iloc[-1, :]\n",
    "    final_params = [[final_params[f'time_constatn_power_{i}'], final_params[f'amplitude_{i}']] for i in range(n_exps)]\n",
    "    \n",
    "    fs.exps_params_=final_params\n",
    "    final_model = fs.predict(frequency_powers)\n",
    "    \n",
    "\n",
    "    fig, ax = plt.subplots(1, 1, figsize=(10, 7))\n",
    "\n",
    "    ax.plot(frequency_powers, experimental_dlts, 'og', alpha=0.3, label='Экспериментальные данные')\n",
    "\n",
    "#     ax.plot(frequency_powers, initial_model, '-b', label='Начальная модель')\n",
    "\n",
    "    ax.plot(frequency_powers, final_model, '-r', label='Модель после идентификации')\n",
    "\n",
    "#     for i, scan in enumerate(fs._fs_list):\n",
    "#         plt.plot(frequency_powers, scan(frequency_powers), '-.', label=f'exp{i}')\n",
    "\n",
    "    ax.legend()\n",
    "    ax.grid()\n",
    "    ax.set_xlim([0, 3.5])\n",
    "    ylim = ax.get_ylim()\n",
    "#     ylim = [np.floor(ylim[0]), np.ceil(ylim[1])]\n",
    "    ax.set_ylim(ylim)\n",
    "    \n",
    "    ax.set_title('Результаты идентификации')\n",
    "    ax.set_xlabel(r'$\\log_{10}(F_0), \\log_{10}(Гц)$')\n",
    "    ax.set_ylabel('Сигнал DLTS, условные единицы')\n",
    "    \n",
    "    return fig, ax"
   ]
  },
  {
   "cell_type": "code",
   "execution_count": null,
   "id": "d2230648",
   "metadata": {},
   "outputs": [],
   "source": [
    "fig, ax = plot_ident_res(X_train,\n",
    "                         y_train, \n",
    "                         monoexp_fit_results\n",
    "                        )\n",
    "\n",
    "plt.show()"
   ]
  },
  {
   "cell_type": "code",
   "execution_count": null,
   "id": "cbbd005d",
   "metadata": {},
   "outputs": [],
   "source": []
  }
 ],
 "metadata": {
  "kernelspec": {
   "display_name": "Python 3 (ipykernel)",
   "language": "python",
   "name": "python3"
  },
  "language_info": {
   "codemirror_mode": {
    "name": "ipython",
    "version": 3
   },
   "file_extension": ".py",
   "mimetype": "text/x-python",
   "name": "python",
   "nbconvert_exporter": "python",
   "pygments_lexer": "ipython3",
   "version": "3.9.12"
  }
 },
 "nbformat": 4,
 "nbformat_minor": 5
}
