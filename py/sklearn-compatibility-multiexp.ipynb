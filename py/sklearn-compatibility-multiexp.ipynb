{
 "cells": [
  {
   "cell_type": "code",
   "execution_count": null,
   "id": "6de49669",
   "metadata": {},
   "outputs": [],
   "source": [
    "import tensorflow as tf\n",
    "import matplotlib.pyplot as plt\n",
    "import numpy as np\n",
    "import pandas as pd\n",
    "\n",
    "from fsmodels import SklMultiExpFrequencyScan\n",
    "\n",
    "from sklearn.metrics import mean_squared_error\n",
    "from sklearn.model_selection import train_test_split\n",
    "from sklearn.model_selection import cross_val_score\n",
    "from sklearn.model_selection import GridSearchCV"
   ]
  },
  {
   "cell_type": "markdown",
   "id": "059483ca",
   "metadata": {},
   "source": [
    "# sklearn-compatible class"
   ]
  },
  {
   "cell_type": "markdown",
   "id": "228d996e",
   "metadata": {},
   "source": [
    "https://scikit-learn.org/stable/developers/develop.html\n",
    "\n",
    "https://scikit-learn.org/stable/glossary.html#glossary"
   ]
  },
  {
   "cell_type": "code",
   "execution_count": null,
   "id": "2383482f",
   "metadata": {},
   "outputs": [],
   "source": [
    "frequency_powers = np.linspace(0, 3.5, 1000)\n",
    "frequency_powers = tf.Variable(frequency_powers, dtype='float64').numpy()"
   ]
  },
  {
   "cell_type": "code",
   "execution_count": null,
   "id": "288c4061",
   "metadata": {},
   "outputs": [],
   "source": [
    "fs = SklMultiExpFrequencyScan(n_exps=3, filling_pulse=20*10**-6)\n",
    "\n",
    "fs.exps_params_ = [[-1.0, 3.5],\n",
    "                  [-2.3, 3.0],\n",
    "                  [-3.5, 2.5]]\n",
    "\n",
    "experimental_dlts = fs.predict(frequency_powers) \n",
    "experimental_dlts += np.random.normal(loc=0, scale=0.2, size=experimental_dlts.shape[0])"
   ]
  },
  {
   "cell_type": "code",
   "execution_count": null,
   "id": "653dbc8e",
   "metadata": {},
   "outputs": [],
   "source": [
    "plt.plot(frequency_powers, experimental_dlts, 'og', alpha=0.3)\n",
    "plt.grid()\n",
    "plt.show()"
   ]
  },
  {
   "cell_type": "code",
   "execution_count": null,
   "id": "888dc036",
   "metadata": {
    "scrolled": false
   },
   "outputs": [],
   "source": [
    "n_exps = 3\n",
    "\n",
    "fs = SklMultiExpFrequencyScan(n_exps=n_exps, \n",
    "                           filling_pulse=2*10**-5,\n",
    "                           n_iters=200,\n",
    "                           stop_val=10**-5,\n",
    "                           verbose=False\n",
    "                          )\n",
    "\n",
    "fs.fit(X=frequency_powers, y=experimental_dlts)"
   ]
  },
  {
   "cell_type": "code",
   "execution_count": null,
   "id": "4115873c",
   "metadata": {},
   "outputs": [],
   "source": [
    "fit_results = fs.fit_results_\n",
    "fit_results"
   ]
  },
  {
   "cell_type": "code",
   "execution_count": null,
   "id": "3a83b820",
   "metadata": {},
   "outputs": [],
   "source": [
    "fs.exps_params_"
   ]
  },
  {
   "cell_type": "code",
   "execution_count": null,
   "id": "b0e52cb5",
   "metadata": {},
   "outputs": [],
   "source": [
    "def plot_ident_res(frequency_powers,\n",
    "                   experimental_dlts, \n",
    "                   fit_results\n",
    "                  ):\n",
    "    \n",
    "    indices = frequency_powers.argsort()\n",
    "    frequency_powers = frequency_powers[indices]\n",
    "    experimental_dlts = experimental_dlts[indices]\n",
    "    \n",
    "    n_exps=fit_results.loc[0, 'n_exps']\n",
    "    \n",
    "    init_params = fit_results.iloc[0, :]\n",
    "    init_params = [[init_params[f'time_constant_power_{i}'], init_params[f'amplitude_{i}']] for i in range(n_exps)]\n",
    "    \n",
    "    fs = SklMultiExpFrequencyScan(n_exps=n_exps, filling_pulse = fit_results.filling_pulse[0])\n",
    "    fs.exps_params_ = init_params\n",
    "    \n",
    "    initial_model = fs.predict(frequency_powers)\n",
    "    \n",
    "    \n",
    "    final_params = fit_results.iloc[-1, :]\n",
    "    final_params = [[final_params[f'time_constant_power_{i}'], final_params[f'amplitude_{i}']] for i in range(n_exps)]\n",
    "    \n",
    "    fs.exps_params_=final_params\n",
    "    final_model = fs.predict(frequency_powers)\n",
    "    \n",
    "\n",
    "    fig, ax = plt.subplots(1, 1, figsize=(10, 7))\n",
    "\n",
    "    ax.plot(frequency_powers, experimental_dlts, 'og', alpha=0.3, label='Экспериментальные данные')\n",
    "\n",
    "    ax.plot(frequency_powers, initial_model, '-b', label='Начальная модель')\n",
    "\n",
    "    ax.plot(frequency_powers, final_model, '-r', label='Модель после идентификации')\n",
    "\n",
    "    for i, scan in enumerate(fs._fs_list):\n",
    "        plt.plot(frequency_powers, scan(frequency_powers), '-.', label=f'exp{i}')\n",
    "\n",
    "    ax.legend()\n",
    "    ax.grid()\n",
    "    ax.set_xlim([0, 3.5])\n",
    "    ylim = ax.get_ylim()\n",
    "    ylim = [np.floor(ylim[0]), np.ceil(ylim[1])]\n",
    "    ax.set_ylim(ylim)\n",
    "    \n",
    "    ax.set_title('Результаты идентификации')\n",
    "    ax.set_xlabel(r'$\\log_{10}(F_0), \\log_{10}(Гц)$')\n",
    "    ax.set_ylabel('Сигнал DLTS, условные единицы')\n",
    "    \n",
    "    return fig, ax\n",
    "\n",
    "\n",
    "\n",
    "fig, ax = plot_ident_res(frequency_powers,\n",
    "                         experimental_dlts, \n",
    "                         fit_results\n",
    "                        )\n",
    "\n",
    "plt.show()"
   ]
  },
  {
   "cell_type": "code",
   "execution_count": null,
   "id": "8e4bbbab",
   "metadata": {
    "scrolled": false
   },
   "outputs": [],
   "source": [
    "fs.get_params()"
   ]
  },
  {
   "cell_type": "code",
   "execution_count": null,
   "id": "06d9aa0c",
   "metadata": {},
   "outputs": [],
   "source": [
    "fs.set_params(n_exps=4)"
   ]
  },
  {
   "cell_type": "code",
   "execution_count": null,
   "id": "a5522280",
   "metadata": {},
   "outputs": [],
   "source": [
    "fs.get_params()"
   ]
  },
  {
   "cell_type": "code",
   "execution_count": null,
   "id": "695b991e",
   "metadata": {},
   "outputs": [],
   "source": [
    "fs.score(X=frequency_powers, y=experimental_dlts)"
   ]
  },
  {
   "cell_type": "code",
   "execution_count": null,
   "id": "207d4024",
   "metadata": {},
   "outputs": [],
   "source": [
    "fs.predict(X=frequency_powers)"
   ]
  },
  {
   "cell_type": "markdown",
   "id": "ecbd596a",
   "metadata": {},
   "source": [
    "# K-fold Cross-Validation and hyperparameter tuning"
   ]
  },
  {
   "cell_type": "code",
   "execution_count": null,
   "id": "b8433455",
   "metadata": {},
   "outputs": [],
   "source": [
    "X_train, X_test, y_train, y_test = train_test_split(frequency_powers, experimental_dlts, test_size=0.2)"
   ]
  },
  {
   "cell_type": "code",
   "execution_count": null,
   "id": "1cb8a691",
   "metadata": {},
   "outputs": [],
   "source": [
    "plt.plot(X_train, y_train, 'og', alpha=0.3)\n",
    "plt.grid()\n",
    "plt.show()"
   ]
  },
  {
   "cell_type": "code",
   "execution_count": null,
   "id": "9961e2dd",
   "metadata": {},
   "outputs": [],
   "source": [
    "plt.plot(X_test, y_test, 'og', alpha=0.3)\n",
    "plt.grid()\n",
    "plt.show()"
   ]
  },
  {
   "cell_type": "code",
   "execution_count": null,
   "id": "fb0afc08",
   "metadata": {
    "scrolled": true
   },
   "outputs": [],
   "source": [
    "fs = SklMultiExpFrequencyScan(n_exps=2,\n",
    "            filling_pulse=2*10**-5,\n",
    "            n_iters=200,\n",
    "            stop_val=10**-5,\n",
    "            verbose=False\n",
    "           )\n",
    "\n",
    "fs.fit(X=X_train, y=y_train)"
   ]
  },
  {
   "cell_type": "code",
   "execution_count": null,
   "id": "8e3a2f36",
   "metadata": {},
   "outputs": [],
   "source": [
    "def display_scores(scores):\n",
    "    print(f'Scores: {scores}')\n",
    "    print(f'Mean: {scores.mean()}')\n",
    "    print(f'Standard deviation: {scores.std()}')\n",
    "\n",
    "scores = cross_val_score(fs, X_train, y_train, scoring='neg_mean_squared_error', cv=10, n_jobs=-1)\n",
    "\n",
    "display_scores(np.sqrt(-scores))"
   ]
  },
  {
   "cell_type": "code",
   "execution_count": null,
   "id": "9bc2f701",
   "metadata": {},
   "outputs": [],
   "source": [
    "fs.fit_results_"
   ]
  },
  {
   "cell_type": "code",
   "execution_count": null,
   "id": "9fdcadbd",
   "metadata": {},
   "outputs": [],
   "source": [
    "fit_results = fs.fit_results_\n",
    "\n",
    "fig, ax = plot_ident_res(X_train,\n",
    "                         y_train, \n",
    "                         fit_results\n",
    "                        )\n",
    "\n",
    "plt.show()"
   ]
  },
  {
   "cell_type": "code",
   "execution_count": null,
   "id": "d29243ca",
   "metadata": {
    "scrolled": true
   },
   "outputs": [],
   "source": [
    "fs = SklMultiExpFrequencyScan(n_exps=5,\n",
    "            filling_pulse=2*10**-5,\n",
    "            n_iters=200,\n",
    "            stop_val=10**-5,\n",
    "            verbose=False\n",
    "           )\n",
    "\n",
    "fs.fit(X=X_train, y=y_train)\n",
    "\n",
    "scores = cross_val_score(fs, X_train, y_train, scoring='neg_mean_squared_error', cv=10, n_jobs=-1)\n",
    "\n",
    "display_scores(np.sqrt(-scores))"
   ]
  },
  {
   "cell_type": "code",
   "execution_count": null,
   "id": "a89e34db",
   "metadata": {},
   "outputs": [],
   "source": [
    "grid_search = GridSearchCV(fs, {'n_exps':[2,3,4,5]}, cv=5, scoring='neg_mean_squared_error', \n",
    "                           return_train_score=True, n_jobs=-1)"
   ]
  },
  {
   "cell_type": "code",
   "execution_count": null,
   "id": "08cbb34f",
   "metadata": {},
   "outputs": [],
   "source": [
    "grid_search.fit(X_train, y_train)"
   ]
  },
  {
   "cell_type": "code",
   "execution_count": null,
   "id": "f4edf186",
   "metadata": {},
   "outputs": [],
   "source": [
    "grid_search.best_params_"
   ]
  },
  {
   "cell_type": "code",
   "execution_count": null,
   "id": "cf71f1e7",
   "metadata": {},
   "outputs": [],
   "source": [
    "cvres = grid_search.cv_results_\n",
    "for mean_score, params in zip(cvres['mean_test_score'], cvres['params']):\n",
    "    print(np.sqrt(-mean_score), params)"
   ]
  },
  {
   "cell_type": "code",
   "execution_count": null,
   "id": "5592e280",
   "metadata": {},
   "outputs": [],
   "source": [
    "def display_scores(scores):\n",
    "    print(f'Scores: {scores}')\n",
    "    print(f'Mean: {scores.mean()}')\n",
    "    print(f'Standard deviation: {scores.std()}')\n",
    "\n",
    "scores = cross_val_score(grid_search.best_estimator_, X_train, y_train, scoring='neg_mean_squared_error', cv=10, n_jobs=-1)\n",
    "\n",
    "display_scores(np.sqrt(-scores))"
   ]
  },
  {
   "cell_type": "code",
   "execution_count": null,
   "id": "12a4313a",
   "metadata": {},
   "outputs": [],
   "source": [
    "fit_results = grid_search.best_estimator_.fit_results_\n",
    "\n",
    "fig, ax = plot_ident_res(X_train,\n",
    "                         y_train, \n",
    "                         fit_results\n",
    "                        )\n",
    "\n",
    "plt.show()"
   ]
  },
  {
   "cell_type": "code",
   "execution_count": null,
   "id": "d74371d7",
   "metadata": {},
   "outputs": [],
   "source": [
    "mean_squared_error(y_test, grid_search.best_estimator_.predict(X_test), squared=False)"
   ]
  }
 ],
 "metadata": {
  "kernelspec": {
   "display_name": "Python 3 (ipykernel)",
   "language": "python",
   "name": "python3"
  },
  "language_info": {
   "codemirror_mode": {
    "name": "ipython",
    "version": 3
   },
   "file_extension": ".py",
   "mimetype": "text/x-python",
   "name": "python",
   "nbconvert_exporter": "python",
   "pygments_lexer": "ipython3",
   "version": "3.9.12"
  }
 },
 "nbformat": 4,
 "nbformat_minor": 5
}
