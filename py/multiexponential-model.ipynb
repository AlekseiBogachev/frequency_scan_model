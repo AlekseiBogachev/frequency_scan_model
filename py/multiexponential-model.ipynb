{
 "cells": [
  {
   "cell_type": "code",
   "execution_count": 1,
   "id": "4c22786b",
   "metadata": {
    "scrolled": false
   },
   "outputs": [],
   "source": [
    "import tensorflow as tf\n",
    "import matplotlib.pyplot as plt\n",
    "import numpy as np\n",
    "\n",
    "from fsmodels import MultiExpFrequencyScan"
   ]
  },
  {
   "cell_type": "code",
   "execution_count": 2,
   "id": "dbc6dcc5",
   "metadata": {},
   "outputs": [],
   "source": [
    "fs = MultiExpFrequencyScan(n_exps=3,\n",
    "                           exps_params=[[-1.0, 3.5],\n",
    "                                        [-2.3, 3.0],\n",
    "                                        [-3.5, 2.5]]\n",
    "                          )"
   ]
  },
  {
   "cell_type": "code",
   "execution_count": 3,
   "id": "6cc9e450",
   "metadata": {},
   "outputs": [],
   "source": [
    "frequency_powers = np.linspace(0, 3.5, 100)\n",
    "frequency_powers = tf.Variable(frequency_powers, dtype='float64')\n",
    "experimental_dlts = fs(frequency_powers)"
   ]
  },
  {
   "cell_type": "code",
   "execution_count": 4,
   "id": "b50803b2",
   "metadata": {},
   "outputs": [
    {
     "data": {
      "image/png": "[encoded data removed]",
      "text/plain": [
       "<Figure size 432x288 with 1 Axes>"
      ]
     },
     "metadata": {
      "needs_background": "light"
     },
     "output_type": "display_data"
    }
   ],
   "source": [
    "plt.plot(frequency_powers.numpy(), experimental_dlts.numpy())\n",
    "plt.grid()\n",
    "plt.show()"
   ]
  },
  {
   "cell_type": "markdown",
   "id": "cd2d34eb",
   "metadata": {},
   "source": [
    "сделать проверку размерности массива exps_params. размерность должна быть равна \\[n_exps, 2\\]"
   ]
  },
  {
   "cell_type": "code",
   "execution_count": 5,
   "id": "c3a4d2cc",
   "metadata": {},
   "outputs": [],
   "source": [
    "fs = MultiExpFrequencyScan(n_exps=3,\n",
    "                           exps_params=[[-2.0, 3.0],\n",
    "                                        [-2.3, 3.0],\n",
    "                                        [-2.5, 3.0]],\n",
    "                           verbose=True\n",
    "                          )\n",
    "\n",
    "initial_dlts = fs(frequency_powers)"
   ]
  },
  {
   "cell_type": "code",
   "execution_count": 6,
   "id": "a9623c42",
   "metadata": {},
   "outputs": [
    {
     "data": {
      "image/png": "[encoded data removed]",
      "text/plain": [
       "<Figure size 432x288 with 1 Axes>"
      ]
     },
     "metadata": {
      "needs_background": "light"
     },
     "output_type": "display_data"
    }
   ],
   "source": [
    "plt.plot(frequency_powers.numpy(), initial_dlts.numpy())\n",
    "plt.grid()\n",
    "plt.show()"
   ]
  },
  {
   "cell_type": "code",
   "execution_count": 7,
   "id": "eb12181d",
   "metadata": {},
   "outputs": [
    {
     "name": "stdout",
     "output_type": "stream",
     "text": [
      "iter # 0\n",
      "exps_params:\n",
      " [[-2.   3. ]\n",
      " [-2.3  3. ]\n",
      " [-2.5  3. ]]\n",
      "dexps_params:\n",
      " [None]\n",
      "Loss: 7.254150930177666\n"
     ]
    },
    {
     "ename": "TypeError",
     "evalue": "can't multiply sequence by non-int of type 'float'",
     "output_type": "error",
     "traceback": [
      "\u001b[1;31m---------------------------------------------------------------------------\u001b[0m",
      "\u001b[1;31mTypeError\u001b[0m                                 Traceback (most recent call last)",
      "Input \u001b[1;32mIn [7]\u001b[0m, in \u001b[0;36m<cell line: 1>\u001b[1;34m()\u001b[0m\n\u001b[1;32m----> 1\u001b[0m \u001b[43mfs\u001b[49m\u001b[38;5;241;43m.\u001b[39;49m\u001b[43mfit\u001b[49m\u001b[43m(\u001b[49m\u001b[43mfrequency_powers\u001b[49m\u001b[43m,\u001b[49m\u001b[43m \u001b[49m\u001b[43mexperimental_dlts\u001b[49m\u001b[43m)\u001b[49m\n",
      "File \u001b[1;32m~\\Documents\\GitHub\\frequency_scan_model\\py\\fsmodels.py:988\u001b[0m, in \u001b[0;36mMultiExpFrequencyScan.fit\u001b[1;34m(self, f_powers, dlts_vals)\u001b[0m\n\u001b[0;32m    985\u001b[0m     \u001b[38;5;28;01melse\u001b[39;00m:\n\u001b[0;32m    986\u001b[0m         \u001b[38;5;28mprint\u001b[39m(\u001b[38;5;124m'\u001b[39m\u001b[38;5;124mLoss:\u001b[39m\u001b[38;5;124m'\u001b[39m, current_loss\u001b[38;5;241m.\u001b[39mnumpy())\n\u001b[1;32m--> 988\u001b[0m \u001b[38;5;28mself\u001b[39m\u001b[38;5;241m.\u001b[39m_exps_params\u001b[38;5;241m.\u001b[39massign_sub(\u001b[38;5;28;43mself\u001b[39;49m\u001b[38;5;241;43m.\u001b[39;49m\u001b[43m_learning_rate\u001b[49m\u001b[43m \u001b[49m\u001b[38;5;241;43m*\u001b[39;49m\u001b[43m \u001b[49m\u001b[43mdexps_params\u001b[49m)\n\u001b[0;32m    990\u001b[0m \u001b[38;5;28;01mif\u001b[39;00m \u001b[38;5;28mself\u001b[39m\u001b[38;5;241m.\u001b[39m_stop_val \u001b[38;5;129;01mis\u001b[39;00m \u001b[38;5;129;01mnot\u001b[39;00m \u001b[38;5;28;01mNone\u001b[39;00m:\n\u001b[0;32m    991\u001b[0m     \u001b[38;5;28;01mif\u001b[39;00m tf\u001b[38;5;241m.\u001b[39mabs(current_loss \u001b[38;5;241m-\u001b[39m prev_loss) \u001b[38;5;241m<\u001b[39m \u001b[38;5;28mself\u001b[39m\u001b[38;5;241m.\u001b[39m_stop_val:\n",
      "\u001b[1;31mTypeError\u001b[0m: can't multiply sequence by non-int of type 'float'"
     ]
    }
   ],
   "source": [
    "fs.fit(frequency_powers, experimental_dlts)"
   ]
  },
  {
   "cell_type": "code",
   "execution_count": null,
   "id": "2687d3c5",
   "metadata": {},
   "outputs": [],
   "source": [
    "fs._exps_params"
   ]
  },
  {
   "cell_type": "code",
   "execution_count": null,
   "id": "51434f3a",
   "metadata": {},
   "outputs": [],
   "source": [
    "for params in fs._exps_params:\n",
    "    print(params)"
   ]
  },
  {
   "cell_type": "code",
   "execution_count": null,
   "id": "25b27221",
   "metadata": {},
   "outputs": [],
   "source": []
  }
 ],
 "metadata": {
  "kernelspec": {
   "display_name": "Python 3 (ipykernel)",
   "language": "python",
   "name": "python3"
  },
  "language_info": {
   "codemirror_mode": {
    "name": "ipython",
    "version": 3
   },
   "file_extension": ".py",
   "mimetype": "text/x-python",
   "name": "python",
   "nbconvert_exporter": "python",
   "pygments_lexer": "ipython3",
   "version": "3.9.12"
  }
 },
 "nbformat": 4,
 "nbformat_minor": 5
}
