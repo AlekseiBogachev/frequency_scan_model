{
 "cells": [
  {
   "cell_type": "markdown",
   "id": "63cd8d52",
   "metadata": {},
   "source": [
    "Выходной сигнал коррелятора спектрометра DLS-82E определяется выражением:\n",
    "\\begin{equation}\n",
    "    \\label{eq:eq1}\n",
    "    S\\left(\\tau,C_A,F_0, t_1\\right) = C_A K_{BS} K_{LS} \\phi\\left(\\tau,F_0,t_1\\right),\n",
    "\\end{equation}\n",
    "где  \n",
    "$C_A$ - амплитуда емкостного релаксационного сигнала,  \n",
    "$K_{BS}$ - масштабный коэффициент, зависящий от чувствительности емкостного моста,  \n",
    "$K_{LS}$ - масштабный коэффициент селектора,  \n",
    "$\\tau$ - постоянная времени релаксации гулбокого уровня,  \n",
    "$F_0$ - частота сканирования импульсов заполнения,  \n",
    "$t_1$ - длительность импульса заполнения,  \n",
    "$\\phi\\left(\\tau,F_0,t_1\\right)$ - функция определяемая выражением:  \n",
    "\\begin{equation}\n",
    "    \\label{eq:eq2}\n",
    "    \\phi\\left(\\tau,F_0,t_1\\right) = \n",
    "    M \\tau F_0 e^{-\\frac{0.05}{\\tau F_0}}\n",
    "    \\left(1-e^{\\frac{t_1 F_0-0.45}{\\tau F_0}}\n",
    "    -e^{-\\frac{0.5}{\\tau F_0}}+\n",
    "    e^{\\frac{t_1 F_0-0.95}{\\tau F_0}}\\right),\n",
    "\\end{equation}\n",
    "где $M$ -- масштабный множитель."
   ]
  },
  {
   "cell_type": "markdown",
   "id": "230bdbf7",
   "metadata": {},
   "source": [
    "Таким образом,\n",
    "$$  M = \\frac{1}{\\max{\\left[\n",
    "    \\tau F_0 e^{-\\frac{0.05}{\\tau F_0}}\n",
    "    \\left(1-e^{\\frac{t_1 F_0-0.45}{\\tau F_0}}\n",
    "    -e^{-\\frac{0.5}{\\tau F_0}}+\n",
    "    e^{\\frac{t_1 F_0-0.95}{\\tau F_0}}\\right)\n",
    "    \\right]}}\n",
    "$$"
   ]
  },
  {
   "cell_type": "code",
   "execution_count": 1,
   "id": "a0ade6e0",
   "metadata": {},
   "outputs": [],
   "source": [
    "import matplotlib.pyplot as plt\n",
    "import numpy as np\n",
    "import tensorflow as tf\n",
    "\n",
    "%matplotlib inline"
   ]
  },
  {
   "cell_type": "markdown",
   "id": "63bb8891",
   "metadata": {},
   "source": [
    "$$ \\tau = 10^{power_\\tau} $$\n",
    "$$ a = \\tau F_0 $$\n",
    "$$ b = t_1 F_0 $$\n",
    "$$ exp0 = \\exp{\\left(\\frac{-0.05}{a}\\right)} $$\n",
    "$$ exp1 = \\exp{\\left(\\frac{b-0.45}{a}\\right)} $$\n",
    "$$ exp2 = \\exp{\\left(\\frac{-0.5}{a}\\right)} $$\n",
    "$$ exp3 = \\exp{\\left(\\frac{b-0.95}{a}\\right)} $$\n",
    "$$ \\phi = a \\cdot exp0 \\cdot \\left(1.0 - exp1 - exp2 + exp3\\right) $$"
   ]
  },
  {
   "cell_type": "code",
   "execution_count": 2,
   "id": "cbc5b26b",
   "metadata": {},
   "outputs": [],
   "source": [
    "def get_phi(frequency, time_constant_power, M, filling_pulse):\n",
    "    time_constant = tf.pow(10.0, time_constant_power)\n",
    "\n",
    "    a = time_constant * frequency\n",
    "    b = filling_pulse * frequency\n",
    "\n",
    "    exp0 = tf.exp(-0.05 / (a))\n",
    "    exp1 = tf.exp((b - 0.45) / (a))\n",
    "    exp2 = tf.exp(-0.5 / (a))\n",
    "    exp3 = tf.exp((b - 0.95) / (a))\n",
    "\n",
    "    phi = M * a * exp0 * (1.0 - exp1 - exp2 + exp3)\n",
    "\n",
    "    return phi\n",
    "\n",
    "\n",
    "def get_dlts(amplitude, M, frequency, time_constant_power, filling_pulse):\n",
    "    dlts = amplitude * get_phi(frequency, \n",
    "                               time_constant_power, \n",
    "                               M, \n",
    "                               filling_pulse)\n",
    "    \n",
    "    return dlts"
   ]
  },
  {
   "cell_type": "code",
   "execution_count": 3,
   "id": "a8e83e75",
   "metadata": {},
   "outputs": [],
   "source": [
    "amplitude = tf.Variable(3.0, dtype='float64', trainable=True)\n",
    "M = tf.Variable(5.861, dtype='float64', trainable=True)\n",
    "time_constant_power = tf.Variable(0.001, dtype='float64', trainable=True)\n",
    "\n",
    "# start_f = 1.0\n",
    "# stop_f = 2500.0\n",
    "# num_ex = 100\n",
    "\n",
    "# frequency_powers = tf.linspace(np.log10(start_f), np.log10(stop_f), num_ex)\n",
    "# frequency = tf.pow(10.0, frequency_powers)\n",
    "\n",
    "frequency = tf.Variable(1000.0, dtype='float64', trainable=False)\n",
    "\n",
    "filling_pulse = tf.Variable(20*10^(-6), dtype='float64', trainable=False)"
   ]
  },
  {
   "cell_type": "code",
   "execution_count": 4,
   "id": "9d21ee5d",
   "metadata": {},
   "outputs": [],
   "source": [
    "# frequency_powers.dtype"
   ]
  },
  {
   "cell_type": "code",
   "execution_count": 5,
   "id": "56196f9c",
   "metadata": {},
   "outputs": [],
   "source": [
    "# with tf.GradientTape(persistent=True) as tape:\n",
    "#     S = get_dlts(amplitude, \n",
    "#                  M, \n",
    "#                  frequency, \n",
    "#                  time_constant_power, \n",
    "#                  filling_pulse)\n",
    "    \n",
    "#     phi = get_phi(frequency, \n",
    "#                   time_constant_power, \n",
    "#                   M,\n",
    "#                   filling_pulse)"
   ]
  },
  {
   "cell_type": "code",
   "execution_count": 6,
   "id": "919fed66",
   "metadata": {},
   "outputs": [],
   "source": [
    "with tf.GradientTape() as S_tape:\n",
    "    S = get_dlts(amplitude, \n",
    "                 M, \n",
    "                 frequency, \n",
    "                 time_constant_power, \n",
    "                 filling_pulse)\n",
    "\n",
    "with tf.GradientTape() as phi_tape:\n",
    "    phi = get_phi(frequency, \n",
    "                  time_constant_power, \n",
    "                  M,\n",
    "                  filling_pulse)"
   ]
  },
  {
   "cell_type": "code",
   "execution_count": 7,
   "id": "b9bc8e15",
   "metadata": {},
   "outputs": [],
   "source": [
    "# dSdtau_power = tape.gradient(S, [time_constant_power])\n",
    "# dSdA = tape.gradient(S, [amplitude])\n",
    "# dphidM = tape.gradient(phi, [M])"
   ]
  },
  {
   "cell_type": "code",
   "execution_count": 8,
   "id": "2bfccfe1",
   "metadata": {},
   "outputs": [],
   "source": [
    "jacobians = S_tape.gradient(S, [time_constant_power, amplitude])\n",
    "dphidM = phi_tape.gradient(phi, [M])"
   ]
  },
  {
   "cell_type": "code",
   "execution_count": 9,
   "id": "43866958",
   "metadata": {},
   "outputs": [
    {
     "data": {
      "text/plain": [
       "[<tf.Tensor: shape=(), dtype=float64, numpy=0.00605675279826667>,\n",
       " <tf.Tensor: shape=(), dtype=float64, numpy=2.9296230336190394>]"
      ]
     },
     "execution_count": 9,
     "metadata": {},
     "output_type": "execute_result"
    }
   ],
   "source": [
    "jacobians"
   ]
  },
  {
   "cell_type": "code",
   "execution_count": 10,
   "id": "43fe0ab5",
   "metadata": {},
   "outputs": [
    {
     "data": {
      "text/plain": [
       "[<tf.Tensor: shape=(), dtype=float64, numpy=0.4998503725676573>]"
      ]
     },
     "execution_count": 10,
     "metadata": {},
     "output_type": "execute_result"
    }
   ],
   "source": [
    "dphidM"
   ]
  }
 ],
 "metadata": {
  "kernelspec": {
   "display_name": "Python 3 (ipykernel)",
   "language": "python",
   "name": "python3"
  },
  "language_info": {
   "codemirror_mode": {
    "name": "ipython",
    "version": 3
   },
   "file_extension": ".py",
   "mimetype": "text/x-python",
   "name": "python",
   "nbconvert_exporter": "python",
   "pygments_lexer": "ipython3",
   "version": "3.9.12"
  }
 },
 "nbformat": 4,
 "nbformat_minor": 5
}
