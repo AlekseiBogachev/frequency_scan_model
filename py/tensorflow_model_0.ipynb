{
 "cells": [
  {
   "cell_type": "markdown",
   "id": "870ece7a",
   "metadata": {},
   "source": [
    "# 1. Импорт необходимых библиотек и модулей"
   ]
  },
  {
   "cell_type": "code",
   "execution_count": 1,
   "id": "4bc13e32",
   "metadata": {},
   "outputs": [],
   "source": [
    "import matplotlib.pyplot as plt\n",
    "import numpy as np\n",
    "from os import listdir\n",
    "import pandas as pd\n",
    "import tensorflow as tf\n",
    "\n",
    "# print(\"TensorFlow version:\", tf.__version__)\n",
    "\n",
    "%matplotlib inline"
   ]
  },
  {
   "cell_type": "markdown",
   "id": "a428cc9b",
   "metadata": {},
   "source": [
    "# 2. Чтение данных из файла\n",
    "## 2.1 Чтение экспериментальных данных из .csv"
   ]
  },
  {
   "cell_type": "code",
   "execution_count": 2,
   "id": "a24f8acf",
   "metadata": {},
   "outputs": [],
   "source": [
    "file_name = 'test.csv'\n",
    "\n",
    "# TIME_CONSTANT = 0.005\n",
    "# AMPL = 3.0\n",
    "# F_PULSE = 20 * 10 ** (-6)\n",
    "# STDDEV = 0.2"
   ]
  },
  {
   "cell_type": "code",
   "execution_count": 3,
   "id": "74bbaf9c",
   "metadata": {
    "scrolled": false
   },
   "outputs": [
    {
     "data": {
      "text/html": [
       "<div>\n",
       "<style scoped>\n",
       "    .dataframe tbody tr th:only-of-type {\n",
       "        vertical-align: middle;\n",
       "    }\n",
       "\n",
       "    .dataframe tbody tr th {\n",
       "        vertical-align: top;\n",
       "    }\n",
       "\n",
       "    .dataframe thead th {\n",
       "        text-align: right;\n",
       "    }\n",
       "</style>\n",
       "<table border=\"1\" class=\"dataframe\">\n",
       "  <thead>\n",
       "    <tr style=\"text-align: right;\">\n",
       "      <th></th>\n",
       "      <th>frequency_hz</th>\n",
       "      <th>dlts_pf</th>\n",
       "      <th>f_pulse</th>\n",
       "    </tr>\n",
       "  </thead>\n",
       "  <tbody>\n",
       "    <tr>\n",
       "      <th>0</th>\n",
       "      <td>1.0</td>\n",
       "      <td>0.024528</td>\n",
       "      <td>0.00002</td>\n",
       "    </tr>\n",
       "    <tr>\n",
       "      <th>1</th>\n",
       "      <td>1.0078626272670832</td>\n",
       "      <td>-0.200976</td>\n",
       "      <td>0.00002</td>\n",
       "    </tr>\n",
       "    <tr>\n",
       "      <th>2</th>\n",
       "      <td>1.0157870754417073</td>\n",
       "      <td>0.004056</td>\n",
       "      <td>0.00002</td>\n",
       "    </tr>\n",
       "    <tr>\n",
       "      <th>3</th>\n",
       "      <td>1.023773830598626</td>\n",
       "      <td>0.252659</td>\n",
       "      <td>0.00002</td>\n",
       "    </tr>\n",
       "    <tr>\n",
       "      <th>4</th>\n",
       "      <td>1.031823382634417</td>\n",
       "      <td>0.307020</td>\n",
       "      <td>0.00002</td>\n",
       "    </tr>\n",
       "  </tbody>\n",
       "</table>\n",
       "</div>"
      ],
      "text/plain": [
       "         frequency_hz   dlts_pf  f_pulse\n",
       "0                 1.0  0.024528  0.00002\n",
       "1  1.0078626272670832 -0.200976  0.00002\n",
       "2  1.0157870754417073  0.004056  0.00002\n",
       "3   1.023773830598626  0.252659  0.00002\n",
       "4   1.031823382634417  0.307020  0.00002"
      ]
     },
     "execution_count": 3,
     "metadata": {},
     "output_type": "execute_result"
    }
   ],
   "source": [
    "data = pd.read_csv(file_name, \n",
    "                   header = 0,\n",
    "                   parse_dates = [0],\n",
    "                   infer_datetime_format = True\n",
    "                  )\n",
    "data.head()"
   ]
  },
  {
   "cell_type": "markdown",
   "id": "5187703c",
   "metadata": {},
   "source": [
    "## 2.2 Подготовка данных для TensorFlow"
   ]
  },
  {
   "cell_type": "code",
   "execution_count": null,
   "id": "ff5790c1",
   "metadata": {},
   "outputs": [],
   "source": [
    "dlts = tf.Variable(data.dlts_pf.to_numpy(), \n",
    "                   dtype = 'float64')\n",
    "\n",
    "frequency = tf.Variable(data.frequency_hz.to_numpy(),\n",
    "                        dtype = 'float64')\n",
    "\n",
    "# filling_pulse = tf.Variable(data.f_pulse.mean() * 10**-6, dtype = 'float64')\n",
    "filling_pulse = tf.Variable(data.f_pulse.mean(), dtype = 'float64')"
   ]
  },
  {
   "cell_type": "code",
   "execution_count": null,
   "id": "0d1458da",
   "metadata": {},
   "outputs": [],
   "source": [
    "# dlts"
   ]
  },
  {
   "cell_type": "code",
   "execution_count": null,
   "id": "2e14e456",
   "metadata": {},
   "outputs": [],
   "source": [
    "# frequency"
   ]
  },
  {
   "cell_type": "code",
   "execution_count": null,
   "id": "2f168271",
   "metadata": {},
   "outputs": [],
   "source": [
    "filling_pulse"
   ]
  },
  {
   "cell_type": "markdown",
   "id": "0eb9dc1e",
   "metadata": {},
   "source": [
    "## 2.3 График"
   ]
  },
  {
   "cell_type": "code",
   "execution_count": null,
   "id": "8be725bc",
   "metadata": {},
   "outputs": [],
   "source": [
    "plt.semilogx(frequency.numpy(), dlts.numpy(), '.g', label='Экспериментальные\\nданные', alpha = 0.3)\n",
    "plt.grid()\n",
    "plt.xlim([1, 2500])\n",
    "# plt.ylim([-0.006, 0])\n",
    "plt.legend()\n",
    "plt.ylabel('DLTS, пФ')\n",
    "plt.xlabel('Частота, Гц')\n",
    "plt.show()"
   ]
  },
  {
   "cell_type": "markdown",
   "id": "66e2bf03",
   "metadata": {},
   "source": [
    "## 2.4 Подготовка данных"
   ]
  },
  {
   "cell_type": "code",
   "execution_count": null,
   "id": "240ac0cc",
   "metadata": {},
   "outputs": [],
   "source": [
    "frequency = np.log10(frequency)\n",
    "# frequency"
   ]
  },
  {
   "cell_type": "code",
   "execution_count": null,
   "id": "4a334a49",
   "metadata": {},
   "outputs": [],
   "source": [
    "scale_factor = np.max(frequency) / (np.max(dlts) - np.min(dlts))\n",
    "dlts = dlts * scale_factor\n",
    "# dlts"
   ]
  },
  {
   "cell_type": "code",
   "execution_count": null,
   "id": "89ff8ad6",
   "metadata": {},
   "outputs": [],
   "source": [
    "plt.plot(frequency, dlts, '.g', label='Экспериментальные\\nданные', alpha=0.3)\n",
    "plt.grid()\n",
    "plt.xlim([0, 3.5])\n",
    "# plt.ylim([-3.5, 0])\n",
    "plt.legend()\n",
    "plt.ylabel('DLTS, условные еденицы')\n",
    "plt.xlabel('log10(Частота), условные еденицы')\n",
    "plt.show()"
   ]
  },
  {
   "cell_type": "markdown",
   "id": "ce6cfb6b",
   "metadata": {},
   "source": [
    "# 3. Описание модели\n",
    "Выходной сигнал коррелятора спектрометра DLS-82E определяется выражением:\n",
    "\\begin{equation}\n",
    "    \\label{eq:eq1}\n",
    "    S\\left(\\tau,C_A,F_0, t_1\\right) = C_A K_{BS} K_{LS} \\phi\\left(\\tau,F_0,t_1\\right),\n",
    "\\end{equation}\n",
    "где  \n",
    "$C_A$ - амплитуда емкостного релаксационного сигнала,  \n",
    "$K_{BS}$ - масштабный коэффициент, зависящий от чувствительности емкостного моста,  \n",
    "$K_{LS}$ - масштабный коэффициент селектора,  \n",
    "$\\tau$ - постоянная времени релаксации гулбокого уровня,  \n",
    "$F_0$ - частота сканирования импульсов заполнения,  \n",
    "$t_1$ - длительность импульса заполнения,  \n",
    "$\\phi\\left(\\tau,F_0,t_1\\right)$ - функция определяемая выражением:  \n",
    "\\begin{equation}\n",
    "    \\label{eq:eq2}\n",
    "    \\phi\\left(\\tau,F_0,t_1\\right) = \n",
    "    M \\tau F_0 e^{-\\frac{0.05}{\\tau F_0}}\n",
    "    \\left(1-e^{\\frac{t_1 F_0-0.45}{\\tau F_0}}\n",
    "    -e^{-\\frac{0.5}{\\tau F_0}}+\n",
    "    e^{\\frac{t_1 F_0-0.95}{\\tau F_0}}\\right),\n",
    "\\end{equation}\n",
    "где $M$ -- масштабный множитель.\n",
    "\n",
    "Таким образом,\n",
    "$$  M = \\frac{1}{\\max{\\left[\n",
    "    \\tau F_0 e^{-\\frac{0.05}{\\tau F_0}}\n",
    "    \\left(1-e^{\\frac{t_1 F_0-0.45}{\\tau F_0}}\n",
    "    -e^{-\\frac{0.5}{\\tau F_0}}+\n",
    "    e^{\\frac{t_1 F_0-0.95}{\\tau F_0}}\\right)\n",
    "    \\right]}}\n",
    "$$"
   ]
  },
  {
   "cell_type": "markdown",
   "id": "77162f85",
   "metadata": {},
   "source": [
    "# 4. Кодирование модели\n",
    "## 4.1 Функция `get_phi()`\n",
    "$$ \\tau = 10^{time\\_constant\\_power} $$\n",
    "$$ F_0 = 10^{frequency\\_power}$$\n",
    "$$ a = \\tau F_0 $$\n",
    "$$ b = t_1 F_0 $$\n",
    "$$ exp0 = \\exp{\\left(\\frac{-0.05}{a}\\right)} $$\n",
    "$$ exp1 = \\exp{\\left(\\frac{b-0.45}{a}\\right)} $$\n",
    "$$ exp2 = \\exp{\\left(\\frac{-0.5}{a}\\right)} $$\n",
    "$$ exp3 = \\exp{\\left(\\frac{b-0.95}{a}\\right)} $$\n",
    "$$ \\phi = M \\cdot a \\cdot exp0 \\cdot \\left(1.0 - exp1 - exp2 + exp3\\right) $$"
   ]
  },
  {
   "cell_type": "code",
   "execution_count": null,
   "id": "9e130e98",
   "metadata": {},
   "outputs": [],
   "source": [
    "def get_phi(frequency_power, time_constant_power, M, filling_pulse):\n",
    "    time_constant = tf.pow(10.0, time_constant_power)\n",
    "    frequency = tf.pow(10, frequency_power)\n",
    "\n",
    "    a = time_constant * frequency\n",
    "    b = filling_pulse * frequency\n",
    "\n",
    "    exp0 = tf.exp(-0.05 / (a))\n",
    "    exp1 = tf.exp((b - 0.45) / (a))\n",
    "    exp2 = tf.exp(-0.5 / (a))\n",
    "    exp3 = tf.exp((b - 0.95) / (a))\n",
    "\n",
    "    phi = M * a * exp0 * (1.0 - exp1 - exp2 + exp3)\n",
    "\n",
    "    return phi"
   ]
  },
  {
   "cell_type": "markdown",
   "id": "e51c26fd",
   "metadata": {},
   "source": [
    "## 4.2 Функция `get_dlts()`\n",
    "$$ DLTS = A \\cdot \\phi^{p\\_coef} $$"
   ]
  },
  {
   "cell_type": "code",
   "execution_count": null,
   "id": "34f05e30",
   "metadata": {},
   "outputs": [],
   "source": [
    "# def get_dlts(amplitude, M, frequency_power, time_constant_power, filling_pulse):\n",
    "#     dlts = amplitude * get_phi(frequency_power, \n",
    "#                                time_constant_power, \n",
    "#                                M, \n",
    "#                                filling_pulse)\n",
    "    \n",
    "#     return dlts"
   ]
  },
  {
   "cell_type": "markdown",
   "id": "e6a6715a",
   "metadata": {},
   "source": [
    "## 4.3 Определение функции потерь для DLTS (для модели). Функция `loss_dlts()`\n",
    "Среднеквадратическая ошибка\n"
   ]
  },
  {
   "cell_type": "code",
   "execution_count": null,
   "id": "34a3d2d8",
   "metadata": {},
   "outputs": [],
   "source": [
    "# def loss(target_y, predicted_y):\n",
    "#     return tf.reduce_mean(tf.square(target_y - predicted_y))"
   ]
  },
  {
   "cell_type": "markdown",
   "id": "c0e0aae0",
   "metadata": {},
   "source": [
    "## 4.5 Определение модели для $\\phi$"
   ]
  },
  {
   "cell_type": "code",
   "execution_count": null,
   "id": "6a686ad7",
   "metadata": {},
   "outputs": [],
   "source": [
    "class PhiModel(tf.Module):\n",
    "    def __init__(self, \n",
    "                 time_constant_power,\n",
    "                 filling_pulse,\n",
    "                 M = 5.861,\n",
    "                 **kwargs):\n",
    "        \n",
    "        super().__init__(**kwargs)\n",
    "        \n",
    "        self.time_constant_power = tf.Variable(time_constant_power, \n",
    "                                               dtype='float64', \n",
    "                                               name='time constant power'\n",
    "                                              )\n",
    "        self.filling_pulse = tf.Variable(filling_pulse, \n",
    "                                         dtype='float64',\n",
    "                                         name='filling pulse'\n",
    "                                        )\n",
    "        self.M = tf.Variable(M, \n",
    "                             dtype='float64',\n",
    "                             name='M'\n",
    "                            )\n",
    "        \n",
    "    def __call__(self, frequency_power):\n",
    "        return get_phi(frequency_power, \n",
    "                       self.time_constant_power, \n",
    "                       self.M, \n",
    "                       self.filling_pulse)\n",
    "    \n",
    "    \n",
    "phi_model = PhiModel(time_constant_power=tf.Variable(-3.0, dtype='float64'), \n",
    "                     filling_pulse=filling_pulse)\n",
    "\n",
    "for i, v in enumerate(phi_model.variables):\n",
    "    print(f'Variable {i}:', v)\n",
    "\n",
    "print(phi_model(frequency_power=tf.Variable(3.0, dtype='float64')))"
   ]
  },
  {
   "cell_type": "markdown",
   "id": "cec0b739",
   "metadata": {},
   "source": [
    "## 4.6 Идентификация коэффициента $M$"
   ]
  },
  {
   "cell_type": "code",
   "execution_count": null,
   "id": "2a2abf83",
   "metadata": {},
   "outputs": [],
   "source": [
    "def train_M(phi_model,\n",
    "            learning_rate=0.1,\n",
    "            n_iters=100,\n",
    "            stop_val = None,\n",
    "            verbose = False\n",
    "           ):\n",
    "    \n",
    "    prev_loss = tf.Variable(np.inf, dtype='float64')\n",
    "    max_freq_pow = tf.Variable(-phi_model.time_constant_power, dtype='float64')\n",
    "    \n",
    "    for _ in range(n_iters):\n",
    "        with tf.GradientTape() as tape:\n",
    "            current_loss = 0.0 - phi_model(max_freq_pow)\n",
    "            \n",
    "        if verbose:\n",
    "            print(_)\n",
    "            print(current_loss)\n",
    "            print(max_freq_pow)\n",
    "        \n",
    "        if stop_val is not None:\n",
    "            if tf.abs(current_loss - prev_loss) < stop_val:\n",
    "                break\n",
    "        \n",
    "        dfreq_pow = tape.gradient(current_loss, max_freq_pow)\n",
    "        max_freq_pow.assign_sub(learning_rate * dfreq_pow)\n",
    "        \n",
    "        prev_loss = current_loss\n",
    "        \n",
    "    phi_model.M = phi_model.M / phi_model(max_freq_pow)"
   ]
  },
  {
   "cell_type": "code",
   "execution_count": null,
   "id": "996051b6",
   "metadata": {},
   "outputs": [],
   "source": [
    "train_M(phi_model,\n",
    "        learning_rate=0.2,\n",
    "        n_iters=100,\n",
    "        stop_val = 10**-10,\n",
    "        verbose = True\n",
    "       )"
   ]
  },
  {
   "cell_type": "code",
   "execution_count": null,
   "id": "b320c502",
   "metadata": {},
   "outputs": [],
   "source": [
    "phi_model.M"
   ]
  },
  {
   "cell_type": "code",
   "execution_count": null,
   "id": "a4b68197",
   "metadata": {},
   "outputs": [],
   "source": [
    "del phi_model"
   ]
  },
  {
   "cell_type": "markdown",
   "id": "0ed51ac7",
   "metadata": {},
   "source": [
    "## 4.7 Определение модели частотного скана"
   ]
  },
  {
   "cell_type": "code",
   "execution_count": null,
   "id": "3c977e22",
   "metadata": {},
   "outputs": [],
   "source": [
    "class FeqScanModel(tf.Module):\n",
    "    \n",
    "    def __init__(self,\n",
    "                 amplitude,\n",
    "                 time_constant_power,\n",
    "                 filling_pulse,\n",
    "                 fit_p = False,\n",
    "                 **kwargs):\n",
    "        super().__init__(**kwargs)\n",
    "        \n",
    "        self.amplitude = tf.Variable(amplitude, dtype='float64')\n",
    "        \n",
    "        self.filling_pulse = tf.Variable(filling_pulse, dtype='float64')\n",
    "        \n",
    "        self.time_constant_power = tf.Variable(time_constant_power, dtype='float64')\n",
    "    \n",
    "        self.phi_model = PhiModel(time_constant_power=self.time_constant_power, \n",
    "                                  filling_pulse=self.filling_pulse)\n",
    "        \n",
    "        train_M(self.phi_model,\n",
    "                learning_rate=0.2,\n",
    "                n_iters=100,\n",
    "                stop_val = 10**-10,\n",
    "                verbose = False\n",
    "               )\n",
    "        \n",
    "        self.fit_p = fit_p\n",
    "        self.p_coef = tf.Variable(1.0, dtype = 'float64')\n",
    "        \n",
    "        \n",
    "\n",
    "    def __call__(self, frequency_power):\n",
    "        return self.amplitude * self.phi_model(frequency_power) ** self.p_coef\n",
    "    \n",
    "    \n",
    "    def fit(self, \n",
    "            f_powers, \n",
    "            dlts_vals,\n",
    "            learning_rate = 0.1,\n",
    "            n_iters = 1000,\n",
    "            stop_val = None,\n",
    "            verbose = False\n",
    "           ):\n",
    "        frequency_powers = tf.Variable(f_powers, dtype='float64')\n",
    "        dlts = tf.Variable(dlts_vals, dtype='float64')\n",
    "        \n",
    "        prev_loss = tf.Variable(np.inf, dtype='float64')\n",
    "        \n",
    "        for _ in range(n_iters):\n",
    "            \n",
    "            train_M(self.phi_model,\n",
    "                    learning_rate=0.2,\n",
    "                    n_iters=100,\n",
    "                    stop_val = 10**-10,\n",
    "                   )\n",
    "        \n",
    "            with tf.GradientTape() as tape:\n",
    "                predicted_dlts = self.__call__(frequency_powers)\n",
    "                current_loss = tf.reduce_mean(tf.square(dlts - predicted_dlts))\n",
    "\n",
    "            if self.fit_p:\n",
    "                dampl, dtime_const_pow, dp_coef = tape.gradient(current_loss, [self.amplitude, \n",
    "                                                                               self.phi_model.time_constant_power,\n",
    "                                                                               self.p_coef\n",
    "                                                                              ])\n",
    "            else:\n",
    "                dampl, dtime_const_pow = tape.gradient(current_loss, [self.amplitude, \n",
    "                                                                      self.phi_model.time_constant_power])\n",
    "\n",
    "            self.amplitude.assign_sub(learning_rate * dampl)\n",
    "            self.phi_model.time_constant_power.assign_sub(learning_rate * dtime_const_pow)\n",
    "            if self.fit_p:\n",
    "                self.p_coef.assign_sub(learning_rate * dp_coef)\n",
    "            \n",
    "            \n",
    "            self.time_constant_power = self.phi_model.time_constant_power\n",
    "            \n",
    "            if verbose:\n",
    "                print('iter #', _)\n",
    "                print('amp:',self.amplitude)\n",
    "                print('tau:',self.time_constant_power)\n",
    "                print('M:', self.phi_model.M)\n",
    "                print('p:', self.p_coef)\n",
    "                print('Loss:', current_loss)\n",
    "            \n",
    "            if stop_val is not None:\n",
    "                if tf.abs(current_loss - prev_loss) < stop_val:\n",
    "                    break\n",
    "                    \n",
    "            prev_loss = current_loss"
   ]
  },
  {
   "cell_type": "markdown",
   "id": "0ad02b28",
   "metadata": {},
   "source": [
    "## 4.8 Проверка модели с $p\\_coef = 1$"
   ]
  },
  {
   "cell_type": "code",
   "execution_count": null,
   "id": "7e7b05e6",
   "metadata": {},
   "outputs": [],
   "source": [
    "fs_model = FeqScanModel(amplitude = 2.0,\n",
    "                        time_constant_power = -2.5,\n",
    "                        filling_pulse = 20.0*10**-6)"
   ]
  },
  {
   "cell_type": "code",
   "execution_count": null,
   "id": "3d962adc",
   "metadata": {},
   "outputs": [],
   "source": [
    "new_frequency = tf.Variable(frequency, dtype='float64')"
   ]
  },
  {
   "cell_type": "code",
   "execution_count": null,
   "id": "3cca3674",
   "metadata": {},
   "outputs": [],
   "source": [
    "new_dlts = fs_model(new_frequency)"
   ]
  },
  {
   "cell_type": "code",
   "execution_count": null,
   "id": "15109d25",
   "metadata": {
    "scrolled": false
   },
   "outputs": [],
   "source": [
    "plt.plot(frequency, dlts, '.g', label='Экспериментальные\\nданные', alpha=0.3)\n",
    "plt.plot(new_frequency.numpy(), new_dlts.numpy(), '--b', label='Модель')\n",
    "plt.grid()\n",
    "plt.xlim([0, 3.5])\n",
    "# plt.ylim([-3.5, 0])\n",
    "plt.legend()\n",
    "plt.ylabel('DLTS, условные еденицы')\n",
    "plt.xlabel('log10(Частота), условные еденицы')\n",
    "plt.show()"
   ]
  },
  {
   "cell_type": "code",
   "execution_count": null,
   "id": "ccda4849",
   "metadata": {},
   "outputs": [],
   "source": [
    "fs_model.fit(f_powers = tf.Variable(frequency, dtype='float64'), \n",
    "             dlts_vals = tf.Variable(dlts, dtype='float64'),\n",
    "             learning_rate = 0.2,\n",
    "             n_iters = 1000,\n",
    "             stop_val = 10**-10,\n",
    "             verbose = True\n",
    "            )"
   ]
  },
  {
   "cell_type": "code",
   "execution_count": null,
   "id": "7e424700",
   "metadata": {},
   "outputs": [],
   "source": [
    "fs_model.amplitude / tf.Variable(scale_factor, dtype='float64')"
   ]
  },
  {
   "cell_type": "code",
   "execution_count": null,
   "id": "c7475cd5",
   "metadata": {},
   "outputs": [],
   "source": [
    "tf.pow(10, fs_model.time_constant_power)"
   ]
  },
  {
   "cell_type": "code",
   "execution_count": null,
   "id": "150d6bb7",
   "metadata": {},
   "outputs": [],
   "source": [
    "fs_model.phi_model.M"
   ]
  },
  {
   "cell_type": "code",
   "execution_count": null,
   "id": "838df826",
   "metadata": {},
   "outputs": [],
   "source": [
    "model = fs_model(new_frequency)"
   ]
  },
  {
   "cell_type": "code",
   "execution_count": null,
   "id": "0a936288",
   "metadata": {},
   "outputs": [],
   "source": [
    "plt.plot(frequency, dlts, '.g', label='Экспериментальные\\nданные',alpha=0.3)\n",
    "plt.plot(new_frequency.numpy(), new_dlts.numpy(), '--b', label='Начальная модель')\n",
    "plt.plot(new_frequency.numpy(), model.numpy(), 'r', label='Конечная модель')\n",
    "plt.grid()\n",
    "plt.xlim([0, 3.5])\n",
    "# plt.ylim([-3.5, 0])\n",
    "plt.legend()\n",
    "plt.ylabel('DLTS, условные еденицы')\n",
    "plt.xlabel('log10(Частота), условные еденицы')\n",
    "plt.show()"
   ]
  },
  {
   "cell_type": "code",
   "execution_count": null,
   "id": "8064a4ae",
   "metadata": {},
   "outputs": [],
   "source": [
    "tf.sqrt(tf.reduce_mean(tf.square(tf.Variable(dlts, dtype='float64') - model)))"
   ]
  },
  {
   "cell_type": "markdown",
   "id": "04c51298",
   "metadata": {},
   "source": [
    "## 4.9 Проверка модели с коэффициентом $p\\_coef \\neq 1$"
   ]
  },
  {
   "cell_type": "markdown",
   "id": "521bf65a",
   "metadata": {},
   "source": [
    "### 4.9.1 Чтение файла"
   ]
  },
  {
   "cell_type": "code",
   "execution_count": null,
   "id": "f1ebdf59",
   "metadata": {},
   "outputs": [],
   "source": [
    "file_name = 'КТ117№1_п1(база 2)_2500Гц-1Гц_1пФ_+10С_-1В-2В_100мВ_20мкс_шаг_0,1.csv'"
   ]
  },
  {
   "cell_type": "code",
   "execution_count": null,
   "id": "43521010",
   "metadata": {
    "scrolled": false
   },
   "outputs": [],
   "source": [
    "data = pd.read_csv(file_name, \n",
    "                   header = 0,\n",
    "                   parse_dates = [0],\n",
    "                   infer_datetime_format = True\n",
    "                  )\n",
    "data.head()"
   ]
  },
  {
   "cell_type": "markdown",
   "id": "e402164b",
   "metadata": {},
   "source": [
    "### 4.9.1 Подготовка данных"
   ]
  },
  {
   "cell_type": "code",
   "execution_count": null,
   "id": "fb98a7d7",
   "metadata": {},
   "outputs": [],
   "source": [
    "frequency = data.frequency_hz.to_numpy()\n",
    "dlts = data.dlts_pf.to_numpy()\n",
    "\n",
    "frequency = np.log10(frequency)\n",
    "\n",
    "scale_factor = np.max(frequency) / (np.max(dlts) - np.min(dlts))\n",
    "dlts = dlts * scale_factor"
   ]
  },
  {
   "cell_type": "code",
   "execution_count": null,
   "id": "6642cea9",
   "metadata": {},
   "outputs": [],
   "source": [
    "dlts = tf.Variable(dlts, dtype = 'float64')\n",
    "\n",
    "frequency = tf.Variable(frequency, dtype = 'float64')\n",
    "\n",
    "filling_pulse = tf.Variable(data.f_pulse.mean() * 10**-6, dtype = 'float64')"
   ]
  },
  {
   "cell_type": "markdown",
   "id": "6eab1e67",
   "metadata": {},
   "source": [
    "### 4.9.2 График экспериментальных данных"
   ]
  },
  {
   "cell_type": "code",
   "execution_count": null,
   "id": "cd55d429",
   "metadata": {},
   "outputs": [],
   "source": [
    "plt.plot(frequency.numpy(), dlts.numpy(), '.g', label='Экспериментальные\\nданные', alpha=1)\n",
    "plt.grid()\n",
    "plt.xlim([0, 3.5])\n",
    "plt.ylim([-3.5, 0])\n",
    "plt.legend()\n",
    "plt.ylabel('DLTS, условные еденицы')\n",
    "plt.xlabel('log10(Частота), условные еденицы')\n",
    "plt.show()"
   ]
  },
  {
   "cell_type": "markdown",
   "id": "32aadeb5",
   "metadata": {},
   "source": [
    "### 4.9.3 Инициализация модели"
   ]
  },
  {
   "cell_type": "code",
   "execution_count": null,
   "id": "1694dda6",
   "metadata": {},
   "outputs": [],
   "source": [
    "fs_model = FeqScanModel(amplitude = -2.0,\n",
    "                        time_constant_power = -2.5,\n",
    "                        filling_pulse = 20.0*10**-6,\n",
    "                        fit_p = True\n",
    "                       )"
   ]
  },
  {
   "cell_type": "code",
   "execution_count": null,
   "id": "926d6db9",
   "metadata": {},
   "outputs": [],
   "source": [
    "init_dlts = fs_model(frequency)"
   ]
  },
  {
   "cell_type": "code",
   "execution_count": null,
   "id": "41bca72a",
   "metadata": {},
   "outputs": [],
   "source": [
    "plt.plot(frequency.numpy(), dlts.numpy(), '.g', label='Экспериментальные\\nданные', alpha=0.6)\n",
    "plt.plot(frequency.numpy(), init_dlts.numpy(), '--b', label='Начальная модель')\n",
    "plt.grid()\n",
    "plt.xlim([0, 3.5])\n",
    "# plt.ylim([-3.5, 0])\n",
    "plt.legend()\n",
    "plt.ylabel('DLTS, условные еденицы')\n",
    "plt.xlabel('log10(Частота), условные еденицы')\n",
    "plt.show()"
   ]
  },
  {
   "cell_type": "markdown",
   "id": "e4314e83",
   "metadata": {},
   "source": [
    "### 4.9.4 Идентификация модели"
   ]
  },
  {
   "cell_type": "code",
   "execution_count": null,
   "id": "c4490bd8",
   "metadata": {},
   "outputs": [],
   "source": [
    "fs_model.fit(f_powers = frequency, \n",
    "             dlts_vals = dlts,\n",
    "             learning_rate = 0.2,\n",
    "             n_iters = 1500,\n",
    "             stop_val = 10**-10,\n",
    "             verbose = True\n",
    "            )"
   ]
  },
  {
   "cell_type": "code",
   "execution_count": null,
   "id": "706df8be",
   "metadata": {},
   "outputs": [],
   "source": [
    "final_dlts = fs_model(frequency)"
   ]
  },
  {
   "cell_type": "code",
   "execution_count": null,
   "id": "77a73cf8",
   "metadata": {},
   "outputs": [],
   "source": [
    "plt.plot(frequency.numpy(), dlts.numpy(), '.g', label='Экспериментальные\\nданные', alpha=0.6)\n",
    "plt.plot(frequency.numpy(), init_dlts.numpy(), '--b', label='Начальная модель')\n",
    "plt.plot(frequency.numpy(), final_dlts.numpy(), 'r', label='Конечная модель')\n",
    "plt.grid()\n",
    "plt.xlim([0, 3.5])\n",
    "# plt.ylim([-3.5, 0])\n",
    "plt.legend()\n",
    "plt.ylabel('DLTS, условные еденицы')\n",
    "plt.xlabel('log10(Частота), условные еденицы')\n",
    "plt.show()"
   ]
  },
  {
   "cell_type": "code",
   "execution_count": null,
   "id": "684d69a9",
   "metadata": {},
   "outputs": [],
   "source": [
    "fs_model.amplitude / tf.Variable(scale_factor, dtype='float64')"
   ]
  },
  {
   "cell_type": "code",
   "execution_count": null,
   "id": "32af8797",
   "metadata": {},
   "outputs": [],
   "source": [
    "tf.pow(10, fs_model.time_constant_power)"
   ]
  },
  {
   "cell_type": "code",
   "execution_count": null,
   "id": "2847f5d8",
   "metadata": {},
   "outputs": [],
   "source": [
    "fs_model.phi_model.M"
   ]
  },
  {
   "cell_type": "code",
   "execution_count": null,
   "id": "f84bbcc2",
   "metadata": {
    "scrolled": true
   },
   "outputs": [],
   "source": [
    "fs_model.p_coef"
   ]
  },
  {
   "cell_type": "code",
   "execution_count": null,
   "id": "8129abaf",
   "metadata": {},
   "outputs": [],
   "source": [
    "tf.sqrt(tf.reduce_mean(tf.square(final_dlts - dlts)))"
   ]
  },
  {
   "cell_type": "markdown",
   "id": "2e7d1f02",
   "metadata": {},
   "source": [
    "# 5. Идентификация энергии активации по группе сканов\n",
    "Эксперементальные данные по GaAs\n",
    "## 5.1 Чтение данных"
   ]
  },
  {
   "cell_type": "code",
   "execution_count": null,
   "id": "e51bfb4f",
   "metadata": {},
   "outputs": [],
   "source": [
    "def get_file_names(datasets_folder):\n",
    "    return [datasets_folder + '/' + _ for _ in listdir(datasets_folder)]\n",
    "\n",
    "def read_datasets(file_names):\n",
    "    data = pd.read_csv(file_names[0],\n",
    "                       header=0,\n",
    "                       parse_dates=[0],\n",
    "                       infer_datetime_format=True)\n",
    "    \n",
    "    for f_name in file_names[1:]:\n",
    "        data = data.append(pd.read_csv(f_name, header=0, parse_dates=[0], \n",
    "                                       infer_datetime_format=True).loc[::20,:],\n",
    "                           ignore_index = True)\n",
    "    \n",
    "    \n",
    "    return data"
   ]
  },
  {
   "cell_type": "code",
   "execution_count": null,
   "id": "c4464ba8",
   "metadata": {},
   "outputs": [],
   "source": [
    "DATASET_PATH = '../dataset'"
   ]
  },
  {
   "cell_type": "code",
   "execution_count": null,
   "id": "be97248d",
   "metadata": {
    "scrolled": true
   },
   "outputs": [],
   "source": [
    "fnames = get_file_names(DATASET_PATH)\n",
    "data = read_datasets(fnames)"
   ]
  },
  {
   "cell_type": "code",
   "execution_count": null,
   "id": "058ca71e",
   "metadata": {},
   "outputs": [],
   "source": [
    "data"
   ]
  },
  {
   "cell_type": "code",
   "execution_count": null,
   "id": "401e71cb",
   "metadata": {},
   "outputs": [],
   "source": [
    "data = data[['frequency_hz', 'temperature_k', 'dlts_pf']]\n",
    "data['rounded_temperature'] = data.temperature_k.round()\n",
    "data"
   ]
  },
  {
   "cell_type": "markdown",
   "id": "61ecfb9f",
   "metadata": {},
   "source": [
    "## 5.2 График экспериментальных данных"
   ]
  },
  {
   "cell_type": "code",
   "execution_count": null,
   "id": "c31b9de5",
   "metadata": {},
   "outputs": [],
   "source": [
    "selected = data[data.rounded_temperature == 314]\n",
    "\n",
    "plt.semilogx(selected.frequency_hz, selected.dlts_pf, '.g', label='Экспериментальные\\nданные', alpha=0.3)\n",
    "plt.grid()\n",
    "# plt.xlim([0, 3.5])\n",
    "# plt.ylim([-3.5, 0])\n",
    "plt.legend()\n",
    "plt.ylabel('DLTS, условные еденицы')\n",
    "plt.xlabel('log10(Частота), условные еденицы')\n",
    "plt.show()"
   ]
  },
  {
   "cell_type": "markdown",
   "id": "8d4f0eb8",
   "metadata": {},
   "source": [
    "## 5.3 Подготовка данных"
   ]
  },
  {
   "cell_type": "code",
   "execution_count": null,
   "id": "6d8e5728",
   "metadata": {},
   "outputs": [],
   "source": [
    "frequency = data.frequency_hz.to_numpy()\n",
    "dlts = data.dlts_pf.to_numpy()\n",
    "temperature = data.temperature_k.to_numpy()\n",
    "\n",
    "\n",
    "frequency_power = np.log10(frequency)\n",
    "\n",
    "scale_factor = np.max(frequency) / (np.max(dlts) - np.min(dlts))\n",
    "dlts = dlts * scale_factor\n",
    "\n",
    "\n",
    "frequency_power = tf.Variable(frequency_power, dtype='float64')\n",
    "dlts = tf.Variable(dlts, dtype='float64')\n",
    "temperature = tf.Variable(temperature, dtype='float64')"
   ]
  },
  {
   "cell_type": "code",
   "execution_count": null,
   "id": "2b31bbfd",
   "metadata": {},
   "outputs": [],
   "source": [
    "frequency"
   ]
  },
  {
   "cell_type": "code",
   "execution_count": null,
   "id": "4788ea3a",
   "metadata": {},
   "outputs": [],
   "source": [
    "frequency_power"
   ]
  },
  {
   "cell_type": "code",
   "execution_count": null,
   "id": "421950f2",
   "metadata": {},
   "outputs": [],
   "source": [
    "temperature"
   ]
  },
  {
   "cell_type": "markdown",
   "id": "7d3ccbd2",
   "metadata": {},
   "source": [
    "## 5.4 Модель"
   ]
  },
  {
   "cell_type": "markdown",
   "id": "219639d5",
   "metadata": {},
   "source": [
    "$$ e_n = BT^2\\exp\\left(\\frac{-\\Delta E}{kT} \\right) $$\n",
    "$$ \\tau = \\frac{1}{e_n} $$\n",
    "$$ time\\_constant\\_power = \\log_{10}\\tau = \\frac{\\log_e\\tau}{\\log_e10}$$\n",
    "\n",
    "$$ F_0 = 10^{frequency\\_power}$$\n",
    "$$ a = \\tau F_0 $$\n",
    "$$ b = t_1 F_0 $$\n",
    "$$ exp0 = \\exp{\\left(\\frac{-0.05}{a}\\right)} $$\n",
    "$$ exp1 = \\exp{\\left(\\frac{b-0.45}{a}\\right)} $$\n",
    "$$ exp2 = \\exp{\\left(\\frac{-0.5}{a}\\right)} $$\n",
    "$$ exp3 = \\exp{\\left(\\frac{b-0.95}{a}\\right)} $$\n",
    "\n",
    "$$  M = \\frac{1}{\\max{\\left[\n",
    "    \\tau F_0 e^{-\\frac{0.05}{\\tau F_0}}\n",
    "    \\left(1-e^{\\frac{t_1 F_0-0.45}{\\tau F_0}}\n",
    "    -e^{-\\frac{0.5}{\\tau F_0}}+\n",
    "    e^{\\frac{t_1 F_0-0.95}{\\tau F_0}}\\right)\n",
    "    \\right]}}\n",
    "$$\n",
    "\n",
    "$$ \\phi = M \\cdot a \\cdot exp0 \\cdot \\left(1.0 - exp1 - exp2 + exp3\\right) $$\n",
    "\n",
    "$$ S\\left(\\tau,A,F_0, t_1\\right) = A \\phi\\left(\\tau,F_0,t_1\\right) $$"
   ]
  },
  {
   "cell_type": "code",
   "execution_count": null,
   "id": "ea874402",
   "metadata": {},
   "outputs": [],
   "source": [
    "class DeepLevelModel(tf.Module):\n",
    "    \n",
    "    def get_time_constant_power(self, temperature):\n",
    "        k = tf.Variable(8.617*10**-5, dtype='float64')\n",
    "\n",
    "        time_constant = 1 / ( self.pre_exp_factor * temperature * temperature * tf.math.exp(-self.energy / (k * temperature) ))\n",
    "\n",
    "        time_constant_power = tf.math.log(time_constant) / tf.math.log(tf.Variable(10.0, dtype='float64'))\n",
    "\n",
    "        return time_constant_power\n",
    "    \n",
    "    \n",
    "    def get_phi(self, frequency_power, time_constant_power):\n",
    "        time_constant = tf.pow(10.0, time_constant_power)\n",
    "        frequency = tf.pow(10.0, frequency_power)\n",
    "\n",
    "        a = time_constant * frequency\n",
    "        b = self.filling_pulse * frequency\n",
    "\n",
    "        exp0 = tf.exp(-0.05 / (a))\n",
    "        exp1 = tf.exp((b - 0.45) / (a))\n",
    "        exp2 = tf.exp(-0.5 / (a))\n",
    "        exp3 = tf.exp((b - 0.95) / (a))\n",
    "\n",
    "        phi = self.M * a * exp0 * (1.0 - exp1 - exp2 + exp3)\n",
    "\n",
    "        return phi\n",
    "    \n",
    "    \n",
    "    def train_M(self,\n",
    "                time_constant_powers,\n",
    "                learning_rate=0.1,\n",
    "                n_iters=100,\n",
    "                stop_val = None,\n",
    "                verbose = False\n",
    "               ):\n",
    "\n",
    "        prev_loss = tf.Variable(np.inf, dtype='float64')\n",
    "        max_freq_pow = tf.Variable(-time_constant_powers, dtype='float64')\n",
    "\n",
    "        for _ in range(n_iters):\n",
    "            with tf.GradientTape() as tape:\n",
    "                current_loss = 0.0 - self.get_phi(max_freq_pow, time_constant_powers)\n",
    "\n",
    "            if verbose:\n",
    "#                 print(_)\n",
    "#                 print(current_loss)\n",
    "#                 print(max_freq_pow)\n",
    "                print('#', _, 'M:', (self.M / self.get_phi(max_freq_pow, time_constant_powers)).numpy() )\n",
    "\n",
    "            if stop_val is not None:\n",
    "                if tf.math.reduce_all(tf.abs(current_loss - prev_loss) < stop_val):\n",
    "                    break\n",
    "\n",
    "            dfreq_pow = tape.gradient(current_loss, max_freq_pow)\n",
    "            max_freq_pow.assign_sub(learning_rate * dfreq_pow)\n",
    "\n",
    "            prev_loss = current_loss\n",
    "\n",
    "        return self.M / self.get_phi(max_freq_pow, time_constant_powers)\n",
    "    \n",
    "    \n",
    "    def __init__(self,\n",
    "                 amplitude,\n",
    "                 energy,\n",
    "                 pre_exp_factor,\n",
    "                 filling_pulse,\n",
    "                 fit_p = False,\n",
    "                 **kwargs):\n",
    "        super().__init__(**kwargs)\n",
    "        \n",
    "        self.amplitude = tf.Variable(amplitude, dtype='float64')\n",
    "        self.energy = tf.Variable(energy, dtype='float64')\n",
    "        self.pre_exp_factor = tf.Variable(pre_exp_factor, dtype='float64')\n",
    "        self.filling_pulse = tf.Variable(filling_pulse, dtype='float64')\n",
    "        \n",
    "        self.fit_p = tf.Variable(fit_p, dtype='bool')\n",
    "        self.p_coef = tf.Variable(1.0, dtype='float64')\n",
    "        \n",
    "        self.M = tf.Variable(5.861, dtype='float64')\n",
    "        \n",
    "        \n",
    "    def __call__(self,frequency_power, temperature, verbose_M=False):\n",
    "        time_constant_powers = self.get_time_constant_power(temperature)\n",
    "        \n",
    "        def get_M(time_constant_powers):\n",
    "            \n",
    "            M = self.train_M(time_constant_powers,\n",
    "                             learning_rate=0.2,\n",
    "                             n_iters=100,\n",
    "                             stop_val = 10**-10,\n",
    "                             verbose = verbose_M\n",
    "                            )\n",
    "            \n",
    "#             print(M)\n",
    "\n",
    "#             M = tf.Variable(5.856, dtype='float64')\n",
    "            \n",
    "            return M\n",
    "        \n",
    "        self.M = tf.map_fn(get_M, time_constant_powers)\n",
    "        \n",
    "#         print(self.get_phi(frequency_power, time_constant_powers))\n",
    "        \n",
    "        return self.amplitude * self.get_phi(frequency_power, time_constant_powers)\n",
    "    \n",
    "    \n",
    "    def fit(self,\n",
    "            f_powers, \n",
    "            temp_vals,\n",
    "            dlts_vals,\n",
    "            \n",
    "            learning_rate = 0.1,\n",
    "            n_iters = 1000,\n",
    "            stop_val = None,\n",
    "            verbose = False,\n",
    "            verbose_M = False\n",
    "           ):\n",
    "        \n",
    "        frequency_powers = tf.Variable(f_powers, dtype='float64')\n",
    "        temp = tf.Variable(temp_vals, dtype='float64')\n",
    "        dlts = tf.Variable(dlts_vals, dtype='float64')\n",
    "        \n",
    "        prev_loss = tf.Variable(np.inf, dtype='float64')\n",
    "        \n",
    "        for _ in range(n_iters):\n",
    "            self.M = tf.Variable(5.861, dtype='float64') #?????????????????????????????????????????\n",
    "        \n",
    "            with tf.GradientTape() as tape:\n",
    "                predicted_dlts = self.__call__(frequency_power, temp, verbose_M=verbose_M)\n",
    "                current_loss = tf.reduce_mean(tf.square(dlts-predicted_dlts))\n",
    "                \n",
    "                if self.fit_p:\n",
    "                    d_ampl, denergy, dpre_exp_factor, pd_coef = tape.gradient(current_loss, [self.amplitude,\n",
    "                                                                                             self.energy,\n",
    "                                                                                             self.pre_exp_factor,\n",
    "                                                                                             self.p_coef\n",
    "                                                                                            ])\n",
    "                else:\n",
    "                    dampl, denergy, dpre_exp_factor = tape.gradient(current_loss, [self.amplitude,\n",
    "                                                                                    self.energy,\n",
    "                                                                                    self.pre_exp_factor\n",
    "                                                                                   ])\n",
    "\n",
    "            self.amplitude.assign_sub(learning_rate * dampl)\n",
    "            self.energy.assign_sub(learning_rate * denergy)\n",
    "            self.pre_exp_factor.assign_sub(learning_rate * dpre_exp_factor)\n",
    "            \n",
    "            \n",
    "            if self.fit_p:\n",
    "                self.p_coef.assign_sub(learning_rate * dp_coef)\n",
    "                                           \n",
    "            \n",
    "            if verbose:\n",
    "                print('iter #', _)\n",
    "                print('A:',self.amplitude)\n",
    "                print('E:',self.energy)\n",
    "                print('B:', self.pre_exp_factor)\n",
    "                print('M:', self.M)\n",
    "                print('p:', self.p_coef)\n",
    "                print('Loss:', current_loss)\n",
    "            \n",
    "            if stop_val is not None:\n",
    "                if tf.math.reduce_all(tf.abs(current_loss - prev_loss) < stop_val):\n",
    "                    break\n",
    "                    \n",
    "            prev_loss = current_loss"
   ]
  },
  {
   "cell_type": "markdown",
   "id": "a5fa7fd8",
   "metadata": {},
   "source": [
    "## 5.5 Инициализация и проверка модели"
   ]
  },
  {
   "cell_type": "code",
   "execution_count": null,
   "id": "427b6df8",
   "metadata": {},
   "outputs": [],
   "source": [
    "energy = tf.Variable(-0.7, dtype='float64')\n",
    "pre_exp_factor = tf.Variable(1*10**-15, dtype='float64')\n",
    "filling_pulse = tf.Variable(2 * 10 ** -5, dtype='float64')\n",
    "amplitude =tf.Variable(3.5, dtype='float64')\n",
    "\n",
    "test_frequency_power = tf.Variable(np.linspace(0, np.log10(2500), 100), dtype='float64')\n",
    "test_temperature = tf.Variable([314.0]*(test_frequency_power).get_shape()[0], dtype='float64')\n",
    "\n",
    "deep_level_model = DeepLevelModel(amplitude = amplitude,\n",
    "                                  energy = energy,\n",
    "                                  pre_exp_factor = pre_exp_factor,\n",
    "                                  filling_pulse = filling_pulse,\n",
    "                                  fit_p = False)\n",
    "\n",
    "res  = deep_level_model(test_frequency_power, test_temperature, verbose_M=True)"
   ]
  },
  {
   "cell_type": "code",
   "execution_count": null,
   "id": "76d2b5bd",
   "metadata": {},
   "outputs": [],
   "source": [
    "# energy = tf.Variable(-0.7, dtype='float64')\n",
    "# pre_exp_factor = tf.Variable(1*10**-13, dtype='float64')\n",
    "# filling_pulse = tf.Variable(2 * 10 ** -5, dtype='float64')\n",
    "# amplitude =tf.Variable(3.5, dtype='float64')\n",
    "\n",
    "# deep_level_model = DeepLevelModel(amplitude = amplitude,\n",
    "#                                   energy = energy,\n",
    "#                                   pre_exp_factor = pre_exp_factor,\n",
    "#                                   filling_pulse = filling_pulse,\n",
    "#                                   fit_p = False)\n",
    "\n",
    "# res  = deep_level_model(frequency_power, temperature, verbose_M=True)"
   ]
  },
  {
   "cell_type": "code",
   "execution_count": null,
   "id": "4f1f1e5d",
   "metadata": {},
   "outputs": [],
   "source": [
    "print(test_frequency_power)"
   ]
  },
  {
   "cell_type": "code",
   "execution_count": null,
   "id": "ccc7b83e",
   "metadata": {},
   "outputs": [],
   "source": [
    "print(test_temperature)"
   ]
  },
  {
   "cell_type": "code",
   "execution_count": null,
   "id": "99143a05",
   "metadata": {},
   "outputs": [],
   "source": [
    "pd.DataFrame(deep_level_model.M).isna().any()"
   ]
  },
  {
   "cell_type": "code",
   "execution_count": null,
   "id": "379f4efa",
   "metadata": {},
   "outputs": [],
   "source": [
    "pd.DataFrame(res).isna().any()"
   ]
  },
  {
   "cell_type": "code",
   "execution_count": null,
   "id": "b852dbb7",
   "metadata": {},
   "outputs": [],
   "source": [
    "pd.DataFrame(res).isna().sum()"
   ]
  },
  {
   "cell_type": "code",
   "execution_count": null,
   "id": "4f21b250",
   "metadata": {},
   "outputs": [],
   "source": [
    "res"
   ]
  },
  {
   "cell_type": "code",
   "execution_count": null,
   "id": "07997319",
   "metadata": {},
   "outputs": [],
   "source": [
    "plt.plot(test_frequency_power.numpy(), res.numpy(), '.g', label='Результаты\\nмоделирования', alpha=0.3)\n",
    "plt.grid()\n",
    "# plt.xlim([0, 3.5])\n",
    "# plt.ylim([-3.5, 0])\n",
    "plt.legend()\n",
    "plt.ylabel('DLTS, условные еденицы')\n",
    "plt.xlabel('log10(Частота), условные еденицы')\n",
    "plt.show()"
   ]
  },
  {
   "cell_type": "code",
   "execution_count": null,
   "id": "51158c40",
   "metadata": {},
   "outputs": [],
   "source": []
  },
  {
   "cell_type": "markdown",
   "id": "dcb05ad3",
   "metadata": {},
   "source": [
    "## 5.6 Идентификация модели"
   ]
  },
  {
   "cell_type": "code",
   "execution_count": null,
   "id": "3b77f8e0",
   "metadata": {
    "scrolled": true
   },
   "outputs": [],
   "source": [
    "deep_level_model = DeepLevelModel(amplitude = amplitude,\n",
    "                                  energy = energy,\n",
    "                                  pre_exp_factor = pre_exp_factor,\n",
    "                                  filling_pulse = filling_pulse,\n",
    "                                  fit_p = False)\n",
    "\n",
    "deep_level_model.fit(frequency_power, \n",
    "                     temperature,\n",
    "                     dlts,\n",
    "                     \n",
    "                     learning_rate = 0.1,\n",
    "                     n_iters = 1000,\n",
    "                     stop_val = 10.0**-10,\n",
    "                     verbose = True,\n",
    "                     verbose_M = True\n",
    "                    )"
   ]
  }
 ],
 "metadata": {
  "kernelspec": {
   "display_name": "Python 3 (ipykernel)",
   "language": "python",
   "name": "python3"
  },
  "language_info": {
   "codemirror_mode": {
    "name": "ipython",
    "version": 3
   },
   "file_extension": ".py",
   "mimetype": "text/x-python",
   "name": "python",
   "nbconvert_exporter": "python",
   "pygments_lexer": "ipython3",
   "version": "3.9.12"
  }
 },
 "nbformat": 4,
 "nbformat_minor": 5
}
