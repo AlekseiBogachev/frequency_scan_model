{
 "cells": [
  {
   "cell_type": "markdown",
   "id": "10a59e7f",
   "metadata": {},
   "source": [
    "# Исследование влияния наличия нескольких экспоненциальных составляющих в спектре на коэффициент нелинейности-неэкспоненциальности"
   ]
  },
  {
   "cell_type": "markdown",
   "id": "21d2bd2e",
   "metadata": {},
   "source": [
    "## 1. Импорт необходимых библиотек и модулей"
   ]
  },
  {
   "cell_type": "code",
   "execution_count": 1,
   "id": "54aced6e",
   "metadata": {},
   "outputs": [],
   "source": [
    "from joblib import Parallel, delayed\n",
    "\n",
    "import matplotlib.cm as cm\n",
    "import matplotlib.pyplot as plt\n",
    "\n",
    "import numpy as np\n",
    "from os import listdir\n",
    "import pandas as pd\n",
    "import tensorflow as tf\n",
    "\n",
    "%matplotlib inline"
   ]
  },
  {
   "cell_type": "markdown",
   "id": "f8546d3a",
   "metadata": {},
   "source": [
    "## 2. Модель частотного скана с для сигнала релаксации с одной экспоненциальной составляющей и коэффициентом нелинейности-неэкспоненциальности\n",
    "\n",
    "### 2.1.  Описание модели в формулах\n",
    "Выходной сигнал коррелятора спектрометра DLS-82E определяется выражением:\n",
    "\\begin{equation}\n",
    "    \\label{eq:eq1}\n",
    "    S\\left(\\tau,C_A,F_0, t_1\\right) = C_A K_{BS} K_{LS} \\phi\\left(\\tau,F_0,t_1\\right),\n",
    "\\end{equation}\n",
    "где  \n",
    "$C_A$ - амплитуда емкостного релаксационного сигнала,  \n",
    "$K_{BS}$ - масштабный коэффициент, зависящий от чувствительности емкостного моста,  \n",
    "$K_{LS}$ - масштабный коэффициент селектора,  \n",
    "$\\tau$ - постоянная времени релаксации гулбокого уровня,  \n",
    "$F_0$ - частота сканирования импульсов заполнения,  \n",
    "$t_1$ - длительность импульса заполнения,  \n",
    "$\\phi\\left(\\tau,F_0,t_1\\right)$ - функция определяемая выражением:  \n",
    "\\begin{equation}\n",
    "    \\label{eq:eq2}\n",
    "    \\phi\\left(\\tau,F_0,t_1\\right) = \n",
    "    M \\tau F_0 e^{-\\frac{0.05}{\\tau F_0}}\n",
    "    \\left(1-e^{\\frac{t_1 F_0-0.45}{\\tau F_0}}\n",
    "    -e^{-\\frac{0.5}{\\tau F_0}}+\n",
    "    e^{\\frac{t_1 F_0-0.95}{\\tau F_0}}\\right),\n",
    "\\end{equation}\n",
    "где $M$ - масштабный множитель.\n",
    "\n",
    "$$  M = \\frac{1}{\\max{\\left[\n",
    "    \\tau F_0 e^{-\\frac{0.05}{\\tau F_0}}\n",
    "    \\left(1-e^{\\frac{t_1 F_0-0.45}{\\tau F_0}}\n",
    "    -e^{-\\frac{0.5}{\\tau F_0}}+\n",
    "    e^{\\frac{t_1 F_0-0.95}{\\tau F_0}}\\right)\n",
    "    \\right]}}\n",
    "$$\n",
    "\n",
    "### 2.2. Кодирование модели\n",
    "$$ \\tau = 10^{time\\_constant\\_power} $$\n",
    "\n",
    "$$ F_0 = 10^{frequency\\_power}$$\n",
    "\n",
    "$$ a = \\tau F_0 $$\n",
    "\n",
    "$$ b = t_1 F_0 $$\n",
    "\n",
    "$$ exp0 = \\exp{\\left(\\frac{-0.05}{a}\\right)} $$\n",
    "\n",
    "$$ exp1 = \\exp{\\left(\\frac{b-0.45}{a}\\right)} $$\n",
    "\n",
    "$$ exp2 = \\exp{\\left(\\frac{-0.5}{a}\\right)} $$\n",
    "\n",
    "$$ exp3 = \\exp{\\left(\\frac{b-0.95}{a}\\right)} $$\n",
    "\n",
    "$$ \\phi = M \\cdot a \\cdot exp0 \\cdot \\left(1.0 - exp1 - exp2 + exp3\\right) $$\n",
    "\n",
    "$$  M = \\frac{1}{\\max{\\left[\n",
    "    a \\cdot exp0 \\cdot \\left(1.0 - exp1 - exp2 + exp3\\right)\n",
    "    \\right]}}\n",
    "$$\n",
    "\n",
    "$$ S\\left(\\tau, A, F_0, t_1, p\\right) = A\\left[\\phi\\left(\\tau,F_0,t_1\\right)\\right]^p $$"
   ]
  },
  {
   "cell_type": "code",
   "execution_count": 2,
   "id": "35d517f4",
   "metadata": {},
   "outputs": [],
   "source": []
  },
  {
   "cell_type": "code",
   "execution_count": 11,
   "id": "786d78d7",
   "metadata": {},
   "outputs": [],
   "source": [
    "np?"
   ]
  },
  {
   "cell_type": "code",
   "execution_count": null,
   "id": "2342f61f",
   "metadata": {},
   "outputs": [],
   "source": []
  }
 ],
 "metadata": {
  "kernelspec": {
   "display_name": "Python 3 (ipykernel)",
   "language": "python",
   "name": "python3"
  },
  "language_info": {
   "codemirror_mode": {
    "name": "ipython",
    "version": 3
   },
   "file_extension": ".py",
   "mimetype": "text/x-python",
   "name": "python",
   "nbconvert_exporter": "python",
   "pygments_lexer": "ipython3",
   "version": "3.9.12"
  }
 },
 "nbformat": 4,
 "nbformat_minor": 5
}
