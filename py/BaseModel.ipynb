{
 "cells": [
  {
   "cell_type": "code",
   "execution_count": 1,
   "id": "2d83893f",
   "metadata": {},
   "outputs": [],
   "source": [
    "import tensorflow as tf\n",
    "import matplotlib.pyplot as plt\n",
    "import numpy as np\n",
    "import pandas as pd\n",
    "\n",
    "from fsmodels import SklMultiExpFrequencyScan\n",
    "\n",
    "from sklearn.base import BaseEstimator, RegressorMixin\n",
    "from sklearn.metrics import mean_squared_error\n",
    "from sklearn.model_selection import train_test_split\n",
    "from sklearn.model_selection import cross_val_score\n",
    "from sklearn.model_selection import GridSearchCV"
   ]
  },
  {
   "cell_type": "markdown",
   "id": "a1a09d5c",
   "metadata": {},
   "source": [
    "# Base class"
   ]
  },
  {
   "cell_type": "code",
   "execution_count": 2,
   "id": "ba034d0c",
   "metadata": {},
   "outputs": [],
   "source": [
    "class BaseModel(BaseEstimator, RegressorMixin):\n",
    "    \n",
    "    \n",
    "    def __init__(self,\n",
    "                 filling_pulse = 20*10**-6,\n",
    "                 n_exps = 1,\n",
    "                 learning_rate = 0.1,\n",
    "                 n_iters = 1000,\n",
    "                 stop_val = None,\n",
    "                 verbose = False\n",
    "                ):\n",
    "        self.filling_pulse = filling_pulse\n",
    "        self.n_exps = n_exps\n",
    "        self.learning_rate = learning_rate\n",
    "        self.n_iters = n_iters\n",
    "        self.stop_val = stop_val\n",
    "        self.verbose = verbose\n",
    "\n",
    "        \n",
    "    def _get_phi(self,\n",
    "                 frequency_powers,\n",
    "                 time_constant_power,\n",
    "                ):\n",
    "        time_constant = tf.pow(10.0, time_constant_power)\n",
    "        frequency = tf.pow(10.0, frequency_powers)\n",
    "\n",
    "        a = time_constant * frequency\n",
    "        b = self.filling_pulse * frequency\n",
    "\n",
    "        exp0 = tf.exp(-0.05 / (a))\n",
    "        exp1 = tf.exp((b - 0.45) / (a))\n",
    "        exp2 = tf.exp(-0.5 / (a))\n",
    "        exp3 = tf.exp((b - 0.95) / (a))\n",
    "\n",
    "        return a * exp0 * (1.0 - exp1 - exp2 + exp3)\n",
    "\n",
    "\n",
    "    def _get_M(self,\n",
    "               time_constant_power,\n",
    "               learning_rate=0.2, \n",
    "               n_iters=100, \n",
    "               stop_val = 10**-10\n",
    "              ):\n",
    "        prev_loss = tf.Variable(np.inf, dtype='float64')\n",
    "        max_freq_pow = tf.Variable(-time_constant_power, dtype='float64')\n",
    "\n",
    "        for _ in range(n_iters):\n",
    "            with tf.GradientTape() as tape:\n",
    "\n",
    "                current_loss = 0.0 - self._get_phi(max_freq_pow, time_constant_power)\n",
    "\n",
    "            if stop_val is not None:\n",
    "                if tf.abs(current_loss - prev_loss) < stop_val:\n",
    "                    break\n",
    "\n",
    "            dfreq_pow = tape.gradient(current_loss, max_freq_pow)\n",
    "            max_freq_pow.assign_sub(learning_rate * dfreq_pow)\n",
    "\n",
    "            prev_loss = current_loss\n",
    "\n",
    "        return -1 / current_loss\n",
    "    \n",
    "    \n",
    "    def predict(self, X):\n",
    "        f_powers = tf.Variable(X, dtype='float64')\n",
    "        return self._get_dlts(X=f_powers).numpy()\n",
    "    \n",
    "    \n",
    "    def _get_dlts(self, X):\n",
    "        raise NotImplementedError('Implement _get_dlts() in ' + self.__class__.__name__ + '.') \n",
    "        \n",
    "    def fit(self, X, y):\n",
    "        raise NotImplementedError('Implement fit() in ' + self.__class__.__name__ + '.') \n",
    "    \n",
    "    \n",
    "    @property\n",
    "    def exps_params_(self):\n",
    "        '''exps_params_ = [[timeconstant_power_0, amplitude_0],\n",
    "                           [timeconstant_power_1, amplitude_1],\n",
    "                           ... ,\n",
    "                           [timeconstant_power_n, amplitude_n]]'''\n",
    "        return self._exps_params.numpy()\n",
    "    \n",
    "    @exps_params_.setter\n",
    "    def exps_params_(self, val):\n",
    "        value = tf.Variable(val, dtype='float64')\n",
    "        \n",
    "        condition = not(len(value.shape) == 2 and \n",
    "                        value.shape[0] == self.n_exps and \n",
    "                        value.shape[1] == 2)\n",
    "        \n",
    "        if condition:\n",
    "            raise ValueError('The shape of exps_params must be equal [to n_exps, 2], ' + \n",
    "                             f'specifically {[self.n_exps, 2]}.')\n",
    "        self._exps_params = value\n",
    "        \n",
    "        self._M = tf.map_fn(fn = self._get_M, elems=self._exps_params[:, 0])\n",
    "        \n",
    "        \n",
    "    @property\n",
    "    def fit_results_(self):\n",
    "        return self._fit_results\n",
    "    \n",
    "    \n",
    "    def _get_fit_result(self, loss=None):\n",
    "        fit_result = pd.DataFrame(self.get_params(), index=[0])\n",
    "        fit_result['n_exps'] = self.n_exps\n",
    "        fit_result['loss'] = loss\n",
    "        \n",
    "        for i, exp_param in enumerate(self.exps_params_):\n",
    "            fit_result[f'time_constant_{i}'] = exp_param[0]\n",
    "            fit_result[f'amplitude_{i}'] = exp_param[1]\n",
    "            \n",
    "        try:\n",
    "            fit_result['p_coef'] = self.p_coef_\n",
    "        except AttributeError:\n",
    "            pass\n",
    "        \n",
    "        return fit_result.sort_index(axis='columns')\n",
    "        \n",
    "    \n",
    "    \n",
    "    def print_all_params(self, iteration_number=None, loss=None):\n",
    "        if iteration_number is not None:\n",
    "            print(f'iteration # {iteration_number}')\n",
    "            \n",
    "        if loss is not None:\n",
    "            print(f'loss: {loss}')\n",
    "            \n",
    "        print(f'exps_params:\\n{self.exps_params_}')\n",
    "        \n",
    "        try:\n",
    "            print(f'p_coef: {self.p_coef_}')\n",
    "        except AttributeError:\n",
    "            pass\n",
    "        \n",
    "        params = self.get_params()\n",
    "        for key in params.keys():\n",
    "            print(f'{key}: {params[key]}')"
   ]
  },
  {
   "cell_type": "markdown",
   "id": "7093264b",
   "metadata": {},
   "source": [
    "# Single exponential model class"
   ]
  },
  {
   "cell_type": "code",
   "execution_count": 3,
   "id": "24a30258",
   "metadata": {},
   "outputs": [],
   "source": [
    "class SklSingleExpFrequencyScan(BaseModel):\n",
    "    \n",
    "    \n",
    "    def __init__(self,\n",
    "                 filling_pulse = 20*10**-6,\n",
    "                 fit_p_coef = True,\n",
    "                 learning_rate = 0.1,\n",
    "                 n_iters = 1000,\n",
    "                 stop_val = None,\n",
    "                 verbose = False\n",
    "                ):\n",
    "        \n",
    "        super().__init__(filling_pulse = filling_pulse,\n",
    "                         n_exps = 1,\n",
    "                         learning_rate = learning_rate,\n",
    "                         n_iters = n_iters,\n",
    "                         stop_val = stop_val,\n",
    "                         verbose = verbose)\n",
    "        \n",
    "        self.fit_p_coef = fit_p_coef\n",
    "        \n",
    "        \n",
    "    def _get_dlts(self, X):\n",
    "        frequency_powers = tf.Variable(X, dtype='float64')\n",
    "        \n",
    "        phi = self._get_phi(frequency_powers, self._exps_params[0, 0])\n",
    "        \n",
    "        return self._exps_params[0, 1] * tf.pow(self._M * phi, self._p_coef)\n",
    "    \n",
    "    \n",
    "    @property\n",
    "    def p_coef_(self):\n",
    "        return self._p_coef.numpy()\n",
    "\n",
    "    @p_coef_.setter\n",
    "    def p_coef_(self, val):\n",
    "        self._p_coef = tf.Variable(val, dtype='float64')\n",
    "        \n",
    "        \n",
    "    def fit(self, X, y):\n",
    "        \n",
    "        self.exps_params_ = [[np.random.uniform(low=-3.5, high=-1), 3.5]]\n",
    "        self.p_coef_ = 1.0\n",
    "        \n",
    "        frequency_powers = tf.Variable(X, dtype='float64')\n",
    "        dlts = tf.Variable(y, dtype='float64')\n",
    "        \n",
    "        prev_loss = tf.Variable(np.inf, dtype='float64')\n",
    "        \n",
    "        self._fit_results = pd.DataFrame()\n",
    "        \n",
    "        return self"
   ]
  },
  {
   "cell_type": "code",
   "execution_count": 4,
   "id": "51748650",
   "metadata": {},
   "outputs": [
    {
     "data": {
      "text/html": [
       "<style>#sk-container-id-1 {color: black;background-color: white;}#sk-container-id-1 pre{padding: 0;}#sk-container-id-1 div.sk-toggleable {background-color: white;}#sk-container-id-1 label.sk-toggleable__label {cursor: pointer;display: block;width: 100%;margin-bottom: 0;padding: 0.3em;box-sizing: border-box;text-align: center;}#sk-container-id-1 label.sk-toggleable__label-arrow:before {content: \"▸\";float: left;margin-right: 0.25em;color: #696969;}#sk-container-id-1 label.sk-toggleable__label-arrow:hover:before {color: black;}#sk-container-id-1 div.sk-estimator:hover label.sk-toggleable__label-arrow:before {color: black;}#sk-container-id-1 div.sk-toggleable__content {max-height: 0;max-width: 0;overflow: hidden;text-align: left;background-color: #f0f8ff;}#sk-container-id-1 div.sk-toggleable__content pre {margin: 0.2em;color: black;border-radius: 0.25em;background-color: #f0f8ff;}#sk-container-id-1 input.sk-toggleable__control:checked~div.sk-toggleable__content {max-height: 200px;max-width: 100%;overflow: auto;}#sk-container-id-1 input.sk-toggleable__control:checked~label.sk-toggleable__label-arrow:before {content: \"▾\";}#sk-container-id-1 div.sk-estimator input.sk-toggleable__control:checked~label.sk-toggleable__label {background-color: #d4ebff;}#sk-container-id-1 div.sk-label input.sk-toggleable__control:checked~label.sk-toggleable__label {background-color: #d4ebff;}#sk-container-id-1 input.sk-hidden--visually {border: 0;clip: rect(1px 1px 1px 1px);clip: rect(1px, 1px, 1px, 1px);height: 1px;margin: -1px;overflow: hidden;padding: 0;position: absolute;width: 1px;}#sk-container-id-1 div.sk-estimator {font-family: monospace;background-color: #f0f8ff;border: 1px dotted black;border-radius: 0.25em;box-sizing: border-box;margin-bottom: 0.5em;}#sk-container-id-1 div.sk-estimator:hover {background-color: #d4ebff;}#sk-container-id-1 div.sk-parallel-item::after {content: \"\";width: 100%;border-bottom: 1px solid gray;flex-grow: 1;}#sk-container-id-1 div.sk-label:hover label.sk-toggleable__label {background-color: #d4ebff;}#sk-container-id-1 div.sk-serial::before {content: \"\";position: absolute;border-left: 1px solid gray;box-sizing: border-box;top: 0;bottom: 0;left: 50%;z-index: 0;}#sk-container-id-1 div.sk-serial {display: flex;flex-direction: column;align-items: center;background-color: white;padding-right: 0.2em;padding-left: 0.2em;position: relative;}#sk-container-id-1 div.sk-item {position: relative;z-index: 1;}#sk-container-id-1 div.sk-parallel {display: flex;align-items: stretch;justify-content: center;background-color: white;position: relative;}#sk-container-id-1 div.sk-item::before, #sk-container-id-1 div.sk-parallel-item::before {content: \"\";position: absolute;border-left: 1px solid gray;box-sizing: border-box;top: 0;bottom: 0;left: 50%;z-index: -1;}#sk-container-id-1 div.sk-parallel-item {display: flex;flex-direction: column;z-index: 1;position: relative;background-color: white;}#sk-container-id-1 div.sk-parallel-item:first-child::after {align-self: flex-end;width: 50%;}#sk-container-id-1 div.sk-parallel-item:last-child::after {align-self: flex-start;width: 50%;}#sk-container-id-1 div.sk-parallel-item:only-child::after {width: 0;}#sk-container-id-1 div.sk-dashed-wrapped {border: 1px dashed gray;margin: 0 0.4em 0.5em 0.4em;box-sizing: border-box;padding-bottom: 0.4em;background-color: white;}#sk-container-id-1 div.sk-label label {font-family: monospace;font-weight: bold;display: inline-block;line-height: 1.2em;}#sk-container-id-1 div.sk-label-container {text-align: center;}#sk-container-id-1 div.sk-container {/* jupyter's `normalize.less` sets `[hidden] { display: none; }` but bootstrap.min.css set `[hidden] { display: none !important; }` so we also need the `!important` here to be able to override the default hidden behavior on the sphinx rendered scikit-learn.org. See: https://github.com/scikit-learn/scikit-learn/issues/21755 */display: inline-block !important;position: relative;}#sk-container-id-1 div.sk-text-repr-fallback {display: none;}</style><div id=\"sk-container-id-1\" class=\"sk-top-container\"><div class=\"sk-text-repr-fallback\"><pre>SklSingleExpFrequencyScan()</pre><b>In a Jupyter environment, please rerun this cell to show the HTML representation or trust the notebook. <br />On GitHub, the HTML representation is unable to render, please try loading this page with nbviewer.org.</b></div><div class=\"sk-container\" hidden><div class=\"sk-item\"><div class=\"sk-estimator sk-toggleable\"><input class=\"sk-toggleable__control sk-hidden--visually\" id=\"sk-estimator-id-1\" type=\"checkbox\" checked><label for=\"sk-estimator-id-1\" class=\"sk-toggleable__label sk-toggleable__label-arrow\">SklSingleExpFrequencyScan</label><div class=\"sk-toggleable__content\"><pre>SklSingleExpFrequencyScan()</pre></div></div></div></div></div>"
      ],
      "text/plain": [
       "SklSingleExpFrequencyScan()"
      ]
     },
     "execution_count": 4,
     "metadata": {},
     "output_type": "execute_result"
    }
   ],
   "source": [
    "fs = SklSingleExpFrequencyScan()\n",
    "fs"
   ]
  },
  {
   "cell_type": "code",
   "execution_count": 5,
   "id": "34db6799",
   "metadata": {},
   "outputs": [
    {
     "data": {
      "text/plain": [
       "{'filling_pulse': 1.9999999999999998e-05,\n",
       " 'fit_p_coef': True,\n",
       " 'learning_rate': 0.1,\n",
       " 'n_iters': 1000,\n",
       " 'stop_val': None,\n",
       " 'verbose': False}"
      ]
     },
     "execution_count": 5,
     "metadata": {},
     "output_type": "execute_result"
    }
   ],
   "source": [
    "fs.get_params()"
   ]
  },
  {
   "cell_type": "code",
   "execution_count": 6,
   "id": "519f6974",
   "metadata": {},
   "outputs": [],
   "source": [
    "X = np.linspace(0, 3.5, 100)\n",
    "\n",
    "fs.exps_params_ = [[-2.5, 3.5]]\n",
    "fs.p_coef_ = 1"
   ]
  },
  {
   "cell_type": "code",
   "execution_count": 7,
   "id": "60574b5a",
   "metadata": {},
   "outputs": [
    {
     "data": {
      "image/png": "[encoded data removed]",
      "text/plain": [
       "<Figure size 432x288 with 1 Axes>"
      ]
     },
     "metadata": {
      "needs_background": "light"
     },
     "output_type": "display_data"
    }
   ],
   "source": [
    "y = fs.predict(X)\n",
    "\n",
    "plt.plot(X, y)\n",
    "plt.grid()\n",
    "plt.show()"
   ]
  },
  {
   "cell_type": "code",
   "execution_count": 8,
   "id": "69c1134f",
   "metadata": {},
   "outputs": [
    {
     "data": {
      "text/html": [
       "<style>#sk-container-id-2 {color: black;background-color: white;}#sk-container-id-2 pre{padding: 0;}#sk-container-id-2 div.sk-toggleable {background-color: white;}#sk-container-id-2 label.sk-toggleable__label {cursor: pointer;display: block;width: 100%;margin-bottom: 0;padding: 0.3em;box-sizing: border-box;text-align: center;}#sk-container-id-2 label.sk-toggleable__label-arrow:before {content: \"▸\";float: left;margin-right: 0.25em;color: #696969;}#sk-container-id-2 label.sk-toggleable__label-arrow:hover:before {color: black;}#sk-container-id-2 div.sk-estimator:hover label.sk-toggleable__label-arrow:before {color: black;}#sk-container-id-2 div.sk-toggleable__content {max-height: 0;max-width: 0;overflow: hidden;text-align: left;background-color: #f0f8ff;}#sk-container-id-2 div.sk-toggleable__content pre {margin: 0.2em;color: black;border-radius: 0.25em;background-color: #f0f8ff;}#sk-container-id-2 input.sk-toggleable__control:checked~div.sk-toggleable__content {max-height: 200px;max-width: 100%;overflow: auto;}#sk-container-id-2 input.sk-toggleable__control:checked~label.sk-toggleable__label-arrow:before {content: \"▾\";}#sk-container-id-2 div.sk-estimator input.sk-toggleable__control:checked~label.sk-toggleable__label {background-color: #d4ebff;}#sk-container-id-2 div.sk-label input.sk-toggleable__control:checked~label.sk-toggleable__label {background-color: #d4ebff;}#sk-container-id-2 input.sk-hidden--visually {border: 0;clip: rect(1px 1px 1px 1px);clip: rect(1px, 1px, 1px, 1px);height: 1px;margin: -1px;overflow: hidden;padding: 0;position: absolute;width: 1px;}#sk-container-id-2 div.sk-estimator {font-family: monospace;background-color: #f0f8ff;border: 1px dotted black;border-radius: 0.25em;box-sizing: border-box;margin-bottom: 0.5em;}#sk-container-id-2 div.sk-estimator:hover {background-color: #d4ebff;}#sk-container-id-2 div.sk-parallel-item::after {content: \"\";width: 100%;border-bottom: 1px solid gray;flex-grow: 1;}#sk-container-id-2 div.sk-label:hover label.sk-toggleable__label {background-color: #d4ebff;}#sk-container-id-2 div.sk-serial::before {content: \"\";position: absolute;border-left: 1px solid gray;box-sizing: border-box;top: 0;bottom: 0;left: 50%;z-index: 0;}#sk-container-id-2 div.sk-serial {display: flex;flex-direction: column;align-items: center;background-color: white;padding-right: 0.2em;padding-left: 0.2em;position: relative;}#sk-container-id-2 div.sk-item {position: relative;z-index: 1;}#sk-container-id-2 div.sk-parallel {display: flex;align-items: stretch;justify-content: center;background-color: white;position: relative;}#sk-container-id-2 div.sk-item::before, #sk-container-id-2 div.sk-parallel-item::before {content: \"\";position: absolute;border-left: 1px solid gray;box-sizing: border-box;top: 0;bottom: 0;left: 50%;z-index: -1;}#sk-container-id-2 div.sk-parallel-item {display: flex;flex-direction: column;z-index: 1;position: relative;background-color: white;}#sk-container-id-2 div.sk-parallel-item:first-child::after {align-self: flex-end;width: 50%;}#sk-container-id-2 div.sk-parallel-item:last-child::after {align-self: flex-start;width: 50%;}#sk-container-id-2 div.sk-parallel-item:only-child::after {width: 0;}#sk-container-id-2 div.sk-dashed-wrapped {border: 1px dashed gray;margin: 0 0.4em 0.5em 0.4em;box-sizing: border-box;padding-bottom: 0.4em;background-color: white;}#sk-container-id-2 div.sk-label label {font-family: monospace;font-weight: bold;display: inline-block;line-height: 1.2em;}#sk-container-id-2 div.sk-label-container {text-align: center;}#sk-container-id-2 div.sk-container {/* jupyter's `normalize.less` sets `[hidden] { display: none; }` but bootstrap.min.css set `[hidden] { display: none !important; }` so we also need the `!important` here to be able to override the default hidden behavior on the sphinx rendered scikit-learn.org. See: https://github.com/scikit-learn/scikit-learn/issues/21755 */display: inline-block !important;position: relative;}#sk-container-id-2 div.sk-text-repr-fallback {display: none;}</style><div id=\"sk-container-id-2\" class=\"sk-top-container\"><div class=\"sk-text-repr-fallback\"><pre>SklSingleExpFrequencyScan()</pre><b>In a Jupyter environment, please rerun this cell to show the HTML representation or trust the notebook. <br />On GitHub, the HTML representation is unable to render, please try loading this page with nbviewer.org.</b></div><div class=\"sk-container\" hidden><div class=\"sk-item\"><div class=\"sk-estimator sk-toggleable\"><input class=\"sk-toggleable__control sk-hidden--visually\" id=\"sk-estimator-id-2\" type=\"checkbox\" checked><label for=\"sk-estimator-id-2\" class=\"sk-toggleable__label sk-toggleable__label-arrow\">SklSingleExpFrequencyScan</label><div class=\"sk-toggleable__content\"><pre>SklSingleExpFrequencyScan()</pre></div></div></div></div></div>"
      ],
      "text/plain": [
       "SklSingleExpFrequencyScan()"
      ]
     },
     "execution_count": 8,
     "metadata": {},
     "output_type": "execute_result"
    }
   ],
   "source": [
    "fs.fit(X, y)"
   ]
  },
  {
   "cell_type": "code",
   "execution_count": 9,
   "id": "e2941a75",
   "metadata": {},
   "outputs": [
    {
     "data": {
      "text/plain": [
       "{'filling_pulse': 1.9999999999999998e-05,\n",
       " 'fit_p_coef': True,\n",
       " 'learning_rate': 0.1,\n",
       " 'n_iters': 1000,\n",
       " 'stop_val': None,\n",
       " 'verbose': False}"
      ]
     },
     "execution_count": 9,
     "metadata": {},
     "output_type": "execute_result"
    }
   ],
   "source": [
    "fs.get_params()"
   ]
  },
  {
   "cell_type": "code",
   "execution_count": 10,
   "id": "cacb724f",
   "metadata": {},
   "outputs": [
    {
     "data": {
      "text/html": [
       "<div>\n",
       "<style scoped>\n",
       "    .dataframe tbody tr th:only-of-type {\n",
       "        vertical-align: middle;\n",
       "    }\n",
       "\n",
       "    .dataframe tbody tr th {\n",
       "        vertical-align: top;\n",
       "    }\n",
       "\n",
       "    .dataframe thead th {\n",
       "        text-align: right;\n",
       "    }\n",
       "</style>\n",
       "<table border=\"1\" class=\"dataframe\">\n",
       "  <thead>\n",
       "    <tr style=\"text-align: right;\">\n",
       "      <th></th>\n",
       "      <th>filling_pulse</th>\n",
       "      <th>fit_p_coef</th>\n",
       "      <th>learning_rate</th>\n",
       "      <th>n_iters</th>\n",
       "      <th>stop_val</th>\n",
       "      <th>verbose</th>\n",
       "    </tr>\n",
       "  </thead>\n",
       "  <tbody>\n",
       "    <tr>\n",
       "      <th>0</th>\n",
       "      <td>0.00002</td>\n",
       "      <td>True</td>\n",
       "      <td>0.1</td>\n",
       "      <td>1000</td>\n",
       "      <td>None</td>\n",
       "      <td>False</td>\n",
       "    </tr>\n",
       "  </tbody>\n",
       "</table>\n",
       "</div>"
      ],
      "text/plain": [
       "   filling_pulse  fit_p_coef  learning_rate  n_iters stop_val  verbose\n",
       "0        0.00002        True            0.1     1000     None    False"
      ]
     },
     "execution_count": 10,
     "metadata": {},
     "output_type": "execute_result"
    }
   ],
   "source": [
    "pd.DataFrame(fs.get_params(), index=[0])"
   ]
  },
  {
   "cell_type": "code",
   "execution_count": 11,
   "id": "0f6b55d0",
   "metadata": {},
   "outputs": [
    {
     "name": "stdout",
     "output_type": "stream",
     "text": [
      "exps_params:\n",
      "[[-2.54431902  3.5       ]]\n",
      "p_coef: 1.0\n",
      "filling_pulse: 1.9999999999999998e-05\n",
      "fit_p_coef: True\n",
      "learning_rate: 0.1\n",
      "n_iters: 1000\n",
      "stop_val: None\n",
      "verbose: False\n"
     ]
    }
   ],
   "source": [
    "fs.print_all_params()"
   ]
  }
 ],
 "metadata": {
  "kernelspec": {
   "display_name": "Python 3 (ipykernel)",
   "language": "python",
   "name": "python3"
  },
  "language_info": {
   "codemirror_mode": {
    "name": "ipython",
    "version": 3
   },
   "file_extension": ".py",
   "mimetype": "text/x-python",
   "name": "python",
   "nbconvert_exporter": "python",
   "pygments_lexer": "ipython3",
   "version": "3.9.12"
  }
 },
 "nbformat": 4,
 "nbformat_minor": 5
}
