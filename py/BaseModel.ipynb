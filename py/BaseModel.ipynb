{
 "cells": [
  {
   "cell_type": "code",
   "execution_count": null,
   "id": "2d83893f",
   "metadata": {},
   "outputs": [],
   "source": [
    "import tensorflow as tf\n",
    "import matplotlib.pyplot as plt\n",
    "import numpy as np\n",
    "import pandas as pd\n",
    "\n",
    "from fsmodels import SklMultiExpFrequencyScan\n",
    "\n",
    "from sklearn.base import BaseEstimator, RegressorMixin\n",
    "from sklearn.metrics import mean_squared_error\n",
    "from sklearn.model_selection import train_test_split\n",
    "from sklearn.model_selection import cross_val_score\n",
    "from sklearn.model_selection import GridSearchCV"
   ]
  },
  {
   "cell_type": "markdown",
   "id": "a1a09d5c",
   "metadata": {},
   "source": [
    "# Base class"
   ]
  },
  {
   "cell_type": "code",
   "execution_count": null,
   "id": "ba034d0c",
   "metadata": {},
   "outputs": [],
   "source": [
    "class BaseModel(BaseEstimator, RegressorMixin):\n",
    "    \n",
    "    \n",
    "    def __init__(self,\n",
    "                 filling_pulse = 20*10**-6,\n",
    "                 n_exps = 1,\n",
    "                 learning_rate = 0.1,\n",
    "                 n_iters = 1000,\n",
    "                 stop_val = None,\n",
    "                 verbose = False\n",
    "                ):\n",
    "        self.filling_pulse = filling_pulse\n",
    "        self.n_exps = n_exps\n",
    "        self.learning_rate = learning_rate\n",
    "        self.n_iters = n_iters\n",
    "        self.stop_val = stop_val\n",
    "        self.verbose = verbose\n",
    "\n",
    "        \n",
    "    def _get_phi(self,\n",
    "                 frequency_powers,\n",
    "                 time_constant_power,\n",
    "                ):\n",
    "        time_constant = tf.pow(10.0, time_constant_power)\n",
    "        frequency = tf.pow(10.0, frequency_powers)\n",
    "\n",
    "        a = time_constant * frequency\n",
    "        b = self.filling_pulse * frequency\n",
    "\n",
    "        exp0 = tf.exp(-0.05 / (a))\n",
    "        exp1 = tf.exp((b - 0.45) / (a))\n",
    "        exp2 = tf.exp(-0.5 / (a))\n",
    "        exp3 = tf.exp((b - 0.95) / (a))\n",
    "\n",
    "        return a * exp0 * (1.0 - exp1 - exp2 + exp3)\n",
    "\n",
    "\n",
    "    def _get_M(self,\n",
    "               time_constant_power,\n",
    "               learning_rate=0.2, \n",
    "               n_iters=100, \n",
    "               stop_val = 10**-10\n",
    "              ):\n",
    "        prev_loss = tf.Variable(np.inf, dtype='float64')\n",
    "        max_freq_pow = tf.Variable(-time_constant_power, dtype='float64')\n",
    "\n",
    "        for _ in range(n_iters):\n",
    "            with tf.GradientTape() as tape:\n",
    "\n",
    "                current_loss = 0.0 - self._get_phi(max_freq_pow, time_constant_power)\n",
    "\n",
    "            if stop_val is not None:\n",
    "                if tf.abs(current_loss - prev_loss) < stop_val:\n",
    "                    break\n",
    "\n",
    "            dfreq_pow = tape.gradient(current_loss, max_freq_pow)\n",
    "            max_freq_pow.assign_sub(learning_rate * dfreq_pow)\n",
    "\n",
    "            prev_loss = current_loss\n",
    "\n",
    "        return tf.Variable([-1 / current_loss])\n",
    "    \n",
    "    \n",
    "    def predict(self, X):\n",
    "        f_powers = tf.Variable(X, dtype='float64')\n",
    "        return self._get_dlts(X=f_powers).numpy()\n",
    "    \n",
    "    \n",
    "    def _get_dlts(self, X):\n",
    "        raise NotImplementedError('Implement _get_dlts() in ' + self.__class__.__name__ + '.') \n",
    "        \n",
    "        \n",
    "    def fit(self, X, y):\n",
    "        raise NotImplementedError('Implement fit() in ' + self.__class__.__name__ + '.') \n",
    "    \n",
    "    \n",
    "    def _update_M(self):\n",
    "        self._M = tf.map_fn(fn = self._get_M, elems=self._exps_params[:, 0])\n",
    "    \n",
    "    \n",
    "    @property\n",
    "    def exps_params_(self):\n",
    "        '''exps_params_ = [[timeconstant_power_0, amplitude_0],\n",
    "                           [timeconstant_power_1, amplitude_1],\n",
    "                           ... ,\n",
    "                           [timeconstant_power_n, amplitude_n]]'''\n",
    "        return self._exps_params.numpy()\n",
    "    \n",
    "    @exps_params_.setter\n",
    "    def exps_params_(self, val):\n",
    "        value = tf.Variable(val, dtype='float64')\n",
    "        \n",
    "        condition = not(len(value.shape) == 2 and \n",
    "                        value.shape[0] == self.n_exps and \n",
    "                        value.shape[1] == 2)\n",
    "        \n",
    "        if condition:\n",
    "            raise ValueError('The shape of exps_params must be equal [to n_exps, 2], ' + \n",
    "                             f'specifically {[self.n_exps, 2]}.')\n",
    "        self._exps_params = value\n",
    "        self._update_M()\n",
    "        \n",
    "        \n",
    "    @property\n",
    "    def fit_results_(self):\n",
    "        return self._fit_results\n",
    "    \n",
    "    \n",
    "    def _get_fit_result(self, loss=None):\n",
    "        fit_result = pd.DataFrame(self.get_params(), index=[0])\n",
    "        fit_result['n_exps'] = self.n_exps\n",
    "        fit_result['loss'] = loss.numpy()\n",
    "        \n",
    "        for i, exp_param in enumerate(self.exps_params_):\n",
    "            fit_result[f'time_constant_{i}'] = exp_param[0]\n",
    "            fit_result[f'amplitude_{i}'] = exp_param[1]\n",
    "            \n",
    "        try:\n",
    "            fit_result['p_coef'] = self.p_coef_\n",
    "        except AttributeError:\n",
    "            pass\n",
    "        \n",
    "        return fit_result.sort_index(axis='columns')\n",
    "        \n",
    "    \n",
    "    def print_all_params(self, iteration_number=None, loss=None):\n",
    "        if iteration_number is not None:\n",
    "            print(f'iteration # {iteration_number}')\n",
    "            \n",
    "        if loss is not None:\n",
    "            print(f'loss: {loss}')\n",
    "            \n",
    "        print(f'exps_params:\\n{self.exps_params_}')\n",
    "        \n",
    "        try:\n",
    "            print(f'p_coef: {self.p_coef_}')\n",
    "        except AttributeError:\n",
    "            pass\n",
    "        \n",
    "        params = self.get_params()\n",
    "        for key in params.keys():\n",
    "            print(f'{key}: {params[key]}')\n",
    "            \n",
    "        print('\\n')"
   ]
  },
  {
   "cell_type": "markdown",
   "id": "7093264b",
   "metadata": {},
   "source": [
    "# Single exponential model class"
   ]
  },
  {
   "cell_type": "code",
   "execution_count": null,
   "id": "24a30258",
   "metadata": {},
   "outputs": [],
   "source": [
    "class SklSingleExpFrequencyScan(BaseModel):\n",
    "    \n",
    "    \n",
    "    def __init__(self,\n",
    "                 filling_pulse = 20*10**-6,\n",
    "                 fit_p_coef = True,\n",
    "                 learning_rate = 0.1,\n",
    "                 n_iters = 1000,\n",
    "                 stop_val = None,\n",
    "                 verbose = False\n",
    "                ):\n",
    "        \n",
    "        super().__init__(filling_pulse = filling_pulse,\n",
    "                         n_exps = 1,\n",
    "                         learning_rate = learning_rate,\n",
    "                         n_iters = n_iters,\n",
    "                         stop_val = stop_val,\n",
    "                         verbose = verbose)\n",
    "        \n",
    "        self.fit_p_coef = fit_p_coef\n",
    "        \n",
    "        \n",
    "    def _get_dlts(self, X):\n",
    "        frequency_powers = tf.Variable(X, dtype='float64')\n",
    "        \n",
    "        phi = self._get_phi(frequency_powers, self._exps_params[0, 0])\n",
    "        \n",
    "        return self._exps_params[0, 1] * tf.pow(self._M[0] * phi, self._p_coef)\n",
    "    \n",
    "    \n",
    "    @property\n",
    "    def p_coef_(self):\n",
    "        return self._p_coef.numpy()\n",
    "\n",
    "    @p_coef_.setter\n",
    "    def p_coef_(self, val):\n",
    "        self._p_coef = tf.Variable(val, dtype='float64')\n",
    "        \n",
    "        \n",
    "    def fit(self, X, y):\n",
    "        \n",
    "        self.exps_params_ = [[np.random.uniform(low=-3.5, high=-1), np.random.uniform(low=-1, high=1)]]\n",
    "        self.p_coef_ = 1.0\n",
    "        \n",
    "        frequency_powers = tf.Variable(X, dtype='float64')\n",
    "        dlts = tf.Variable(y, dtype='float64')\n",
    "        \n",
    "        prev_loss = tf.Variable(np.inf, dtype='float64')\n",
    "        \n",
    "        self._fit_results = pd.DataFrame()\n",
    "        \n",
    "        for i in range(self.n_iters):\n",
    "            with tf.GradientTape() as tape:\n",
    "                predicted_dlts = self._get_dlts(frequency_powers)\n",
    "                current_loss = tf.reduce_mean(tf.square(dlts - predicted_dlts))\n",
    "                \n",
    "            if self.fit_p_coef:\n",
    "                d_exps_params, d_p_coef = tape.gradient(current_loss, [self._exps_params, self._p_coef])\n",
    "            else:\n",
    "                d_exps_params = tape.gradient(current_loss, self._exps_params)\n",
    "                \n",
    "            self._fit_results = pd.concat([self._fit_results, \n",
    "                                           self._get_fit_result(loss=current_loss)\n",
    "                                          ],\n",
    "                                          ignore_index=True)\n",
    "            if self.verbose:\n",
    "                self.print_all_params(iteration_number=i, loss=current_loss)\n",
    "                \n",
    "            if self.stop_val is not None:\n",
    "                if tf.abs(current_loss - prev_loss) < self.stop_val:\n",
    "                    break\n",
    "                \n",
    "            self._exps_params.assign_sub(self.learning_rate * d_exps_params)\n",
    "            self._update_M()\n",
    "            \n",
    "            if self.fit_p_coef:\n",
    "                self._p_coef.assign_sub(self.learning_rate * d_p_coef)\n",
    "                \n",
    "            prev_loss = current_loss\n",
    "        \n",
    "        return self"
   ]
  },
  {
   "cell_type": "code",
   "execution_count": null,
   "id": "51748650",
   "metadata": {},
   "outputs": [],
   "source": [
    "fs = SklSingleExpFrequencyScan(filling_pulse = 20*10**-6)\n",
    "fs"
   ]
  },
  {
   "cell_type": "code",
   "execution_count": null,
   "id": "34db6799",
   "metadata": {},
   "outputs": [],
   "source": [
    "fs.get_params()"
   ]
  },
  {
   "cell_type": "code",
   "execution_count": null,
   "id": "519f6974",
   "metadata": {},
   "outputs": [],
   "source": [
    "X = np.linspace(0, 3.5, 100)\n",
    "\n",
    "fs.exps_params_ = [[-2.5, 3.5]]\n",
    "fs.p_coef_ = 0.3"
   ]
  },
  {
   "cell_type": "code",
   "execution_count": null,
   "id": "60574b5a",
   "metadata": {},
   "outputs": [],
   "source": [
    "y = fs.predict(X)\n",
    "\n",
    "plt.plot(X, y)\n",
    "plt.grid()\n",
    "plt.show()"
   ]
  },
  {
   "cell_type": "code",
   "execution_count": null,
   "id": "69c1134f",
   "metadata": {
    "scrolled": true
   },
   "outputs": [],
   "source": [
    "fs = SklSingleExpFrequencyScan(filling_pulse = 20*10**-6,\n",
    "                               fit_p_coef = True,\n",
    "                               learning_rate = 0.05,\n",
    "                               n_iters = 200, \n",
    "                               stop_val = 10**-5,\n",
    "                               verbose = True)\n",
    "\n",
    "fs.fit(X, y)"
   ]
  },
  {
   "cell_type": "code",
   "execution_count": null,
   "id": "0f6b55d0",
   "metadata": {},
   "outputs": [],
   "source": [
    "fs.print_all_params()"
   ]
  },
  {
   "cell_type": "code",
   "execution_count": null,
   "id": "ce677bab",
   "metadata": {
    "scrolled": true
   },
   "outputs": [],
   "source": [
    "fs.fit_results_"
   ]
  },
  {
   "cell_type": "code",
   "execution_count": null,
   "id": "1ee482f4",
   "metadata": {},
   "outputs": [],
   "source": [
    "plt.plot(fs.fit_results_.loss)\n",
    "plt.grid()\n",
    "plt.show()"
   ]
  },
  {
   "cell_type": "code",
   "execution_count": null,
   "id": "0719b2e4",
   "metadata": {},
   "outputs": [],
   "source": [
    "pred_y = fs.predict(X)\n",
    "\n",
    "plt.plot(X, y)\n",
    "plt.plot(X, pred_y, '--r')\n",
    "plt.grid()\n",
    "plt.show()"
   ]
  },
  {
   "cell_type": "code",
   "execution_count": null,
   "id": "25b4e9cd",
   "metadata": {},
   "outputs": [],
   "source": [
    "mean_squared_error(y, pred_y, squared=False)"
   ]
  },
  {
   "cell_type": "code",
   "execution_count": null,
   "id": "603e0a34",
   "metadata": {},
   "outputs": [],
   "source": [
    "def display_scores(scores):\n",
    "    print(f'Scores: {scores}')\n",
    "    print(f'Mean: {scores.mean()}')\n",
    "    print(f'Standard deviation: {scores.std()}')\n",
    "\n",
    "scores = cross_val_score(fs, X, y, scoring='neg_mean_squared_error', cv=5, n_jobs=-1)\n",
    "display_scores(np.sqrt(-scores))"
   ]
  },
  {
   "cell_type": "code",
   "execution_count": null,
   "id": "733f9bbb",
   "metadata": {},
   "outputs": [],
   "source": [
    "fs = SklSingleExpFrequencyScan(filling_pulse = 20*10**-6,\n",
    "                               fit_p_coef = True,\n",
    "                               learning_rate = 0.05,\n",
    "                               n_iters = 200, \n",
    "                               stop_val = 10**-5,\n",
    "                               verbose = False)\n",
    "\n",
    "grid_search = GridSearchCV(fs, {'fit_p_coef': [False, True]}, cv=5, scoring='neg_mean_squared_error',\n",
    "                           return_train_score=True, n_jobs=-1)"
   ]
  },
  {
   "cell_type": "code",
   "execution_count": null,
   "id": "274188c6",
   "metadata": {},
   "outputs": [],
   "source": [
    "grid_search.fit(X, y)"
   ]
  },
  {
   "cell_type": "code",
   "execution_count": null,
   "id": "c4fdc401",
   "metadata": {},
   "outputs": [],
   "source": [
    "cvres = grid_search.cv_results_\n",
    "for mean_score, params in zip(cvres['mean_test_score'], cvres['params']):\n",
    "    print(np.sqrt(-mean_score), params)"
   ]
  },
  {
   "cell_type": "markdown",
   "id": "8b146883",
   "metadata": {},
   "source": [
    "# Multi exponential model class"
   ]
  },
  {
   "cell_type": "code",
   "execution_count": null,
   "id": "ba02699b",
   "metadata": {},
   "outputs": [],
   "source": [
    "class SklMultiExpFrequencyScan(BaseModel):\n",
    "    \n",
    "    \n",
    "    def __init__(self,\n",
    "                 filling_pulse = 20*10**-6,\n",
    "                 n_exps = 1,\n",
    "                 learning_rate = 0.1,\n",
    "                 n_iters = 1000,\n",
    "                 stop_val = None,\n",
    "                 verbose = False\n",
    "                ):\n",
    "        \n",
    "        super().__init__(filling_pulse = filling_pulse,\n",
    "                         n_exps = n_exps,\n",
    "                         learning_rate = learning_rate,\n",
    "                         n_iters = n_iters,\n",
    "                         stop_val = stop_val,\n",
    "                         verbose = verbose)\n",
    "        \n",
    "    \n",
    "    def _get_dlts(self, X):\n",
    "        frequency_powers = tf.Variable(X, dtype='float64')\n",
    "        \n",
    "        def get_one_term(params):\n",
    "            exp_params = params[:2]\n",
    "            M = params[2]\n",
    "        \n",
    "            phi = self._get_phi(frequency_powers, exp_params[0])\n",
    "\n",
    "            return exp_params[1] * M * phi\n",
    "        \n",
    "        params = tf.concat([self._exps_params, self._M], axis=1)\n",
    "        terms = tf.map_fn(fn=get_one_term, \n",
    "                          elems=params, \n",
    "                          fn_output_signature=tf.float64\n",
    "                         )\n",
    "        \n",
    "        return tf.reduce_sum(terms, axis=0)\n",
    "    \n",
    "    \n",
    "    def fit(self, X, y):\n",
    "        \n",
    "        \n",
    "        frequency_powers = tf.Variable(X, dtype='float64')\n",
    "        dlts = tf.Variable(y, dtype='float64')\n",
    "        \n",
    "        self._fit_results = pd.DataFrame()\n",
    "        prev_loss = tf.Variable(np.inf, dtype='float64')\n",
    "        self.exps_params_ = [[np.random.uniform(low=-3.5, high=-1), \n",
    "                              np.random.uniform(low=-1/self.n_exps, high=1/self.n_exps)] \n",
    "                             for _ in range(self.n_exps)]\n",
    "        \n",
    "        for i in range(self.n_iters):\n",
    "            with tf.GradientTape() as tape:\n",
    "                predicted_dlts = self._get_dlts(frequency_powers)\n",
    "                current_loss = tf.reduce_mean(tf.square(dlts - predicted_dlts))\n",
    "                \n",
    "            d_exps_params = tape.gradient(current_loss, self._exps_params)\n",
    "            \n",
    "            self._fit_results = pd.concat([self._fit_results,\n",
    "                                           self._get_fit_result(loss=current_loss)\n",
    "                                          ],\n",
    "                                          ignore_index = True)\n",
    "            \n",
    "            if self.verbose:\n",
    "                self.print_all_params(iteration_number=i, loss=current_loss)\n",
    "                \n",
    "            if self.stop_val is not None:\n",
    "                if tf.abs(current_loss - prev_loss) < self.stop_val:\n",
    "                    break\n",
    "                    \n",
    "            self._exps_params.assign_sub(self.learning_rate * d_exps_params)\n",
    "            self._update_M()\n",
    "        \n",
    "            prev_loss = current_loss\n",
    " \n",
    "        return self"
   ]
  },
  {
   "cell_type": "code",
   "execution_count": null,
   "id": "0a4ef0aa",
   "metadata": {},
   "outputs": [],
   "source": [
    "fs = SklMultiExpFrequencyScan(filling_pulse = 20*10**-6,\n",
    "                              n_exps = 3,\n",
    "                              learning_rate = 0.1,\n",
    "                              n_iters = 1000, \n",
    "                              stop_val = 10**-6,\n",
    "                              verbose = True)\n",
    "\n",
    "fs.exps_params_ = [[-1, 1], \n",
    "                   [-2, 1], \n",
    "                   [-3, 1]]"
   ]
  },
  {
   "cell_type": "code",
   "execution_count": null,
   "id": "1b349502",
   "metadata": {},
   "outputs": [],
   "source": [
    "y = fs.predict(tf.Variable(X,dtype='float64'))"
   ]
  },
  {
   "cell_type": "code",
   "execution_count": null,
   "id": "702dda69",
   "metadata": {},
   "outputs": [],
   "source": [
    "plt.plot(X, y, 'og',alpha=0.3)\n",
    "plt.grid()\n",
    "plt.show()"
   ]
  },
  {
   "cell_type": "code",
   "execution_count": null,
   "id": "4a6b7003",
   "metadata": {
    "scrolled": true
   },
   "outputs": [],
   "source": [
    "fs.fit(X, y)"
   ]
  },
  {
   "cell_type": "code",
   "execution_count": null,
   "id": "144231b2",
   "metadata": {},
   "outputs": [],
   "source": [
    "fs.print_all_params()"
   ]
  },
  {
   "cell_type": "code",
   "execution_count": null,
   "id": "fd68acce",
   "metadata": {},
   "outputs": [],
   "source": [
    "fs.fit_results_"
   ]
  },
  {
   "cell_type": "code",
   "execution_count": null,
   "id": "505274f6",
   "metadata": {},
   "outputs": [],
   "source": [
    "plt.plot(fs.fit_results_.loss)\n",
    "plt.grid()\n",
    "plt.show()"
   ]
  },
  {
   "cell_type": "code",
   "execution_count": null,
   "id": "fbc6377c",
   "metadata": {},
   "outputs": [],
   "source": [
    "pred_y = fs.predict(X)\n",
    "\n",
    "plt.plot(X, y, 'og', alpha=0.3)\n",
    "plt.plot(X, pred_y, '--r')\n",
    "plt.grid()\n",
    "plt.show()"
   ]
  },
  {
   "cell_type": "code",
   "execution_count": null,
   "id": "33475bcb",
   "metadata": {},
   "outputs": [],
   "source": [
    "mean_squared_error(y, pred_y, squared=False)"
   ]
  },
  {
   "cell_type": "code",
   "execution_count": null,
   "id": "db541460",
   "metadata": {},
   "outputs": [],
   "source": [
    "scores = cross_val_score(fs, X, y, scoring='neg_mean_squared_error', cv=5, n_jobs=-1)\n",
    "display_scores(np.sqrt(-scores))"
   ]
  },
  {
   "cell_type": "code",
   "execution_count": null,
   "id": "085c8ff5",
   "metadata": {},
   "outputs": [],
   "source": [
    "fs = SklMultiExpFrequencyScan(filling_pulse = 20*10**-6,\n",
    "                              n_exps = 3,\n",
    "                              learning_rate = 0.1,\n",
    "                              n_iters = 1000, \n",
    "                              stop_val = 10**-5,\n",
    "                              verbose = False)\n",
    "\n",
    "grid_search = GridSearchCV(fs, {'n_exps': [2, 3, 4]}, cv=3, scoring='neg_mean_squared_error',\n",
    "                           return_train_score=True, n_jobs=-1)"
   ]
  },
  {
   "cell_type": "code",
   "execution_count": null,
   "id": "90016f1d",
   "metadata": {},
   "outputs": [],
   "source": [
    "grid_search.fit(X, y)"
   ]
  },
  {
   "cell_type": "code",
   "execution_count": null,
   "id": "9dbfa7bb",
   "metadata": {},
   "outputs": [],
   "source": [
    "cvres = grid_search.cv_results_\n",
    "for mean_score, params in zip(cvres['mean_test_score'], cvres['params']):\n",
    "    print(np.sqrt(-mean_score), params)"
   ]
  },
  {
   "cell_type": "code",
   "execution_count": null,
   "id": "a4761491",
   "metadata": {},
   "outputs": [],
   "source": [
    "grid_search.best_estimator_.print_all_params()"
   ]
  }
 ],
 "metadata": {
  "kernelspec": {
   "display_name": "Python 3 (ipykernel)",
   "language": "python",
   "name": "python3"
  },
  "language_info": {
   "codemirror_mode": {
    "name": "ipython",
    "version": 3
   },
   "file_extension": ".py",
   "mimetype": "text/x-python",
   "name": "python",
   "nbconvert_exporter": "python",
   "pygments_lexer": "ipython3",
   "version": "3.9.12"
  }
 },
 "nbformat": 4,
 "nbformat_minor": 5
}
