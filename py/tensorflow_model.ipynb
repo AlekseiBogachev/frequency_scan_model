{
 "cells": [
  {
   "cell_type": "markdown",
   "id": "870ece7a",
   "metadata": {},
   "source": [
    "# 1. Импорт необходимых библиотек и модулей"
   ]
  },
  {
   "cell_type": "code",
   "execution_count": 1,
   "id": "4bc13e32",
   "metadata": {},
   "outputs": [],
   "source": [
    "import matplotlib.pyplot as plt\n",
    "import numpy as np\n",
    "import pandas as pd\n",
    "import tensorflow as tf\n",
    "\n",
    "# print(\"TensorFlow version:\", tf.__version__)\n",
    "\n",
    "%matplotlib inline"
   ]
  },
  {
   "cell_type": "markdown",
   "id": "a428cc9b",
   "metadata": {},
   "source": [
    "# 2. Чтение данных из файла\n",
    "## 2.1 Чтение экспериментальных данных из .csv"
   ]
  },
  {
   "cell_type": "code",
   "execution_count": 2,
   "id": "0e995443",
   "metadata": {},
   "outputs": [],
   "source": [
    "DATASET_PATH = '../dataset'\n",
    "FILE_NAME = 'КТ117№1_п1(база 2)_2500Гц-1Гц_1пФ_+10С_-1В-2В_100мВ_20мкс_шаг_0,1.csv'"
   ]
  },
  {
   "cell_type": "code",
   "execution_count": 3,
   "id": "a24f8acf",
   "metadata": {},
   "outputs": [],
   "source": [
    "file_name = DATASET_PATH + '/' + FILE_NAME"
   ]
  },
  {
   "cell_type": "code",
   "execution_count": 4,
   "id": "74bbaf9c",
   "metadata": {
    "scrolled": true
   },
   "outputs": [
    {
     "data": {
      "text/html": [
       "<div>\n",
       "<style scoped>\n",
       "    .dataframe tbody tr th:only-of-type {\n",
       "        vertical-align: middle;\n",
       "    }\n",
       "\n",
       "    .dataframe tbody tr th {\n",
       "        vertical-align: top;\n",
       "    }\n",
       "\n",
       "    .dataframe thead th {\n",
       "        text-align: right;\n",
       "    }\n",
       "</style>\n",
       "<table border=\"1\" class=\"dataframe\">\n",
       "  <thead>\n",
       "    <tr style=\"text-align: right;\">\n",
       "      <th></th>\n",
       "      <th>time</th>\n",
       "      <th>frequency_hz</th>\n",
       "      <th>dlts_v</th>\n",
       "      <th>temperature_k</th>\n",
       "      <th>dlts_pf</th>\n",
       "      <th>bs</th>\n",
       "      <th>ls</th>\n",
       "      <th>f_pulse</th>\n",
       "      <th>u1</th>\n",
       "      <th>ur</th>\n",
       "      <th>time_between_meas</th>\n",
       "      <th>integral_time</th>\n",
       "      <th>specimen_name</th>\n",
       "    </tr>\n",
       "  </thead>\n",
       "  <tbody>\n",
       "    <tr>\n",
       "      <th>0</th>\n",
       "      <td>2022-05-06 11:04:58</td>\n",
       "      <td>2500.0000</td>\n",
       "      <td>-2.962</td>\n",
       "      <td>283.160</td>\n",
       "      <td>-0.002962</td>\n",
       "      <td>1</td>\n",
       "      <td>100</td>\n",
       "      <td>20.0</td>\n",
       "      <td>-1.0</td>\n",
       "      <td>-2.0</td>\n",
       "      <td>3.5</td>\n",
       "      <td>3.0</td>\n",
       "      <td>КТ117№1 п1(база 2)</td>\n",
       "    </tr>\n",
       "    <tr>\n",
       "      <th>1</th>\n",
       "      <td>2022-05-06 11:05:02</td>\n",
       "      <td>1985.8207</td>\n",
       "      <td>-3.090</td>\n",
       "      <td>283.155</td>\n",
       "      <td>-0.003090</td>\n",
       "      <td>1</td>\n",
       "      <td>100</td>\n",
       "      <td>20.0</td>\n",
       "      <td>-1.0</td>\n",
       "      <td>-2.0</td>\n",
       "      <td>3.5</td>\n",
       "      <td>3.0</td>\n",
       "      <td>КТ117№1 п1(база 2)</td>\n",
       "    </tr>\n",
       "    <tr>\n",
       "      <th>2</th>\n",
       "      <td>2022-05-06 11:05:06</td>\n",
       "      <td>1577.3937</td>\n",
       "      <td>-3.359</td>\n",
       "      <td>283.157</td>\n",
       "      <td>-0.003359</td>\n",
       "      <td>1</td>\n",
       "      <td>100</td>\n",
       "      <td>20.0</td>\n",
       "      <td>-1.0</td>\n",
       "      <td>-2.0</td>\n",
       "      <td>3.5</td>\n",
       "      <td>3.0</td>\n",
       "      <td>КТ117№1 п1(база 2)</td>\n",
       "    </tr>\n",
       "    <tr>\n",
       "      <th>3</th>\n",
       "      <td>2022-05-06 11:05:10</td>\n",
       "      <td>1252.9686</td>\n",
       "      <td>-3.717</td>\n",
       "      <td>283.143</td>\n",
       "      <td>-0.003717</td>\n",
       "      <td>1</td>\n",
       "      <td>100</td>\n",
       "      <td>20.0</td>\n",
       "      <td>-1.0</td>\n",
       "      <td>-2.0</td>\n",
       "      <td>3.5</td>\n",
       "      <td>3.0</td>\n",
       "      <td>КТ117№1 п1(база 2)</td>\n",
       "    </tr>\n",
       "    <tr>\n",
       "      <th>4</th>\n",
       "      <td>2022-05-06 11:05:14</td>\n",
       "      <td>995.2686</td>\n",
       "      <td>-4.068</td>\n",
       "      <td>283.151</td>\n",
       "      <td>-0.004068</td>\n",
       "      <td>1</td>\n",
       "      <td>100</td>\n",
       "      <td>20.0</td>\n",
       "      <td>-1.0</td>\n",
       "      <td>-2.0</td>\n",
       "      <td>3.5</td>\n",
       "      <td>3.0</td>\n",
       "      <td>КТ117№1 п1(база 2)</td>\n",
       "    </tr>\n",
       "  </tbody>\n",
       "</table>\n",
       "</div>"
      ],
      "text/plain": [
       "                 time  frequency_hz  dlts_v  temperature_k   dlts_pf  bs   ls  \\\n",
       "0 2022-05-06 11:04:58     2500.0000  -2.962        283.160 -0.002962   1  100   \n",
       "1 2022-05-06 11:05:02     1985.8207  -3.090        283.155 -0.003090   1  100   \n",
       "2 2022-05-06 11:05:06     1577.3937  -3.359        283.157 -0.003359   1  100   \n",
       "3 2022-05-06 11:05:10     1252.9686  -3.717        283.143 -0.003717   1  100   \n",
       "4 2022-05-06 11:05:14      995.2686  -4.068        283.151 -0.004068   1  100   \n",
       "\n",
       "   f_pulse   u1   ur  time_between_meas  integral_time       specimen_name  \n",
       "0     20.0 -1.0 -2.0                3.5            3.0  КТ117№1 п1(база 2)  \n",
       "1     20.0 -1.0 -2.0                3.5            3.0  КТ117№1 п1(база 2)  \n",
       "2     20.0 -1.0 -2.0                3.5            3.0  КТ117№1 п1(база 2)  \n",
       "3     20.0 -1.0 -2.0                3.5            3.0  КТ117№1 п1(база 2)  \n",
       "4     20.0 -1.0 -2.0                3.5            3.0  КТ117№1 п1(база 2)  "
      ]
     },
     "execution_count": 4,
     "metadata": {},
     "output_type": "execute_result"
    }
   ],
   "source": [
    "data = pd.read_csv(file_name, \n",
    "                   header = 0,\n",
    "                   parse_dates = [0],\n",
    "                   infer_datetime_format = True\n",
    "                  )\n",
    "data.head()"
   ]
  },
  {
   "cell_type": "markdown",
   "id": "5187703c",
   "metadata": {},
   "source": [
    "## 2.2 Подготовка данных для TensorFlow"
   ]
  },
  {
   "cell_type": "code",
   "execution_count": 5,
   "id": "ff5790c1",
   "metadata": {},
   "outputs": [],
   "source": [
    "dlts = tf.Variable(data.dlts_pf.to_numpy(), \n",
    "                   dtype = 'float64')\n",
    "\n",
    "frequency = tf.Variable(data.frequency_hz.to_numpy(),\n",
    "                        dtype = 'float64')\n",
    "\n",
    "filling_pulse = tf.Variable(data.f_pulse.mean() * 10**-6, dtype = 'float64')"
   ]
  },
  {
   "cell_type": "code",
   "execution_count": 6,
   "id": "0d1458da",
   "metadata": {},
   "outputs": [
    {
     "data": {
      "text/plain": [
       "<tf.Variable 'Variable:0' shape=(34,) dtype=float64, numpy=\n",
       "array([-0.002962 , -0.00309  , -0.003359 , -0.003717 , -0.004068 ,\n",
       "       -0.004412 , -0.004726 , -0.004987 , -0.005196 , -0.005324 ,\n",
       "       -0.00535  , -0.005206 , -0.004956 , -0.004595 , -0.004188 ,\n",
       "       -0.003708 , -0.003185 , -0.002636 , -0.00212  , -0.001617 ,\n",
       "       -0.001227 , -0.0008936, -0.0006148, -0.0004478, -0.0003487,\n",
       "       -0.0002713, -0.0002188, -0.0001308, -0.0001205, -0.0001234,\n",
       "       -0.000126 , -0.0001831, -0.0001326, -0.0001376])>"
      ]
     },
     "execution_count": 6,
     "metadata": {},
     "output_type": "execute_result"
    }
   ],
   "source": [
    "dlts"
   ]
  },
  {
   "cell_type": "code",
   "execution_count": 7,
   "id": "2e14e456",
   "metadata": {},
   "outputs": [
    {
     "data": {
      "text/plain": [
       "<tf.Variable 'Variable:0' shape=(34,) dtype=float64, numpy=\n",
       "array([2.5000000e+03, 1.9858207e+03, 1.5773937e+03, 1.2529686e+03,\n",
       "       9.9526860e+02, 7.9057010e+02, 6.2797230e+02, 4.9881630e+02,\n",
       "       3.9622390e+02, 3.1473190e+02, 2.5000050e+02, 1.9858250e+02,\n",
       "       1.5773970e+02, 1.2529710e+02, 9.9527100e+01, 7.9057100e+01,\n",
       "       6.2797300e+01, 4.9881700e+01, 3.9622400e+01, 3.1473200e+01,\n",
       "       2.5000100e+01, 1.9858200e+01, 1.5774000e+01, 1.2529700e+01,\n",
       "       9.9527000e+00, 7.9057000e+00, 6.2797000e+00, 4.9882000e+00,\n",
       "       3.9622000e+00, 3.1473000e+00, 2.5000000e+00, 1.9858000e+00,\n",
       "       1.5774000e+00, 1.2530000e+00])>"
      ]
     },
     "execution_count": 7,
     "metadata": {},
     "output_type": "execute_result"
    }
   ],
   "source": [
    "frequency"
   ]
  },
  {
   "cell_type": "code",
   "execution_count": 8,
   "id": "2f168271",
   "metadata": {},
   "outputs": [
    {
     "data": {
      "text/plain": [
       "<tf.Variable 'Variable:0' shape=() dtype=float64, numpy=1.9999999999999998e-05>"
      ]
     },
     "execution_count": 8,
     "metadata": {},
     "output_type": "execute_result"
    }
   ],
   "source": [
    "filling_pulse"
   ]
  },
  {
   "cell_type": "markdown",
   "id": "0eb9dc1e",
   "metadata": {},
   "source": [
    "## 2.3 График"
   ]
  },
  {
   "cell_type": "code",
   "execution_count": 9,
   "id": "8be725bc",
   "metadata": {},
   "outputs": [
    {
     "data": {
      "image/png": "[encoded data removed]",
      "text/plain": [
       "<Figure size 432x288 with 1 Axes>"
      ]
     },
     "metadata": {
      "needs_background": "light"
     },
     "output_type": "display_data"
    }
   ],
   "source": [
    "plt.semilogx(frequency.numpy(), dlts.numpy(), '.b', label='Экспериментальные\\nданные')\n",
    "plt.grid()\n",
    "plt.xlim([1, 2500])\n",
    "plt.ylim([-0.006, 0])\n",
    "plt.legend()\n",
    "plt.ylabel('DLTS, пФ')\n",
    "plt.xlabel('Частота, Гц')\n",
    "plt.show()"
   ]
  },
  {
   "cell_type": "markdown",
   "id": "66e2bf03",
   "metadata": {},
   "source": [
    "## 2.4 Подготовка данных"
   ]
  },
  {
   "cell_type": "code",
   "execution_count": 10,
   "id": "240ac0cc",
   "metadata": {},
   "outputs": [
    {
     "data": {
      "text/plain": [
       "array([3.39794001, 3.29794003, 3.1979401 , 3.09794019, 2.9979403 ,\n",
       "       2.89794038, 2.79794049, 2.69794064, 2.59794067, 2.49794076,\n",
       "       2.39794088, 2.29794097, 2.19794101, 2.09794102, 1.99794135,\n",
       "       1.89794088, 1.79794097, 1.69794125, 1.59794078, 1.4979409 ,\n",
       "       1.39794175, 1.29793988, 1.19794184, 1.09794067, 0.99794091,\n",
       "       0.89794033, 0.7979389 , 0.69794386, 0.59793639, 0.49793814,\n",
       "       0.39794001, 0.29793551, 0.19794184, 0.09795107])"
      ]
     },
     "execution_count": 10,
     "metadata": {},
     "output_type": "execute_result"
    }
   ],
   "source": [
    "frequency = np.log10(frequency)\n",
    "frequency"
   ]
  },
  {
   "cell_type": "code",
   "execution_count": 11,
   "id": "4a334a49",
   "metadata": {},
   "outputs": [
    {
     "data": {
      "text/plain": [
       "<tf.Tensor: shape=(34,), dtype=float64, numpy=\n",
       "array([-1.9246005 , -2.00777027, -2.18255674, -2.4151722 , -2.64323931,\n",
       "       -2.86675807, -3.07078391, -3.24037228, -3.37617292, -3.45934269,\n",
       "       -3.47623655, -3.38267056, -3.2202296 , -2.98566485, -2.72121097,\n",
       "       -2.40932432, -2.06949783, -1.71277749, -1.37749934, -1.05066813,\n",
       "       -0.79726023, -0.58062897, -0.39947481, -0.29096425, -0.22657265,\n",
       "       -0.17628093, -0.14216833, -0.08498911, -0.07829654, -0.08018086,\n",
       "       -0.08187024, -0.11897176, -0.08615869, -0.0894075 ])>"
      ]
     },
     "execution_count": 11,
     "metadata": {},
     "output_type": "execute_result"
    }
   ],
   "source": [
    "dlts = dlts * np.max(frequency) / (np.max(dlts) - np.min(dlts))\n",
    "dlts"
   ]
  },
  {
   "cell_type": "code",
   "execution_count": 12,
   "id": "89ff8ad6",
   "metadata": {},
   "outputs": [
    {
     "data": {
      "image/png": "[encoded data removed]",
      "text/plain": [
       "<Figure size 432x288 with 1 Axes>"
      ]
     },
     "metadata": {
      "needs_background": "light"
     },
     "output_type": "display_data"
    }
   ],
   "source": [
    "plt.plot(frequency, dlts, '.b', label='Экспериментальные\\nданные')\n",
    "plt.grid()\n",
    "plt.xlim([0, 3.5])\n",
    "plt.ylim([-3.5, 0])\n",
    "plt.legend()\n",
    "plt.ylabel('DLTS, условные еденицы')\n",
    "plt.xlabel('log10(Частота), условные еденицы')\n",
    "plt.show()"
   ]
  },
  {
   "cell_type": "markdown",
   "id": "ce6cfb6b",
   "metadata": {},
   "source": [
    "# 3. Описание модели\n",
    "Выходной сигнал коррелятора спектрометра DLS-82E определяется выражением:\n",
    "\\begin{equation}\n",
    "    \\label{eq:eq1}\n",
    "    S\\left(\\tau,C_A,F_0, t_1\\right) = C_A K_{BS} K_{LS} \\phi\\left(\\tau,F_0,t_1\\right),\n",
    "\\end{equation}\n",
    "где  \n",
    "$C_A$ - амплитуда емкостного релаксационного сигнала,  \n",
    "$K_{BS}$ - масштабный коэффициент, зависящий от чувствительности емкостного моста,  \n",
    "$K_{LS}$ - масштабный коэффициент селектора,  \n",
    "$\\tau$ - постоянная времени релаксации гулбокого уровня,  \n",
    "$F_0$ - частота сканирования импульсов заполнения,  \n",
    "$t_1$ - длительность импульса заполнения,  \n",
    "$\\phi\\left(\\tau,F_0,t_1\\right)$ - функция определяемая выражением:  \n",
    "\\begin{equation}\n",
    "    \\label{eq:eq2}\n",
    "    \\phi\\left(\\tau,F_0,t_1\\right) = \n",
    "    M \\tau F_0 e^{-\\frac{0.05}{\\tau F_0}}\n",
    "    \\left(1-e^{\\frac{t_1 F_0-0.45}{\\tau F_0}}\n",
    "    -e^{-\\frac{0.5}{\\tau F_0}}+\n",
    "    e^{\\frac{t_1 F_0-0.95}{\\tau F_0}}\\right),\n",
    "\\end{equation}\n",
    "где $M$ -- масштабный множитель.\n",
    "\n",
    "Таким образом,\n",
    "$$  M = \\frac{1}{\\max{\\left[\n",
    "    \\tau F_0 e^{-\\frac{0.05}{\\tau F_0}}\n",
    "    \\left(1-e^{\\frac{t_1 F_0-0.45}{\\tau F_0}}\n",
    "    -e^{-\\frac{0.5}{\\tau F_0}}+\n",
    "    e^{\\frac{t_1 F_0-0.95}{\\tau F_0}}\\right)\n",
    "    \\right]}}\n",
    "$$"
   ]
  },
  {
   "cell_type": "markdown",
   "id": "77162f85",
   "metadata": {},
   "source": [
    "# 4. Кодирование модели\n",
    "## 4.1 Функция `get_phi()`\n",
    "$$ \\tau = 10^{time\\_constant\\_power} $$\n",
    "$$ F_0 = 10^{frequency\\_power}$$\n",
    "$$ a = \\tau F_0 $$\n",
    "$$ b = t_1 F_0 $$\n",
    "$$ exp0 = \\exp{\\left(\\frac{-0.05}{a}\\right)} $$\n",
    "$$ exp1 = \\exp{\\left(\\frac{b-0.45}{a}\\right)} $$\n",
    "$$ exp2 = \\exp{\\left(\\frac{-0.5}{a}\\right)} $$\n",
    "$$ exp3 = \\exp{\\left(\\frac{b-0.95}{a}\\right)} $$\n",
    "$$ \\phi = M \\cdot a \\cdot exp0 \\cdot \\left(1.0 - exp1 - exp2 + exp3\\right) $$"
   ]
  },
  {
   "cell_type": "code",
   "execution_count": 13,
   "id": "9e130e98",
   "metadata": {},
   "outputs": [],
   "source": [
    "def get_phi(frequency_power, time_constant_power, M, filling_pulse):\n",
    "    time_constant = tf.pow(10.0, time_constant_power)\n",
    "    frequency = tf.pow(10, frequency_power)\n",
    "\n",
    "    a = time_constant * frequency\n",
    "    b = filling_pulse * frequency\n",
    "\n",
    "    exp0 = tf.exp(-0.05 / (a))\n",
    "    exp1 = tf.exp((b - 0.45) / (a))\n",
    "    exp2 = tf.exp(-0.5 / (a))\n",
    "    exp3 = tf.exp((b - 0.95) / (a))\n",
    "\n",
    "    phi = M * a * exp0 * (1.0 - exp1 - exp2 + exp3)\n",
    "\n",
    "    return phi"
   ]
  },
  {
   "cell_type": "markdown",
   "id": "e51c26fd",
   "metadata": {},
   "source": [
    "## 4.2 Функция `get_dlts()`\n",
    "$$ DLTS = A \\cdot \\phi $$"
   ]
  },
  {
   "cell_type": "code",
   "execution_count": 14,
   "id": "34f05e30",
   "metadata": {},
   "outputs": [],
   "source": [
    "# def get_dlts(amplitude, M, frequency_power, time_constant_power, filling_pulse):\n",
    "#     dlts = amplitude * get_phi(frequency_power, \n",
    "#                                time_constant_power, \n",
    "#                                M, \n",
    "#                                filling_pulse)\n",
    "    \n",
    "#     return dlts"
   ]
  },
  {
   "cell_type": "markdown",
   "id": "e6a6715a",
   "metadata": {},
   "source": [
    "## 4.3 Определение функции потерь для DLTS (для модели). Функция `loss_dlts()`\n",
    "Среднеквадратическая ошибка\n"
   ]
  },
  {
   "cell_type": "code",
   "execution_count": 15,
   "id": "34a3d2d8",
   "metadata": {},
   "outputs": [],
   "source": [
    "def loss(target_y, predicted_y):\n",
    "    return tf.reduce_mean(tf.square(target_y - predicted_y))"
   ]
  },
  {
   "cell_type": "markdown",
   "id": "c0e0aae0",
   "metadata": {},
   "source": [
    "## 4.5 Определение модели для $\\phi$"
   ]
  },
  {
   "cell_type": "code",
   "execution_count": 16,
   "id": "6a686ad7",
   "metadata": {},
   "outputs": [
    {
     "name": "stdout",
     "output_type": "stream",
     "text": [
      "Variable 0: <tf.Variable 'M:0' shape=() dtype=float64, numpy=5.861>\n",
      "Variable 1: <tf.Variable 'filling pulse:0' shape=() dtype=float64, numpy=1.9999999999999998e-05>\n",
      "Variable 2: <tf.Variable 'time constant power:0' shape=() dtype=float64, numpy=-3.0>\n",
      "tf.Tensor(0.7666617093509135, shape=(), dtype=float64)\n"
     ]
    }
   ],
   "source": [
    "class PhiModel(tf.Module):\n",
    "    def __init__(self, \n",
    "                 time_constant_power,\n",
    "                 filling_pulse,\n",
    "                 M = 5.861,\n",
    "                 **kwargs):\n",
    "        \n",
    "        super().__init__(**kwargs)\n",
    "        \n",
    "        self.time_constant_power = tf.Variable(time_constant_power, \n",
    "                                               dtype='float64', \n",
    "                                               name='time constant power'\n",
    "                                              )\n",
    "        self.filling_pulse = tf.Variable(filling_pulse, \n",
    "                                         dtype='float64',\n",
    "                                         name='filling pulse'\n",
    "                                        )\n",
    "        self.M = tf.Variable(M, \n",
    "                             dtype='float64',\n",
    "                             name='M'\n",
    "                            )\n",
    "        \n",
    "    def __call__(self, frequency_power):\n",
    "        return get_phi(frequency_power, \n",
    "                       self.time_constant_power, \n",
    "                       self.M, \n",
    "                       self.filling_pulse)\n",
    "    \n",
    "    \n",
    "phi_model = PhiModel(time_constant_power=tf.Variable(-3.0, dtype='float64'), \n",
    "                     filling_pulse=filling_pulse)\n",
    "\n",
    "for i, v in enumerate(phi_model.variables):\n",
    "    print(f'Variable {i}:', v)\n",
    "\n",
    "print(phi_model(frequency_power=tf.Variable(3.0, dtype='float64')))"
   ]
  },
  {
   "cell_type": "markdown",
   "id": "cec0b739",
   "metadata": {},
   "source": [
    "## 4.6 Идентификация коэффициента $M$"
   ]
  },
  {
   "cell_type": "code",
   "execution_count": 17,
   "id": "2a2abf83",
   "metadata": {},
   "outputs": [],
   "source": [
    "def train_M(phi_model,\n",
    "            learning_rate=0.1,\n",
    "            n_iters=100,\n",
    "            stop_val = None,\n",
    "            verbose = False\n",
    "           ):\n",
    "    \n",
    "    prev_loss = tf.Variable(np.inf, dtype='float64')\n",
    "    max_freq_pow = tf.Variable(-phi_model.time_constant_power, dtype='float64')\n",
    "    \n",
    "    for _ in range(n_iters):\n",
    "        with tf.GradientTape() as tape:\n",
    "            current_loss = 0.0 - phi_model(max_freq_pow)\n",
    "            \n",
    "        if verbose:\n",
    "            print(_)\n",
    "            print(current_loss)\n",
    "            print(max_freq_pow)\n",
    "        \n",
    "        if stop_val is not None:\n",
    "            if tf.abs(current_loss - prev_loss) < stop_val:\n",
    "                break\n",
    "        \n",
    "        dfreq_pow = tape.gradient(current_loss, max_freq_pow)\n",
    "        max_freq_pow.assign_sub(learning_rate * dfreq_pow)\n",
    "        \n",
    "        prev_loss = current_loss\n",
    "        \n",
    "    phi_model.M = phi_model.M / phi_model(max_freq_pow)"
   ]
  },
  {
   "cell_type": "code",
   "execution_count": 18,
   "id": "996051b6",
   "metadata": {},
   "outputs": [
    {
     "name": "stdout",
     "output_type": "stream",
     "text": [
      "0\n",
      "tf.Tensor(-0.7666617093509135, shape=(), dtype=float64)\n",
      "<tf.Variable 'Variable:0' shape=() dtype=float64, numpy=3.0>\n",
      "1\n",
      "tf.Tensor(-0.9330581559008366, shape=(), dtype=float64)\n",
      "<tf.Variable 'Variable:0' shape=() dtype=float64, numpy=2.8028741021552417>\n",
      "2\n",
      "tf.Tensor(-0.9859552099662315, shape=(), dtype=float64)\n",
      "<tf.Variable 'Variable:0' shape=() dtype=float64, numpy=2.6765808286045165>\n",
      "3\n",
      "tf.Tensor(-0.9896401527850601, shape=(), dtype=float64)\n",
      "<tf.Variable 'Variable:0' shape=() dtype=float64, numpy=2.6407319631001838>\n",
      "4\n",
      "tf.Tensor(-0.9897090566798898, shape=(), dtype=float64)\n",
      "<tf.Variable 'Variable:0' shape=() dtype=float64, numpy=2.635757079374996>\n",
      "5\n",
      "tf.Tensor(-0.9897099286163724, shape=(), dtype=float64)\n",
      "<tf.Variable 'Variable:0' shape=() dtype=float64, numpy=2.6351964615525425>\n",
      "6\n",
      "tf.Tensor(-0.989709939088478, shape=(), dtype=float64)\n",
      "<tf.Variable 'Variable:0' shape=() dtype=float64, numpy=2.635135011043419>\n",
      "7\n",
      "tf.Tensor(-0.9897099392135178, shape=(), dtype=float64)\n",
      "<tf.Variable 'Variable:0' shape=() dtype=float64, numpy=2.635128296121939>\n",
      "8\n",
      "tf.Tensor(-0.9897099392150098, shape=(), dtype=float64)\n",
      "<tf.Variable 'Variable:0' shape=() dtype=float64, numpy=2.6351275626063906>\n"
     ]
    }
   ],
   "source": [
    "train_M(phi_model,\n",
    "        learning_rate=0.2,\n",
    "        n_iters=100,\n",
    "        stop_val = 10**-10,\n",
    "        verbose = True\n",
    "       )"
   ]
  },
  {
   "cell_type": "code",
   "execution_count": 19,
   "id": "b320c502",
   "metadata": {},
   "outputs": [
    {
     "data": {
      "text/plain": [
       "<tf.Tensor: shape=(), dtype=float64, numpy=5.921937092648238>"
      ]
     },
     "execution_count": 19,
     "metadata": {},
     "output_type": "execute_result"
    }
   ],
   "source": [
    "phi_model.M"
   ]
  },
  {
   "cell_type": "code",
   "execution_count": 20,
   "id": "a4b68197",
   "metadata": {},
   "outputs": [],
   "source": [
    "del phi_model"
   ]
  },
  {
   "cell_type": "markdown",
   "id": "0ed51ac7",
   "metadata": {},
   "source": [
    "## 4.7 Определение модели частотного скана"
   ]
  },
  {
   "cell_type": "code",
   "execution_count": 21,
   "id": "3c977e22",
   "metadata": {},
   "outputs": [],
   "source": [
    "class FeqScanModel(tf.Module):\n",
    "    \n",
    "    def __init__(self,\n",
    "                 amplitude,\n",
    "                 time_constant_power,\n",
    "                 filling_pulse,\n",
    "                 **kwargs):\n",
    "        super().__init__(**kwargs)\n",
    "        \n",
    "        self.amplitude = tf.Variable(amplitude, dtype='float64')\n",
    "        \n",
    "        self.filling_pulse = tf.Variable(filling_pulse, dtype='float64')\n",
    "        \n",
    "        self.time_constant_power = tf.Variable(time_constant_power, dtype='float64')\n",
    "    \n",
    "        self.phi_model = PhiModel(time_constant_power=self.time_constant_power, \n",
    "                                  filling_pulse=self.filling_pulse)\n",
    "        \n",
    "        train_M(self.phi_model,\n",
    "                learning_rate=0.2,\n",
    "                n_iters=100,\n",
    "                stop_val = 10**-10,\n",
    "                verbose = False\n",
    "               )\n",
    "        \n",
    "\n",
    "    def __call__(self, frequency_power):\n",
    "        return self.amplitude * self.phi_model(frequency_power)"
   ]
  },
  {
   "cell_type": "code",
   "execution_count": 22,
   "id": "7e7b05e6",
   "metadata": {},
   "outputs": [],
   "source": [
    "fs_model = FeqScanModel(amplitude = 1.0,\n",
    "                        time_constant_power = -3.0,\n",
    "                        filling_pulse = 20.0*10**-6)"
   ]
  },
  {
   "cell_type": "code",
   "execution_count": 23,
   "id": "3d962adc",
   "metadata": {},
   "outputs": [],
   "source": [
    "new_frequency = tf.Variable(frequency, dtype='float64')"
   ]
  },
  {
   "cell_type": "code",
   "execution_count": 24,
   "id": "3cca3674",
   "metadata": {},
   "outputs": [],
   "source": [
    "new_dlts = fs_model(new_frequency)"
   ]
  },
  {
   "cell_type": "code",
   "execution_count": 25,
   "id": "15109d25",
   "metadata": {},
   "outputs": [
    {
     "data": {
      "image/png": "[encoded data removed]",
      "text/plain": [
       "<Figure size 432x288 with 1 Axes>"
      ]
     },
     "metadata": {
      "needs_background": "light"
     },
     "output_type": "display_data"
    }
   ],
   "source": [
    "plt.plot(new_frequency.numpy(), new_dlts.numpy(), '--g', label='Модель')\n",
    "plt.grid()\n",
    "plt.xlim([0, 3.5])\n",
    "# plt.ylim([-3.5, 0])\n",
    "plt.legend()\n",
    "plt.ylabel('DLTS, условные еденицы')\n",
    "plt.xlabel('log10(Частота), условные еденицы')\n",
    "plt.show()"
   ]
  }
 ],
 "metadata": {
  "kernelspec": {
   "display_name": "Python 3 (ipykernel)",
   "language": "python",
   "name": "python3"
  },
  "language_info": {
   "codemirror_mode": {
    "name": "ipython",
    "version": 3
   },
   "file_extension": ".py",
   "mimetype": "text/x-python",
   "name": "python",
   "nbconvert_exporter": "python",
   "pygments_lexer": "ipython3",
   "version": "3.9.12"
  }
 },
 "nbformat": 4,
 "nbformat_minor": 5
}
