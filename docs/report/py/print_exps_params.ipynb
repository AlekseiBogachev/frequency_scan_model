{
 "cells": [
  {
   "cell_type": "code",
   "execution_count": 1,
   "id": "5b51fa0f",
   "metadata": {},
   "outputs": [],
   "source": [
    "from joblib import dump\n",
    "from joblib import load\n",
    "import matplotlib.pyplot as plt\n",
    "import numpy as np\n",
    "import pandas as pd\n",
    "import seaborn as sns\n",
    "from os import listdir\n",
    "\n",
    "from sklearn.linear_model import LinearRegression\n",
    "from sklearn.metrics import mean_squared_error\n",
    "from sklearn.model_selection import cross_val_score\n",
    "from sklearn.pipeline import Pipeline\n",
    "from sklearn.preprocessing import PolynomialFeatures\n",
    "from sklearn.preprocessing import StandardScaler\n",
    "\n",
    "from pydlts.fsmodels import SklMultiExpFrequencyScan\n",
    "from pydlts.fsplots import plot_spectr\n",
    "from pydlts.fsplots import plot_model\n",
    "from pydlts.fsplots import plot_loss_path\n",
    "from pydlts.fsplots import plot_deviations\n",
    "\n",
    "%matplotlib inline"
   ]
  },
  {
   "cell_type": "code",
   "execution_count": 2,
   "id": "12e99b3f",
   "metadata": {
    "scrolled": true
   },
   "outputs": [
    {
     "name": "stdout",
     "output_type": "stream",
     "text": [
      "0. 1564ЛЕ1№1_п1_2500Гц-1Гц_1пФ_-10С_-4В-5В_10мВ_10мкс_шаг_0,01.csv\n",
      "1. 1564ЛЕ1№1_п1_2500Гц-1Гц_1пФ_+10С_-4В-5В_50мВ_10мкс_шаг_0,01.csv\n",
      "2. 1564ЛЕ1№1_п1_2500Гц-1Гц_10пФ_+30С_-4В-5В_50мВ_10мкс_шаг_0,1.csv\n"
     ]
    }
   ],
   "source": [
    "DATASETS_PATH = '../../../datasets/'\n",
    "SAVES_PATH = 'saves_6_exps/'\n",
    "\n",
    "file_names = listdir(DATASETS_PATH)\n",
    "\n",
    "u1 = -4\n",
    "ur = -5\n",
    "\n",
    "data_frames = [[file_name, pd.read_csv(DATASETS_PATH + file_name, parse_dates=[0])] for file_name in file_names]\n",
    "\n",
    "condition = lambda frame: frame.loc[0, 'u1']==u1 and frame.loc[0, 'ur']==ur\n",
    "data_frames = [[name, frame] for [name, frame] in data_frames if condition(frame)]\n",
    "\n",
    "key_func = lambda x: x[1].temperature_k.iloc[0]\n",
    "data_frames.sort(key=key_func)\n",
    "\n",
    "for i, item in enumerate(data_frames):\n",
    "    print(f'{i}.', item[0])"
   ]
  },
  {
   "cell_type": "code",
   "execution_count": 3,
   "id": "708b1a77",
   "metadata": {},
   "outputs": [],
   "source": [
    "def print_exps_params(temperature):\n",
    "    f_name = SAVES_PATH + f'model_{temperature}K_6_exp.pkl'\n",
    "\n",
    "    # для загрузки модели:\n",
    "    model_6_exp = load(f_name)\n",
    "\n",
    "    exps_params_ = model_6_exp.exps_params_\n",
    "    exps_params_[:, 0] = np.power(10, exps_params_[:, 0])\n",
    "    exps_params_ = exps_params_[np.argsort(exps_params_[:, 0]), :]\n",
    "    \n",
    "    for params in exps_params_:\n",
    "        print(f'Постоянная времени: {params[0]:.6f}; Амплитуда: {params[1]:.6f};')"
   ]
  },
  {
   "cell_type": "markdown",
   "id": "761c1e4f",
   "metadata": {},
   "source": [
    "#  263 К"
   ]
  },
  {
   "cell_type": "code",
   "execution_count": 4,
   "id": "054a9c9b",
   "metadata": {},
   "outputs": [
    {
     "name": "stdout",
     "output_type": "stream",
     "text": [
      "Постоянная времени: 0.000130; Амплитуда: 0.000258;\n",
      "Постоянная времени: 0.000256; Амплитуда: 0.000253;\n",
      "Постоянная времени: 0.001296; Амплитуда: 0.000200;\n",
      "Постоянная времени: 0.003955; Амплитуда: 0.000028;\n",
      "Постоянная времени: 0.023848; Амплитуда: -0.000294;\n",
      "Постоянная времени: 0.212794; Амплитуда: -0.000338;\n"
     ]
    },
    {
     "name": "stderr",
     "output_type": "stream",
     "text": [
      "2022-10-16 17:03:32.644097: E tensorflow/stream_executor/cuda/cuda_driver.cc:271] failed call to cuInit: CUDA_ERROR_COMPAT_NOT_SUPPORTED_ON_DEVICE: forward compatibility was attempted on non supported HW\n",
      "2022-10-16 17:03:32.644122: I tensorflow/stream_executor/cuda/cuda_diagnostics.cc:169] retrieving CUDA diagnostic information for host: aleksei-B550I\n",
      "2022-10-16 17:03:32.644127: I tensorflow/stream_executor/cuda/cuda_diagnostics.cc:176] hostname: aleksei-B550I\n",
      "2022-10-16 17:03:32.644248: I tensorflow/stream_executor/cuda/cuda_diagnostics.cc:200] libcuda reported version is: 515.76.0\n",
      "2022-10-16 17:03:32.644263: I tensorflow/stream_executor/cuda/cuda_diagnostics.cc:204] kernel reported version is: 515.65.1\n",
      "2022-10-16 17:03:32.644267: E tensorflow/stream_executor/cuda/cuda_diagnostics.cc:313] kernel version 515.65.1 does not match DSO version 515.76.0 -- cannot find working devices in this configuration\n",
      "2022-10-16 17:03:32.644479: I tensorflow/core/platform/cpu_feature_guard.cc:193] This TensorFlow binary is optimized with oneAPI Deep Neural Network Library (oneDNN) to use the following CPU instructions in performance-critical operations:  SSE4.1 SSE4.2 AVX AVX2 FMA\n",
      "To enable them in other operations, rebuild TensorFlow with the appropriate compiler flags.\n"
     ]
    }
   ],
   "source": [
    "print_exps_params(263)"
   ]
  },
  {
   "cell_type": "markdown",
   "id": "d1d34ca6",
   "metadata": {},
   "source": [
    "# 283 К"
   ]
  },
  {
   "cell_type": "code",
   "execution_count": 5,
   "id": "c29d382f",
   "metadata": {},
   "outputs": [
    {
     "name": "stdout",
     "output_type": "stream",
     "text": [
      "Постоянная времени: 0.000167; Амплитуда: 0.000919;\n",
      "Постоянная времени: 0.000949; Амплитуда: 0.000374;\n",
      "Постоянная времени: 0.001318; Амплитуда: 0.000605;\n",
      "Постоянная времени: 0.006007; Амплитуда: 0.001652;\n",
      "Постоянная времени: 0.038246; Амплитуда: 0.002055;\n",
      "Постоянная времени: 0.238471; Амплитуда: 0.002546;\n"
     ]
    }
   ],
   "source": [
    "print_exps_params(283)"
   ]
  },
  {
   "cell_type": "markdown",
   "id": "c107c140",
   "metadata": {},
   "source": [
    "# 303"
   ]
  },
  {
   "cell_type": "code",
   "execution_count": 6,
   "id": "13630a49",
   "metadata": {},
   "outputs": [
    {
     "name": "stdout",
     "output_type": "stream",
     "text": [
      "Постоянная времени: 0.000262; Амплитуда: 0.004751;\n",
      "Постоянная времени: 0.001689; Амплитуда: 0.004769;\n",
      "Постоянная времени: 0.003768; Амплитуда: 0.005924;\n",
      "Постоянная времени: 0.018241; Амплитуда: 0.007875;\n",
      "Постоянная времени: 0.019270; Амплитуда: 0.006812;\n",
      "Постоянная времени: 0.182804; Амплитуда: 0.006419;\n"
     ]
    }
   ],
   "source": [
    "print_exps_params(303)"
   ]
  }
 ],
 "metadata": {
  "kernelspec": {
   "display_name": "Python 3 (ipykernel)",
   "language": "python",
   "name": "python3"
  },
  "language_info": {
   "codemirror_mode": {
    "name": "ipython",
    "version": 3
   },
   "file_extension": ".py",
   "mimetype": "text/x-python",
   "name": "python",
   "nbconvert_exporter": "python",
   "pygments_lexer": "ipython3",
   "version": "3.10.6"
  }
 },
 "nbformat": 4,
 "nbformat_minor": 5
}
